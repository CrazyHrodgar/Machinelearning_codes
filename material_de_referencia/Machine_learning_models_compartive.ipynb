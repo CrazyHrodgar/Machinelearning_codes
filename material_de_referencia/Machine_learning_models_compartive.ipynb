{
  "nbformat": 4,
  "nbformat_minor": 0,
  "metadata": {
    "colab": {
      "name": "Machine_learning_models_compartive.ipynb",
      "provenance": [],
      "collapsed_sections": []
    },
    "kernelspec": {
      "name": "python3",
      "display_name": "Python 3"
    },
    "language_info": {
      "name": "python"
    }
  },
  "cells": [
    {
      "cell_type": "markdown",
      "metadata": {
        "id": "m3n4XIpFzDCJ"
      },
      "source": [
        "# Comparativa entre distintos paradigmas de Machine Learning"
      ]
    },
    {
      "cell_type": "markdown",
      "metadata": {
        "id": "01UhC9t1zaOK"
      },
      "source": [
        "Con el objetivo de ver el funcionamiento entre varias formas de hacer machine learning, vamos a desarrollar un modelo para los siguientes paradigmas:\n",
        "\n",
        "* Support Vector Machine\n",
        "* Decision Trees\n",
        "* kNN\n",
        "* Redes neuronales\n",
        "\n",
        "Vamos a trabajar con la *Iris dataset* que es una base de datos que contiene las medidas de los petalos de distintas flores. Esta base de datos es una de las más conocidas dentro del medio y, es facil de entender y de implementar en modelos de ML."
      ]
    },
    {
      "cell_type": "code",
      "metadata": {
        "id": "dkzCrOtsyzpP"
      },
      "source": [
        "# Importamos las librerías necesarias\n",
        "\n",
        "import tensorflow as tf\n",
        "from tensorflow import keras\n",
        "import numpy as np\n",
        "import matplotlib.pyplot as plt\n",
        "import pandas as pd\n",
        "\n",
        "from sklearn.datasets import load_iris # Para cargar la base de datos Iris\n",
        "from sklearn import tree, svm, neighbors # cargamos los modelos de ML\n",
        "from sklearn.model_selection import train_test_split\n",
        "from sklearn import preprocessing\n",
        "import seaborn as sns"
      ],
      "execution_count": 1,
      "outputs": []
    },
    {
      "cell_type": "code",
      "metadata": {
        "id": "q5ws6UeZ01Z0"
      },
      "source": [
        "plt.rcParams['figure.figsize'] = (10,10)"
      ],
      "execution_count": 3,
      "outputs": []
    },
    {
      "cell_type": "markdown",
      "metadata": {
        "id": "GQ-l1apd3ft8"
      },
      "source": [
        "# Cargar la base de datos"
      ]
    },
    {
      "cell_type": "markdown",
      "metadata": {
        "id": "YfXIVDf33hny"
      },
      "source": [
        "La libería *sklearn* tiene precargadas varias bases de datos, entre ellas la *Iris*. Por lo tanto, ya no debemos buscarlas en la web.\n",
        "\n",
        "En las siguientes celdas vamos cargar la dataset y definiremos los conjuntos de entrenamiento y validación."
      ]
    },
    {
      "cell_type": "code",
      "metadata": {
        "id": "DDU4iWPsy7_f"
      },
      "source": [
        "dataset = load_iris()"
      ],
      "execution_count": 4,
      "outputs": []
    },
    {
      "cell_type": "code",
      "metadata": {
        "colab": {
          "base_uri": "https://localhost:8080/"
        },
        "id": "QHjZp01n38Ib",
        "outputId": "d73700ea-c567-4ec4-c946-48e9f318fb75"
      },
      "source": [
        "type(dataset)"
      ],
      "execution_count": 5,
      "outputs": [
        {
          "output_type": "execute_result",
          "data": {
            "text/plain": [
              "sklearn.utils.Bunch"
            ]
          },
          "metadata": {
            "tags": []
          },
          "execution_count": 5
        }
      ]
    },
    {
      "cell_type": "code",
      "metadata": {
        "id": "4ba2ua4g4Bhh"
      },
      "source": [
        "X = dataset.data[:,0:4] # Cargamos los datos de entrada\n",
        "y = dataset.target # Cargamos los datos de salida"
      ],
      "execution_count": 6,
      "outputs": []
    },
    {
      "cell_type": "markdown",
      "metadata": {
        "id": "0XNkk5Qj7f2u"
      },
      "source": [
        "Como la base de datos se carga como un objeto, hay que pasarlo un tipo de dato que lo pueda procesar Pandas"
      ]
    },
    {
      "cell_type": "code",
      "metadata": {
        "colab": {
          "base_uri": "https://localhost:8080/",
          "height": 417
        },
        "id": "-vOMLL_g4Cpa",
        "outputId": "57a3f1f8-0f91-44c8-d6f6-8e226e4939ad"
      },
      "source": [
        "dataframe = pd.DataFrame({\"Sepal_lenght\":X[:,0],\"Sepal_width\":X[:,1],\n",
        "                          \"Petal_length\":X[:,2],\"Petal_width\":X[:,3],\"Class\":y})\n",
        "dataframe.head(-1)"
      ],
      "execution_count": 7,
      "outputs": [
        {
          "output_type": "execute_result",
          "data": {
            "text/html": [
              "<div>\n",
              "<style scoped>\n",
              "    .dataframe tbody tr th:only-of-type {\n",
              "        vertical-align: middle;\n",
              "    }\n",
              "\n",
              "    .dataframe tbody tr th {\n",
              "        vertical-align: top;\n",
              "    }\n",
              "\n",
              "    .dataframe thead th {\n",
              "        text-align: right;\n",
              "    }\n",
              "</style>\n",
              "<table border=\"1\" class=\"dataframe\">\n",
              "  <thead>\n",
              "    <tr style=\"text-align: right;\">\n",
              "      <th></th>\n",
              "      <th>Sepal_lenght</th>\n",
              "      <th>Sepal_width</th>\n",
              "      <th>Petal_length</th>\n",
              "      <th>Petal_width</th>\n",
              "      <th>Class</th>\n",
              "    </tr>\n",
              "  </thead>\n",
              "  <tbody>\n",
              "    <tr>\n",
              "      <th>0</th>\n",
              "      <td>5.1</td>\n",
              "      <td>3.5</td>\n",
              "      <td>1.4</td>\n",
              "      <td>0.2</td>\n",
              "      <td>0</td>\n",
              "    </tr>\n",
              "    <tr>\n",
              "      <th>1</th>\n",
              "      <td>4.9</td>\n",
              "      <td>3.0</td>\n",
              "      <td>1.4</td>\n",
              "      <td>0.2</td>\n",
              "      <td>0</td>\n",
              "    </tr>\n",
              "    <tr>\n",
              "      <th>2</th>\n",
              "      <td>4.7</td>\n",
              "      <td>3.2</td>\n",
              "      <td>1.3</td>\n",
              "      <td>0.2</td>\n",
              "      <td>0</td>\n",
              "    </tr>\n",
              "    <tr>\n",
              "      <th>3</th>\n",
              "      <td>4.6</td>\n",
              "      <td>3.1</td>\n",
              "      <td>1.5</td>\n",
              "      <td>0.2</td>\n",
              "      <td>0</td>\n",
              "    </tr>\n",
              "    <tr>\n",
              "      <th>4</th>\n",
              "      <td>5.0</td>\n",
              "      <td>3.6</td>\n",
              "      <td>1.4</td>\n",
              "      <td>0.2</td>\n",
              "      <td>0</td>\n",
              "    </tr>\n",
              "    <tr>\n",
              "      <th>...</th>\n",
              "      <td>...</td>\n",
              "      <td>...</td>\n",
              "      <td>...</td>\n",
              "      <td>...</td>\n",
              "      <td>...</td>\n",
              "    </tr>\n",
              "    <tr>\n",
              "      <th>144</th>\n",
              "      <td>6.7</td>\n",
              "      <td>3.3</td>\n",
              "      <td>5.7</td>\n",
              "      <td>2.5</td>\n",
              "      <td>2</td>\n",
              "    </tr>\n",
              "    <tr>\n",
              "      <th>145</th>\n",
              "      <td>6.7</td>\n",
              "      <td>3.0</td>\n",
              "      <td>5.2</td>\n",
              "      <td>2.3</td>\n",
              "      <td>2</td>\n",
              "    </tr>\n",
              "    <tr>\n",
              "      <th>146</th>\n",
              "      <td>6.3</td>\n",
              "      <td>2.5</td>\n",
              "      <td>5.0</td>\n",
              "      <td>1.9</td>\n",
              "      <td>2</td>\n",
              "    </tr>\n",
              "    <tr>\n",
              "      <th>147</th>\n",
              "      <td>6.5</td>\n",
              "      <td>3.0</td>\n",
              "      <td>5.2</td>\n",
              "      <td>2.0</td>\n",
              "      <td>2</td>\n",
              "    </tr>\n",
              "    <tr>\n",
              "      <th>148</th>\n",
              "      <td>6.2</td>\n",
              "      <td>3.4</td>\n",
              "      <td>5.4</td>\n",
              "      <td>2.3</td>\n",
              "      <td>2</td>\n",
              "    </tr>\n",
              "  </tbody>\n",
              "</table>\n",
              "<p>149 rows × 5 columns</p>\n",
              "</div>"
            ],
            "text/plain": [
              "     Sepal_lenght  Sepal_width  Petal_length  Petal_width  Class\n",
              "0             5.1          3.5           1.4          0.2      0\n",
              "1             4.9          3.0           1.4          0.2      0\n",
              "2             4.7          3.2           1.3          0.2      0\n",
              "3             4.6          3.1           1.5          0.2      0\n",
              "4             5.0          3.6           1.4          0.2      0\n",
              "..            ...          ...           ...          ...    ...\n",
              "144           6.7          3.3           5.7          2.5      2\n",
              "145           6.7          3.0           5.2          2.3      2\n",
              "146           6.3          2.5           5.0          1.9      2\n",
              "147           6.5          3.0           5.2          2.0      2\n",
              "148           6.2          3.4           5.4          2.3      2\n",
              "\n",
              "[149 rows x 5 columns]"
            ]
          },
          "metadata": {
            "tags": []
          },
          "execution_count": 7
        }
      ]
    },
    {
      "cell_type": "markdown",
      "metadata": {
        "id": "01wkcOQQ8hpJ"
      },
      "source": [
        "Ya que pasamos todos los datos a un **DataFrame** en *Pandas*, podemos usar las funciones de esta librería para obtener datos interesantes sobre la dataset."
      ]
    },
    {
      "cell_type": "code",
      "metadata": {
        "colab": {
          "base_uri": "https://localhost:8080/",
          "height": 295
        },
        "id": "o0B6VN1_7XNs",
        "outputId": "cf7fd013-7025-4ddd-80f3-ad750a095092"
      },
      "source": [
        "# Una descripción estadística de la base de datos\n",
        "# NOTA: Solo arroja resultados de los datos numéricos\n",
        "dataframe.describe()"
      ],
      "execution_count": 8,
      "outputs": [
        {
          "output_type": "execute_result",
          "data": {
            "text/html": [
              "<div>\n",
              "<style scoped>\n",
              "    .dataframe tbody tr th:only-of-type {\n",
              "        vertical-align: middle;\n",
              "    }\n",
              "\n",
              "    .dataframe tbody tr th {\n",
              "        vertical-align: top;\n",
              "    }\n",
              "\n",
              "    .dataframe thead th {\n",
              "        text-align: right;\n",
              "    }\n",
              "</style>\n",
              "<table border=\"1\" class=\"dataframe\">\n",
              "  <thead>\n",
              "    <tr style=\"text-align: right;\">\n",
              "      <th></th>\n",
              "      <th>Sepal_lenght</th>\n",
              "      <th>Sepal_width</th>\n",
              "      <th>Petal_length</th>\n",
              "      <th>Petal_width</th>\n",
              "      <th>Class</th>\n",
              "    </tr>\n",
              "  </thead>\n",
              "  <tbody>\n",
              "    <tr>\n",
              "      <th>count</th>\n",
              "      <td>150.000000</td>\n",
              "      <td>150.000000</td>\n",
              "      <td>150.000000</td>\n",
              "      <td>150.000000</td>\n",
              "      <td>150.000000</td>\n",
              "    </tr>\n",
              "    <tr>\n",
              "      <th>mean</th>\n",
              "      <td>5.843333</td>\n",
              "      <td>3.057333</td>\n",
              "      <td>3.758000</td>\n",
              "      <td>1.199333</td>\n",
              "      <td>1.000000</td>\n",
              "    </tr>\n",
              "    <tr>\n",
              "      <th>std</th>\n",
              "      <td>0.828066</td>\n",
              "      <td>0.435866</td>\n",
              "      <td>1.765298</td>\n",
              "      <td>0.762238</td>\n",
              "      <td>0.819232</td>\n",
              "    </tr>\n",
              "    <tr>\n",
              "      <th>min</th>\n",
              "      <td>4.300000</td>\n",
              "      <td>2.000000</td>\n",
              "      <td>1.000000</td>\n",
              "      <td>0.100000</td>\n",
              "      <td>0.000000</td>\n",
              "    </tr>\n",
              "    <tr>\n",
              "      <th>25%</th>\n",
              "      <td>5.100000</td>\n",
              "      <td>2.800000</td>\n",
              "      <td>1.600000</td>\n",
              "      <td>0.300000</td>\n",
              "      <td>0.000000</td>\n",
              "    </tr>\n",
              "    <tr>\n",
              "      <th>50%</th>\n",
              "      <td>5.800000</td>\n",
              "      <td>3.000000</td>\n",
              "      <td>4.350000</td>\n",
              "      <td>1.300000</td>\n",
              "      <td>1.000000</td>\n",
              "    </tr>\n",
              "    <tr>\n",
              "      <th>75%</th>\n",
              "      <td>6.400000</td>\n",
              "      <td>3.300000</td>\n",
              "      <td>5.100000</td>\n",
              "      <td>1.800000</td>\n",
              "      <td>2.000000</td>\n",
              "    </tr>\n",
              "    <tr>\n",
              "      <th>max</th>\n",
              "      <td>7.900000</td>\n",
              "      <td>4.400000</td>\n",
              "      <td>6.900000</td>\n",
              "      <td>2.500000</td>\n",
              "      <td>2.000000</td>\n",
              "    </tr>\n",
              "  </tbody>\n",
              "</table>\n",
              "</div>"
            ],
            "text/plain": [
              "       Sepal_lenght  Sepal_width  Petal_length  Petal_width       Class\n",
              "count    150.000000   150.000000    150.000000   150.000000  150.000000\n",
              "mean       5.843333     3.057333      3.758000     1.199333    1.000000\n",
              "std        0.828066     0.435866      1.765298     0.762238    0.819232\n",
              "min        4.300000     2.000000      1.000000     0.100000    0.000000\n",
              "25%        5.100000     2.800000      1.600000     0.300000    0.000000\n",
              "50%        5.800000     3.000000      4.350000     1.300000    1.000000\n",
              "75%        6.400000     3.300000      5.100000     1.800000    2.000000\n",
              "max        7.900000     4.400000      6.900000     2.500000    2.000000"
            ]
          },
          "metadata": {
            "tags": []
          },
          "execution_count": 8
        }
      ]
    },
    {
      "cell_type": "code",
      "metadata": {
        "colab": {
          "base_uri": "https://localhost:8080/",
          "height": 727
        },
        "id": "I7djcreKAmMo",
        "outputId": "ef0402e7-b103-4b35-a40d-112cb6e1ef0e"
      },
      "source": [
        "dataframe.hist()"
      ],
      "execution_count": 9,
      "outputs": [
        {
          "output_type": "execute_result",
          "data": {
            "text/plain": [
              "array([[<matplotlib.axes._subplots.AxesSubplot object at 0x7ff89c5a0350>,\n",
              "        <matplotlib.axes._subplots.AxesSubplot object at 0x7ff89c577990>],\n",
              "       [<matplotlib.axes._subplots.AxesSubplot object at 0x7ff89c52ffd0>,\n",
              "        <matplotlib.axes._subplots.AxesSubplot object at 0x7ff89c4ef6d0>],\n",
              "       [<matplotlib.axes._subplots.AxesSubplot object at 0x7ff89c4a6d50>,\n",
              "        <matplotlib.axes._subplots.AxesSubplot object at 0x7ff89c468410>]],\n",
              "      dtype=object)"
            ]
          },
          "metadata": {
            "tags": []
          },
          "execution_count": 9
        },
        {
          "output_type": "display_data",
          "data": {
            "image/png": "[encoded data removed]",
            "text/plain": [
              "<Figure size 720x720 with 6 Axes>"
            ]
          },
          "metadata": {
            "tags": [],
            "needs_background": "light"
          }
        }
      ]
    },
    {
      "cell_type": "markdown",
      "metadata": {
        "id": "ni6zskao9Pf-"
      },
      "source": [
        "Ahora vamos a usar la librería *Seaborn* para visualizar la distribución de los datos como una gráfica de dispersión."
      ]
    },
    {
      "cell_type": "markdown",
      "metadata": {
        "id": "M_eL61b2_aEE"
      },
      "source": [
        "Como *SkLearn* nos da los datos en numérico, vamos a hacer la siguiente convención:\n",
        "\n",
        "|Valor | Especie |\n",
        "|------|---------|\n",
        "0 | Iris-Setosa |\n",
        "1 | Iris-Versicolor |\n",
        "2 | Iris-Virginica |"
      ]
    },
    {
      "cell_type": "code",
      "metadata": {
        "colab": {
          "base_uri": "https://localhost:8080/",
          "height": 221
        },
        "id": "wet4ysXI8w9z",
        "outputId": "aca83167-b017-401d-c0bd-a2e3635570a3"
      },
      "source": [
        "sns.set_style('whitegrid')\n",
        "sns.FacetGrid(dataframe, hue='Class') \\\n",
        "   .map(plt.scatter, 'Sepal_lenght','Sepal_width') \\\n",
        "   .add_legend()\n",
        "\n",
        "\n",
        "plt.show()"
      ],
      "execution_count": 11,
      "outputs": [
        {
          "output_type": "display_data",
          "data": {
            "image/png": "[encoded data removed]",
            "text/plain": [
              "<Figure size 262.6x216 with 1 Axes>"
            ]
          },
          "metadata": {
            "tags": []
          }
        }
      ]
    },
    {
      "cell_type": "markdown",
      "metadata": {
        "id": "ogwm5camBZjn"
      },
      "source": [
        "Bien, ya que vimos cómo se distribuyen los datos, ahora sí, vamos crear los modelos de ML."
      ]
    },
    {
      "cell_type": "markdown",
      "metadata": {
        "id": "TxvCIKCOBhIa"
      },
      "source": [
        "Como queremos separar las especies de acuerdo a su tamaño, entonces tenemos que resolver un **problema de clasificación**."
      ]
    },
    {
      "cell_type": "markdown",
      "metadata": {
        "id": "60pCaqxhBsGu"
      },
      "source": [
        "# Creando los modelos de ML"
      ]
    },
    {
      "cell_type": "markdown",
      "metadata": {
        "id": "qlVcTeWLCrXu"
      },
      "source": [
        "Antes de construir los modelos, debemos generar los conjuntos de entrenamiento y prueba."
      ]
    },
    {
      "cell_type": "code",
      "metadata": {
        "id": "KEJyQ2po-H48"
      },
      "source": [
        "Xtrain, Xtest, ytrain, ytest = train_test_split(X, y, test_size=0.25)"
      ],
      "execution_count": 12,
      "outputs": []
    },
    {
      "cell_type": "markdown",
      "metadata": {
        "id": "T6WPejrwHTZ5"
      },
      "source": [
        "En la celda anterior definimos los conjuntos. Vamos a usar un 75% de los datos para entrenar los modelos, el 25% restante será para probar su desempeño."
      ]
    },
    {
      "cell_type": "markdown",
      "metadata": {
        "id": "1bnaCc6lHhjb"
      },
      "source": [
        "## SVM\n",
        "\n",
        "Como se trata de un problema de clasificación multiclase, debemos usar una variante de SVM llamada *Linear Support Vector Classification*."
      ]
    },
    {
      "cell_type": "code",
      "metadata": {
        "id": "3MoBvpKPH0-z"
      },
      "source": [
        "svm_model = svm.LinearSVC(penalty='l2',\n",
        "                          loss='squared_hinge',\n",
        "                          dual=True,\n",
        "                          C=100,\n",
        "                          multi_class='ovr',\n",
        "                          max_iter=1000)"
      ],
      "execution_count": 13,
      "outputs": []
    },
    {
      "cell_type": "markdown",
      "metadata": {
        "id": "sMfSE7q6I8iH"
      },
      "source": [
        "En la celda anterior estamos creando el modelo SVM. De los parámetros que ingresamos, casi todos son de los más comunes en este modelo. El único parámetro que se cambió fue **C**, que indica qué tan \"fuerte\" debería ser la forma de resolver el problema."
      ]
    },
    {
      "cell_type": "code",
      "metadata": {
        "colab": {
          "base_uri": "https://localhost:8080/"
        },
        "id": "Un6p8-xEH14Z",
        "outputId": "12f45fb8-a315-4245-adb6-3c59ffdf6b6c"
      },
      "source": [
        "svm_model.fit(Xtrain,ytrain)"
      ],
      "execution_count": 14,
      "outputs": [
        {
          "output_type": "stream",
          "text": [
            "/usr/local/lib/python3.7/dist-packages/sklearn/svm/_base.py:947: ConvergenceWarning: Liblinear failed to converge, increase the number of iterations.\n",
            "  \"the number of iterations.\", ConvergenceWarning)\n"
          ],
          "name": "stderr"
        },
        {
          "output_type": "execute_result",
          "data": {
            "text/plain": [
              "LinearSVC(C=100, class_weight=None, dual=True, fit_intercept=True,\n",
              "          intercept_scaling=1, loss='squared_hinge', max_iter=1000,\n",
              "          multi_class='ovr', penalty='l2', random_state=None, tol=0.0001,\n",
              "          verbose=0)"
            ]
          },
          "metadata": {
            "tags": []
          },
          "execution_count": 14
        }
      ]
    },
    {
      "cell_type": "code",
      "metadata": {
        "id": "xmfq8Tf_H10f"
      },
      "source": [
        "acc_svm_train = svm_model.score(Xtrain,ytrain)\n",
        "acc_svm_test = svm_model.score(Xtest,ytest)"
      ],
      "execution_count": 15,
      "outputs": []
    },
    {
      "cell_type": "code",
      "metadata": {
        "colab": {
          "base_uri": "https://localhost:8080/"
        },
        "id": "7ckY3vWtH1xP",
        "outputId": "b1daa1d0-c42a-4951-d514-d9cd6be04240"
      },
      "source": [
        "print('Accuracy en el conjunto de entrenamiento: ', acc_svm_train)\n",
        "print('Accuracy en el conjunto de prueba: ', acc_svm_test)"
      ],
      "execution_count": 16,
      "outputs": [
        {
          "output_type": "stream",
          "text": [
            "Accuracy en el conjunto de entrenamiento:  0.9732142857142857\n",
            "Accuracy en el conjunto de prueba:  0.9473684210526315\n"
          ],
          "name": "stdout"
        }
      ]
    },
    {
      "cell_type": "markdown",
      "metadata": {
        "id": "vT04RMDRKxNN"
      },
      "source": [
        "## Decision Trees"
      ]
    },
    {
      "cell_type": "markdown",
      "metadata": {
        "id": "IZ77MySoQqsc"
      },
      "source": [
        "A diferencia de SVM, los árboles de decisiones son más \"sencillos\" de implementar."
      ]
    },
    {
      "cell_type": "code",
      "metadata": {
        "colab": {
          "base_uri": "https://localhost:8080/"
        },
        "id": "XHwBB5rFH1tp",
        "outputId": "1e565106-9b61-4cac-c0c7-97e94e60908f"
      },
      "source": [
        "dt_model = tree.DecisionTreeClassifier()\n",
        "dt_model.fit(Xtrain, ytrain)"
      ],
      "execution_count": 17,
      "outputs": [
        {
          "output_type": "execute_result",
          "data": {
            "text/plain": [
              "DecisionTreeClassifier(ccp_alpha=0.0, class_weight=None, criterion='gini',\n",
              "                       max_depth=None, max_features=None, max_leaf_nodes=None,\n",
              "                       min_impurity_decrease=0.0, min_impurity_split=None,\n",
              "                       min_samples_leaf=1, min_samples_split=2,\n",
              "                       min_weight_fraction_leaf=0.0, presort='deprecated',\n",
              "                       random_state=None, splitter='best')"
            ]
          },
          "metadata": {
            "tags": []
          },
          "execution_count": 17
        }
      ]
    },
    {
      "cell_type": "markdown",
      "metadata": {
        "id": "EhNCcdnsRE5W"
      },
      "source": [
        "Sin embargo, en los árboles de decisiones podemos \"visualizar\" el resultado."
      ]
    },
    {
      "cell_type": "code",
      "metadata": {
        "colab": {
          "base_uri": "https://localhost:8080/",
          "height": 905
        },
        "id": "NWRwifApH1qn",
        "outputId": "573364a3-9754-4f14-f9cd-f0b34f3d1b20"
      },
      "source": [
        "tree.plot_tree(dt_model)"
      ],
      "execution_count": 18,
      "outputs": [
        {
          "output_type": "execute_result",
          "data": {
            "text/plain": [
              "[Text(302.25, 504.7714285714286, 'X[2] <= 2.5\\ngini = 0.666\\nsamples = 112\\nvalue = [39, 36, 37]'),\n",
              " Text(255.75, 427.11428571428576, 'gini = 0.0\\nsamples = 39\\nvalue = [39, 0, 0]'),\n",
              " Text(348.75, 427.11428571428576, 'X[3] <= 1.75\\ngini = 0.5\\nsamples = 73\\nvalue = [0, 36, 37]'),\n",
              " Text(232.5, 349.4571428571429, 'X[2] <= 5.45\\ngini = 0.145\\nsamples = 38\\nvalue = [0, 35, 3]'),\n",
              " Text(186.0, 271.8, 'X[3] <= 1.65\\ngini = 0.102\\nsamples = 37\\nvalue = [0, 35, 2]'),\n",
              " Text(93.0, 194.14285714285717, 'X[2] <= 4.95\\ngini = 0.056\\nsamples = 35\\nvalue = [0, 34, 1]'),\n",
              " Text(46.5, 116.48571428571432, 'gini = 0.0\\nsamples = 33\\nvalue = [0, 33, 0]'),\n",
              " Text(139.5, 116.48571428571432, 'X[3] <= 1.55\\ngini = 0.5\\nsamples = 2\\nvalue = [0, 1, 1]'),\n",
              " Text(93.0, 38.82857142857142, 'gini = 0.0\\nsamples = 1\\nvalue = [0, 0, 1]'),\n",
              " Text(186.0, 38.82857142857142, 'gini = 0.0\\nsamples = 1\\nvalue = [0, 1, 0]'),\n",
              " Text(279.0, 194.14285714285717, 'X[0] <= 5.8\\ngini = 0.5\\nsamples = 2\\nvalue = [0, 1, 1]'),\n",
              " Text(232.5, 116.48571428571432, 'gini = 0.0\\nsamples = 1\\nvalue = [0, 0, 1]'),\n",
              " Text(325.5, 116.48571428571432, 'gini = 0.0\\nsamples = 1\\nvalue = [0, 1, 0]'),\n",
              " Text(279.0, 271.8, 'gini = 0.0\\nsamples = 1\\nvalue = [0, 0, 1]'),\n",
              " Text(465.0, 349.4571428571429, 'X[2] <= 4.85\\ngini = 0.056\\nsamples = 35\\nvalue = [0, 1, 34]'),\n",
              " Text(418.5, 271.8, 'X[1] <= 3.1\\ngini = 0.444\\nsamples = 3\\nvalue = [0, 1, 2]'),\n",
              " Text(372.0, 194.14285714285717, 'gini = 0.0\\nsamples = 2\\nvalue = [0, 0, 2]'),\n",
              " Text(465.0, 194.14285714285717, 'gini = 0.0\\nsamples = 1\\nvalue = [0, 1, 0]'),\n",
              " Text(511.5, 271.8, 'gini = 0.0\\nsamples = 32\\nvalue = [0, 0, 32]')]"
            ]
          },
          "metadata": {
            "tags": []
          },
          "execution_count": 18
        },
        {
          "output_type": "display_data",
          "data": {
            "image/png": "[encoded data removed]",
            "text/plain": [
              "<Figure size 720x720 with 1 Axes>"
            ]
          },
          "metadata": {
            "tags": []
          }
        }
      ]
    },
    {
      "cell_type": "markdown",
      "metadata": {
        "id": "9116BezPqY_u"
      },
      "source": [
        "Aunque ya terminamos la tarea de clasificación, este diagrama no se ve muy profesional. Vamos a mejoarlo"
      ]
    },
    {
      "cell_type": "code",
      "metadata": {
        "colab": {
          "base_uri": "https://localhost:8080/",
          "height": 1000
        },
        "id": "spiBNsIYH1nd",
        "outputId": "dde00cbd-10fc-4981-ee8f-f95a0b2f6cae"
      },
      "source": [
        "import graphviz\n",
        "\n",
        "dot_data = tree.export_graphviz(dt_model,out_file=None,\n",
        "                                feature_names=dataset.feature_names,\n",
        "                                class_names=dataset.target_names,\n",
        "                                filled=True, rounded=True,\n",
        "                                special_characters=True)\n",
        "\n",
        "graph = graphviz.Source(dot_data)\n",
        "graph"
      ],
      "execution_count": 19,
      "outputs": [
        {
          "output_type": "execute_result",
          "data": {
            "text/plain": [
              "<graphviz.files.Source at 0x7ff8929f2610>"
            ],
            "image/svg+xml": "<?xml version=\"1.0\" encoding=\"UTF-8\" standalone=\"no\"?>\n<!DOCTYPE svg PUBLIC \"-//W3C//DTD SVG 1.1//EN\"\n \"http://www.w3.org/Graphics/SVG/1.1/DTD/svg11.dtd\">\n<!-- Generated by graphviz version 2.40.1 (20161225.0304)\n -->\n<!-- Title: Tree Pages: 1 -->\n<svg width=\"916pt\" height=\"790pt\"\n viewBox=\"0.00 0.00 915.50 790.00\" xmlns=\"http://www.w3.org/2000/svg\" xmlns:xlink=\"http://www.w3.org/1999/xlink\">\n<g id=\"graph0\" class=\"graph\" transform=\"scale(1 1) rotate(0) translate(4 786)\">\n<title>Tree</title>\n<polygon fill=\"#ffffff\" stroke=\"transparent\" points=\"-4,4 -4,-786 911.5,-786 911.5,4 -4,4\"/>\n<!-- 0 -->\n<g id=\"node1\" class=\"node\">\n<title>0</title>\n<path fill=\"#fefcfa\" stroke=\"#000000\" d=\"M589.5,-782C589.5,-782 454.5,-782 454.5,-782 448.5,-782 442.5,-776 442.5,-770 442.5,-770 442.5,-711 442.5,-711 442.5,-705 448.5,-699 454.5,-699 454.5,-699 589.5,-699 589.5,-699 595.5,-699 601.5,-705 601.5,-711 601.5,-711 601.5,-770 601.5,-770 601.5,-776 595.5,-782 589.5,-782\"/>\n<text text-anchor=\"start\" x=\"450.5\" y=\"-766.8\" font-family=\"Helvetica,sans-Serif\" font-size=\"14.00\" fill=\"#000000\">petal length (cm) ≤ 2.5</text>\n<text text-anchor=\"start\" x=\"484\" y=\"-751.8\" font-family=\"Helvetica,sans-Serif\" font-size=\"14.00\" fill=\"#000000\">gini = 0.666</text>\n<text text-anchor=\"start\" x=\"474\" y=\"-736.8\" font-family=\"Helvetica,sans-Serif\" font-size=\"14.00\" fill=\"#000000\">samples = 112</text>\n<text text-anchor=\"start\" x=\"460\" y=\"-721.8\" font-family=\"Helvetica,sans-Serif\" font-size=\"14.00\" fill=\"#000000\">value = [39, 36, 37]</text>\n<text text-anchor=\"start\" x=\"475\" y=\"-706.8\" font-family=\"Helvetica,sans-Serif\" font-size=\"14.00\" fill=\"#000000\">class = setosa</text>\n</g>\n<!-- 1 -->\n<g id=\"node2\" class=\"node\">\n<title>1</title>\n<path fill=\"#e58139\" stroke=\"#000000\" d=\"M491.5,-655.5C491.5,-655.5 392.5,-655.5 392.5,-655.5 386.5,-655.5 380.5,-649.5 380.5,-643.5 380.5,-643.5 380.5,-599.5 380.5,-599.5 380.5,-593.5 386.5,-587.5 392.5,-587.5 392.5,-587.5 491.5,-587.5 491.5,-587.5 497.5,-587.5 503.5,-593.5 503.5,-599.5 503.5,-599.5 503.5,-643.5 503.5,-643.5 503.5,-649.5 497.5,-655.5 491.5,-655.5\"/>\n<text text-anchor=\"start\" x=\"412.5\" y=\"-640.3\" font-family=\"Helvetica,sans-Serif\" font-size=\"14.00\" fill=\"#000000\">gini = 0.0</text>\n<text text-anchor=\"start\" x=\"398\" y=\"-625.3\" font-family=\"Helvetica,sans-Serif\" font-size=\"14.00\" fill=\"#000000\">samples = 39</text>\n<text text-anchor=\"start\" x=\"388.5\" y=\"-610.3\" font-family=\"Helvetica,sans-Serif\" font-size=\"14.00\" fill=\"#000000\">value = [39, 0, 0]</text>\n<text text-anchor=\"start\" x=\"395\" y=\"-595.3\" font-family=\"Helvetica,sans-Serif\" font-size=\"14.00\" fill=\"#000000\">class = setosa</text>\n</g>\n<!-- 0&#45;&gt;1 -->\n<g id=\"edge1\" class=\"edge\">\n<title>0&#45;&gt;1</title>\n<path fill=\"none\" stroke=\"#000000\" d=\"M494.0199,-698.8796C486.4797,-687.6636 478.3113,-675.5131 470.7309,-664.2372\"/>\n<polygon fill=\"#000000\" stroke=\"#000000\" points=\"473.5527,-662.1612 465.0689,-655.8149 467.7434,-666.0667 473.5527,-662.1612\"/>\n<text text-anchor=\"middle\" x=\"460.2608\" y=\"-676.6482\" font-family=\"Helvetica,sans-Serif\" font-size=\"14.00\" fill=\"#000000\">True</text>\n</g>\n<!-- 2 -->\n<g id=\"node3\" class=\"node\">\n<title>2</title>\n<path fill=\"#fcfafe\" stroke=\"#000000\" d=\"M670.5,-663C670.5,-663 533.5,-663 533.5,-663 527.5,-663 521.5,-657 521.5,-651 521.5,-651 521.5,-592 521.5,-592 521.5,-586 527.5,-580 533.5,-580 533.5,-580 670.5,-580 670.5,-580 676.5,-580 682.5,-586 682.5,-592 682.5,-592 682.5,-651 682.5,-651 682.5,-657 676.5,-663 670.5,-663\"/>\n<text text-anchor=\"start\" x=\"529.5\" y=\"-647.8\" font-family=\"Helvetica,sans-Serif\" font-size=\"14.00\" fill=\"#000000\">petal width (cm) ≤ 1.75</text>\n<text text-anchor=\"start\" x=\"572.5\" y=\"-632.8\" font-family=\"Helvetica,sans-Serif\" font-size=\"14.00\" fill=\"#000000\">gini = 0.5</text>\n<text text-anchor=\"start\" x=\"558\" y=\"-617.8\" font-family=\"Helvetica,sans-Serif\" font-size=\"14.00\" fill=\"#000000\">samples = 73</text>\n<text text-anchor=\"start\" x=\"544.5\" y=\"-602.8\" font-family=\"Helvetica,sans-Serif\" font-size=\"14.00\" fill=\"#000000\">value = [0, 36, 37]</text>\n<text text-anchor=\"start\" x=\"550.5\" y=\"-587.8\" font-family=\"Helvetica,sans-Serif\" font-size=\"14.00\" fill=\"#000000\">class = virginica</text>\n</g>\n<!-- 0&#45;&gt;2 -->\n<g id=\"edge2\" class=\"edge\">\n<title>0&#45;&gt;2</title>\n<path fill=\"none\" stroke=\"#000000\" d=\"M549.9801,-698.8796C555.8531,-690.1434 562.1073,-680.8404 568.1679,-671.8253\"/>\n<polygon fill=\"#000000\" stroke=\"#000000\" points=\"571.2259,-673.5498 573.9005,-663.2981 565.4166,-669.6444 571.2259,-673.5498\"/>\n<text text-anchor=\"middle\" x=\"578.7085\" y=\"-684.1314\" font-family=\"Helvetica,sans-Serif\" font-size=\"14.00\" fill=\"#000000\">False</text>\n</g>\n<!-- 3 -->\n<g id=\"node4\" class=\"node\">\n<title>3</title>\n<path fill=\"#4ae78c\" stroke=\"#000000\" d=\"M581.5,-544C581.5,-544 438.5,-544 438.5,-544 432.5,-544 426.5,-538 426.5,-532 426.5,-532 426.5,-473 426.5,-473 426.5,-467 432.5,-461 438.5,-461 438.5,-461 581.5,-461 581.5,-461 587.5,-461 593.5,-467 593.5,-473 593.5,-473 593.5,-532 593.5,-532 593.5,-538 587.5,-544 581.5,-544\"/>\n<text text-anchor=\"start\" x=\"434.5\" y=\"-528.8\" font-family=\"Helvetica,sans-Serif\" font-size=\"14.00\" fill=\"#000000\">petal length (cm) ≤ 5.45</text>\n<text text-anchor=\"start\" x=\"472\" y=\"-513.8\" font-family=\"Helvetica,sans-Serif\" font-size=\"14.00\" fill=\"#000000\">gini = 0.145</text>\n<text text-anchor=\"start\" x=\"466\" y=\"-498.8\" font-family=\"Helvetica,sans-Serif\" font-size=\"14.00\" fill=\"#000000\">samples = 38</text>\n<text text-anchor=\"start\" x=\"456.5\" y=\"-483.8\" font-family=\"Helvetica,sans-Serif\" font-size=\"14.00\" fill=\"#000000\">value = [0, 35, 3]</text>\n<text text-anchor=\"start\" x=\"454\" y=\"-468.8\" font-family=\"Helvetica,sans-Serif\" font-size=\"14.00\" fill=\"#000000\">class = versicolor</text>\n</g>\n<!-- 2&#45;&gt;3 -->\n<g id=\"edge3\" class=\"edge\">\n<title>2&#45;&gt;3</title>\n<path fill=\"none\" stroke=\"#000000\" d=\"M569.8229,-579.8796C562.9296,-570.9633 555.5798,-561.4565 548.4761,-552.268\"/>\n<polygon fill=\"#000000\" stroke=\"#000000\" points=\"551.1999,-550.0687 542.3145,-544.2981 545.6619,-554.3502 551.1999,-550.0687\"/>\n</g>\n<!-- 14 -->\n<g id=\"node15\" class=\"node\">\n<title>14</title>\n<path fill=\"#853fe6\" stroke=\"#000000\" d=\"M766.5,-544C766.5,-544 623.5,-544 623.5,-544 617.5,-544 611.5,-538 611.5,-532 611.5,-532 611.5,-473 611.5,-473 611.5,-467 617.5,-461 623.5,-461 623.5,-461 766.5,-461 766.5,-461 772.5,-461 778.5,-467 778.5,-473 778.5,-473 778.5,-532 778.5,-532 778.5,-538 772.5,-544 766.5,-544\"/>\n<text text-anchor=\"start\" x=\"619.5\" y=\"-528.8\" font-family=\"Helvetica,sans-Serif\" font-size=\"14.00\" fill=\"#000000\">petal length (cm) ≤ 4.85</text>\n<text text-anchor=\"start\" x=\"657\" y=\"-513.8\" font-family=\"Helvetica,sans-Serif\" font-size=\"14.00\" fill=\"#000000\">gini = 0.056</text>\n<text text-anchor=\"start\" x=\"651\" y=\"-498.8\" font-family=\"Helvetica,sans-Serif\" font-size=\"14.00\" fill=\"#000000\">samples = 35</text>\n<text text-anchor=\"start\" x=\"641.5\" y=\"-483.8\" font-family=\"Helvetica,sans-Serif\" font-size=\"14.00\" fill=\"#000000\">value = [0, 1, 34]</text>\n<text text-anchor=\"start\" x=\"643.5\" y=\"-468.8\" font-family=\"Helvetica,sans-Serif\" font-size=\"14.00\" fill=\"#000000\">class = virginica</text>\n</g>\n<!-- 2&#45;&gt;14 -->\n<g id=\"edge14\" class=\"edge\">\n<title>2&#45;&gt;14</title>\n<path fill=\"none\" stroke=\"#000000\" d=\"M634.5269,-579.8796C641.4951,-570.9633 648.9247,-561.4565 656.1056,-552.268\"/>\n<polygon fill=\"#000000\" stroke=\"#000000\" points=\"658.9343,-554.3326 662.3343,-544.2981 653.4188,-550.0221 658.9343,-554.3326\"/>\n</g>\n<!-- 4 -->\n<g id=\"node5\" class=\"node\">\n<title>4</title>\n<path fill=\"#44e688\" stroke=\"#000000\" d=\"M428.5,-425C428.5,-425 291.5,-425 291.5,-425 285.5,-425 279.5,-419 279.5,-413 279.5,-413 279.5,-354 279.5,-354 279.5,-348 285.5,-342 291.5,-342 291.5,-342 428.5,-342 428.5,-342 434.5,-342 440.5,-348 440.5,-354 440.5,-354 440.5,-413 440.5,-413 440.5,-419 434.5,-425 428.5,-425\"/>\n<text text-anchor=\"start\" x=\"287.5\" y=\"-409.8\" font-family=\"Helvetica,sans-Serif\" font-size=\"14.00\" fill=\"#000000\">petal width (cm) ≤ 1.65</text>\n<text text-anchor=\"start\" x=\"322\" y=\"-394.8\" font-family=\"Helvetica,sans-Serif\" font-size=\"14.00\" fill=\"#000000\">gini = 0.102</text>\n<text text-anchor=\"start\" x=\"316\" y=\"-379.8\" font-family=\"Helvetica,sans-Serif\" font-size=\"14.00\" fill=\"#000000\">samples = 37</text>\n<text text-anchor=\"start\" x=\"306.5\" y=\"-364.8\" font-family=\"Helvetica,sans-Serif\" font-size=\"14.00\" fill=\"#000000\">value = [0, 35, 2]</text>\n<text text-anchor=\"start\" x=\"304\" y=\"-349.8\" font-family=\"Helvetica,sans-Serif\" font-size=\"14.00\" fill=\"#000000\">class = versicolor</text>\n</g>\n<!-- 3&#45;&gt;4 -->\n<g id=\"edge4\" class=\"edge\">\n<title>3&#45;&gt;4</title>\n<path fill=\"none\" stroke=\"#000000\" d=\"M457.5373,-460.8796C445.5479,-451.368 432.7113,-441.1843 420.4184,-431.432\"/>\n<polygon fill=\"#000000\" stroke=\"#000000\" points=\"422.4425,-428.5701 412.4331,-425.0969 418.0919,-434.054 422.4425,-428.5701\"/>\n</g>\n<!-- 13 -->\n<g id=\"node14\" class=\"node\">\n<title>13</title>\n<path fill=\"#8139e5\" stroke=\"#000000\" d=\"M565.5,-417.5C565.5,-417.5 470.5,-417.5 470.5,-417.5 464.5,-417.5 458.5,-411.5 458.5,-405.5 458.5,-405.5 458.5,-361.5 458.5,-361.5 458.5,-355.5 464.5,-349.5 470.5,-349.5 470.5,-349.5 565.5,-349.5 565.5,-349.5 571.5,-349.5 577.5,-355.5 577.5,-361.5 577.5,-361.5 577.5,-405.5 577.5,-405.5 577.5,-411.5 571.5,-417.5 565.5,-417.5\"/>\n<text text-anchor=\"start\" x=\"488.5\" y=\"-402.3\" font-family=\"Helvetica,sans-Serif\" font-size=\"14.00\" fill=\"#000000\">gini = 0.0</text>\n<text text-anchor=\"start\" x=\"478.5\" y=\"-387.3\" font-family=\"Helvetica,sans-Serif\" font-size=\"14.00\" fill=\"#000000\">samples = 1</text>\n<text text-anchor=\"start\" x=\"468.5\" y=\"-372.3\" font-family=\"Helvetica,sans-Serif\" font-size=\"14.00\" fill=\"#000000\">value = [0, 0, 1]</text>\n<text text-anchor=\"start\" x=\"466.5\" y=\"-357.3\" font-family=\"Helvetica,sans-Serif\" font-size=\"14.00\" fill=\"#000000\">class = virginica</text>\n</g>\n<!-- 3&#45;&gt;13 -->\n<g id=\"edge13\" class=\"edge\">\n<title>3&#45;&gt;13</title>\n<path fill=\"none\" stroke=\"#000000\" d=\"M512.798,-460.8796C513.5151,-450.2134 514.2889,-438.7021 515.015,-427.9015\"/>\n<polygon fill=\"#000000\" stroke=\"#000000\" points=\"518.5144,-428.0272 515.6931,-417.8149 511.5301,-427.5576 518.5144,-428.0272\"/>\n</g>\n<!-- 5 -->\n<g id=\"node6\" class=\"node\">\n<title>5</title>\n<path fill=\"#3fe685\" stroke=\"#000000\" d=\"M291.5,-306C291.5,-306 148.5,-306 148.5,-306 142.5,-306 136.5,-300 136.5,-294 136.5,-294 136.5,-235 136.5,-235 136.5,-229 142.5,-223 148.5,-223 148.5,-223 291.5,-223 291.5,-223 297.5,-223 303.5,-229 303.5,-235 303.5,-235 303.5,-294 303.5,-294 303.5,-300 297.5,-306 291.5,-306\"/>\n<text text-anchor=\"start\" x=\"144.5\" y=\"-290.8\" font-family=\"Helvetica,sans-Serif\" font-size=\"14.00\" fill=\"#000000\">petal length (cm) ≤ 4.95</text>\n<text text-anchor=\"start\" x=\"182\" y=\"-275.8\" font-family=\"Helvetica,sans-Serif\" font-size=\"14.00\" fill=\"#000000\">gini = 0.056</text>\n<text text-anchor=\"start\" x=\"176\" y=\"-260.8\" font-family=\"Helvetica,sans-Serif\" font-size=\"14.00\" fill=\"#000000\">samples = 35</text>\n<text text-anchor=\"start\" x=\"166.5\" y=\"-245.8\" font-family=\"Helvetica,sans-Serif\" font-size=\"14.00\" fill=\"#000000\">value = [0, 34, 1]</text>\n<text text-anchor=\"start\" x=\"164\" y=\"-230.8\" font-family=\"Helvetica,sans-Serif\" font-size=\"14.00\" fill=\"#000000\">class = versicolor</text>\n</g>\n<!-- 4&#45;&gt;5 -->\n<g id=\"edge5\" class=\"edge\">\n<title>4&#45;&gt;5</title>\n<path fill=\"none\" stroke=\"#000000\" d=\"M311.0348,-341.8796C300.0153,-332.513 288.2291,-322.4948 276.9158,-312.8784\"/>\n<polygon fill=\"#000000\" stroke=\"#000000\" points=\"279.0604,-310.1078 269.1742,-306.2981 274.5268,-315.4414 279.0604,-310.1078\"/>\n</g>\n<!-- 10 -->\n<g id=\"node11\" class=\"node\">\n<title>10</title>\n<path fill=\"#ffffff\" stroke=\"#000000\" d=\"M472.5,-306C472.5,-306 333.5,-306 333.5,-306 327.5,-306 321.5,-300 321.5,-294 321.5,-294 321.5,-235 321.5,-235 321.5,-229 327.5,-223 333.5,-223 333.5,-223 472.5,-223 472.5,-223 478.5,-223 484.5,-229 484.5,-235 484.5,-235 484.5,-294 484.5,-294 484.5,-300 478.5,-306 472.5,-306\"/>\n<text text-anchor=\"start\" x=\"329.5\" y=\"-290.8\" font-family=\"Helvetica,sans-Serif\" font-size=\"14.00\" fill=\"#000000\">sepal length (cm) ≤ 5.8</text>\n<text text-anchor=\"start\" x=\"373.5\" y=\"-275.8\" font-family=\"Helvetica,sans-Serif\" font-size=\"14.00\" fill=\"#000000\">gini = 0.5</text>\n<text text-anchor=\"start\" x=\"363.5\" y=\"-260.8\" font-family=\"Helvetica,sans-Serif\" font-size=\"14.00\" fill=\"#000000\">samples = 2</text>\n<text text-anchor=\"start\" x=\"353.5\" y=\"-245.8\" font-family=\"Helvetica,sans-Serif\" font-size=\"14.00\" fill=\"#000000\">value = [0, 1, 1]</text>\n<text text-anchor=\"start\" x=\"347\" y=\"-230.8\" font-family=\"Helvetica,sans-Serif\" font-size=\"14.00\" fill=\"#000000\">class = versicolor</text>\n</g>\n<!-- 4&#45;&gt;10 -->\n<g id=\"edge10\" class=\"edge\">\n<title>4&#45;&gt;10</title>\n<path fill=\"none\" stroke=\"#000000\" d=\"M375.0393,-341.8796C378.0659,-333.5037 381.2808,-324.6067 384.4117,-315.942\"/>\n<polygon fill=\"#000000\" stroke=\"#000000\" points=\"387.7897,-316.8924 387.8965,-306.2981 381.2063,-314.5135 387.7897,-316.8924\"/>\n</g>\n<!-- 6 -->\n<g id=\"node7\" class=\"node\">\n<title>6</title>\n<path fill=\"#39e581\" stroke=\"#000000\" d=\"M116,-179.5C116,-179.5 12,-179.5 12,-179.5 6,-179.5 0,-173.5 0,-167.5 0,-167.5 0,-123.5 0,-123.5 0,-117.5 6,-111.5 12,-111.5 12,-111.5 116,-111.5 116,-111.5 122,-111.5 128,-117.5 128,-123.5 128,-123.5 128,-167.5 128,-167.5 128,-173.5 122,-179.5 116,-179.5\"/>\n<text text-anchor=\"start\" x=\"34.5\" y=\"-164.3\" font-family=\"Helvetica,sans-Serif\" font-size=\"14.00\" fill=\"#000000\">gini = 0.0</text>\n<text text-anchor=\"start\" x=\"20\" y=\"-149.3\" font-family=\"Helvetica,sans-Serif\" font-size=\"14.00\" fill=\"#000000\">samples = 33</text>\n<text text-anchor=\"start\" x=\"10.5\" y=\"-134.3\" font-family=\"Helvetica,sans-Serif\" font-size=\"14.00\" fill=\"#000000\">value = [0, 33, 0]</text>\n<text text-anchor=\"start\" x=\"8\" y=\"-119.3\" font-family=\"Helvetica,sans-Serif\" font-size=\"14.00\" fill=\"#000000\">class = versicolor</text>\n</g>\n<!-- 5&#45;&gt;6 -->\n<g id=\"edge6\" class=\"edge\">\n<title>5&#45;&gt;6</title>\n<path fill=\"none\" stroke=\"#000000\" d=\"M165.4388,-222.8796C149.6516,-210.8368 132.4521,-197.7167 116.7759,-185.7586\"/>\n<polygon fill=\"#000000\" stroke=\"#000000\" points=\"118.8063,-182.9053 108.7327,-179.623 114.5608,-188.4709 118.8063,-182.9053\"/>\n</g>\n<!-- 7 -->\n<g id=\"node8\" class=\"node\">\n<title>7</title>\n<path fill=\"#ffffff\" stroke=\"#000000\" d=\"M295.5,-187C295.5,-187 158.5,-187 158.5,-187 152.5,-187 146.5,-181 146.5,-175 146.5,-175 146.5,-116 146.5,-116 146.5,-110 152.5,-104 158.5,-104 158.5,-104 295.5,-104 295.5,-104 301.5,-104 307.5,-110 307.5,-116 307.5,-116 307.5,-175 307.5,-175 307.5,-181 301.5,-187 295.5,-187\"/>\n<text text-anchor=\"start\" x=\"154.5\" y=\"-171.8\" font-family=\"Helvetica,sans-Serif\" font-size=\"14.00\" fill=\"#000000\">petal width (cm) ≤ 1.55</text>\n<text text-anchor=\"start\" x=\"197.5\" y=\"-156.8\" font-family=\"Helvetica,sans-Serif\" font-size=\"14.00\" fill=\"#000000\">gini = 0.5</text>\n<text text-anchor=\"start\" x=\"187.5\" y=\"-141.8\" font-family=\"Helvetica,sans-Serif\" font-size=\"14.00\" fill=\"#000000\">samples = 2</text>\n<text text-anchor=\"start\" x=\"177.5\" y=\"-126.8\" font-family=\"Helvetica,sans-Serif\" font-size=\"14.00\" fill=\"#000000\">value = [0, 1, 1]</text>\n<text text-anchor=\"start\" x=\"171\" y=\"-111.8\" font-family=\"Helvetica,sans-Serif\" font-size=\"14.00\" fill=\"#000000\">class = versicolor</text>\n</g>\n<!-- 5&#45;&gt;7 -->\n<g id=\"edge7\" class=\"edge\">\n<title>5&#45;&gt;7</title>\n<path fill=\"none\" stroke=\"#000000\" d=\"M222.4483,-222.8796C222.9304,-214.6838 223.4418,-205.9891 223.9411,-197.5013\"/>\n<polygon fill=\"#000000\" stroke=\"#000000\" points=\"227.4479,-197.4864 224.5413,-187.2981 220.46,-197.0753 227.4479,-197.4864\"/>\n</g>\n<!-- 8 -->\n<g id=\"node9\" class=\"node\">\n<title>8</title>\n<path fill=\"#8139e5\" stroke=\"#000000\" d=\"M203.5,-68C203.5,-68 108.5,-68 108.5,-68 102.5,-68 96.5,-62 96.5,-56 96.5,-56 96.5,-12 96.5,-12 96.5,-6 102.5,0 108.5,0 108.5,0 203.5,0 203.5,0 209.5,0 215.5,-6 215.5,-12 215.5,-12 215.5,-56 215.5,-56 215.5,-62 209.5,-68 203.5,-68\"/>\n<text text-anchor=\"start\" x=\"126.5\" y=\"-52.8\" font-family=\"Helvetica,sans-Serif\" font-size=\"14.00\" fill=\"#000000\">gini = 0.0</text>\n<text text-anchor=\"start\" x=\"116.5\" y=\"-37.8\" font-family=\"Helvetica,sans-Serif\" font-size=\"14.00\" fill=\"#000000\">samples = 1</text>\n<text text-anchor=\"start\" x=\"106.5\" y=\"-22.8\" font-family=\"Helvetica,sans-Serif\" font-size=\"14.00\" fill=\"#000000\">value = [0, 0, 1]</text>\n<text text-anchor=\"start\" x=\"104.5\" y=\"-7.8\" font-family=\"Helvetica,sans-Serif\" font-size=\"14.00\" fill=\"#000000\">class = virginica</text>\n</g>\n<!-- 7&#45;&gt;8 -->\n<g id=\"edge8\" class=\"edge\">\n<title>7&#45;&gt;8</title>\n<path fill=\"none\" stroke=\"#000000\" d=\"M200.5622,-103.9815C194.944,-95.1585 189.0012,-85.8258 183.3497,-76.9506\"/>\n<polygon fill=\"#000000\" stroke=\"#000000\" points=\"186.1416,-74.8188 177.8181,-68.2637 180.2371,-78.5787 186.1416,-74.8188\"/>\n</g>\n<!-- 9 -->\n<g id=\"node10\" class=\"node\">\n<title>9</title>\n<path fill=\"#39e581\" stroke=\"#000000\" d=\"M350,-68C350,-68 246,-68 246,-68 240,-68 234,-62 234,-56 234,-56 234,-12 234,-12 234,-6 240,0 246,0 246,0 350,0 350,0 356,0 362,-6 362,-12 362,-12 362,-56 362,-56 362,-62 356,-68 350,-68\"/>\n<text text-anchor=\"start\" x=\"268.5\" y=\"-52.8\" font-family=\"Helvetica,sans-Serif\" font-size=\"14.00\" fill=\"#000000\">gini = 0.0</text>\n<text text-anchor=\"start\" x=\"258.5\" y=\"-37.8\" font-family=\"Helvetica,sans-Serif\" font-size=\"14.00\" fill=\"#000000\">samples = 1</text>\n<text text-anchor=\"start\" x=\"248.5\" y=\"-22.8\" font-family=\"Helvetica,sans-Serif\" font-size=\"14.00\" fill=\"#000000\">value = [0, 1, 0]</text>\n<text text-anchor=\"start\" x=\"242\" y=\"-7.8\" font-family=\"Helvetica,sans-Serif\" font-size=\"14.00\" fill=\"#000000\">class = versicolor</text>\n</g>\n<!-- 7&#45;&gt;9 -->\n<g id=\"edge9\" class=\"edge\">\n<title>7&#45;&gt;9</title>\n<path fill=\"none\" stroke=\"#000000\" d=\"M253.4378,-103.9815C259.056,-95.1585 264.9988,-85.8258 270.6503,-76.9506\"/>\n<polygon fill=\"#000000\" stroke=\"#000000\" points=\"273.7629,-78.5787 276.1819,-68.2637 267.8584,-74.8188 273.7629,-78.5787\"/>\n</g>\n<!-- 11 -->\n<g id=\"node12\" class=\"node\">\n<title>11</title>\n<path fill=\"#8139e5\" stroke=\"#000000\" d=\"M444.5,-179.5C444.5,-179.5 349.5,-179.5 349.5,-179.5 343.5,-179.5 337.5,-173.5 337.5,-167.5 337.5,-167.5 337.5,-123.5 337.5,-123.5 337.5,-117.5 343.5,-111.5 349.5,-111.5 349.5,-111.5 444.5,-111.5 444.5,-111.5 450.5,-111.5 456.5,-117.5 456.5,-123.5 456.5,-123.5 456.5,-167.5 456.5,-167.5 456.5,-173.5 450.5,-179.5 444.5,-179.5\"/>\n<text text-anchor=\"start\" x=\"367.5\" y=\"-164.3\" font-family=\"Helvetica,sans-Serif\" font-size=\"14.00\" fill=\"#000000\">gini = 0.0</text>\n<text text-anchor=\"start\" x=\"357.5\" y=\"-149.3\" font-family=\"Helvetica,sans-Serif\" font-size=\"14.00\" fill=\"#000000\">samples = 1</text>\n<text text-anchor=\"start\" x=\"347.5\" y=\"-134.3\" font-family=\"Helvetica,sans-Serif\" font-size=\"14.00\" fill=\"#000000\">value = [0, 0, 1]</text>\n<text text-anchor=\"start\" x=\"345.5\" y=\"-119.3\" font-family=\"Helvetica,sans-Serif\" font-size=\"14.00\" fill=\"#000000\">class = virginica</text>\n</g>\n<!-- 10&#45;&gt;11 -->\n<g id=\"edge11\" class=\"edge\">\n<title>10&#45;&gt;11</title>\n<path fill=\"none\" stroke=\"#000000\" d=\"M400.9015,-222.8796C400.3637,-212.2134 399.7833,-200.7021 399.2387,-189.9015\"/>\n<polygon fill=\"#000000\" stroke=\"#000000\" points=\"402.7294,-189.626 398.7302,-179.8149 395.7383,-189.9785 402.7294,-189.626\"/>\n</g>\n<!-- 12 -->\n<g id=\"node13\" class=\"node\">\n<title>12</title>\n<path fill=\"#39e581\" stroke=\"#000000\" d=\"M591,-179.5C591,-179.5 487,-179.5 487,-179.5 481,-179.5 475,-173.5 475,-167.5 475,-167.5 475,-123.5 475,-123.5 475,-117.5 481,-111.5 487,-111.5 487,-111.5 591,-111.5 591,-111.5 597,-111.5 603,-117.5 603,-123.5 603,-123.5 603,-167.5 603,-167.5 603,-173.5 597,-179.5 591,-179.5\"/>\n<text text-anchor=\"start\" x=\"509.5\" y=\"-164.3\" font-family=\"Helvetica,sans-Serif\" font-size=\"14.00\" fill=\"#000000\">gini = 0.0</text>\n<text text-anchor=\"start\" x=\"499.5\" y=\"-149.3\" font-family=\"Helvetica,sans-Serif\" font-size=\"14.00\" fill=\"#000000\">samples = 1</text>\n<text text-anchor=\"start\" x=\"489.5\" y=\"-134.3\" font-family=\"Helvetica,sans-Serif\" font-size=\"14.00\" fill=\"#000000\">value = [0, 1, 0]</text>\n<text text-anchor=\"start\" x=\"483\" y=\"-119.3\" font-family=\"Helvetica,sans-Serif\" font-size=\"14.00\" fill=\"#000000\">class = versicolor</text>\n</g>\n<!-- 10&#45;&gt;12 -->\n<g id=\"edge12\" class=\"edge\">\n<title>10&#45;&gt;12</title>\n<path fill=\"none\" stroke=\"#000000\" d=\"M450.5662,-222.8796C464.0128,-211.1138 478.6347,-198.3197 492.0451,-186.5855\"/>\n<polygon fill=\"#000000\" stroke=\"#000000\" points=\"494.5619,-189.034 499.7829,-179.8149 489.9524,-183.766 494.5619,-189.034\"/>\n</g>\n<!-- 15 -->\n<g id=\"node16\" class=\"node\">\n<title>15</title>\n<path fill=\"#c09cf2\" stroke=\"#000000\" d=\"M754.5,-425C754.5,-425 621.5,-425 621.5,-425 615.5,-425 609.5,-419 609.5,-413 609.5,-413 609.5,-354 609.5,-354 609.5,-348 615.5,-342 621.5,-342 621.5,-342 754.5,-342 754.5,-342 760.5,-342 766.5,-348 766.5,-354 766.5,-354 766.5,-413 766.5,-413 766.5,-419 760.5,-425 754.5,-425\"/>\n<text text-anchor=\"start\" x=\"617.5\" y=\"-409.8\" font-family=\"Helvetica,sans-Serif\" font-size=\"14.00\" fill=\"#000000\">sepal width (cm) ≤ 3.1</text>\n<text text-anchor=\"start\" x=\"650\" y=\"-394.8\" font-family=\"Helvetica,sans-Serif\" font-size=\"14.00\" fill=\"#000000\">gini = 0.444</text>\n<text text-anchor=\"start\" x=\"648.5\" y=\"-379.8\" font-family=\"Helvetica,sans-Serif\" font-size=\"14.00\" fill=\"#000000\">samples = 3</text>\n<text text-anchor=\"start\" x=\"638.5\" y=\"-364.8\" font-family=\"Helvetica,sans-Serif\" font-size=\"14.00\" fill=\"#000000\">value = [0, 1, 2]</text>\n<text text-anchor=\"start\" x=\"636.5\" y=\"-349.8\" font-family=\"Helvetica,sans-Serif\" font-size=\"14.00\" fill=\"#000000\">class = virginica</text>\n</g>\n<!-- 14&#45;&gt;15 -->\n<g id=\"edge15\" class=\"edge\">\n<title>14&#45;&gt;15</title>\n<path fill=\"none\" stroke=\"#000000\" d=\"M692.5517,-460.8796C692.0696,-452.6838 691.5582,-443.9891 691.0589,-435.5013\"/>\n<polygon fill=\"#000000\" stroke=\"#000000\" points=\"694.54,-435.0753 690.4587,-425.2981 687.5521,-435.4864 694.54,-435.0753\"/>\n</g>\n<!-- 18 -->\n<g id=\"node19\" class=\"node\">\n<title>18</title>\n<path fill=\"#8139e5\" stroke=\"#000000\" d=\"M895.5,-417.5C895.5,-417.5 796.5,-417.5 796.5,-417.5 790.5,-417.5 784.5,-411.5 784.5,-405.5 784.5,-405.5 784.5,-361.5 784.5,-361.5 784.5,-355.5 790.5,-349.5 796.5,-349.5 796.5,-349.5 895.5,-349.5 895.5,-349.5 901.5,-349.5 907.5,-355.5 907.5,-361.5 907.5,-361.5 907.5,-405.5 907.5,-405.5 907.5,-411.5 901.5,-417.5 895.5,-417.5\"/>\n<text text-anchor=\"start\" x=\"816.5\" y=\"-402.3\" font-family=\"Helvetica,sans-Serif\" font-size=\"14.00\" fill=\"#000000\">gini = 0.0</text>\n<text text-anchor=\"start\" x=\"802\" y=\"-387.3\" font-family=\"Helvetica,sans-Serif\" font-size=\"14.00\" fill=\"#000000\">samples = 32</text>\n<text text-anchor=\"start\" x=\"792.5\" y=\"-372.3\" font-family=\"Helvetica,sans-Serif\" font-size=\"14.00\" fill=\"#000000\">value = [0, 0, 32]</text>\n<text text-anchor=\"start\" x=\"794.5\" y=\"-357.3\" font-family=\"Helvetica,sans-Serif\" font-size=\"14.00\" fill=\"#000000\">class = virginica</text>\n</g>\n<!-- 14&#45;&gt;18 -->\n<g id=\"edge18\" class=\"edge\">\n<title>14&#45;&gt;18</title>\n<path fill=\"none\" stroke=\"#000000\" d=\"M747.8125,-460.8796C762.8817,-449.0038 779.2803,-436.0804 794.2834,-424.2568\"/>\n<polygon fill=\"#000000\" stroke=\"#000000\" points=\"796.7698,-426.7536 802.4575,-417.8149 792.4369,-421.2557 796.7698,-426.7536\"/>\n</g>\n<!-- 16 -->\n<g id=\"node17\" class=\"node\">\n<title>16</title>\n<path fill=\"#8139e5\" stroke=\"#000000\" d=\"M693.5,-298.5C693.5,-298.5 598.5,-298.5 598.5,-298.5 592.5,-298.5 586.5,-292.5 586.5,-286.5 586.5,-286.5 586.5,-242.5 586.5,-242.5 586.5,-236.5 592.5,-230.5 598.5,-230.5 598.5,-230.5 693.5,-230.5 693.5,-230.5 699.5,-230.5 705.5,-236.5 705.5,-242.5 705.5,-242.5 705.5,-286.5 705.5,-286.5 705.5,-292.5 699.5,-298.5 693.5,-298.5\"/>\n<text text-anchor=\"start\" x=\"616.5\" y=\"-283.3\" font-family=\"Helvetica,sans-Serif\" font-size=\"14.00\" fill=\"#000000\">gini = 0.0</text>\n<text text-anchor=\"start\" x=\"606.5\" y=\"-268.3\" font-family=\"Helvetica,sans-Serif\" font-size=\"14.00\" fill=\"#000000\">samples = 2</text>\n<text text-anchor=\"start\" x=\"596.5\" y=\"-253.3\" font-family=\"Helvetica,sans-Serif\" font-size=\"14.00\" fill=\"#000000\">value = [0, 0, 2]</text>\n<text text-anchor=\"start\" x=\"594.5\" y=\"-238.3\" font-family=\"Helvetica,sans-Serif\" font-size=\"14.00\" fill=\"#000000\">class = virginica</text>\n</g>\n<!-- 15&#45;&gt;16 -->\n<g id=\"edge16\" class=\"edge\">\n<title>15&#45;&gt;16</title>\n<path fill=\"none\" stroke=\"#000000\" d=\"M673.3104,-341.8796C669.5071,-331.1034 665.3993,-319.4647 661.5533,-308.5677\"/>\n<polygon fill=\"#000000\" stroke=\"#000000\" points=\"664.7399,-307.08 658.1112,-298.8149 658.139,-309.4097 664.7399,-307.08\"/>\n</g>\n<!-- 17 -->\n<g id=\"node18\" class=\"node\">\n<title>17</title>\n<path fill=\"#39e581\" stroke=\"#000000\" d=\"M840,-298.5C840,-298.5 736,-298.5 736,-298.5 730,-298.5 724,-292.5 724,-286.5 724,-286.5 724,-242.5 724,-242.5 724,-236.5 730,-230.5 736,-230.5 736,-230.5 840,-230.5 840,-230.5 846,-230.5 852,-236.5 852,-242.5 852,-242.5 852,-286.5 852,-286.5 852,-292.5 846,-298.5 840,-298.5\"/>\n<text text-anchor=\"start\" x=\"758.5\" y=\"-283.3\" font-family=\"Helvetica,sans-Serif\" font-size=\"14.00\" fill=\"#000000\">gini = 0.0</text>\n<text text-anchor=\"start\" x=\"748.5\" y=\"-268.3\" font-family=\"Helvetica,sans-Serif\" font-size=\"14.00\" fill=\"#000000\">samples = 1</text>\n<text text-anchor=\"start\" x=\"738.5\" y=\"-253.3\" font-family=\"Helvetica,sans-Serif\" font-size=\"14.00\" fill=\"#000000\">value = [0, 1, 0]</text>\n<text text-anchor=\"start\" x=\"732\" y=\"-238.3\" font-family=\"Helvetica,sans-Serif\" font-size=\"14.00\" fill=\"#000000\">class = versicolor</text>\n</g>\n<!-- 15&#45;&gt;17 -->\n<g id=\"edge17\" class=\"edge\">\n<title>15&#45;&gt;17</title>\n<path fill=\"none\" stroke=\"#000000\" d=\"M722.9751,-341.8796C732.5852,-330.4436 743.0115,-318.0363 752.6429,-306.575\"/>\n<polygon fill=\"#000000\" stroke=\"#000000\" points=\"755.41,-308.7225 759.1639,-298.8149 750.0509,-304.219 755.41,-308.7225\"/>\n</g>\n</g>\n</svg>\n"
          },
          "metadata": {
            "tags": []
          },
          "execution_count": 19
        }
      ]
    },
    {
      "cell_type": "markdown",
      "metadata": {
        "id": "CSiIZwsRrF98"
      },
      "source": [
        "Con base a la gráfica anterior, vemos que el primer filtro para separar los datos es X3, que es la variable *Petal_width*. Despúes, el segundo nodo, la variable separadora es X2 (*Petal_length*). El resto del arbol se divide entre volver a preguntar la variable *Petal_width* y la variable *Sepal_width*."
      ]
    },
    {
      "cell_type": "code",
      "metadata": {
        "colab": {
          "base_uri": "https://localhost:8080/"
        },
        "id": "wJerncy9H1kV",
        "outputId": "5a2c27a8-29c9-45d3-b522-06c2f6232c69"
      },
      "source": [
        "acc_dt_train = dt_model.score(Xtrain,ytrain)\n",
        "acc_dt_test = dt_model.score(Xtest,ytest)\n",
        "\n",
        "print('Accuracy en el conjunto de entrenamiento: ', acc_dt_train)\n",
        "print('Accuracy en el conjunto de prueba: ', acc_dt_test)"
      ],
      "execution_count": 33,
      "outputs": [
        {
          "output_type": "stream",
          "text": [
            "Accuracy en el conjunto de entrenamiento:  1.0\n",
            "Accuracy en el conjunto de prueba:  1.0\n"
          ],
          "name": "stdout"
        }
      ]
    },
    {
      "cell_type": "markdown",
      "metadata": {
        "id": "kU6WBjdhvkfW"
      },
      "source": [
        "## kNN"
      ]
    },
    {
      "cell_type": "markdown",
      "metadata": {
        "id": "D_Md82bHvmq2"
      },
      "source": [
        "Ahora vamos a construir el modelo de kNN."
      ]
    },
    {
      "cell_type": "code",
      "metadata": {
        "colab": {
          "base_uri": "https://localhost:8080/"
        },
        "id": "DziFSqxqH1gu",
        "outputId": "2db6cf33-73c8-4992-94cd-7a3657916012"
      },
      "source": [
        "knn_model = neighbors.KNeighborsClassifier(10,weights='uniform')\n",
        "\n",
        "knn_model.fit(Xtrain, ytrain)"
      ],
      "execution_count": 21,
      "outputs": [
        {
          "output_type": "execute_result",
          "data": {
            "text/plain": [
              "KNeighborsClassifier(algorithm='auto', leaf_size=30, metric='minkowski',\n",
              "                     metric_params=None, n_jobs=None, n_neighbors=10, p=2,\n",
              "                     weights='uniform')"
            ]
          },
          "metadata": {
            "tags": []
          },
          "execution_count": 21
        }
      ]
    },
    {
      "cell_type": "code",
      "metadata": {
        "colab": {
          "base_uri": "https://localhost:8080/"
        },
        "id": "fzipNdtDzrqT",
        "outputId": "266db966-d90e-48c5-a981-d29d87b7e9e9"
      },
      "source": [
        "acc_knn_train = knn_model.score(Xtrain, ytrain)\n",
        "acc_knn_test = knn_model.score(Xtest, ytest)\n",
        "\n",
        "print('Accuracy en el conjunto de entranamiento: ', acc_knn_train)\n",
        "print('Accuracy en el conjunto de prueba: ', acc_knn_test)"
      ],
      "execution_count": 22,
      "outputs": [
        {
          "output_type": "stream",
          "text": [
            "Accuracy en el conjunto de entranamiento:  0.9732142857142857\n",
            "Accuracy en el conjunto de prueba:  1.0\n"
          ],
          "name": "stdout"
        }
      ]
    },
    {
      "cell_type": "markdown",
      "metadata": {
        "id": "t63kepf65gHJ"
      },
      "source": [
        "## Redes neuronales"
      ]
    },
    {
      "cell_type": "code",
      "metadata": {
        "id": "UvnQm6GGLKRq"
      },
      "source": [
        "y_dummy = y.reshape(150,1)"
      ],
      "execution_count": 23,
      "outputs": []
    },
    {
      "cell_type": "code",
      "metadata": {
        "id": "jOsF7RWNHVZI"
      },
      "source": [
        "n_xtrain, n_xtest, n_ytrain, n_ytest = train_test_split(X, y_dummy, test_size=0.25)"
      ],
      "execution_count": 24,
      "outputs": []
    },
    {
      "cell_type": "code",
      "metadata": {
        "colab": {
          "base_uri": "https://localhost:8080/"
        },
        "id": "jM1DiZqnH-kt",
        "outputId": "e8485c9d-d790-4fd3-cb65-3792dd6fdb7f"
      },
      "source": [
        "print(np.shape(n_xtrain))\n",
        "print(np.shape(n_xtest))\n",
        "print(np.shape(n_ytrain))\n",
        "print(np.shape(n_ytest))"
      ],
      "execution_count": 25,
      "outputs": [
        {
          "output_type": "stream",
          "text": [
            "(112, 4)\n",
            "(38, 4)\n",
            "(112, 1)\n",
            "(38, 1)\n"
          ],
          "name": "stdout"
        }
      ]
    },
    {
      "cell_type": "code",
      "metadata": {
        "id": "Yt7jvteXzrm8"
      },
      "source": [
        "from tensorflow.keras.models import Sequential\n",
        "from tensorflow.keras.layers import Dense\n",
        "from tensorflow.keras import optimizers\n"
      ],
      "execution_count": 26,
      "outputs": []
    },
    {
      "cell_type": "code",
      "metadata": {
        "colab": {
          "base_uri": "https://localhost:8080/"
        },
        "id": "si0u0v5wzrj2",
        "outputId": "a3fd0e8f-d130-47d9-f58e-b714a0932c27"
      },
      "source": [
        "# Definir la arquitectura de red\n",
        "\n",
        "model = Sequential()\n",
        "model.add(Dense(8, input_dim=4, activation='relu'))\n",
        "model.add(Dense(16,activation='relu'))\n",
        "model.add(Dense(3, activation='softmax'))\n",
        "\n",
        "\n",
        "model.compile(loss='sparse_categorical_crossentropy', optimizer='adam', metrics=['accuracy'])\n",
        "model.summary()"
      ],
      "execution_count": 27,
      "outputs": [
        {
          "output_type": "stream",
          "text": [
            "Model: \"sequential\"\n",
            "_________________________________________________________________\n",
            "Layer (type)                 Output Shape              Param #   \n",
            "=================================================================\n",
            "dense (Dense)                (None, 8)                 40        \n",
            "_________________________________________________________________\n",
            "dense_1 (Dense)              (None, 16)                144       \n",
            "_________________________________________________________________\n",
            "dense_2 (Dense)              (None, 3)                 51        \n",
            "=================================================================\n",
            "Total params: 235\n",
            "Trainable params: 235\n",
            "Non-trainable params: 0\n",
            "_________________________________________________________________\n"
          ],
          "name": "stdout"
        }
      ]
    },
    {
      "cell_type": "code",
      "metadata": {
        "colab": {
          "base_uri": "https://localhost:8080/",
          "height": 422
        },
        "id": "nFIfyHpQ70A1",
        "outputId": "90528224-436e-42da-d8fb-2fb597f87ef5"
      },
      "source": [
        "# Viendo de modo gráfico a la red\n",
        "keras.utils.plot_model(model, show_shapes=True)"
      ],
      "execution_count": 28,
      "outputs": [
        {
          "output_type": "execute_result",
          "data": {
            "image/png": "[encoded data removed]",
            "text/plain": [
              "<IPython.core.display.Image object>"
            ]
          },
          "metadata": {
            "tags": []
          },
          "execution_count": 28
        }
      ]
    },
    {
      "cell_type": "code",
      "metadata": {
        "colab": {
          "base_uri": "https://localhost:8080/"
        },
        "id": "gSQeL60azrd6",
        "outputId": "c178c1d1-252a-4b8e-8e0e-a56244b9a5ad"
      },
      "source": [
        "model.fit(n_xtrain, n_ytrain, epochs=250, batch_size=32, verbose=1)"
      ],
      "execution_count": 29,
      "outputs": [
        {
          "output_type": "stream",
          "text": [
            "Epoch 1/250\n",
            "4/4 [==============================] - 1s 4ms/step - loss: 1.1409 - accuracy: 0.0000e+00\n",
            "Epoch 2/250\n",
            "4/4 [==============================] - 0s 3ms/step - loss: 1.0795 - accuracy: 0.0893\n",
            "Epoch 3/250\n",
            "4/4 [==============================] - 0s 3ms/step - loss: 1.0350 - accuracy: 0.3125\n",
            "Epoch 4/250\n",
            "4/4 [==============================] - 0s 2ms/step - loss: 0.9970 - accuracy: 0.3839\n",
            "Epoch 5/250\n",
            "4/4 [==============================] - 0s 3ms/step - loss: 0.9713 - accuracy: 0.5000\n",
            "Epoch 6/250\n",
            "4/4 [==============================] - 0s 2ms/step - loss: 0.9494 - accuracy: 0.5000\n",
            "Epoch 7/250\n",
            "4/4 [==============================] - 0s 3ms/step - loss: 0.9287 - accuracy: 0.4911\n",
            "Epoch 8/250\n",
            "4/4 [==============================] - 0s 3ms/step - loss: 0.9096 - accuracy: 0.5000\n",
            "Epoch 9/250\n",
            "4/4 [==============================] - 0s 3ms/step - loss: 0.8912 - accuracy: 0.5000\n",
            "Epoch 10/250\n",
            "4/4 [==============================] - 0s 3ms/step - loss: 0.8730 - accuracy: 0.5000\n",
            "Epoch 11/250\n",
            "4/4 [==============================] - 0s 3ms/step - loss: 0.8574 - accuracy: 0.5179\n",
            "Epoch 12/250\n",
            "4/4 [==============================] - 0s 3ms/step - loss: 0.8395 - accuracy: 0.5268\n",
            "Epoch 13/250\n",
            "4/4 [==============================] - 0s 4ms/step - loss: 0.8261 - accuracy: 0.5179\n",
            "Epoch 14/250\n",
            "4/4 [==============================] - 0s 3ms/step - loss: 0.8090 - accuracy: 0.5179\n",
            "Epoch 15/250\n",
            "4/4 [==============================] - 0s 3ms/step - loss: 0.7943 - accuracy: 0.5268\n",
            "Epoch 16/250\n",
            "4/4 [==============================] - 0s 3ms/step - loss: 0.7793 - accuracy: 0.5268\n",
            "Epoch 17/250\n",
            "4/4 [==============================] - 0s 3ms/step - loss: 0.7646 - accuracy: 0.5446\n",
            "Epoch 18/250\n",
            "4/4 [==============================] - 0s 2ms/step - loss: 0.7508 - accuracy: 0.6250\n",
            "Epoch 19/250\n",
            "4/4 [==============================] - 0s 3ms/step - loss: 0.7372 - accuracy: 0.7321\n",
            "Epoch 20/250\n",
            "4/4 [==============================] - 0s 6ms/step - loss: 0.7233 - accuracy: 0.7768\n",
            "Epoch 21/250\n",
            "4/4 [==============================] - 0s 3ms/step - loss: 0.7107 - accuracy: 0.8036\n",
            "Epoch 22/250\n",
            "4/4 [==============================] - 0s 4ms/step - loss: 0.6967 - accuracy: 0.8482\n",
            "Epoch 23/250\n",
            "4/4 [==============================] - 0s 2ms/step - loss: 0.6836 - accuracy: 0.8571\n",
            "Epoch 24/250\n",
            "4/4 [==============================] - 0s 3ms/step - loss: 0.6710 - accuracy: 0.8750\n",
            "Epoch 25/250\n",
            "4/4 [==============================] - 0s 3ms/step - loss: 0.6588 - accuracy: 0.8839\n",
            "Epoch 26/250\n",
            "4/4 [==============================] - 0s 3ms/step - loss: 0.6473 - accuracy: 0.9107\n",
            "Epoch 27/250\n",
            "4/4 [==============================] - 0s 5ms/step - loss: 0.6355 - accuracy: 0.9107\n",
            "Epoch 28/250\n",
            "4/4 [==============================] - 0s 3ms/step - loss: 0.6239 - accuracy: 0.9107\n",
            "Epoch 29/250\n",
            "4/4 [==============================] - 0s 3ms/step - loss: 0.6121 - accuracy: 0.9018\n",
            "Epoch 30/250\n",
            "4/4 [==============================] - 0s 3ms/step - loss: 0.6011 - accuracy: 0.9196\n",
            "Epoch 31/250\n",
            "4/4 [==============================] - 0s 2ms/step - loss: 0.5906 - accuracy: 0.9018\n",
            "Epoch 32/250\n",
            "4/4 [==============================] - 0s 3ms/step - loss: 0.5796 - accuracy: 0.9018\n",
            "Epoch 33/250\n",
            "4/4 [==============================] - 0s 3ms/step - loss: 0.5691 - accuracy: 0.9196\n",
            "Epoch 34/250\n",
            "4/4 [==============================] - 0s 4ms/step - loss: 0.5588 - accuracy: 0.9196\n",
            "Epoch 35/250\n",
            "4/4 [==============================] - 0s 3ms/step - loss: 0.5492 - accuracy: 0.9196\n",
            "Epoch 36/250\n",
            "4/4 [==============================] - 0s 3ms/step - loss: 0.5400 - accuracy: 0.9286\n",
            "Epoch 37/250\n",
            "4/4 [==============================] - 0s 2ms/step - loss: 0.5303 - accuracy: 0.9375\n",
            "Epoch 38/250\n",
            "4/4 [==============================] - 0s 3ms/step - loss: 0.5208 - accuracy: 0.9196\n",
            "Epoch 39/250\n",
            "4/4 [==============================] - 0s 3ms/step - loss: 0.5124 - accuracy: 0.9196\n",
            "Epoch 40/250\n",
            "4/4 [==============================] - 0s 3ms/step - loss: 0.5038 - accuracy: 0.9196\n",
            "Epoch 41/250\n",
            "4/4 [==============================] - 0s 3ms/step - loss: 0.4948 - accuracy: 0.9196\n",
            "Epoch 42/250\n",
            "4/4 [==============================] - 0s 4ms/step - loss: 0.4865 - accuracy: 0.9286\n",
            "Epoch 43/250\n",
            "4/4 [==============================] - 0s 3ms/step - loss: 0.4788 - accuracy: 0.9554\n",
            "Epoch 44/250\n",
            "4/4 [==============================] - 0s 3ms/step - loss: 0.4712 - accuracy: 0.9643\n",
            "Epoch 45/250\n",
            "4/4 [==============================] - 0s 3ms/step - loss: 0.4632 - accuracy: 0.9554\n",
            "Epoch 46/250\n",
            "4/4 [==============================] - 0s 2ms/step - loss: 0.4559 - accuracy: 0.9554\n",
            "Epoch 47/250\n",
            "4/4 [==============================] - 0s 2ms/step - loss: 0.4492 - accuracy: 0.9554\n",
            "Epoch 48/250\n",
            "4/4 [==============================] - 0s 2ms/step - loss: 0.4419 - accuracy: 0.9643\n",
            "Epoch 49/250\n",
            "4/4 [==============================] - 0s 2ms/step - loss: 0.4350 - accuracy: 0.9732\n",
            "Epoch 50/250\n",
            "4/4 [==============================] - 0s 4ms/step - loss: 0.4285 - accuracy: 0.9732\n",
            "Epoch 51/250\n",
            "4/4 [==============================] - 0s 3ms/step - loss: 0.4225 - accuracy: 0.9732\n",
            "Epoch 52/250\n",
            "4/4 [==============================] - 0s 3ms/step - loss: 0.4158 - accuracy: 0.9732\n",
            "Epoch 53/250\n",
            "4/4 [==============================] - 0s 3ms/step - loss: 0.4097 - accuracy: 0.9732\n",
            "Epoch 54/250\n",
            "4/4 [==============================] - 0s 4ms/step - loss: 0.4041 - accuracy: 0.9732\n",
            "Epoch 55/250\n",
            "4/4 [==============================] - 0s 5ms/step - loss: 0.3978 - accuracy: 0.9732\n",
            "Epoch 56/250\n",
            "4/4 [==============================] - 0s 3ms/step - loss: 0.3920 - accuracy: 0.9732\n",
            "Epoch 57/250\n",
            "4/4 [==============================] - 0s 3ms/step - loss: 0.3866 - accuracy: 0.9732\n",
            "Epoch 58/250\n",
            "4/4 [==============================] - 0s 3ms/step - loss: 0.3813 - accuracy: 0.9732\n",
            "Epoch 59/250\n",
            "4/4 [==============================] - 0s 3ms/step - loss: 0.3759 - accuracy: 0.9732\n",
            "Epoch 60/250\n",
            "4/4 [==============================] - 0s 3ms/step - loss: 0.3710 - accuracy: 0.9732\n",
            "Epoch 61/250\n",
            "4/4 [==============================] - 0s 2ms/step - loss: 0.3663 - accuracy: 0.9732\n",
            "Epoch 62/250\n",
            "4/4 [==============================] - 0s 3ms/step - loss: 0.3608 - accuracy: 0.9732\n",
            "Epoch 63/250\n",
            "4/4 [==============================] - 0s 4ms/step - loss: 0.3561 - accuracy: 0.9732\n",
            "Epoch 64/250\n",
            "4/4 [==============================] - 0s 2ms/step - loss: 0.3524 - accuracy: 0.9732\n",
            "Epoch 65/250\n",
            "4/4 [==============================] - 0s 2ms/step - loss: 0.3465 - accuracy: 0.9732\n",
            "Epoch 66/250\n",
            "4/4 [==============================] - 0s 4ms/step - loss: 0.3419 - accuracy: 0.9732\n",
            "Epoch 67/250\n",
            "4/4 [==============================] - 0s 3ms/step - loss: 0.3376 - accuracy: 0.9732\n",
            "Epoch 68/250\n",
            "4/4 [==============================] - 0s 3ms/step - loss: 0.3339 - accuracy: 0.9732\n",
            "Epoch 69/250\n",
            "4/4 [==============================] - 0s 3ms/step - loss: 0.3291 - accuracy: 0.9732\n",
            "Epoch 70/250\n",
            "4/4 [==============================] - 0s 6ms/step - loss: 0.3250 - accuracy: 0.9643\n",
            "Epoch 71/250\n",
            "4/4 [==============================] - 0s 3ms/step - loss: 0.3207 - accuracy: 0.9643\n",
            "Epoch 72/250\n",
            "4/4 [==============================] - 0s 3ms/step - loss: 0.3166 - accuracy: 0.9732\n",
            "Epoch 73/250\n",
            "4/4 [==============================] - 0s 4ms/step - loss: 0.3133 - accuracy: 0.9732\n",
            "Epoch 74/250\n",
            "4/4 [==============================] - 0s 3ms/step - loss: 0.3094 - accuracy: 0.9732\n",
            "Epoch 75/250\n",
            "4/4 [==============================] - 0s 3ms/step - loss: 0.3050 - accuracy: 0.9643\n",
            "Epoch 76/250\n",
            "4/4 [==============================] - 0s 6ms/step - loss: 0.3013 - accuracy: 0.9643\n",
            "Epoch 77/250\n",
            "4/4 [==============================] - 0s 4ms/step - loss: 0.2978 - accuracy: 0.9732\n",
            "Epoch 78/250\n",
            "4/4 [==============================] - 0s 3ms/step - loss: 0.2943 - accuracy: 0.9732\n",
            "Epoch 79/250\n",
            "4/4 [==============================] - 0s 3ms/step - loss: 0.2912 - accuracy: 0.9732\n",
            "Epoch 80/250\n",
            "4/4 [==============================] - 0s 3ms/step - loss: 0.2870 - accuracy: 0.9732\n",
            "Epoch 81/250\n",
            "4/4 [==============================] - 0s 2ms/step - loss: 0.2853 - accuracy: 0.9732\n",
            "Epoch 82/250\n",
            "4/4 [==============================] - 0s 3ms/step - loss: 0.2800 - accuracy: 0.9732\n",
            "Epoch 83/250\n",
            "4/4 [==============================] - 0s 3ms/step - loss: 0.2782 - accuracy: 0.9732\n",
            "Epoch 84/250\n",
            "4/4 [==============================] - 0s 2ms/step - loss: 0.2741 - accuracy: 0.9732\n",
            "Epoch 85/250\n",
            "4/4 [==============================] - 0s 3ms/step - loss: 0.2704 - accuracy: 0.9732\n",
            "Epoch 86/250\n",
            "4/4 [==============================] - 0s 3ms/step - loss: 0.2693 - accuracy: 0.9643\n",
            "Epoch 87/250\n",
            "4/4 [==============================] - 0s 3ms/step - loss: 0.2641 - accuracy: 0.9732\n",
            "Epoch 88/250\n",
            "4/4 [==============================] - 0s 3ms/step - loss: 0.2616 - accuracy: 0.9643\n",
            "Epoch 89/250\n",
            "4/4 [==============================] - 0s 3ms/step - loss: 0.2580 - accuracy: 0.9732\n",
            "Epoch 90/250\n",
            "4/4 [==============================] - 0s 3ms/step - loss: 0.2552 - accuracy: 0.9732\n",
            "Epoch 91/250\n",
            "4/4 [==============================] - 0s 3ms/step - loss: 0.2518 - accuracy: 0.9732\n",
            "Epoch 92/250\n",
            "4/4 [==============================] - 0s 3ms/step - loss: 0.2490 - accuracy: 0.9732\n",
            "Epoch 93/250\n",
            "4/4 [==============================] - 0s 3ms/step - loss: 0.2464 - accuracy: 0.9732\n",
            "Epoch 94/250\n",
            "4/4 [==============================] - 0s 2ms/step - loss: 0.2449 - accuracy: 0.9732\n",
            "Epoch 95/250\n",
            "4/4 [==============================] - 0s 2ms/step - loss: 0.2424 - accuracy: 0.9732\n",
            "Epoch 96/250\n",
            "4/4 [==============================] - 0s 3ms/step - loss: 0.2389 - accuracy: 0.9732\n",
            "Epoch 97/250\n",
            "4/4 [==============================] - 0s 2ms/step - loss: 0.2353 - accuracy: 0.9732\n",
            "Epoch 98/250\n",
            "4/4 [==============================] - 0s 3ms/step - loss: 0.2324 - accuracy: 0.9732\n",
            "Epoch 99/250\n",
            "4/4 [==============================] - 0s 3ms/step - loss: 0.2297 - accuracy: 0.9732\n",
            "Epoch 100/250\n",
            "4/4 [==============================] - 0s 3ms/step - loss: 0.2275 - accuracy: 0.9732\n",
            "Epoch 101/250\n",
            "4/4 [==============================] - 0s 3ms/step - loss: 0.2246 - accuracy: 0.9732\n",
            "Epoch 102/250\n",
            "4/4 [==============================] - 0s 3ms/step - loss: 0.2220 - accuracy: 0.9732\n",
            "Epoch 103/250\n",
            "4/4 [==============================] - 0s 3ms/step - loss: 0.2200 - accuracy: 0.9732\n",
            "Epoch 104/250\n",
            "4/4 [==============================] - 0s 3ms/step - loss: 0.2168 - accuracy: 0.9732\n",
            "Epoch 105/250\n",
            "4/4 [==============================] - 0s 3ms/step - loss: 0.2146 - accuracy: 0.9821\n",
            "Epoch 106/250\n",
            "4/4 [==============================] - 0s 2ms/step - loss: 0.2128 - accuracy: 0.9821\n",
            "Epoch 107/250\n",
            "4/4 [==============================] - 0s 5ms/step - loss: 0.2110 - accuracy: 0.9732\n",
            "Epoch 108/250\n",
            "4/4 [==============================] - 0s 3ms/step - loss: 0.2082 - accuracy: 0.9732\n",
            "Epoch 109/250\n",
            "4/4 [==============================] - 0s 5ms/step - loss: 0.2056 - accuracy: 0.9732\n",
            "Epoch 110/250\n",
            "4/4 [==============================] - 0s 4ms/step - loss: 0.2034 - accuracy: 0.9732\n",
            "Epoch 111/250\n",
            "4/4 [==============================] - 0s 3ms/step - loss: 0.2012 - accuracy: 0.9732\n",
            "Epoch 112/250\n",
            "4/4 [==============================] - 0s 3ms/step - loss: 0.1995 - accuracy: 0.9732\n",
            "Epoch 113/250\n",
            "4/4 [==============================] - 0s 4ms/step - loss: 0.1971 - accuracy: 0.9732\n",
            "Epoch 114/250\n",
            "4/4 [==============================] - 0s 3ms/step - loss: 0.1950 - accuracy: 0.9732\n",
            "Epoch 115/250\n",
            "4/4 [==============================] - 0s 3ms/step - loss: 0.1958 - accuracy: 0.9732\n",
            "Epoch 116/250\n",
            "4/4 [==============================] - 0s 3ms/step - loss: 0.1910 - accuracy: 0.9732\n",
            "Epoch 117/250\n",
            "4/4 [==============================] - 0s 2ms/step - loss: 0.1906 - accuracy: 0.9732\n",
            "Epoch 118/250\n",
            "4/4 [==============================] - 0s 3ms/step - loss: 0.1883 - accuracy: 0.9732\n",
            "Epoch 119/250\n",
            "4/4 [==============================] - 0s 4ms/step - loss: 0.1865 - accuracy: 0.9732\n",
            "Epoch 120/250\n",
            "4/4 [==============================] - 0s 3ms/step - loss: 0.1831 - accuracy: 0.9732\n",
            "Epoch 121/250\n",
            "4/4 [==============================] - 0s 2ms/step - loss: 0.1823 - accuracy: 0.9732\n",
            "Epoch 122/250\n",
            "4/4 [==============================] - 0s 3ms/step - loss: 0.1801 - accuracy: 0.9732\n",
            "Epoch 123/250\n",
            "4/4 [==============================] - 0s 5ms/step - loss: 0.1786 - accuracy: 0.9732\n",
            "Epoch 124/250\n",
            "4/4 [==============================] - 0s 4ms/step - loss: 0.1761 - accuracy: 0.9732\n",
            "Epoch 125/250\n",
            "4/4 [==============================] - 0s 3ms/step - loss: 0.1743 - accuracy: 0.9732\n",
            "Epoch 126/250\n",
            "4/4 [==============================] - 0s 4ms/step - loss: 0.1729 - accuracy: 0.9732\n",
            "Epoch 127/250\n",
            "4/4 [==============================] - 0s 4ms/step - loss: 0.1708 - accuracy: 0.9732\n",
            "Epoch 128/250\n",
            "4/4 [==============================] - 0s 4ms/step - loss: 0.1693 - accuracy: 0.9732\n",
            "Epoch 129/250\n",
            "4/4 [==============================] - 0s 4ms/step - loss: 0.1680 - accuracy: 0.9732\n",
            "Epoch 130/250\n",
            "4/4 [==============================] - 0s 3ms/step - loss: 0.1661 - accuracy: 0.9732\n",
            "Epoch 131/250\n",
            "4/4 [==============================] - 0s 3ms/step - loss: 0.1650 - accuracy: 0.9732\n",
            "Epoch 132/250\n",
            "4/4 [==============================] - 0s 3ms/step - loss: 0.1646 - accuracy: 0.9732\n",
            "Epoch 133/250\n",
            "4/4 [==============================] - 0s 3ms/step - loss: 0.1615 - accuracy: 0.9732\n",
            "Epoch 134/250\n",
            "4/4 [==============================] - 0s 3ms/step - loss: 0.1599 - accuracy: 0.9732\n",
            "Epoch 135/250\n",
            "4/4 [==============================] - 0s 3ms/step - loss: 0.1585 - accuracy: 0.9732\n",
            "Epoch 136/250\n",
            "4/4 [==============================] - 0s 3ms/step - loss: 0.1572 - accuracy: 0.9732\n",
            "Epoch 137/250\n",
            "4/4 [==============================] - 0s 4ms/step - loss: 0.1562 - accuracy: 0.9732\n",
            "Epoch 138/250\n",
            "4/4 [==============================] - 0s 3ms/step - loss: 0.1543 - accuracy: 0.9732\n",
            "Epoch 139/250\n",
            "4/4 [==============================] - 0s 2ms/step - loss: 0.1528 - accuracy: 0.9732\n",
            "Epoch 140/250\n",
            "4/4 [==============================] - 0s 4ms/step - loss: 0.1512 - accuracy: 0.9732\n",
            "Epoch 141/250\n",
            "4/4 [==============================] - 0s 3ms/step - loss: 0.1501 - accuracy: 0.9732\n",
            "Epoch 142/250\n",
            "4/4 [==============================] - 0s 4ms/step - loss: 0.1492 - accuracy: 0.9732\n",
            "Epoch 143/250\n",
            "4/4 [==============================] - 0s 3ms/step - loss: 0.1474 - accuracy: 0.9732\n",
            "Epoch 144/250\n",
            "4/4 [==============================] - 0s 4ms/step - loss: 0.1460 - accuracy: 0.9732\n",
            "Epoch 145/250\n",
            "4/4 [==============================] - 0s 3ms/step - loss: 0.1453 - accuracy: 0.9732\n",
            "Epoch 146/250\n",
            "4/4 [==============================] - 0s 2ms/step - loss: 0.1448 - accuracy: 0.9732\n",
            "Epoch 147/250\n",
            "4/4 [==============================] - 0s 2ms/step - loss: 0.1426 - accuracy: 0.9732\n",
            "Epoch 148/250\n",
            "4/4 [==============================] - 0s 3ms/step - loss: 0.1427 - accuracy: 0.9732\n",
            "Epoch 149/250\n",
            "4/4 [==============================] - 0s 3ms/step - loss: 0.1410 - accuracy: 0.9732\n",
            "Epoch 150/250\n",
            "4/4 [==============================] - 0s 5ms/step - loss: 0.1392 - accuracy: 0.9732\n",
            "Epoch 151/250\n",
            "4/4 [==============================] - 0s 4ms/step - loss: 0.1379 - accuracy: 0.9732\n",
            "Epoch 152/250\n",
            "4/4 [==============================] - 0s 3ms/step - loss: 0.1370 - accuracy: 0.9732\n",
            "Epoch 153/250\n",
            "4/4 [==============================] - 0s 4ms/step - loss: 0.1357 - accuracy: 0.9732\n",
            "Epoch 154/250\n",
            "4/4 [==============================] - 0s 4ms/step - loss: 0.1347 - accuracy: 0.9732\n",
            "Epoch 155/250\n",
            "4/4 [==============================] - 0s 3ms/step - loss: 0.1341 - accuracy: 0.9732\n",
            "Epoch 156/250\n",
            "4/4 [==============================] - 0s 4ms/step - loss: 0.1332 - accuracy: 0.9732\n",
            "Epoch 157/250\n",
            "4/4 [==============================] - 0s 4ms/step - loss: 0.1322 - accuracy: 0.9732\n",
            "Epoch 158/250\n",
            "4/4 [==============================] - 0s 3ms/step - loss: 0.1307 - accuracy: 0.9732\n",
            "Epoch 159/250\n",
            "4/4 [==============================] - 0s 3ms/step - loss: 0.1300 - accuracy: 0.9732\n",
            "Epoch 160/250\n",
            "4/4 [==============================] - 0s 3ms/step - loss: 0.1288 - accuracy: 0.9732\n",
            "Epoch 161/250\n",
            "4/4 [==============================] - 0s 4ms/step - loss: 0.1278 - accuracy: 0.9732\n",
            "Epoch 162/250\n",
            "4/4 [==============================] - 0s 3ms/step - loss: 0.1273 - accuracy: 0.9732\n",
            "Epoch 163/250\n",
            "4/4 [==============================] - 0s 4ms/step - loss: 0.1261 - accuracy: 0.9732\n",
            "Epoch 164/250\n",
            "4/4 [==============================] - 0s 3ms/step - loss: 0.1248 - accuracy: 0.9732\n",
            "Epoch 165/250\n",
            "4/4 [==============================] - 0s 4ms/step - loss: 0.1244 - accuracy: 0.9732\n",
            "Epoch 166/250\n",
            "4/4 [==============================] - 0s 4ms/step - loss: 0.1234 - accuracy: 0.9732\n",
            "Epoch 167/250\n",
            "4/4 [==============================] - 0s 4ms/step - loss: 0.1222 - accuracy: 0.9732\n",
            "Epoch 168/250\n",
            "4/4 [==============================] - 0s 4ms/step - loss: 0.1218 - accuracy: 0.9732\n",
            "Epoch 169/250\n",
            "4/4 [==============================] - 0s 5ms/step - loss: 0.1202 - accuracy: 0.9732\n",
            "Epoch 170/250\n",
            "4/4 [==============================] - 0s 3ms/step - loss: 0.1210 - accuracy: 0.9732\n",
            "Epoch 171/250\n",
            "4/4 [==============================] - 0s 3ms/step - loss: 0.1195 - accuracy: 0.9732\n",
            "Epoch 172/250\n",
            "4/4 [==============================] - 0s 2ms/step - loss: 0.1180 - accuracy: 0.9732\n",
            "Epoch 173/250\n",
            "4/4 [==============================] - 0s 3ms/step - loss: 0.1182 - accuracy: 0.9732\n",
            "Epoch 174/250\n",
            "4/4 [==============================] - 0s 3ms/step - loss: 0.1171 - accuracy: 0.9732\n",
            "Epoch 175/250\n",
            "4/4 [==============================] - 0s 3ms/step - loss: 0.1154 - accuracy: 0.9732\n",
            "Epoch 176/250\n",
            "4/4 [==============================] - 0s 3ms/step - loss: 0.1147 - accuracy: 0.9732\n",
            "Epoch 177/250\n",
            "4/4 [==============================] - 0s 3ms/step - loss: 0.1185 - accuracy: 0.9732\n",
            "Epoch 178/250\n",
            "4/4 [==============================] - 0s 3ms/step - loss: 0.1158 - accuracy: 0.9732\n",
            "Epoch 179/250\n",
            "4/4 [==============================] - 0s 3ms/step - loss: 0.1129 - accuracy: 0.9732\n",
            "Epoch 180/250\n",
            "4/4 [==============================] - 0s 3ms/step - loss: 0.1127 - accuracy: 0.9732\n",
            "Epoch 181/250\n",
            "4/4 [==============================] - 0s 3ms/step - loss: 0.1122 - accuracy: 0.9732\n",
            "Epoch 182/250\n",
            "4/4 [==============================] - 0s 3ms/step - loss: 0.1111 - accuracy: 0.9732\n",
            "Epoch 183/250\n",
            "4/4 [==============================] - 0s 4ms/step - loss: 0.1109 - accuracy: 0.9732\n",
            "Epoch 184/250\n",
            "4/4 [==============================] - 0s 3ms/step - loss: 0.1094 - accuracy: 0.9732\n",
            "Epoch 185/250\n",
            "4/4 [==============================] - 0s 3ms/step - loss: 0.1087 - accuracy: 0.9732\n",
            "Epoch 186/250\n",
            "4/4 [==============================] - 0s 2ms/step - loss: 0.1082 - accuracy: 0.9732\n",
            "Epoch 187/250\n",
            "4/4 [==============================] - 0s 2ms/step - loss: 0.1072 - accuracy: 0.9732\n",
            "Epoch 188/250\n",
            "4/4 [==============================] - 0s 3ms/step - loss: 0.1072 - accuracy: 0.9732\n",
            "Epoch 189/250\n",
            "4/4 [==============================] - 0s 3ms/step - loss: 0.1066 - accuracy: 0.9732\n",
            "Epoch 190/250\n",
            "4/4 [==============================] - 0s 3ms/step - loss: 0.1059 - accuracy: 0.9732\n",
            "Epoch 191/250\n",
            "4/4 [==============================] - 0s 3ms/step - loss: 0.1050 - accuracy: 0.9732\n",
            "Epoch 192/250\n",
            "4/4 [==============================] - 0s 8ms/step - loss: 0.1044 - accuracy: 0.9732\n",
            "Epoch 193/250\n",
            "4/4 [==============================] - 0s 7ms/step - loss: 0.1039 - accuracy: 0.9732\n",
            "Epoch 194/250\n",
            "4/4 [==============================] - 0s 4ms/step - loss: 0.1036 - accuracy: 0.9732\n",
            "Epoch 195/250\n",
            "4/4 [==============================] - 0s 5ms/step - loss: 0.1028 - accuracy: 0.9732\n",
            "Epoch 196/250\n",
            "4/4 [==============================] - 0s 4ms/step - loss: 0.1023 - accuracy: 0.9732\n",
            "Epoch 197/250\n",
            "4/4 [==============================] - 0s 4ms/step - loss: 0.1021 - accuracy: 0.9732\n",
            "Epoch 198/250\n",
            "4/4 [==============================] - 0s 3ms/step - loss: 0.1013 - accuracy: 0.9732\n",
            "Epoch 199/250\n",
            "4/4 [==============================] - 0s 3ms/step - loss: 0.1008 - accuracy: 0.9732\n",
            "Epoch 200/250\n",
            "4/4 [==============================] - 0s 3ms/step - loss: 0.0998 - accuracy: 0.9732\n",
            "Epoch 201/250\n",
            "4/4 [==============================] - 0s 3ms/step - loss: 0.0995 - accuracy: 0.9732\n",
            "Epoch 202/250\n",
            "4/4 [==============================] - 0s 3ms/step - loss: 0.0994 - accuracy: 0.9732\n",
            "Epoch 203/250\n",
            "4/4 [==============================] - 0s 3ms/step - loss: 0.0989 - accuracy: 0.9732\n",
            "Epoch 204/250\n",
            "4/4 [==============================] - 0s 3ms/step - loss: 0.0985 - accuracy: 0.9732\n",
            "Epoch 205/250\n",
            "4/4 [==============================] - 0s 3ms/step - loss: 0.0980 - accuracy: 0.9732\n",
            "Epoch 206/250\n",
            "4/4 [==============================] - 0s 2ms/step - loss: 0.0978 - accuracy: 0.9732\n",
            "Epoch 207/250\n",
            "4/4 [==============================] - 0s 2ms/step - loss: 0.0972 - accuracy: 0.9732\n",
            "Epoch 208/250\n",
            "4/4 [==============================] - 0s 3ms/step - loss: 0.0960 - accuracy: 0.9732\n",
            "Epoch 209/250\n",
            "4/4 [==============================] - 0s 3ms/step - loss: 0.0970 - accuracy: 0.9732\n",
            "Epoch 210/250\n",
            "4/4 [==============================] - 0s 4ms/step - loss: 0.0974 - accuracy: 0.9732\n",
            "Epoch 211/250\n",
            "4/4 [==============================] - 0s 6ms/step - loss: 0.0960 - accuracy: 0.9732\n",
            "Epoch 212/250\n",
            "4/4 [==============================] - 0s 4ms/step - loss: 0.0945 - accuracy: 0.9732\n",
            "Epoch 213/250\n",
            "4/4 [==============================] - 0s 2ms/step - loss: 0.0951 - accuracy: 0.9732\n",
            "Epoch 214/250\n",
            "4/4 [==============================] - 0s 2ms/step - loss: 0.0942 - accuracy: 0.9732\n",
            "Epoch 215/250\n",
            "4/4 [==============================] - 0s 3ms/step - loss: 0.0935 - accuracy: 0.9732\n",
            "Epoch 216/250\n",
            "4/4 [==============================] - 0s 2ms/step - loss: 0.0933 - accuracy: 0.9732\n",
            "Epoch 217/250\n",
            "4/4 [==============================] - 0s 2ms/step - loss: 0.0940 - accuracy: 0.9732\n",
            "Epoch 218/250\n",
            "4/4 [==============================] - 0s 3ms/step - loss: 0.0923 - accuracy: 0.9732\n",
            "Epoch 219/250\n",
            "4/4 [==============================] - 0s 3ms/step - loss: 0.0922 - accuracy: 0.9732\n",
            "Epoch 220/250\n",
            "4/4 [==============================] - 0s 8ms/step - loss: 0.0915 - accuracy: 0.9732\n",
            "Epoch 221/250\n",
            "4/4 [==============================] - 0s 3ms/step - loss: 0.0907 - accuracy: 0.9732\n",
            "Epoch 222/250\n",
            "4/4 [==============================] - 0s 3ms/step - loss: 0.0905 - accuracy: 0.9732\n",
            "Epoch 223/250\n",
            "4/4 [==============================] - 0s 3ms/step - loss: 0.0913 - accuracy: 0.9732\n",
            "Epoch 224/250\n",
            "4/4 [==============================] - 0s 8ms/step - loss: 0.0914 - accuracy: 0.9732\n",
            "Epoch 225/250\n",
            "4/4 [==============================] - 0s 3ms/step - loss: 0.0893 - accuracy: 0.9732\n",
            "Epoch 226/250\n",
            "4/4 [==============================] - 0s 2ms/step - loss: 0.0893 - accuracy: 0.9732\n",
            "Epoch 227/250\n",
            "4/4 [==============================] - 0s 3ms/step - loss: 0.0903 - accuracy: 0.9732\n",
            "Epoch 228/250\n",
            "4/4 [==============================] - 0s 3ms/step - loss: 0.0905 - accuracy: 0.9732\n",
            "Epoch 229/250\n",
            "4/4 [==============================] - 0s 3ms/step - loss: 0.0881 - accuracy: 0.9732\n",
            "Epoch 230/250\n",
            "4/4 [==============================] - 0s 5ms/step - loss: 0.0877 - accuracy: 0.9732\n",
            "Epoch 231/250\n",
            "4/4 [==============================] - 0s 3ms/step - loss: 0.0872 - accuracy: 0.9732\n",
            "Epoch 232/250\n",
            "4/4 [==============================] - 0s 3ms/step - loss: 0.0869 - accuracy: 0.9732\n",
            "Epoch 233/250\n",
            "4/4 [==============================] - 0s 2ms/step - loss: 0.0866 - accuracy: 0.9732\n",
            "Epoch 234/250\n",
            "4/4 [==============================] - 0s 3ms/step - loss: 0.0862 - accuracy: 0.9732\n",
            "Epoch 235/250\n",
            "4/4 [==============================] - 0s 2ms/step - loss: 0.0862 - accuracy: 0.9732\n",
            "Epoch 236/250\n",
            "4/4 [==============================] - 0s 9ms/step - loss: 0.0862 - accuracy: 0.9732\n",
            "Epoch 237/250\n",
            "4/4 [==============================] - 0s 4ms/step - loss: 0.0865 - accuracy: 0.9732\n",
            "Epoch 238/250\n",
            "4/4 [==============================] - 0s 4ms/step - loss: 0.0851 - accuracy: 0.9732\n",
            "Epoch 239/250\n",
            "4/4 [==============================] - 0s 3ms/step - loss: 0.0851 - accuracy: 0.9732\n",
            "Epoch 240/250\n",
            "4/4 [==============================] - 0s 4ms/step - loss: 0.0848 - accuracy: 0.9732\n",
            "Epoch 241/250\n",
            "4/4 [==============================] - 0s 3ms/step - loss: 0.0844 - accuracy: 0.9732\n",
            "Epoch 242/250\n",
            "4/4 [==============================] - 0s 4ms/step - loss: 0.0844 - accuracy: 0.9732\n",
            "Epoch 243/250\n",
            "4/4 [==============================] - 0s 3ms/step - loss: 0.0847 - accuracy: 0.9732\n",
            "Epoch 244/250\n",
            "4/4 [==============================] - 0s 3ms/step - loss: 0.0834 - accuracy: 0.9732\n",
            "Epoch 245/250\n",
            "4/4 [==============================] - 0s 3ms/step - loss: 0.0833 - accuracy: 0.9732\n",
            "Epoch 246/250\n",
            "4/4 [==============================] - 0s 3ms/step - loss: 0.0829 - accuracy: 0.9732\n",
            "Epoch 247/250\n",
            "4/4 [==============================] - 0s 3ms/step - loss: 0.0827 - accuracy: 0.9732\n",
            "Epoch 248/250\n",
            "4/4 [==============================] - 0s 3ms/step - loss: 0.0824 - accuracy: 0.9732\n",
            "Epoch 249/250\n",
            "4/4 [==============================] - 0s 3ms/step - loss: 0.0823 - accuracy: 0.9732\n",
            "Epoch 250/250\n",
            "4/4 [==============================] - 0s 3ms/step - loss: 0.0819 - accuracy: 0.9732\n"
          ],
          "name": "stdout"
        },
        {
          "output_type": "execute_result",
          "data": {
            "text/plain": [
              "<tensorflow.python.keras.callbacks.History at 0x7ff88f89b910>"
            ]
          },
          "metadata": {
            "tags": []
          },
          "execution_count": 29
        }
      ]
    },
    {
      "cell_type": "code",
      "metadata": {
        "id": "dEjOLIQlzrbJ",
        "colab": {
          "base_uri": "https://localhost:8080/"
        },
        "outputId": "3fc71daa-5aed-4e96-bb8d-fbfdc62bf5ea"
      },
      "source": [
        "acc_nn_train = model.evaluate(n_xtrain, n_ytrain)\n",
        "acc_nn_test = model.evaluate(n_xtest, n_ytest)\n",
        "\n",
        "print('Accuracy en el conjunto de entranamiento: %5.2f' %acc_nn_train[1])\n",
        "print('Accuracy en el conjunto de prueba: %5.2f' %acc_nn_test[1])"
      ],
      "execution_count": 32,
      "outputs": [
        {
          "output_type": "stream",
          "text": [
            "4/4 [==============================] - 0s 3ms/step - loss: 0.0815 - accuracy: 0.9732\n",
            "2/2 [==============================] - 0s 4ms/step - loss: 0.1216 - accuracy: 0.9737\n",
            "Accuracy en el conjunto de entranamiento:  0.97\n",
            "Accuracy en el conjunto de prueba:  0.97\n"
          ],
          "name": "stdout"
        }
      ]
    },
    {
      "cell_type": "code",
      "metadata": {
        "id": "ZUO6Rm38zrYU"
      },
      "source": [
        ""
      ],
      "execution_count": null,
      "outputs": []
    },
    {
      "cell_type": "code",
      "metadata": {
        "id": "-kHZBx0RzrSb"
      },
      "source": [
        ""
      ],
      "execution_count": null,
      "outputs": []
    },
    {
      "cell_type": "code",
      "metadata": {
        "id": "fV4XvufwzrM9"
      },
      "source": [
        ""
      ],
      "execution_count": null,
      "outputs": []
    },
    {
      "cell_type": "code",
      "metadata": {
        "id": "eO_vQrBxzrFt"
      },
      "source": [
        ""
      ],
      "execution_count": null,
      "outputs": []
    },
    {
      "cell_type": "code",
      "metadata": {
        "id": "dz0EFgJ6H1TH"
      },
      "source": [
        ""
      ],
      "execution_count": null,
      "outputs": []
    }
  ]
}
