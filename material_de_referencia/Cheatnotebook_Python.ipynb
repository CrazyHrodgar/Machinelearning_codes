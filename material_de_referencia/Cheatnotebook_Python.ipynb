{
  "nbformat": 4,
  "nbformat_minor": 0,
  "metadata": {
    "colab": {
      "name": "Cheatnotebook-Python",
      "provenance": [],
      "collapsed_sections": [
        "7LH3AD-Vk5uE",
        "4RV9LncHpUkO",
        "9NyFQhM4wZxn",
        "PSCwWTlrSl2q"
      ]
    },
    "kernelspec": {
      "name": "python3",
      "display_name": "Python 3"
    }
  },
  "cells": [
    {
      "cell_type": "markdown",
      "metadata": {
        "id": "yr1ioXSTkiN3"
      },
      "source": [
        "# Cheat Notebook\n",
        "\n",
        "Bienvienidos al curso de Python y Tensorflow. En este cuaderno econtrarán de manera resumida todos los comandos y operaciones que vimos durante el programa. "
      ]
    },
    {
      "cell_type": "markdown",
      "metadata": {
        "id": "7LH3AD-Vk5uE"
      },
      "source": [
        "# El entorno de Google Colab\n",
        "\n",
        "Como vimos, el manejo de software lo hicimos con la herramienta Google Colaboratory, que a grandes rasgos es un cuaderno de interactivo en la nube. \n",
        "\n",
        "Para ingresar texto debemos ingresar una celda de texto y dar doble click en ella.\n",
        "\n",
        "En el cuaderno podemos agregar texto, listas, enlaces, ecuaciones e incluso imágenes para dar mayor explicabilidad a nuestro código.\n",
        "\n",
        "Veamos algunos ejemplos\n",
        "\n",
        "**Esto es un texto en negritas**\n",
        "\n",
        "*Esto es un texto en itálicas*\n",
        "\n",
        "1. Primer elemento de una lista\n",
        "2. Segundo elemento de una lista\n",
        "3. Tercer elemento de una lista\n",
        "\n",
        "* Elemento de lista sin orden específico\n",
        "* Elemento de lista sin orden específico"
      ]
    },
    {
      "cell_type": "markdown",
      "metadata": {
        "id": "Z-G73BX2mGZg"
      },
      "source": [
        "También se pueden escribir ecuaciones, solo deben poner el texto entre los simbolos $$. Veamos algunos ejemplos:\n",
        "\n"
      ]
    },
    {
      "cell_type": "markdown",
      "metadata": {
        "id": "1YRIg8ZVoItM"
      },
      "source": [
        "$y=x^2$\n",
        "\n",
        "$F=ma$\n",
        "\n",
        "$K=\\frac{mv^2}{2}$"
      ]
    },
    {
      "cell_type": "markdown",
      "metadata": {
        "id": "LkMAa6ZnoxeM"
      },
      "source": [
        "Sin embargo, las ecuaciones que deseemos ingresar deben de ir en una celda de texto aparte."
      ]
    },
    {
      "cell_type": "markdown",
      "metadata": {
        "id": "UlBt00IkpG5d"
      },
      "source": [
        "Ya que vimos algunas de las ventajas del entorno, ahora sí, vamos a programar en Python."
      ]
    },
    {
      "cell_type": "markdown",
      "metadata": {
        "id": "4RV9LncHpUkO"
      },
      "source": [
        "# Sintaxis básica de Python\n",
        "\n",
        "Python, al igual que muchos lenguajes de programación cuenta con sus propias reglas de escritura.\n",
        "\n"
      ]
    },
    {
      "cell_type": "markdown",
      "metadata": {
        "id": "g137fshdtRVS"
      },
      "source": [
        "Python sigue una indentación jerarquizada. ¿Qué quiere decir esto? Que usa los espacios y las sangrías para determinar el orden de ejecución del código. Por lo tanto, debemos tener mucho cuidad al escribir nuestro código y verificar que las instrucciones estén en el nivel que queremos.\n",
        "\n",
        "Para que esto quede claro veamos algunos ejemplos."
      ]
    },
    {
      "cell_type": "code",
      "metadata": {
        "id": "tkeUFeLKtC1Q"
      },
      "source": [
        "1+1\n",
        "2+2"
      ],
      "execution_count": null,
      "outputs": []
    },
    {
      "cell_type": "markdown",
      "metadata": {
        "id": "csDbK3N3tzrS"
      },
      "source": [
        "La celda anteriror no marca error porque las dos líneas están al mismo nivel"
      ]
    },
    {
      "cell_type": "code",
      "metadata": {
        "id": "-PtQxzh2ux2g"
      },
      "source": [
        "1*10\n",
        "  5*5"
      ],
      "execution_count": null,
      "outputs": []
    },
    {
      "cell_type": "markdown",
      "metadata": {
        "id": "bR9A3qq2uxHY"
      },
      "source": [
        "Caso contrario de la celda anterior, donde nos indica que hay un error de indentación. \n",
        "\n",
        "Esta orden nos servirá cuando trabajemos con funciones, definiciones y operaciones lógicas."
      ]
    },
    {
      "cell_type": "code",
      "metadata": {
        "id": "awA6iqOJvZPB"
      },
      "source": [
        "# Un ejemplo donde usaremos la indentación es en la función if\n",
        "if 10 < 100:\n",
        "  print('Verdadero')"
      ],
      "execution_count": null,
      "outputs": []
    },
    {
      "cell_type": "markdown",
      "metadata": {
        "id": "vhTjdXGLvkns"
      },
      "source": [
        "La indentación indica qué se ejecuta primero y qué se ejecuta después"
      ]
    },
    {
      "cell_type": "markdown",
      "metadata": {
        "id": "poVbgi3Bv2PN"
      },
      "source": [
        "## Variables\n",
        "\n",
        "En Python, como en la mayoría de los lenguajes de programación, se puede asignar un valor arbitrario a una variable.\n",
        "\n",
        "Las variables pueden contener cualquier tipo de dato, objeto o estructura de datos.\n",
        "\n",
        "En Python no es necesario indicar qué tipo de dato almecenará una variable.\n",
        "\n",
        "Existen ciertas restricciones para las variables:\n",
        "* No pueden comenzar con números\n",
        "* No puede haber espacios en el nombre\n",
        "* No puede tener simbolos especiales como: <>,(),@,%, etc.\n",
        "* No se pueden usar palabras clave como nombre, por ejemplo: while, if, else, help, print, etc.\n",
        "\n",
        "Es recomendable que el nombre de las variables tenga relación con la información que está almacenando, de esta forma se puede facilitar el trabajo.\n",
        "\n",
        "Por último, Python usa una filosofía de tecleado dinámico, por lo que los valores de las variables pueden cambiar mientras escribimos nuestro código."
      ]
    },
    {
      "cell_type": "code",
      "metadata": {
        "id": "PcysKvE5w_5b"
      },
      "source": [
        "### Ejemplos de nombres de variables\n",
        "x = 10\n",
        "y = 15\n",
        "variable1 = 100"
      ],
      "execution_count": null,
      "outputs": []
    },
    {
      "cell_type": "code",
      "metadata": {
        "id": "4U1vSyh2xM-b"
      },
      "source": [
        "### La siguiente línea marcará error\n",
        "2x= 100"
      ],
      "execution_count": null,
      "outputs": []
    },
    {
      "cell_type": "code",
      "metadata": {
        "id": "oyO_sTG0xVF7"
      },
      "source": [
        "# Usando una palabra clave\n",
        "while = 100"
      ],
      "execution_count": null,
      "outputs": []
    },
    {
      "cell_type": "code",
      "metadata": {
        "id": "eX4B5aslxgxu"
      },
      "source": [
        "# Ejemplo de tecleado dinámico\n",
        "x = 10\n",
        "y = 15\n",
        "suma = x + y\n",
        "print(suma)"
      ],
      "execution_count": null,
      "outputs": []
    },
    {
      "cell_type": "markdown",
      "metadata": {
        "id": "fLSY0hrUxx8W"
      },
      "source": [
        "La celda anterior nos develve el resultado de la suma de x e y, que es 25.\n",
        "\n",
        "Ahora veremos qué pasa si cambiamos el valor de x después de la primera suma."
      ]
    },
    {
      "cell_type": "code",
      "metadata": {
        "id": "hMyC8lnUxwXh"
      },
      "source": [
        "x = 10\n",
        "y = 15\n",
        "suma = x + y\n",
        "print(suma)\n",
        "\n",
        "x=20\n",
        "suma = x + y\n",
        "print(suma)"
      ],
      "execution_count": null,
      "outputs": []
    },
    {
      "cell_type": "markdown",
      "metadata": {
        "id": "L44xGStMyNWE"
      },
      "source": [
        "El resultado de la suma cambia porque cambiamos el valor de x."
      ]
    },
    {
      "cell_type": "markdown",
      "metadata": {
        "id": "2HJhIbvOsXee"
      },
      "source": [
        "## Comentarios\n",
        "\n",
        "El símbolo **#** nos sirve para comentar lineas de código. Un comentario es una linea escrita que no se ejecutará cuando se corra el programa. Es útil para hacer anotaciones o dar avisos sobre el código."
      ]
    },
    {
      "cell_type": "code",
      "metadata": {
        "id": "8mIgrYCNkfvP"
      },
      "source": [
        "# Este es un comentario"
      ],
      "execution_count": null,
      "outputs": []
    },
    {
      "cell_type": "markdown",
      "metadata": {
        "id": "7Fw10PkEskbF"
      },
      "source": [
        "No se despliega nada como resultado de la celda de código anterior porque solo tiene el comentario"
      ]
    },
    {
      "cell_type": "markdown",
      "metadata": {
        "id": "5mdsyjV3qp4v"
      },
      "source": [
        "## La función print()\n",
        "La función **print()** nos sirve para desplegar cualqueir cosa que se encuentre dentro de los (). Lo que esté dentro puede ser texto e icluso variables.\n",
        "\n",
        "Si queremos desplegar texto debemos usar las **'comillas'** o las  **\"comillas dobles\"**. Más adelante veremos cuál es el uso específico de cada caso."
      ]
    },
    {
      "cell_type": "code",
      "metadata": {
        "id": "sdumFGLnqoF0"
      },
      "source": [
        "### Ejemplos de print()\n",
        "print('Hola mundo')\n",
        "print(100)\n",
        "#Combinamos texto y números, solo debemos separarlos por coma\n",
        "print('Multiplicación',100*2) \n",
        "print(\"Hola Google Colab\")"
      ],
      "execution_count": null,
      "outputs": []
    },
    {
      "cell_type": "markdown",
      "metadata": {
        "id": "FdZ2N6lBr03Y"
      },
      "source": [
        "Como vimos, la función **print()** nos será de bastante utilidad."
      ]
    },
    {
      "cell_type": "markdown",
      "metadata": {
        "id": "n4ahWDCYzVNs"
      },
      "source": [
        "# Tipos de datos\n",
        "\n",
        "En Python disponemos de distintos tipos de datos para nuestro uso. Cada uno de ellos sirve para funciones específcas y se trabajan de acuerdo a sus restricciones. A continuación veremos algunos de ellos."
      ]
    },
    {
      "cell_type": "markdown",
      "metadata": {
        "id": "bnfwGKml0D68"
      },
      "source": [
        "Nombre  |  Tipo  | Ejemplo\n",
        "--------|------------------|-----------|\n",
        "Entero       | int | 3, 1000, -2\n",
        "Flotante      | float | 5.8, 0.001, 10.0\n",
        "Texto/Caracteres | str | \"Hola\", 'Python', '100'\n",
        "Listas | list | [10,2,3],['t1','t2','t3']\n",
        "Diccionarioes | dict | {\"c1\":\"valor\", \"nombre\":\"Juan\"}\n",
        "Tuplas | tup | (10,20,30,40),('X1','X2','X3')\n",
        "Sets | set | {\"Fruta\",\"Comida\",\"Platos\"}\n",
        "Booleano | bool | True, False\n"
      ]
    },
    {
      "cell_type": "markdown",
      "metadata": {
        "id": "EkoiE4A--wPM"
      },
      "source": [
        "En la tabla anterior podemos observar los tipos de datos que existen en Python así como su sintaxis."
      ]
    },
    {
      "cell_type": "markdown",
      "metadata": {
        "id": "ycRAAy8C-j-i"
      },
      "source": [
        "### Números"
      ]
    },
    {
      "cell_type": "markdown",
      "metadata": {
        "id": "CyOpoalN2JIa"
      },
      "source": [
        "Comenzaremos con los números.\n",
        "Los números, como su nombre lo dice, son valores numéricos, puedens ser enteros (int) o con punto decimal (float). Pueden ser positivos o negativos y se puede realizar cualquier operación aritmética con ellos, siempre y cuando sea válida esta operación."
      ]
    },
    {
      "cell_type": "markdown",
      "metadata": {
        "id": "TVTd-tSC28EV"
      },
      "source": [
        "Algunas operaciones que podemos hacer se muestran en la siguiente tabla.\n",
        "\n",
        "Operador | Nombre | Ejemplo\n",
        "---------|--------|--------|\n",
        "+ | Suma | 1+1 \n",
        "- | Resta | 10-5\n",
        "* | Multiplicación | 3*3\n",
        "/ | División | 10/2\n",
        "% | Módulo | 20%5\n",
        "** | Potencia | 10**2\n",
        "// | División entera (floor division) | 15//2"
      ]
    },
    {
      "cell_type": "code",
      "metadata": {
        "id": "xyqLjXI92Iuo",
        "colab": {
          "base_uri": "https://localhost:8080/"
        },
        "outputId": "28954ff8-40b6-4c31-cd31-f5b774ce4166"
      },
      "source": [
        "### Ejemplos de suma\n",
        "print(10+2)\n",
        "print(100+100)\n",
        "print(1.5+3.2)"
      ],
      "execution_count": null,
      "outputs": [
        {
          "output_type": "stream",
          "text": [
            "12\n",
            "200\n",
            "4.7\n"
          ],
          "name": "stdout"
        }
      ]
    },
    {
      "cell_type": "code",
      "metadata": {
        "id": "cFD_CGQo3ePG",
        "colab": {
          "base_uri": "https://localhost:8080/"
        },
        "outputId": "1e4c5cb2-a937-40e7-aa43-760e3ad37656"
      },
      "source": [
        "### Ejemplos de resta\n",
        "print(10-3)\n",
        "print(20-80)\n",
        "print(10.3-4.9)"
      ],
      "execution_count": null,
      "outputs": [
        {
          "output_type": "stream",
          "text": [
            "7\n",
            "-60\n",
            "5.4\n"
          ],
          "name": "stdout"
        }
      ]
    },
    {
      "cell_type": "code",
      "metadata": {
        "id": "YGbd9h75rxRP",
        "colab": {
          "base_uri": "https://localhost:8080/"
        },
        "outputId": "f2c4d143-f2ff-443f-ad82-5a0bf48714eb"
      },
      "source": [
        "### Ejemplo de multiplicación\n",
        "print(10*2)\n",
        "print(1.5*4)\n",
        "print(3.5*2.8)"
      ],
      "execution_count": null,
      "outputs": [
        {
          "output_type": "stream",
          "text": [
            "20\n",
            "6.0\n",
            "9.799999999999999\n"
          ],
          "name": "stdout"
        }
      ]
    },
    {
      "cell_type": "code",
      "metadata": {
        "id": "o9lrqqBa5bo5",
        "colab": {
          "base_uri": "https://localhost:8080/"
        },
        "outputId": "f034aaea-fea0-4a67-e3d0-e4744a07a288"
      },
      "source": [
        "### Ejemplos de división\n",
        "print(100/2)\n",
        "print(2/3)\n",
        "print(8.5/4.2)"
      ],
      "execution_count": null,
      "outputs": [
        {
          "output_type": "stream",
          "text": [
            "50.0\n",
            "0.6666666666666666\n",
            "2.0238095238095237\n"
          ],
          "name": "stdout"
        }
      ]
    },
    {
      "cell_type": "code",
      "metadata": {
        "id": "x3tOVoRk50PY",
        "colab": {
          "base_uri": "https://localhost:8080/"
        },
        "outputId": "6d8d2be6-4d17-4aff-c30b-b744f9e6922f"
      },
      "source": [
        "### Ejemplos de potencias\n",
        "print(10**2)\n",
        "print(1**5)\n",
        "print(1050**0)"
      ],
      "execution_count": null,
      "outputs": [
        {
          "output_type": "stream",
          "text": [
            "100\n",
            "1\n",
            "1\n"
          ],
          "name": "stdout"
        }
      ]
    },
    {
      "cell_type": "code",
      "metadata": {
        "id": "traYzTmk5_5n",
        "colab": {
          "base_uri": "https://localhost:8080/"
        },
        "outputId": "4da77401-9a24-4783-d363-386ee84b9ae8"
      },
      "source": [
        "### Ejemplos de módulo\n",
        "print(20 % 3)\n",
        "print(100 % 6)\n",
        "print(18 % 4)"
      ],
      "execution_count": null,
      "outputs": [
        {
          "output_type": "stream",
          "text": [
            "2\n",
            "4\n",
            "2\n"
          ],
          "name": "stdout"
        }
      ]
    },
    {
      "cell_type": "code",
      "metadata": {
        "id": "n6lGC0296M5J",
        "colab": {
          "base_uri": "https://localhost:8080/"
        },
        "outputId": "b72bf1e4-70d3-4fa7-c4df-d611534d8cbc"
      },
      "source": [
        "### Ejemplos de la división entera\n",
        "print(20 // 3)\n",
        "print(100 // 6)\n",
        "print(18 // 4)"
      ],
      "execution_count": null,
      "outputs": [
        {
          "output_type": "stream",
          "text": [
            "6\n",
            "16\n",
            "4\n"
          ],
          "name": "stdout"
        }
      ]
    },
    {
      "cell_type": "markdown",
      "metadata": {
        "id": "_7L-7w8k8jHD"
      },
      "source": [
        "Al igual que en las matemáticas, en Python existe una jerarquía de operaciones. Esta jerarquía indicará qué operaciones se realizan antes que otras.\n",
        "\n",
        "La jerarquía es la siguiente:\n",
        "1. Exponentes/Potencias\n",
        "2. Negación\n",
        "3. Multiplicación, división, división entera, módulo\n",
        "4. Suma y resta"
      ]
    },
    {
      "cell_type": "markdown",
      "metadata": {
        "id": "qgegJdrx-2AI"
      },
      "source": [
        "### Strings\n",
        "\n",
        "Las strings (str) son cadenas de caracteres (ya sean números, letras, simbolos) que se procesan como si fueran texto. Una string será considerada como tal sólo si se encuentra dentro de las comillas simples '' o comillas dobles \"\".\n",
        "\n",
        "Para visualizar una string se puede usar la función print() o, también se puede asignar a una variable."
      ]
    },
    {
      "cell_type": "code",
      "metadata": {
        "id": "T6hYvtPn7FOE"
      },
      "source": [
        "print('Esto es una string')\n",
        "string = 'Esto también es una string'\n",
        "string"
      ],
      "execution_count": null,
      "outputs": []
    },
    {
      "cell_type": "markdown",
      "metadata": {
        "id": "lFzbL04BBpfK"
      },
      "source": [
        "Si por alguna razón deben poner una string que tenga más de dos líneas de longitud, ésta se debe poner entre tres comillas dobles \"\"\"Aquí va la string\"\"\""
      ]
    },
    {
      "cell_type": "code",
      "metadata": {
        "id": "OgOVl8BZBn7t"
      },
      "source": [
        "msg = \"\"\" El veloz murcielago hindu \n",
        "comia cardillo y kiwi\"\"\"\n",
        "\n",
        "msg"
      ],
      "execution_count": null,
      "outputs": []
    },
    {
      "cell_type": "markdown",
      "metadata": {
        "id": "iV3Nk7cnCUzU"
      },
      "source": [
        "A pesar de que no son números, se pueden hacer ciertas operaciones aritméticas con las strings."
      ]
    },
    {
      "cell_type": "code",
      "metadata": {
        "id": "b5VkoXaiCJLR"
      },
      "source": [
        "a = 'hola'\n",
        "print(a+a)"
      ],
      "execution_count": null,
      "outputs": []
    },
    {
      "cell_type": "code",
      "metadata": {
        "id": "3CijMtzOLQ2_"
      },
      "source": [
        "a*3"
      ],
      "execution_count": null,
      "outputs": []
    },
    {
      "cell_type": "code",
      "metadata": {
        "id": "TopbfqDfLScQ"
      },
      "source": [
        "b='adios'\n",
        "print(a-b)"
      ],
      "execution_count": null,
      "outputs": []
    },
    {
      "cell_type": "markdown",
      "metadata": {
        "id": "kaVrEKfYefMb"
      },
      "source": [
        "Como podrán observar, solo estamos limitados a ciertas operaciones aritméticas."
      ]
    },
    {
      "cell_type": "markdown",
      "metadata": {
        "id": "szodHzenO24Z"
      },
      "source": [
        "#### Dando formato a las strings\n",
        "\n",
        "Podemos hacer que las strings se vean más presentables al momento de desplegar resultados.\n",
        "\n",
        "Este formato se da con los *placeholders*. Un *placeholder* indica a Python que en esa posición de la string estará un objeto externo. Para declararlo se usa el simbolo del operador modulo (%).\n",
        "\n",
        "A continuación se muestran los tipos de operadores más comunes:\n",
        "\n",
        "| Operador | Tipo de dato |\n",
        "|---------|--------------|\n",
        "|%d | Números enteros|\n",
        "|%f | Números flotantes|\n",
        "|%s | Strings |\n",
        "|%e | Números en notación exponencial |\n",
        "\n",
        "Dicho esto, veamos algunos ejemplos"
      ]
    },
    {
      "cell_type": "code",
      "metadata": {
        "id": "acgycTYmPwzk"
      },
      "source": [
        "# Declaramos unas variables\n",
        "x = 20\n",
        "y = 1.5\n",
        "z = 'Prueba'"
      ],
      "execution_count": null,
      "outputs": []
    },
    {
      "cell_type": "code",
      "metadata": {
        "colab": {
          "base_uri": "https://localhost:8080/"
        },
        "id": "yZGyM7nePxbm",
        "outputId": "3d1a85f6-ce7f-4d98-a245-d9991a22379a"
      },
      "source": [
        "# Ahora vamos a desplegar los mensajes\n",
        "\n",
        "print('Placeholder %d con enteros'%x)\n",
        "print('Placeholder %f con flotantes'%y)\n",
        "print('Placeholder %s con strings'%z)"
      ],
      "execution_count": null,
      "outputs": [
        {
          "output_type": "stream",
          "text": [
            "Placeholder 20 con enteros\n",
            "Placeholder 1.500000 con flotantes\n",
            "Placeholder Prueba con strings\n"
          ],
          "name": "stdout"
        }
      ]
    },
    {
      "cell_type": "markdown",
      "metadata": {
        "id": "LjlduEbSSNB1"
      },
      "source": [
        "Pues se desplegaron los resultados, aunque se pueden mejorar. Sobretodo en los números flotantes."
      ]
    },
    {
      "cell_type": "code",
      "metadata": {
        "colab": {
          "base_uri": "https://localhost:8080/"
        },
        "id": "vJrPbr78PxWN",
        "outputId": "21c36676-6534-4f43-9cc3-4551b6a0a0d2"
      },
      "source": [
        "# Vamos a declarar el valor de Pi\n",
        "pi = 3.141516\n",
        "print('El valor de Pi es: %1.1f'%pi)\n",
        "print('El valor de Pi es: %3.2f'%pi)\n",
        "print('El valor de Pi es: %5.4f'%pi)"
      ],
      "execution_count": null,
      "outputs": [
        {
          "output_type": "stream",
          "text": [
            "El valor de Pi es: 3.1\n",
            "El valor de Pi es: 3.14\n",
            "El valor de Pi es: 3.1415\n"
          ],
          "name": "stdout"
        }
      ]
    },
    {
      "cell_type": "markdown",
      "metadata": {
        "id": "ey2pro1xTQyI"
      },
      "source": [
        "En este caso, los flotantes usan un formato especial %**a.bf**. En este formato, **a** será el número mínimo de digitos presentes en la string; mientras que **.bf** representa cuántos dígitos serán desplegados después del punto decimal.\n",
        "\n",
        "De manera práctica el primer número no tiene tanto impacto sobre el formato, lo importante será el número después del punto decimal."
      ]
    },
    {
      "cell_type": "code",
      "metadata": {
        "colab": {
          "base_uri": "https://localhost:8080/"
        },
        "id": "rZK0l5UPT4p4",
        "outputId": "f809cf55-4206-4eb4-f274-fcbe0fcd9c0a"
      },
      "source": [
        "# Declaramos un número decimal grande\n",
        "num = 140232.198726542\n",
        "\n",
        "print('Número con decimales: %1.1f' %num)\n",
        "print('Número con decimales: %3.2f' %num)\n",
        "print('Número con decimales: %5.4f' %num)\n",
        "print('Número con decimales: %1.9f' %num)"
      ],
      "execution_count": null,
      "outputs": [
        {
          "output_type": "stream",
          "text": [
            "Número con decimales: 140232.2\n",
            "Número con decimales: 140232.20\n",
            "Número con decimales: 140232.1987\n",
            "Número con decimales: 140232.198726542\n"
          ],
          "name": "stdout"
        }
      ]
    },
    {
      "cell_type": "markdown",
      "metadata": {
        "id": "9V__dTPoemX1"
      },
      "source": [
        "#### Manipulación de strings\n",
        "\n",
        "En ciertas ocasiones nos puede ser útil obtener un valor en específico del string o una serie de caracteres. Para este caso se usa una técnica llamada **indexing** y otra llamada **slicing**. Esta operación es posible porque las strigs al ser una *cadena* de datos, tienen un índice (posición en la cadena) que se puede referenciar.\n",
        "\n",
        "Con el **indexing** podemos tomar un solo caracter específico, mientras que con **slicing** podemos tomar un secuencia de caracteres. \n",
        "\n",
        "Algunas consideraciones para realizar **indexing** y **slicing** son:\n",
        "* La cuenta inicia desde 0 y no desde 1.\n",
        "* Los espacios cuentan.\n",
        "* Se pueden hacer de sentido positivo o negativo."
      ]
    },
    {
      "cell_type": "code",
      "metadata": {
        "id": "YhDU3kMaLXXE"
      },
      "source": [
        "### Declaramos una string\n",
        "msg = 'Hola mundo desde Python'\n",
        "\n",
        "# Si queremos obtener solamente un caracter indicamos el valor del índice\n",
        "print(msg[0])\n",
        "\n",
        "# Si queremos obtener una palabra escribimos el rango donde se encuentran los índices\n",
        "# Obtener la palabra Hola\n",
        "print(msg[0:4])\n",
        "# Obtener la palabra mundo\n",
        "print(msg[5:10])\n",
        "\n",
        "# Si queremos obtener el último caracter\n",
        "print(msg[-1])\n",
        "\n",
        "# Obtener la palabra Python usando el sentido inverso\n",
        "print(msg[-6:])"
      ],
      "execution_count": null,
      "outputs": []
    },
    {
      "cell_type": "markdown",
      "metadata": {
        "id": "_31L8Uyjkat7"
      },
      "source": [
        "### Arrays\n",
        "\n",
        "Estos tipos de datos corresponden a su propio subconjunto de datos.\n",
        "\n",
        "Son llamados **arrays** o arreglos porque pueden tener uno o más datos y están organizados."
      ]
    },
    {
      "cell_type": "markdown",
      "metadata": {
        "id": "2OJjhjfhk_w5"
      },
      "source": [
        "#### Listas\n",
        "\n",
        "Las listas son una colección de datos que están ordenadas aunque, se puede cambiar el orden se sus elementos.\n",
        "\n",
        "Las listas pueden tener todos los tipos de datos, incluyendo listas.\n",
        "\n",
        "Para declarar una lista se usan los **corchetes []** y cada elemento debe estar separado por una **coma ,**\n",
        "\n",
        "Se pueden realizar ciertas operaciones aritméticas con ellas, como la suma y la multiplicación.\n",
        "\n",
        "Se puede iterar sobre sus elementos."
      ]
    },
    {
      "cell_type": "code",
      "metadata": {
        "id": "7oa52ZsljPNM"
      },
      "source": [
        "### Ejemplos de listas\n",
        "\n",
        "lst = [1,2,3,4,5] # Una lista que contiene números\n",
        "print(lst)\n",
        "\n",
        "lst2 = ['a', 'b', 'c', 'd', 'e'] # Una lista con strings\n",
        "print(lst2)\n",
        "\n",
        "lst3 = [1,'a', 2, 'b', 3, 'c'] # Lista combinada\n",
        "print(lst3)"
      ],
      "execution_count": null,
      "outputs": []
    },
    {
      "cell_type": "code",
      "metadata": {
        "id": "99pB2X_rmPaq"
      },
      "source": [
        "# Operaciones con strings\n",
        "\n",
        "l1 = [0,1,2,3,4]\n",
        "l2 = [5,6,7,8,9]\n",
        "\n",
        "print(l1 + l2) # Suma de strings\n",
        "print(l1*2)"
      ],
      "execution_count": null,
      "outputs": []
    },
    {
      "cell_type": "markdown",
      "metadata": {
        "id": "7f28tgxNm43s"
      },
      "source": [
        "Como vemos, estamos limitados en cuanto a operaciones.\n",
        "\n",
        "También hay que considerar que la 'suma' es la *cocatenación* de los elementos, es decir, se agrupan los elementos más no se hace la suma de cada uno de los elementos."
      ]
    },
    {
      "cell_type": "markdown",
      "metadata": {
        "id": "8ZqLKvY6nVfy"
      },
      "source": [
        "También podemos aplicar la indexación y slicing a las listas"
      ]
    },
    {
      "cell_type": "code",
      "metadata": {
        "id": "MemWEzUqmrv4"
      },
      "source": [
        "### Indexing y slicing con listas\n",
        "\n",
        "# Usaremos la lista l1\n",
        "print(l1[0])\n",
        "print([-1])\n",
        "print(l1[0:3])"
      ],
      "execution_count": null,
      "outputs": []
    },
    {
      "cell_type": "markdown",
      "metadata": {
        "id": "lAyhdZKpoRRK"
      },
      "source": [
        "**Manipulando listas**\n",
        "\n",
        "Los elementos de las listas pueden modificarse, quitarse e incluso, se pueden agregar nuevos elementos.\n",
        "\n",
        "Estas opearciones se ejecutan mediante **métodos** especiales de Python.\n",
        "\n",
        "La sintaxis es *variable.metodo()*\n",
        "\n",
        "Método | Descripcion\n",
        "-------|------------\n",
        "append()|Agrega un elemento al final de la lista\n",
        "clear() | Quita todos los elementos de una lista\n",
        "copy() | Regresa una copia de una lista\n",
        "remove() | Quita el primer elemento de un valor específico\n",
        "pop() | Quita el elemento en el índice especificado"
      ]
    },
    {
      "cell_type": "code",
      "metadata": {
        "id": "PazSiptOoJmZ"
      },
      "source": [
        "### Creamos una nueva lista\n",
        "new_list = [10,20,30,40,50,60]\n",
        "print(new_list)\n",
        "\n",
        "# Agregamos un elemento nuevo\n",
        "new_list.append(70)\n",
        "print(new_list)\n",
        "\n",
        "# Quitamos el elemento que recien agregamos\n",
        "new_list.remove(70)\n",
        "print(new_list)\n",
        "\n",
        "# Quitamos el valor de 30\n",
        "new_list.pop(2)\n",
        "print(new_list)"
      ],
      "execution_count": null,
      "outputs": []
    },
    {
      "cell_type": "markdown",
      "metadata": {
        "id": "jXB2ft58qisz"
      },
      "source": [
        "Para modificar un valor usamos como referencia el índice donde se encuentra ese valor. Por ejemplo:"
      ]
    },
    {
      "cell_type": "code",
      "metadata": {
        "id": "FtdjTlUZqieB"
      },
      "source": [
        "# Cambiamos el valor de 50 por 100\n",
        "new_list[3] = 100\n",
        "print(new_list)"
      ],
      "execution_count": null,
      "outputs": []
    },
    {
      "cell_type": "markdown",
      "metadata": {
        "id": "hr7W2R8-r2Lb"
      },
      "source": [
        "#### Tuplas\n",
        "\n",
        "Una tupla es una colección de datos que están ordenados y sus valores **no son intercambiables**.\n",
        "\n",
        "Las tuplas son declradas con **paréntesis ()**\n",
        "\n",
        "Algunas de las operaciones con tuplas:\n",
        "* Se puede acceder a sus elementos como en las listas.\n",
        "* Se puede iterar sobre sus elementos\n",
        "* Se puede preguntar si existe un elemento."
      ]
    },
    {
      "cell_type": "code",
      "metadata": {
        "id": "ggOxMk0yqAs-"
      },
      "source": [
        "### Declaramos una tupla\n",
        "pets = ('perro', 'gato', 'hamster', 'tortuga')\n",
        "print(pets)\n",
        "\n",
        "frutas = ('manzana','kiwi','naranja','limon')\n",
        "print(frutas)"
      ],
      "execution_count": null,
      "outputs": []
    },
    {
      "cell_type": "code",
      "metadata": {
        "id": "UiADPYj7s-yO"
      },
      "source": [
        "### Usando indexación y slicing\n",
        "print(pets[1])\n",
        "print(frutas[3])\n",
        "\n",
        "### Iterando sobre los elementos\n",
        "print(pets[0:3])\n",
        "print(frutas[0:3])\n",
        "\n",
        "### Preguntar si existe un elemento\n",
        "print('perro' in pets)\n",
        "print('perro' in frutas)"
      ],
      "execution_count": null,
      "outputs": []
    },
    {
      "cell_type": "markdown",
      "metadata": {
        "id": "VehmDf4nupua"
      },
      "source": [
        "#### Diccionarios\n",
        "\n",
        "Un diccionario, como su contraparte real, es una colección de datos que no tiene un orden específico pero si un **identificador**.\n",
        "\n",
        "Sus elementos pueden cambiar y ser indexados.\n",
        "\n",
        "Se declaran mediante las **llaves {}**\n",
        "Para declarar un elemento se debe escribrir el **identificador o key**, seguido de **dos puntos :** y los elementos correspondientes a esa key. Si hay mas de una key, estas van separadas por comas\n",
        "\n",
        "Sintaxis\n",
        "\"key1\":\"valor1\",\n",
        "\"key2\":\"valor2\",\n",
        "\"key3\":\"valor3\"\n",
        "\n",
        "Para cada elemento debe existir un identificador que hace referencia a un valor o valores.\n",
        "\n",
        "Se pueden manipular al igual que las listas."
      ]
    },
    {
      "cell_type": "code",
      "metadata": {
        "id": "nI2ujN5ds-uk",
        "colab": {
          "base_uri": "https://localhost:8080/"
        },
        "outputId": "8b803373-4627-4d7c-e879-972e2b974b0a"
      },
      "source": [
        "# Declaramos un diccionario\n",
        "orquesta = {\n",
        "    \"vientos\": \"flauta\",\n",
        "    \"metales\": \"trompeta\",\n",
        "    \"cuerdas\": \"violin\",\n",
        "    \"percusiones\": \"tambor\"\n",
        "}\n",
        "\n",
        "print(orquesta)"
      ],
      "execution_count": null,
      "outputs": [
        {
          "output_type": "stream",
          "text": [
            "{'vientos': 'flauta', 'metales': 'trompeta', 'cuerdas': 'violin', 'percusiones': 'tambor'}\n"
          ],
          "name": "stdout"
        }
      ]
    },
    {
      "cell_type": "code",
      "metadata": {
        "id": "BDpyWfQos-rw",
        "colab": {
          "base_uri": "https://localhost:8080/"
        },
        "outputId": "4df21db5-a032-4ccb-b018-c9872bd77968"
      },
      "source": [
        "# Diccionario con valores repetidos\n",
        "planetas = {\n",
        "    \"rocosos\": \"mercurio, venus, tierra, marte\",\n",
        "    \"gaseosos\": \"neptuno, jupiter, urano, saturno\",\n",
        "    \"anillados\":\"saturno, urano, neptuno, jupiter\"\n",
        "}\n",
        "\n",
        "print(planetas)"
      ],
      "execution_count": null,
      "outputs": [
        {
          "output_type": "stream",
          "text": [
            "{'rocosos': 'mercurio, venus, tierra, marte', 'gaseosos': 'neptuno, jupiter, urano, saturno', 'anillados': 'saturno, urano, neptuno, jupiter'}\n"
          ],
          "name": "stdout"
        }
      ]
    },
    {
      "cell_type": "markdown",
      "metadata": {
        "id": "TeWqG73aGqEG"
      },
      "source": [
        "Para acceder a los elementos de un diccionario podemos hacerlo de dos formas: con la indexación y con el método *get()*."
      ]
    },
    {
      "cell_type": "code",
      "metadata": {
        "id": "gAW_S7yCysjM",
        "colab": {
          "base_uri": "https://localhost:8080/"
        },
        "outputId": "d4498556-b80a-45a0-bf0b-f51b1b67dc2a"
      },
      "source": [
        "### Referenciaremos los valores de cada diccionario\n",
        "print(orquesta[\"metales\"])\n",
        "print(planetas[\"rocosos\"])"
      ],
      "execution_count": null,
      "outputs": [
        {
          "output_type": "stream",
          "text": [
            "trompeta\n",
            "mercurio, venus, tierra, marte\n"
          ],
          "name": "stdout"
        }
      ]
    },
    {
      "cell_type": "code",
      "metadata": {
        "colab": {
          "base_uri": "https://localhost:8080/"
        },
        "id": "FkUESxhaG_Xa",
        "outputId": "a5fb0ad3-e7e8-499a-d025-5499d1eb44fa"
      },
      "source": [
        "### Con el método get()\n",
        "print(orquesta.get('metales'))\n",
        "print(orquesta.get('vientos'))\n",
        "print(planetas.get('rocosos'))\n",
        "print(planetas.get('anillados'))"
      ],
      "execution_count": null,
      "outputs": [
        {
          "output_type": "stream",
          "text": [
            "trompeta\n",
            "flauta\n",
            "mercurio, venus, tierra, marte\n",
            "saturno, urano, neptuno, jupiter\n"
          ],
          "name": "stdout"
        }
      ]
    },
    {
      "cell_type": "markdown",
      "metadata": {
        "id": "c6o6OgFCHa0V"
      },
      "source": [
        "Si quisieran referenciar una llave que no existe, obviamente marcará un error."
      ]
    },
    {
      "cell_type": "code",
      "metadata": {
        "colab": {
          "base_uri": "https://localhost:8080/",
          "height": 163
        },
        "id": "BiSJq5AcHig-",
        "outputId": "d4a8237f-3ee4-4a8c-ff73-c78e68960b23"
      },
      "source": [
        "print(planetas['solidos'])"
      ],
      "execution_count": null,
      "outputs": [
        {
          "output_type": "error",
          "ename": "KeyError",
          "evalue": "ignored",
          "traceback": [
            "\u001b[0;31m---------------------------------------------------------------------------\u001b[0m",
            "\u001b[0;31mKeyError\u001b[0m                                  Traceback (most recent call last)",
            "\u001b[0;32m<ipython-input-14-6d128e7fc276>\u001b[0m in \u001b[0;36m<module>\u001b[0;34m()\u001b[0m\n\u001b[0;32m----> 1\u001b[0;31m \u001b[0mprint\u001b[0m\u001b[0;34m(\u001b[0m\u001b[0mplanetas\u001b[0m\u001b[0;34m[\u001b[0m\u001b[0;34m'solidos'\u001b[0m\u001b[0;34m]\u001b[0m\u001b[0;34m)\u001b[0m\u001b[0;34m\u001b[0m\u001b[0;34m\u001b[0m\u001b[0m\n\u001b[0m",
            "\u001b[0;31mKeyError\u001b[0m: 'solidos'"
          ]
        }
      ]
    },
    {
      "cell_type": "code",
      "metadata": {
        "id": "JVnzTEwjz6hU",
        "colab": {
          "base_uri": "https://localhost:8080/"
        },
        "outputId": "a1f8b8c9-cd4e-4ad4-d866-64a528d948f9"
      },
      "source": [
        "### También se pueden crear diccionarios que contengan otros diccionarios\n",
        "\n",
        "info1 = {\n",
        "    \"artista\":\"acdc\", \"genero\":\"rock\"\n",
        "}\n",
        "\n",
        "info2 = {\n",
        "    \"artista\":\"abba\", \"genero\":\"pop\"\n",
        "}\n",
        "\n",
        "info3 = {\n",
        "    \"artista\":\"daft punk\", \"genero\":\"electronica\"\n",
        "}\n",
        "\n",
        "musica = {\n",
        "    \"artista 1\": info1,\n",
        "    \"artista 2\": info2,\n",
        "    \"artista 3\": info3\n",
        "}\n",
        "\n",
        "print(musica)"
      ],
      "execution_count": null,
      "outputs": [
        {
          "output_type": "stream",
          "text": [
            "{'artista 1': {'artista': 'acdc', 'genero': 'rock'}, 'artista 2': {'artista': 'abba', 'genero': 'pop'}, 'artista 3': {'artista': 'daft punk', 'genero': 'electronica'}}\n"
          ],
          "name": "stdout"
        }
      ]
    },
    {
      "cell_type": "markdown",
      "metadata": {
        "id": "z1YbtU6YrPL2"
      },
      "source": [
        "Esta no es la única forma de declarar un diccionario.\n",
        "\n",
        "También podemos usar listas para crear los datos de los diccionarios."
      ]
    },
    {
      "cell_type": "code",
      "metadata": {
        "id": "sFyFPVdxrY4I"
      },
      "source": [
        "llaves = ['Diez', 'Veinte', 'Treinta']\n",
        "valores = [10, 20, 30]"
      ],
      "execution_count": null,
      "outputs": []
    },
    {
      "cell_type": "markdown",
      "metadata": {
        "id": "NG19zNc_4_Sx"
      },
      "source": [
        "Usando las listas *llaves* y *valores* podemos crear un diccionario nuevo."
      ]
    },
    {
      "cell_type": "code",
      "metadata": {
        "colab": {
          "base_uri": "https://localhost:8080/"
        },
        "id": "NfuybX5srY1Z",
        "outputId": "b724578e-15e5-4f18-c74e-8f5af3db4c0d"
      },
      "source": [
        "d1 = {'Texto':llaves,\n",
        "      'Unidades':valores}\n",
        "\n",
        "d1"
      ],
      "execution_count": null,
      "outputs": [
        {
          "output_type": "execute_result",
          "data": {
            "text/plain": [
              "{'Texto': ['Diez', 'Veinte', 'Treinta'], 'Unidades': [10, 20, 30]}"
            ]
          },
          "metadata": {
            "tags": []
          },
          "execution_count": 6
        }
      ]
    },
    {
      "cell_type": "markdown",
      "metadata": {
        "id": "LP6szdf3BBrE"
      },
      "source": [
        "Actualizando o modificando valores de un diccionario"
      ]
    },
    {
      "cell_type": "markdown",
      "metadata": {
        "id": "bLhGNMkxBS5j"
      },
      "source": [
        "Podemos actualizar un diccionario añadiendo una nueva llave o un valor a una preexistente"
      ]
    },
    {
      "cell_type": "code",
      "metadata": {
        "colab": {
          "base_uri": "https://localhost:8080/"
        },
        "id": "riA5PG7irYx7",
        "outputId": "ea3930c2-4bfe-4230-d480-69bb2b2b1df0"
      },
      "source": [
        "dictionary = {\n",
        "    'Clase':'Ciencias',\n",
        "    'Nombre':'Sara',\n",
        "    'Edad': 19\n",
        "}\n",
        "dictionary"
      ],
      "execution_count": null,
      "outputs": [
        {
          "output_type": "execute_result",
          "data": {
            "text/plain": [
              "{'Clase': 'Ciencias', 'Edad': 19, 'Nombre': 'Sara'}"
            ]
          },
          "metadata": {
            "tags": []
          },
          "execution_count": 7
        }
      ]
    },
    {
      "cell_type": "markdown",
      "metadata": {
        "id": "8A0ZMJaBBuyA"
      },
      "source": [
        "Supongamos que queremos cambiar la edad del estudiante"
      ]
    },
    {
      "cell_type": "code",
      "metadata": {
        "colab": {
          "base_uri": "https://localhost:8080/"
        },
        "id": "KdtHzfXjrYq3",
        "outputId": "f6324300-1510-41d3-bb94-936fa10af777"
      },
      "source": [
        "dictionary['Edad'] = 21\n",
        "dictionary"
      ],
      "execution_count": null,
      "outputs": [
        {
          "output_type": "execute_result",
          "data": {
            "text/plain": [
              "{'Clase': 'Ciencias', 'Edad': 21, 'Nombre': 'Sara'}"
            ]
          },
          "metadata": {
            "tags": []
          },
          "execution_count": 8
        }
      ]
    },
    {
      "cell_type": "markdown",
      "metadata": {
        "id": "15Du8bzpB4AT"
      },
      "source": [
        "Ahora queremos ingresar una escuela"
      ]
    },
    {
      "cell_type": "code",
      "metadata": {
        "colab": {
          "base_uri": "https://localhost:8080/"
        },
        "id": "Fui3QoJNB3uV",
        "outputId": "50f74e66-78b8-4cc2-a2a0-7fbae9703574"
      },
      "source": [
        "dictionary['Escuela'] = 'IPN'\n",
        "dictionary"
      ],
      "execution_count": null,
      "outputs": [
        {
          "output_type": "execute_result",
          "data": {
            "text/plain": [
              "{'Clase': 'Ciencias', 'Edad': 21, 'Escuela': 'IPN', 'Nombre': 'Sara'}"
            ]
          },
          "metadata": {
            "tags": []
          },
          "execution_count": 9
        }
      ]
    },
    {
      "cell_type": "markdown",
      "metadata": {
        "id": "JaGYloB5FQcv"
      },
      "source": [
        "Si el nombre de la llave que ingresemos se encuentra dentro del diccionario, su valor se actualizará. Si no existe la llave, esta se creará automáticamente."
      ]
    },
    {
      "cell_type": "markdown",
      "metadata": {
        "id": "bZmXHqhADVhQ"
      },
      "source": [
        "Si quisieramos borrar un elemento existente"
      ]
    },
    {
      "cell_type": "code",
      "metadata": {
        "id": "xCFeJss7rYL1"
      },
      "source": [
        "del dictionary['Escuela']\n",
        "# dictionary.clear() # Borra todos los datos de un diccionario\n",
        "# del dictionary # Borra el diccionario"
      ],
      "execution_count": null,
      "outputs": []
    },
    {
      "cell_type": "markdown",
      "metadata": {
        "id": "mbYMjzklDsdZ"
      },
      "source": [
        "Algunas consideraciones para los diccionarios:\n",
        "* No se pueden duplicar los nombres de las *keys*.\n",
        "* Se puede usar cualquier objeto de Python para las llaves, ya sean strings, números o tuplas pero **no se pueden usar las listas**. Escribir ['llave´] es invalido. Es decir, debemos usar objetos que sean inmutables.\n",
        "* Procurar que el nombre de la llave tenga relación con lo que va a contener."
      ]
    },
    {
      "cell_type": "code",
      "metadata": {
        "colab": {
          "base_uri": "https://localhost:8080/",
          "height": 231
        },
        "id": "7ojO0XmIEgJQ",
        "outputId": "676997a7-a1c1-4b8f-d206-429e8b58e2ab"
      },
      "source": [
        "dic1 = {\n",
        "    ['Nombre']:'Angel',\n",
        "    'Edad': 27\n",
        "}\n",
        "dic1"
      ],
      "execution_count": null,
      "outputs": [
        {
          "output_type": "error",
          "ename": "TypeError",
          "evalue": "ignored",
          "traceback": [
            "\u001b[0;31m---------------------------------------------------------------------------\u001b[0m",
            "\u001b[0;31mTypeError\u001b[0m                                 Traceback (most recent call last)",
            "\u001b[0;32m<ipython-input-10-654747009c58>\u001b[0m in \u001b[0;36m<module>\u001b[0;34m()\u001b[0m\n\u001b[1;32m      1\u001b[0m dic1 = {\n\u001b[1;32m      2\u001b[0m     \u001b[0;34m[\u001b[0m\u001b[0;34m'Nombre'\u001b[0m\u001b[0;34m]\u001b[0m\u001b[0;34m:\u001b[0m\u001b[0;34m'Angel'\u001b[0m\u001b[0;34m,\u001b[0m\u001b[0;34m\u001b[0m\u001b[0;34m\u001b[0m\u001b[0m\n\u001b[0;32m----> 3\u001b[0;31m     \u001b[0;34m'Edad'\u001b[0m\u001b[0;34m:\u001b[0m \u001b[0;36m27\u001b[0m\u001b[0;34m\u001b[0m\u001b[0;34m\u001b[0m\u001b[0m\n\u001b[0m\u001b[1;32m      4\u001b[0m }\n\u001b[1;32m      5\u001b[0m \u001b[0mdic1\u001b[0m\u001b[0;34m\u001b[0m\u001b[0;34m\u001b[0m\u001b[0m\n",
            "\u001b[0;31mTypeError\u001b[0m: unhashable type: 'list'"
          ]
        }
      ]
    },
    {
      "cell_type": "markdown",
      "metadata": {
        "id": "9NyFQhM4wZxn"
      },
      "source": [
        "# Operadores booleanos y de comparación\n",
        "\n",
        "Este tipo de datos son más especializados, porque nos servirán para realizar comparaciones lógicas, elaborar tablas de verdad, controlar el flujo de nuestro programa, entre muchas cosas más.\n",
        "\n",
        "A partir de aquí es donde el hamster dentro de nuestra cabeza comenzará a correr como bólido."
      ]
    },
    {
      "cell_type": "markdown",
      "metadata": {
        "id": "6jzd2_kZyf9n"
      },
      "source": [
        "## Operadores de comparación\n",
        "\n",
        "Estos operadores son los que hemos visto toda la vida. Nos sirven para comparar valores, igualdades, diferencias, entre otras.\n",
        "\n",
        "En la siguiente tabla se muestra un breve resumen de los que podemos usar en Python.\n",
        "\n",
        "Recuerden que el tipo de dato que regresarán estas operaciones siempre será **booleano**, es decir, **True** o **False**"
      ]
    },
    {
      "cell_type": "markdown",
      "metadata": {
        "id": "OeSLit1Xz0I_"
      },
      "source": [
        "Operador | Nombre | Ejemplo\n",
        "---------|--------|--------\n",
        "== | Es igual a | x==y\n",
        "!= | Es distinto a | x!=y\n",
        "> | Mayor que | x>y\n",
        "< | Menor que | x<y\n",
        ">= | Mayor o igual que | x>=y\n",
        "<= | Menor o igual que | x>=y"
      ]
    },
    {
      "cell_type": "code",
      "metadata": {
        "id": "un4nwclS1BhM"
      },
      "source": [
        "### Vamos algunos ejemplos\n",
        "# Definimos dos variables númericas x & y\n",
        "x = 100\n",
        "y = 50\n",
        "\n",
        "# Realizamos las comparaciones\n",
        "print(x==y)\n",
        "print(x!=y)\n",
        "print(x>y)\n",
        "print(x<y)\n",
        "print(x>=y)\n",
        "print(x<=y)"
      ],
      "execution_count": null,
      "outputs": []
    },
    {
      "cell_type": "code",
      "metadata": {
        "id": "x9DL_paF04qd"
      },
      "source": [
        "# Ejemplo con strings\n",
        "s1 = 'perro'\n",
        "s2 = 'gato'\n",
        "s3 = 'perro'\n",
        "s4 = 'gato'\n",
        "\n",
        "# Realizamos las comparaciones\n",
        "print(s1==s3)\n",
        "print(s1==s2)\n",
        "print(s1>s2)\n",
        "print(s1<s2)\n",
        "print(s2==s4)"
      ],
      "execution_count": null,
      "outputs": []
    },
    {
      "cell_type": "markdown",
      "metadata": {
        "id": "R2EOTZoq2NIs"
      },
      "source": [
        "En teoría se puede comparar cualquier tipo de dato en Python. En el caso de los arrays, estos se comparan elemento por elemento."
      ]
    },
    {
      "cell_type": "code",
      "metadata": {
        "id": "cHGP1IDw1WTU"
      },
      "source": [
        "menu1 = ['sandwich','hamburguesa','tacos','cafe']\n",
        "menu2 = ['sandwich','hamburguesa','tacos','te']\n",
        "menu_copia = menu1\n",
        "\n",
        "\n",
        "print(menu1==menu_copia)\n",
        "print(menu1==menu2)"
      ],
      "execution_count": null,
      "outputs": []
    },
    {
      "cell_type": "markdown",
      "metadata": {
        "id": "qLb6f7Nd22ag"
      },
      "source": [
        "Ya que la variable 'menu1' y 'menu_copia' tienen los mismos elementos, el resultado es **True**. Mientras que las variables 'menu1' y 'menu2' son distintas, el resultado de la comparación es **False**."
      ]
    },
    {
      "cell_type": "code",
      "metadata": {
        "id": "8zivmMx82o6p"
      },
      "source": [
        "menu3 = ['sandwich','hamburguesa','tacos','cafe','te','tortas','chilaquiles']\n",
        "\n",
        "\n",
        "# Si queremos usar los operadores mayor o menor que, la comparación se hace de\n",
        "# de acuerdo a su cantidad de elementos\n",
        "# El comando len() regresa la cantidad de elementos que tiene un array\n",
        "print(len(menu1))\n",
        "print(len(menu3))\n",
        "\n",
        "print(menu1 > menu3)\n",
        "print(menu1 < menu3)"
      ],
      "execution_count": null,
      "outputs": []
    },
    {
      "cell_type": "markdown",
      "metadata": {
        "id": "O4JBV6HZ4OMF"
      },
      "source": [
        "## Operadores booleanos\n",
        "\n",
        "Los operadores booleanos vienen desde el álgebra booleana.\n",
        "\n",
        "Estos operadores agrupan términos en combinaciones lógicas.\n",
        "\n",
        "En esencia sólo hay tres operadores:\n",
        "* And\n",
        "* Or\n",
        "* Not\n",
        "\n",
        "El resultado, al igual que los operadores de comparación, siempre será **True** o **False**"
      ]
    },
    {
      "cell_type": "markdown",
      "metadata": {
        "id": "gQck5GwU43_U"
      },
      "source": [
        "El resultado de los operadores se basa en las compuertas lógicas, cuyos resultados son los siguientes:"
      ]
    },
    {
      "cell_type": "markdown",
      "metadata": {
        "id": "GceLxxqI5lAI"
      },
      "source": [
        "Compuerta AND"
      ]
    },
    {
      "cell_type": "markdown",
      "metadata": {
        "id": "z3F0x_fy5EiP"
      },
      "source": [
        "A | B | S\n",
        "--|---|---\n",
        "0 | 0 | 0\n",
        "0 | 1 | 0\n",
        "1 | 0 | 0\n",
        "1 | 1 | 1"
      ]
    },
    {
      "cell_type": "markdown",
      "metadata": {
        "id": "klygGg_i5nem"
      },
      "source": [
        "Compuerta OR"
      ]
    },
    {
      "cell_type": "markdown",
      "metadata": {
        "id": "iwFkKFXv5nWg"
      },
      "source": [
        "A | B | S\n",
        "--|---|--\n",
        "0 | 0 | 0\n",
        "0 | 1 | 1\n",
        "1 | 0 | 1\n",
        "1 | 1 | 1"
      ]
    },
    {
      "cell_type": "markdown",
      "metadata": {
        "id": "Gu5-IqPi55LZ"
      },
      "source": [
        "Negación NOT"
      ]
    },
    {
      "cell_type": "markdown",
      "metadata": {
        "id": "m1LyKXux54id"
      },
      "source": [
        "A  | S\n",
        "---|--\n",
        "0 | 1\n",
        "1 | 0 "
      ]
    },
    {
      "cell_type": "markdown",
      "metadata": {
        "id": "ALS0sE7B6MnH"
      },
      "source": [
        "Veamos algunos ejemplos"
      ]
    },
    {
      "cell_type": "code",
      "metadata": {
        "id": "pc4Ek1vD3c59"
      },
      "source": [
        "# Definimos dos variables, a y b\n",
        "a = 1\n",
        "b = 0\n",
        "\n",
        "print(a and b)\n",
        "print(a or b)\n",
        "print(not a)\n",
        "print(not b)\n",
        "\n",
        "print(a and a)\n",
        "print(b and b)"
      ],
      "execution_count": null,
      "outputs": []
    },
    {
      "cell_type": "markdown",
      "metadata": {
        "id": "8Hx8cQbS6upZ"
      },
      "source": [
        "Estas operaciones booleanas son bastante útiles cuando queremos comparar muchas variables al mismo tiempo.\n",
        "\n",
        "Con ellos también podemos elaborar *tablas de verdad* y los *mapas de Karnaugh*, aunque eso no lo veremos aquí."
      ]
    },
    {
      "cell_type": "markdown",
      "metadata": {
        "id": "wP6zEFSO7QPn"
      },
      "source": [
        "# Estructuras de control\n",
        "\n",
        "En programación, se conoce como *estructuras de control* a las herramientas que permiten modificar el flujo de trabajo de un programa.\n",
        "\n",
        "Son muy útiles para dirigir el programa hacia el resultado que deseamos.\n",
        "\n",
        "Se dividen en dos grandes grupos: **estructuras condicionales** y **estructuras de control repetitivo**.\n",
        "\n",
        "En las **condicionales** tenemos a la propoción *If-then-else* y a la estrucutura *Switch case*.\n",
        "\n",
        "En las de **control repetitivo** tenemos dos ciclos: el ciclo *for* y el ciclo *while*."
      ]
    },
    {
      "cell_type": "markdown",
      "metadata": {
        "id": "wfTW-mcf8i_Q"
      },
      "source": [
        "## If-then-else\n",
        "\n",
        "* En Python cambia la \"forma\" de escribir esta estructura.\n",
        "\n",
        "* Siempre se debe iniciar con un *if* y una condición inicial. En caso de que no se cumpla la condición inicial, podemos agregar nuevas condiciones con la palabra *elif*, que es la contración de *else if*. \n",
        "\n",
        "* Si queremos que se ejecute una acción si alguna condición, esto se hace mediante la palabra *else*.\n",
        "\n",
        "* Una \"ley\" en programación dice así: *para todo if corresponde un else*.\n",
        "\n",
        "* En Python no existe como tal la estructura *switch case*, por lo tanto no la abordaremos durante el curso.\n",
        "\n",
        "Veamos unos ejemplos"
      ]
    },
    {
      "cell_type": "markdown",
      "metadata": {
        "id": "9briEWH1B3vd"
      },
      "source": [
        "Imaginemos que somos profesores y queremos saber si el resultado de un alumno en un examen determinado es aprobatorio o no. Pero estamos saturados de trabajo, por lo que decidimos hacer un mini programa que \"califique\" por nosotros a los alumnos. El código sería el siguiente"
      ]
    },
    {
      "cell_type": "code",
      "metadata": {
        "id": "zgaFmkN6Cp8j"
      },
      "source": [
        "### Definimos las variables\n",
        "calificacion1 = 80\n",
        "calificacion2 = 65\n",
        "\n",
        "if calificacion1 > 70:\n",
        "  print(\"El alumno aprueba\")\n",
        "else:\n",
        "  print(\"El alumno no aprueba\")\n",
        "\n",
        "if calificacion2 > 70:\n",
        "  print(\"El alumno aprueba\")\n",
        "else:\n",
        "  print(\"El alumno no aprueba\")"
      ],
      "execution_count": null,
      "outputs": []
    },
    {
      "cell_type": "markdown",
      "metadata": {
        "id": "ZdaTPOXz9jMq"
      },
      "source": [
        "Supongamos que queremos averiguar a qué clase pertenece un triángulo. Para ello debemos conocer la longitud de todos sus lados. Esta operación la podemos hacer con una estructura *If-then-else*."
      ]
    },
    {
      "cell_type": "code",
      "metadata": {
        "id": "uhY5mlWM6i2P"
      },
      "source": [
        "### Definimos los lados del triangulo\n",
        "a = 15\n",
        "b = 20\n",
        "c = 10\n",
        "\n",
        "# Escribimos la condición inicial\n",
        "\n",
        "if a == b and b == c and a == c: # todos los lados son iguales\n",
        "  print('El triangulo es equilatero')\n",
        "elif a == b and b != c and a != c:\n",
        "  print('El triangulo es isosceles') # dos lados iguales y uno distinto\n",
        "else:\n",
        "  print('El triangulo es escaleno') # todos los lados diferentes"
      ],
      "execution_count": null,
      "outputs": []
    },
    {
      "cell_type": "markdown",
      "metadata": {
        "id": "3biyduisDa9x"
      },
      "source": [
        "## Control repetitivo\n",
        "\n",
        "Como vimos, hay dos tipos de ciclos de control: *ciclo for* y *ciclo while*.\n",
        "\n",
        "Comenzemos por el primero."
      ]
    },
    {
      "cell_type": "markdown",
      "metadata": {
        "id": "rFas1cy0EBzl"
      },
      "source": [
        "### Ciclo for\n",
        "\n",
        "* El ciclo se usa para iterar sobre una secuencia de datos.\n",
        "* A diferencia del ciclo *while*, este ciclo itera sobre **todos** los elementos del arreglo, no mientras una condición sea válida.\n",
        "* Se pueden ejecutar instrucciones durante el ciclo.\n",
        "* Si van a iterar con número enteros, el valor debe esta acompañado de la palabra clave *range()*.\n",
        "* A diferencia de otros lenguajes de programación, en Python se usan los ciclos *for*, principalmente, para explorar arrays y ejecutar acciones de acuerdo al elemento en cuestion."
      ]
    },
    {
      "cell_type": "markdown",
      "metadata": {
        "id": "IRjpf48VEk4-"
      },
      "source": [
        "A continuación algunos ejemplos"
      ]
    },
    {
      "cell_type": "code",
      "metadata": {
        "id": "abikeTit-8hk"
      },
      "source": [
        "# Usaremos la variable menu1 que habíamos definido antes\n",
        "\n",
        "for plato in menu1:\n",
        "  print(plato)"
      ],
      "execution_count": null,
      "outputs": []
    },
    {
      "cell_type": "markdown",
      "metadata": {
        "id": "q_IGu5lxFiZe"
      },
      "source": [
        "Para declarar un ciclo *for*:\n",
        "\n",
        "**for** *variable_auxiliar* **in** *objeto-a-iterar*:\n",
        "\n",
        "> instrucciones\n",
        "\n"
      ]
    },
    {
      "cell_type": "code",
      "metadata": {
        "id": "-rYRIO0OFasl"
      },
      "source": [
        "# Si quisieremos usar un for como control de procesos\n",
        "\n",
        "for i in range(10): # Se repetirá la instruccion 10 veces\n",
        "  print(i)"
      ],
      "execution_count": null,
      "outputs": []
    },
    {
      "cell_type": "code",
      "metadata": {
        "id": "uWmbbGdWGTOL"
      },
      "source": [
        "# Podemos usar la variable contadora para hacer otras operaciones\n",
        "\n",
        "x = [1,2,3,4,5,6,7,8,9,10]\n",
        "\n",
        "for i in range(10):\n",
        "  y = x[i]*2 # Usamos la variable contadora para indexar elementos en la lista\n",
        "  print(y)"
      ],
      "execution_count": null,
      "outputs": []
    },
    {
      "cell_type": "markdown",
      "metadata": {
        "id": "sPLDsMocA-18"
      },
      "source": [
        "Iterando a traves de matrices"
      ]
    },
    {
      "cell_type": "markdown",
      "metadata": {
        "id": "P39S09PeBDuT"
      },
      "source": [
        "Para iterar a traves de arreglos de mas dimensiones debemos poner un ciclo dentro de otro ciclo. En términos técnicos decimos que *anidamos* los ciclos.\n",
        "\n",
        "Recuerden que los ciclos se ejecutarán de dentro hacia afuera"
      ]
    },
    {
      "cell_type": "code",
      "metadata": {
        "colab": {
          "base_uri": "https://localhost:8080/"
        },
        "id": "Y0J_hSfPAU72",
        "outputId": "cf332938-2bbc-467a-ae7c-85827a456bcf"
      },
      "source": [
        "l1 = [1,2,3,4,5]\n",
        "l2 = [1,2,3,4,5]\n",
        "\n",
        "for i in l1: # El primer ciclo se ejecuta al último\n",
        "  for j in l2: # Este ciclo debe cumplirse primero\n",
        "    print(i,j)"
      ],
      "execution_count": null,
      "outputs": [
        {
          "output_type": "stream",
          "text": [
            "1 1\n",
            "1 2\n",
            "1 3\n",
            "1 4\n",
            "1 5\n",
            "2 1\n",
            "2 2\n",
            "2 3\n",
            "2 4\n",
            "2 5\n",
            "3 1\n",
            "3 2\n",
            "3 3\n",
            "3 4\n",
            "3 5\n",
            "4 1\n",
            "4 2\n",
            "4 3\n",
            "4 4\n",
            "4 5\n",
            "5 1\n",
            "5 2\n",
            "5 3\n",
            "5 4\n",
            "5 5\n"
          ],
          "name": "stdout"
        }
      ]
    },
    {
      "cell_type": "code",
      "metadata": {
        "colab": {
          "base_uri": "https://localhost:8080/"
        },
        "id": "WW-_IvutAU4z",
        "outputId": "0fd808a2-fa2a-4d43-ab8e-33aac0efe4cf"
      },
      "source": [
        "# Tres ciclos anidados\n",
        "\n",
        "l3 = [1,2,3,4,5]\n",
        "\n",
        "for i in l1:\n",
        "  for j in l2:\n",
        "    for k in l3:\n",
        "      print(i,j,k)"
      ],
      "execution_count": null,
      "outputs": [
        {
          "output_type": "stream",
          "text": [
            "1 1 1\n",
            "1 1 2\n",
            "1 1 3\n",
            "1 1 4\n",
            "1 1 5\n",
            "1 2 1\n",
            "1 2 2\n",
            "1 2 3\n",
            "1 2 4\n",
            "1 2 5\n",
            "1 3 1\n",
            "1 3 2\n",
            "1 3 3\n",
            "1 3 4\n",
            "1 3 5\n",
            "1 4 1\n",
            "1 4 2\n",
            "1 4 3\n",
            "1 4 4\n",
            "1 4 5\n",
            "1 5 1\n",
            "1 5 2\n",
            "1 5 3\n",
            "1 5 4\n",
            "1 5 5\n",
            "2 1 1\n",
            "2 1 2\n",
            "2 1 3\n",
            "2 1 4\n",
            "2 1 5\n",
            "2 2 1\n",
            "2 2 2\n",
            "2 2 3\n",
            "2 2 4\n",
            "2 2 5\n",
            "2 3 1\n",
            "2 3 2\n",
            "2 3 3\n",
            "2 3 4\n",
            "2 3 5\n",
            "2 4 1\n",
            "2 4 2\n",
            "2 4 3\n",
            "2 4 4\n",
            "2 4 5\n",
            "2 5 1\n",
            "2 5 2\n",
            "2 5 3\n",
            "2 5 4\n",
            "2 5 5\n",
            "3 1 1\n",
            "3 1 2\n",
            "3 1 3\n",
            "3 1 4\n",
            "3 1 5\n",
            "3 2 1\n",
            "3 2 2\n",
            "3 2 3\n",
            "3 2 4\n",
            "3 2 5\n",
            "3 3 1\n",
            "3 3 2\n",
            "3 3 3\n",
            "3 3 4\n",
            "3 3 5\n",
            "3 4 1\n",
            "3 4 2\n",
            "3 4 3\n",
            "3 4 4\n",
            "3 4 5\n",
            "3 5 1\n",
            "3 5 2\n",
            "3 5 3\n",
            "3 5 4\n",
            "3 5 5\n",
            "4 1 1\n",
            "4 1 2\n",
            "4 1 3\n",
            "4 1 4\n",
            "4 1 5\n",
            "4 2 1\n",
            "4 2 2\n",
            "4 2 3\n",
            "4 2 4\n",
            "4 2 5\n",
            "4 3 1\n",
            "4 3 2\n",
            "4 3 3\n",
            "4 3 4\n",
            "4 3 5\n",
            "4 4 1\n",
            "4 4 2\n",
            "4 4 3\n",
            "4 4 4\n",
            "4 4 5\n",
            "4 5 1\n",
            "4 5 2\n",
            "4 5 3\n",
            "4 5 4\n",
            "4 5 5\n",
            "5 1 1\n",
            "5 1 2\n",
            "5 1 3\n",
            "5 1 4\n",
            "5 1 5\n",
            "5 2 1\n",
            "5 2 2\n",
            "5 2 3\n",
            "5 2 4\n",
            "5 2 5\n",
            "5 3 1\n",
            "5 3 2\n",
            "5 3 3\n",
            "5 3 4\n",
            "5 3 5\n",
            "5 4 1\n",
            "5 4 2\n",
            "5 4 3\n",
            "5 4 4\n",
            "5 4 5\n",
            "5 5 1\n",
            "5 5 2\n",
            "5 5 3\n",
            "5 5 4\n",
            "5 5 5\n"
          ],
          "name": "stdout"
        }
      ]
    },
    {
      "cell_type": "markdown",
      "metadata": {
        "id": "FZylwRmhDFjC"
      },
      "source": [
        "Como ven, hay que esperar a que se ejecute todo, lo cual no es tan conveniente anidar ciclos."
      ]
    },
    {
      "cell_type": "markdown",
      "metadata": {
        "id": "p4YOh2uJEof0"
      },
      "source": [
        "De la misma forma que en un ciclo *while*, podemos usar la palabra clave **break** para forzar la interrupción de un ciclo."
      ]
    },
    {
      "cell_type": "code",
      "metadata": {
        "colab": {
          "base_uri": "https://localhost:8080/"
        },
        "id": "6LVbhwDpAUXB",
        "outputId": "470e3b31-9b36-4095-8cea-5ba0bb0d7466"
      },
      "source": [
        "items = ['gatos','perros','ranas','vacas','caballos']\n",
        "\n",
        "for item in items:\n",
        "  if item != 'vacas':\n",
        "    print(item)\n",
        "  else:\n",
        "    break"
      ],
      "execution_count": null,
      "outputs": [
        {
          "output_type": "stream",
          "text": [
            "gatos\n",
            "perros\n",
            "ranas\n"
          ],
          "name": "stdout"
        }
      ]
    },
    {
      "cell_type": "markdown",
      "metadata": {
        "id": "zba2-HCfIMKC"
      },
      "source": [
        "### Ciclo *while*\n",
        "\n",
        "* Este ciclo se ejecuta **siempre y cuando se cumpla la condición**.\n",
        "* Se puede interrupir el ciclo usando la palabra *break*.\n",
        "* Se debe agregar una variable contadora obligatoriamente."
      ]
    },
    {
      "cell_type": "markdown",
      "metadata": {
        "id": "1Iigv3ZIIJSW"
      },
      "source": [
        "Esto es lo que pasa si no aregan la variable contadora"
      ]
    },
    {
      "cell_type": "code",
      "metadata": {
        "id": "kWsNFoCNG2FP"
      },
      "source": [
        "### NO LO HAGA COMPA!!!\n",
        "\n",
        "i = 1\n",
        "while i < 10:  ### Se los advertí ¬¬\n",
        "  print(i)"
      ],
      "execution_count": null,
      "outputs": []
    },
    {
      "cell_type": "markdown",
      "metadata": {
        "id": "OYXEKKR6I294"
      },
      "source": [
        "Si ejecutaron la celda anterior habrán notado que el ciclo se ejecuta infinitamente. Esto sucedió porque no hay una variable que registre los aumentos o decrementos dentro del ciclo, entonces, la condición siempre se cumple y el ciclo no puede terminar."
      ]
    },
    {
      "cell_type": "markdown",
      "metadata": {
        "id": "kvT8TLv2JT6w"
      },
      "source": [
        "Dejemos los tecnisismos atras y veamos unos ejemplos del ciclo *while*."
      ]
    },
    {
      "cell_type": "code",
      "metadata": {
        "id": "AZ_PQVP3I3xM"
      },
      "source": [
        "# Declaramos una variable i para llevar el control\n",
        "\n",
        "i = 1\n",
        "\n",
        "while i < 10:\n",
        "  print(i)\n",
        "  i += 1 # Esta es la forma en la que se declara el aumento en 1"
      ],
      "execution_count": null,
      "outputs": []
    },
    {
      "cell_type": "code",
      "metadata": {
        "id": "SqXHIEZwI3s1"
      },
      "source": [
        "# Ejemplo donde la variable va disminuyendo\n",
        "i = 10\n",
        "\n",
        "while i > 0:\n",
        "  print(i)\n",
        "  i -= 1 # Esta es la forma en la que se declara el decremento de 1"
      ],
      "execution_count": null,
      "outputs": []
    },
    {
      "cell_type": "code",
      "metadata": {
        "id": "dCzXC86iI3b-"
      },
      "source": [
        "i = 1\n",
        "while i <= 15:\n",
        "  print('Condición válida')\n",
        "  i += 1"
      ],
      "execution_count": null,
      "outputs": []
    },
    {
      "cell_type": "code",
      "metadata": {
        "id": "uQgKNvK8Kpi0"
      },
      "source": [
        "# Interrupiendo ciclos\n",
        "i = 1\n",
        "\n",
        "while i < 20:\n",
        "  print(i)\n",
        "  if i <= 5:\n",
        "    print('Condición cumplida')\n",
        "    break\n",
        "  i += 1"
      ],
      "execution_count": null,
      "outputs": []
    },
    {
      "cell_type": "markdown",
      "metadata": {
        "id": "vcqdfW1KLZEH"
      },
      "source": [
        "El ciclo anterior se interrupió en la primera iteración porque i tiene un valor de 1 y es menor que 5. Por lo que debemos analizar y definir correctamente la condición con la cual se va interrumpir el ciclo."
      ]
    },
    {
      "cell_type": "code",
      "metadata": {
        "id": "4nvriEIsLMEU"
      },
      "source": [
        "i = 1\n",
        "\n",
        "while i < 20:\n",
        "  print(i)\n",
        "  if i == 5:\n",
        "    print('Condición cumplida')\n",
        "    break\n",
        "  i += 1"
      ],
      "execution_count": null,
      "outputs": []
    },
    {
      "cell_type": "markdown",
      "metadata": {
        "id": "KibNCsbTKSux"
      },
      "source": [
        "Como recordatorio:\n",
        "* El ciclo *for* se ejecuta **hasta que se terminan los elementos**.\n",
        "* El ciclo *while* se ejecuta **mientras la condición sea verdadera**."
      ]
    },
    {
      "cell_type": "markdown",
      "metadata": {
        "id": "z-3hedoPL7gF"
      },
      "source": [
        "# Uso de librerias\n",
        "\n",
        "* Python puede usar una cantidad enorme de librerías con las cuales adquiere mayor flexibilidad y poder de procesamiento.\n",
        "* En nuestro caso, Google Colab cuenta con bastantes librerías preinstaladas que podemos utilizar.\n",
        "* Si por algún motivo necesitan instalar alguna librería, esto se puede hacer con el comando **pip()**.\n",
        "* Para mostrar todas las librerias que hay instaladas se usa la siguiente instrucción: **pip list**.\n",
        "* Para indicar a Python que vamos a usar una librería debemos escribir la palabra **import** seguido del nombre de la librería."
      ]
    },
    {
      "cell_type": "code",
      "metadata": {
        "id": "5212tbINKHFG"
      },
      "source": [
        "### Revisamos las librerías ya instaladas\n",
        "!pip list"
      ],
      "execution_count": null,
      "outputs": []
    },
    {
      "cell_type": "markdown",
      "metadata": {
        "id": "jXW7QpYeNdE1"
      },
      "source": [
        "## Numpy\n",
        "* Numpy es una librería especializada para cómputo numérico científico y avanzado.\n",
        "* Es ideal para trabajar con matrices y otros arreglos de datos (arrays).\n",
        "* Se pueden hacer operaciones de álgebra lineal, matricial, transformadas de Fourier, entre otras.\n",
        "* Es bastante similar al software Matlab."
      ]
    },
    {
      "cell_type": "code",
      "metadata": {
        "id": "3PXZplMTN9Dn"
      },
      "source": [
        "# La palabra as sirve para dar un alias a la librería\n",
        "# y poder llamarla sin la necesidad de escribir el nombre completo\n",
        "\n",
        "import numpy as np"
      ],
      "execution_count": null,
      "outputs": []
    },
    {
      "cell_type": "code",
      "metadata": {
        "id": "q9NtrNcwOUxO"
      },
      "source": [
        "# Declaramos un arreglo de datos de numpy\n",
        "a = np.array([1,2,3])\n",
        "print(a)\n",
        "print(type(a))"
      ],
      "execution_count": null,
      "outputs": []
    },
    {
      "cell_type": "markdown",
      "metadata": {
        "id": "IUP64UNdPb8g"
      },
      "source": [
        "* Al ser arreglos, estos objetos tienen dimensiones.\n",
        "* Para conocer las dimensiones de un arreglo usamos la palabra *shape*."
      ]
    },
    {
      "cell_type": "code",
      "metadata": {
        "id": "t-i67T7ROUra"
      },
      "source": [
        "print(a.shape)"
      ],
      "execution_count": null,
      "outputs": []
    },
    {
      "cell_type": "markdown",
      "metadata": {
        "id": "QKjwV7lsPkNb"
      },
      "source": [
        "Podemos manipular los arreglos al igual los otros tipos de arreglos"
      ]
    },
    {
      "cell_type": "code",
      "metadata": {
        "id": "WGdIxB4jOUmL"
      },
      "source": [
        "print(a[0])\n",
        "print(a[1])"
      ],
      "execution_count": null,
      "outputs": []
    },
    {
      "cell_type": "markdown",
      "metadata": {
        "id": "IEPGuVgDQC9J"
      },
      "source": [
        "También podemos modificar valores"
      ]
    },
    {
      "cell_type": "code",
      "metadata": {
        "id": "bPbHzWVsOUdR"
      },
      "source": [
        "a[0] = 5\n",
        "print(a)"
      ],
      "execution_count": null,
      "outputs": []
    },
    {
      "cell_type": "markdown",
      "metadata": {
        "id": "guier2hBQK_O"
      },
      "source": [
        "Ahora trabajemos con matrices"
      ]
    },
    {
      "cell_type": "code",
      "metadata": {
        "id": "K6bfcFveQHFT"
      },
      "source": [
        "b = np.array([[1,2,3],\n",
        "              [4,5,6]\n",
        "              ])"
      ],
      "execution_count": null,
      "outputs": []
    },
    {
      "cell_type": "code",
      "metadata": {
        "id": "pAtUJldRQZDF"
      },
      "source": [
        "print(b)"
      ],
      "execution_count": null,
      "outputs": []
    },
    {
      "cell_type": "code",
      "metadata": {
        "id": "irOSl7WHQaWZ"
      },
      "source": [
        "print(b.shape)"
      ],
      "execution_count": null,
      "outputs": []
    },
    {
      "cell_type": "markdown",
      "metadata": {
        "id": "v_Jj15L1QeM6"
      },
      "source": [
        "Con Numpy podemos acceder a funciones más especializadas como declarar matrices, hacer calculos de álgebra matricial y vectorial así como usar ciertas variables como Pi o el número de Euler"
      ]
    },
    {
      "cell_type": "code",
      "metadata": {
        "id": "2sFy_DKkQco2"
      },
      "source": [
        "pi = np.pi\n",
        "print(pi)\n",
        "\n",
        "euler = np.exp(1)\n",
        "print(euler)"
      ],
      "execution_count": null,
      "outputs": []
    },
    {
      "cell_type": "markdown",
      "metadata": {
        "id": "RHdGZCIfQsFk"
      },
      "source": [
        "Se pueden declarar matrices especiales como las triangulares, de ceros, matriz de unos, entre otras"
      ]
    },
    {
      "cell_type": "code",
      "metadata": {
        "id": "lbgGyrxvQoiY"
      },
      "source": [
        "a = np.zeros((2,2)) # Declaramos la matri de ceros y sus dimensiones\n",
        "print(a)"
      ],
      "execution_count": null,
      "outputs": []
    },
    {
      "cell_type": "code",
      "metadata": {
        "id": "veSb2UY5RBDx"
      },
      "source": [
        "# Matriz de unos\n",
        "b = np.ones((3,3))\n",
        "print(b)"
      ],
      "execution_count": null,
      "outputs": []
    },
    {
      "cell_type": "code",
      "metadata": {
        "id": "KOceIEXIT7S7"
      },
      "source": [
        "# Generamos una matriz triangular superior de 1\n",
        "t1 = np.triu(np.ones((3,3)),1)\n",
        "print(t1)"
      ],
      "execution_count": null,
      "outputs": []
    },
    {
      "cell_type": "code",
      "metadata": {
        "id": "YSKyN7VCT7Ci"
      },
      "source": [
        "# Generamos una matriz con diagonal principal con los elementos que indicamos\n",
        "d1 = np.diag([1,2,3])\n",
        "print(d1)"
      ],
      "execution_count": null,
      "outputs": []
    },
    {
      "cell_type": "code",
      "metadata": {
        "id": "P19AHpbgUdkU"
      },
      "source": [
        "# Traspuesta de una matriz\n",
        "print(t1.T)"
      ],
      "execution_count": null,
      "outputs": []
    },
    {
      "cell_type": "code",
      "metadata": {
        "id": "rTx1HgmaRJkb"
      },
      "source": [
        "# Matriz de que solo contenga el número que indiquemos\n",
        "c = np.full((4,4), 7)\n",
        "print(c)"
      ],
      "execution_count": null,
      "outputs": []
    },
    {
      "cell_type": "code",
      "metadata": {
        "id": "M4mjlvlyRjtq"
      },
      "source": [
        "# Matriz de identidad de 2x2\n",
        "d = np.eye(2)\n",
        "print(d)"
      ],
      "execution_count": null,
      "outputs": []
    },
    {
      "cell_type": "code",
      "metadata": {
        "id": "3l2Ftby8RrN1"
      },
      "source": [
        "# Por último, una matriz de números aleatorios\n",
        "e = np.random.random((3,3))\n",
        "print(e)"
      ],
      "execution_count": null,
      "outputs": []
    },
    {
      "cell_type": "code",
      "metadata": {
        "id": "_H7n9LcOSvoc"
      },
      "source": [
        "# Una forma alternativa de generar un arreglo es usando el comando arange\n",
        "x1 = np.arange(10)\n",
        "print(x1)"
      ],
      "execution_count": null,
      "outputs": []
    },
    {
      "cell_type": "code",
      "metadata": {
        "id": "TIZAVH0VU_zB"
      },
      "source": [
        "# Para generar un espacio lineal entre dos valores\n",
        "s1 = np.linspace(0,10,25) # Inicio,fin, cantidad de puntos\n",
        "print(s1)"
      ],
      "execution_count": null,
      "outputs": []
    },
    {
      "cell_type": "markdown",
      "metadata": {
        "id": "c8uPYS8lTHbq"
      },
      "source": [
        "### Operaciones numéricas\n"
      ]
    },
    {
      "cell_type": "code",
      "metadata": {
        "id": "kVxxt5CvS9Nw"
      },
      "source": [
        "x1 = np.arange(10)\n",
        "\n",
        "print(x1)"
      ],
      "execution_count": null,
      "outputs": []
    },
    {
      "cell_type": "code",
      "metadata": {
        "id": "W71oEvelTVbQ"
      },
      "source": [
        "# Se suma 1 a cada elemento del arreglo\n",
        "print(x1 + 1)"
      ],
      "execution_count": null,
      "outputs": []
    },
    {
      "cell_type": "code",
      "metadata": {
        "id": "pnco-Z9PTiyf"
      },
      "source": [
        "print(2*x1)\n",
        "print(2**x1)"
      ],
      "execution_count": null,
      "outputs": []
    },
    {
      "cell_type": "code",
      "metadata": {
        "id": "34ISuqWWTunB"
      },
      "source": [
        "# Generamos dos matrices  con valores aleatorios entre 0 y 1\n",
        "A = np.random.rand(3,3)\n",
        "B = np.random.rand(3,3)"
      ],
      "execution_count": null,
      "outputs": []
    },
    {
      "cell_type": "code",
      "metadata": {
        "id": "6tfojoAoVcPj"
      },
      "source": [
        "print(A)"
      ],
      "execution_count": null,
      "outputs": []
    },
    {
      "cell_type": "code",
      "metadata": {
        "id": "_Hlw4CI0VdA-"
      },
      "source": [
        "print(B)"
      ],
      "execution_count": null,
      "outputs": []
    },
    {
      "cell_type": "code",
      "metadata": {
        "id": "49YEzRQ-WA4O"
      },
      "source": [
        "# Suma de matrices\n",
        "print(A+B)"
      ],
      "execution_count": null,
      "outputs": []
    },
    {
      "cell_type": "code",
      "metadata": {
        "id": "IL6eQ0JPWEHY"
      },
      "source": [
        "print(A-B)"
      ],
      "execution_count": null,
      "outputs": []
    },
    {
      "cell_type": "code",
      "metadata": {
        "id": "6wxtohplVyws"
      },
      "source": [
        "# Multiplicación elemento por elemento\n",
        "print(A*B)"
      ],
      "execution_count": null,
      "outputs": []
    },
    {
      "cell_type": "code",
      "metadata": {
        "id": "S3IqBehrVsMp"
      },
      "source": [
        "# Producto punto\n",
        "print(A.dot(B))"
      ],
      "execution_count": null,
      "outputs": []
    },
    {
      "cell_type": "code",
      "metadata": {
        "id": "YJNLxsYwVeRb"
      },
      "source": [
        "# Calculo de los eigenvalores\n",
        "eig = np.linalg.eigvals(A)\n",
        "print(eig)"
      ],
      "execution_count": null,
      "outputs": []
    },
    {
      "cell_type": "markdown",
      "metadata": {
        "id": "VoEojCeDWgF9"
      },
      "source": [
        "## Matplotlib\n",
        "\n",
        "* Es una librería para realizar gráficas elegantes y entendibles.\n",
        "\n",
        "* Se pueden hacer gráficas de barras, histogramas, gráficas de paste, entre otras.\n",
        "\n",
        "* Permite editar aspectos como los ejes, la escala, el título de la gráfica, color, leyendas, entre otros."
      ]
    },
    {
      "cell_type": "markdown",
      "metadata": {
        "id": "nEAadDx-XSg9"
      },
      "source": [
        "Comenzemos importando la librería y con un ejemplo básico."
      ]
    },
    {
      "cell_type": "code",
      "metadata": {
        "id": "b_rdol95V-CL",
        "colab": {
          "base_uri": "https://localhost:8080/",
          "height": 265
        },
        "outputId": "d8e1f6bd-bd5d-444a-8fcc-76eb5fb1ed08"
      },
      "source": [
        "import matplotlib.pyplot as plt\n",
        "\n",
        "plt.plot([1,2,3,4,5])\n",
        "plt.show()"
      ],
      "execution_count": null,
      "outputs": [
        {
          "output_type": "display_data",
          "data": {
            "image/png": "[encoded data removed]",
            "text/plain": [
              "<Figure size 432x288 with 1 Axes>"
            ]
          },
          "metadata": {
            "tags": [],
            "needs_background": "light"
          }
        }
      ]
    },
    {
      "cell_type": "code",
      "metadata": {
        "id": "ALHaRbK5Xmrp"
      },
      "source": [
        "### Para que las gráficas se vean en 16:9\n",
        "plt.rcParams['figure.figsize'] = (16,9)\n",
        "plt.style.use('ggplot')"
      ],
      "execution_count": null,
      "outputs": []
    },
    {
      "cell_type": "code",
      "metadata": {
        "id": "GAMrIc05fH-Z",
        "colab": {
          "base_uri": "https://localhost:8080/",
          "height": 435
        },
        "outputId": "c01b9169-e21d-40ca-c607-3edcc1c6eea4"
      },
      "source": [
        "# Vamos a mejorar la gráfica\n",
        "plt.plot([1,2,3,4,5])\n",
        "plt.xlabel('Eje X') # Para poner títulos al eje X\n",
        "plt.ylabel('Eje Y') # Para poner títulos al eje Y\n",
        "plt.title('Primera gráfica') # Título a toda la gráfica\n",
        "plt.show()"
      ],
      "execution_count": null,
      "outputs": [
        {
          "output_type": "display_data",
          "data": {
            "image/png": "[encoded data removed]",
            "text/plain": [
              "<Figure size 1152x648 with 1 Axes>"
            ]
          },
          "metadata": {
            "tags": []
          }
        }
      ]
    },
    {
      "cell_type": "code",
      "metadata": {
        "id": "z9KgX0qjfymf",
        "colab": {
          "base_uri": "https://localhost:8080/",
          "height": 435
        },
        "outputId": "8bbe64af-ba28-4429-a24f-21b63a3886ca"
      },
      "source": [
        "# Si queremos gráficar valores respecto a otros\n",
        "\n",
        "plt.figure()\n",
        "plt.plot([1,2,3,4,5],[1,4,9,16,25])\n",
        "plt.title('Función cuadrática')\n",
        "plt.xlabel('X')\n",
        "plt.ylabel('X^2')\n",
        "plt.show()"
      ],
      "execution_count": null,
      "outputs": [
        {
          "output_type": "display_data",
          "data": {
            "image/png": "[encoded data removed]",
            "text/plain": [
              "<Figure size 1152x648 with 1 Axes>"
            ]
          },
          "metadata": {
            "tags": []
          }
        }
      ]
    },
    {
      "cell_type": "markdown",
      "metadata": {
        "id": "5la-PphegzDS"
      },
      "source": [
        "Definir los valores para cada gráfica puede resultar tedioso, por suerte, podemos usar todas las herramientas que hemos visto para generar de manera automática los valores."
      ]
    },
    {
      "cell_type": "code",
      "metadata": {
        "id": "g1JwY6ijguI5"
      },
      "source": [
        "# Usaremos numpy como herramienta auxiliar\n",
        "\n",
        "x = np.arange(0,5,0.2)\n",
        "y1 = x**2\n",
        "y2 = x**3"
      ],
      "execution_count": null,
      "outputs": []
    },
    {
      "cell_type": "code",
      "metadata": {
        "id": "AT_GXAoihX03",
        "colab": {
          "base_uri": "https://localhost:8080/",
          "height": 433
        },
        "outputId": "01c97a1c-fd9e-4de2-d093-04b9e2259b78"
      },
      "source": [
        "plt.figure()\n",
        "plt.plot(x,x,'r--')\n",
        "plt.plot(x,y1,'bs')\n",
        "plt.plot(x,y2,'g^')\n",
        "plt.title('Funciones exponenciales')\n",
        "plt.xlabel('X')\n",
        "plt.ylabel('Y')\n",
        "plt.show()"
      ],
      "execution_count": null,
      "outputs": [
        {
          "output_type": "display_data",
          "data": {
            "image/png": "[encoded data removed]",
            "text/plain": [
              "<Figure size 1152x648 with 1 Axes>"
            ]
          },
          "metadata": {
            "tags": []
          }
        }
      ]
    },
    {
      "cell_type": "code",
      "metadata": {
        "id": "Xm88aUrkhzQe",
        "colab": {
          "base_uri": "https://localhost:8080/",
          "height": 417
        },
        "outputId": "71da6431-1ebc-461e-fd83-f3f4042428b6"
      },
      "source": [
        "for x in range(10):\n",
        "  s = x**2\n",
        "  plt.plot(x,s,'r*')\n",
        "plt.show()"
      ],
      "execution_count": null,
      "outputs": [
        {
          "output_type": "display_data",
          "data": {
            "image/png": "[encoded data removed]",
            "text/plain": [
              "<Figure size 1152x648 with 1 Axes>"
            ]
          },
          "metadata": {
            "tags": []
          }
        }
      ]
    },
    {
      "cell_type": "markdown",
      "metadata": {
        "id": "MZQ7st2CiRcs"
      },
      "source": [
        "### Gráficas de barras\n",
        "\n",
        "Para hacer gráficas de barras necesitamos dos grupos de datos, las clases y el valor de cada clase."
      ]
    },
    {
      "cell_type": "code",
      "metadata": {
        "id": "H-O0VmSIiH_B",
        "colab": {
          "base_uri": "https://localhost:8080/",
          "height": 433
        },
        "outputId": "a344955a-35cc-4792-ea96-1b7d8093782b"
      },
      "source": [
        "divisiones = ['A','B','C','D'] # Usamos una lista para las clases\n",
        "valores = [65,85,103,58] # Otra lista, ahora con números solamente\n",
        "\n",
        "plt.figure()\n",
        "plt.bar(divisiones, valores, color='blue')\n",
        "plt.title('Primera gráfica de barras')\n",
        "plt.xlabel('Clases')\n",
        "plt.ylabel('Valores')\n",
        "plt.show()"
      ],
      "execution_count": null,
      "outputs": [
        {
          "output_type": "display_data",
          "data": {
            "image/png": "[encoded data removed]",
            "text/plain": [
              "<Figure size 1152x648 with 1 Axes>"
            ]
          },
          "metadata": {
            "tags": []
          }
        }
      ]
    },
    {
      "cell_type": "code",
      "metadata": {
        "id": "jxtsVhski-gY",
        "colab": {
          "base_uri": "https://localhost:8080/",
          "height": 437
        },
        "outputId": "c86da837-c6a7-42b0-eaf9-eb14ab4f8ddf"
      },
      "source": [
        "# Si queremos las barras horizontales\n",
        "\n",
        "plt.figure()\n",
        "plt.barh(divisiones, valores, color='green')\n",
        "plt.title('Barras horizontales')\n",
        "plt.xlabel('Ocurrencias')\n",
        "plt.ylabel('Clases')\n",
        "plt.show()"
      ],
      "execution_count": null,
      "outputs": [
        {
          "output_type": "display_data",
          "data": {
            "image/png": "[encoded data removed]",
            "text/plain": [
              "<Figure size 1152x648 with 1 Axes>"
            ]
          },
          "metadata": {
            "tags": []
          }
        }
      ]
    },
    {
      "cell_type": "markdown",
      "metadata": {
        "id": "crc5zZB4jUSL"
      },
      "source": [
        "### Gráficas de pastel\n",
        "\n",
        "Al igual que las gráficas de barras, necesitamos dos grupos de datos."
      ]
    },
    {
      "cell_type": "code",
      "metadata": {
        "id": "ohRyTEoIjSlS",
        "colab": {
          "base_uri": "https://localhost:8080/",
          "height": 426
        },
        "outputId": "6670c9a3-0fd0-453a-a7a4-6d8c81d27e76"
      },
      "source": [
        "zoo = ['Leones','Tigres','Jirafas','Zebras','Monos']\n",
        "cantidad = [10,8,4,50,100]\n",
        "\n",
        "plt.figure()\n",
        "plt.pie(cantidad,labels=zoo)\n",
        "plt.axis('equal')\n",
        "plt.title('Animales del zoológico')\n",
        "plt.legend(title='Animales')\n",
        "plt.show()"
      ],
      "execution_count": null,
      "outputs": [
        {
          "output_type": "display_data",
          "data": {
            "image/png": "[encoded data removed]",
            "text/plain": [
              "<Figure size 1152x648 with 1 Axes>"
            ]
          },
          "metadata": {
            "tags": []
          }
        }
      ]
    },
    {
      "cell_type": "markdown",
      "metadata": {
        "id": "4nEY8MubkzrF"
      },
      "source": [
        "### Histogramas\n",
        "\n",
        "Un histograma es parecido a una gráfica de barras. La diferencia es que en el histograma no hay datos \"etiquetados\" sino *bines* o grupos donde se colocan los datos.\n",
        "\n",
        "Estas gráficas nos sirven para conocer y comprender la distribución de un conjunto de datos."
      ]
    },
    {
      "cell_type": "code",
      "metadata": {
        "id": "JCBcgzNBkEJk",
        "colab": {
          "base_uri": "https://localhost:8080/",
          "height": 434
        },
        "outputId": "1d4f8fee-62ab-41b3-b94a-38e8003ca07d"
      },
      "source": [
        "# Definimos el conjunto de datos\n",
        "valores = [100,25,50,90,10,150,87,63,45]\n",
        "bines = 3\n",
        "plt.figure()\n",
        "plt.hist(valores, bins=bines,# Necesitamos los datos y la cantidad de bines\n",
        "         histtype='bar', # Para definir el tipo de histograma\n",
        "         align='mid', # La alineación de las barras\n",
        "         rwidth=0.5) # Qué tan ancho serán las barras\n",
        "plt.title('Histograma')\n",
        "plt.xlabel('Bines')\n",
        "plt.ylabel('Cantidad')\n",
        "plt.show()"
      ],
      "execution_count": null,
      "outputs": [
        {
          "output_type": "display_data",
          "data": {
            "image/png": "[encoded data removed]",
            "text/plain": [
              "<Figure size 1152x648 with 1 Axes>"
            ]
          },
          "metadata": {
            "tags": []
          }
        }
      ]
    },
    {
      "cell_type": "markdown",
      "metadata": {
        "id": "PJDWEFrzmyBU"
      },
      "source": [
        "## Pandas\n",
        "\n",
        "* Es una biblioteca de software especializada en el manejo de bases de datos y de su análisis.\n",
        "\n",
        "* Ofrece estructuras de datos y operaciones para manipular tablas numéricas y series temporales.\n",
        "\n",
        "* Trabaja con objetos conocidos como **DataFrames**, similares a las tablas de datos.\n",
        "\n",
        "* Se pueden crear bases de datos desde cero, también se pueden importar archivos con datos (.csv, .xlsx, etc.)."
      ]
    },
    {
      "cell_type": "code",
      "metadata": {
        "id": "Nt_MY2OElirW"
      },
      "source": [
        "# Importamos la librería\n",
        "import pandas as pd"
      ],
      "execution_count": null,
      "outputs": []
    },
    {
      "cell_type": "code",
      "metadata": {
        "id": "FcYWUBKkP8SJ"
      },
      "source": [
        "# Para declarar un DataFrame se usa una sintaxis similar a los diccionarios\n",
        "\n",
        "df = pd.DataFrame(\n",
        "    {\n",
        "        \"Nombre\": ['Pedro','Pablo','Juan','Antonio'],\n",
        "        \"Edad\" : [15,19,22,32],\n",
        "        \"Escolaridad\": ['Secundaria','Preparatoria','Preparatoria','Posgrado']\n",
        "    }\n",
        ")\n",
        "\n",
        "df"
      ],
      "execution_count": null,
      "outputs": []
    },
    {
      "cell_type": "markdown",
      "metadata": {
        "id": "4CGmxFW5f60o"
      },
      "source": [
        "Cada columna de un **DataFrame** es una **Serie**. Podemos trabajar con una serie en específico"
      ]
    },
    {
      "cell_type": "code",
      "metadata": {
        "id": "D1NIS48kf1Ad"
      },
      "source": [
        "# Si quisieramos selecccionar una columna en específico\n",
        "df['Edad']"
      ],
      "execution_count": null,
      "outputs": []
    },
    {
      "cell_type": "markdown",
      "metadata": {
        "id": "GiNeseTYSvdo"
      },
      "source": [
        "Un **DataFrame** tiene muchas propiedades que nos pueden ser útiles."
      ]
    },
    {
      "cell_type": "code",
      "metadata": {
        "id": "uhPR13EBRYPQ"
      },
      "source": [
        "# Con el comando head() podemos ver el encabezado del DataFrame\n",
        "df.head()"
      ],
      "execution_count": null,
      "outputs": []
    },
    {
      "cell_type": "code",
      "metadata": {
        "id": "wpilG-I5TJA0"
      },
      "source": [
        "# El comando describe() nos regresa un resumen estadístico de las variables numéricas\n",
        "df.describe()"
      ],
      "execution_count": null,
      "outputs": []
    },
    {
      "cell_type": "code",
      "metadata": {
        "id": "1Iqdvv-YTUXI"
      },
      "source": [
        "# Con df.hist() obtenemos un histograma para cada variable numérica\n",
        "df.hist()"
      ],
      "execution_count": null,
      "outputs": []
    },
    {
      "cell_type": "markdown",
      "metadata": {
        "id": "VECiQp2NThzK"
      },
      "source": [
        "Como lo mencionamos, podemos usar archivos de datos para trabajar con ellos."
      ]
    },
    {
      "cell_type": "code",
      "metadata": {
        "id": "h1GCsawrUdb5"
      },
      "source": [
        "# Estas lineas de código permiten cargar archivos desde nuestra PC\n",
        "from google.colab import files\n",
        "upload = files.upload()"
      ],
      "execution_count": null,
      "outputs": []
    },
    {
      "cell_type": "code",
      "metadata": {
        "id": "yUFVb-UIUdPj"
      },
      "source": [
        "# Primero debemos leer el archivo\n",
        "# Después lo convertimos en un dataframe\n",
        "\n",
        "data = pd.read_csv('iris_dataset.csv')\n",
        "df1 = pd.DataFrame(data)"
      ],
      "execution_count": null,
      "outputs": []
    },
    {
      "cell_type": "code",
      "metadata": {
        "id": "DX8JymMKTcsB"
      },
      "source": [
        "# Repetimos las operaciones que hicimos antes\n",
        "df1.head(10)"
      ],
      "execution_count": null,
      "outputs": []
    },
    {
      "cell_type": "code",
      "metadata": {
        "id": "zEaxq1zjVnsL"
      },
      "source": [
        "df1.describe()"
      ],
      "execution_count": null,
      "outputs": []
    },
    {
      "cell_type": "code",
      "metadata": {
        "id": "hx3SYem5VplH"
      },
      "source": [
        "df1.hist()"
      ],
      "execution_count": null,
      "outputs": []
    },
    {
      "cell_type": "code",
      "metadata": {
        "id": "XC74QsONVssg"
      },
      "source": [
        "# Si desean obtener el histograma de una sola variable\n",
        "df1.hist(['sepal.length'])"
      ],
      "execution_count": null,
      "outputs": []
    },
    {
      "cell_type": "code",
      "metadata": {
        "id": "GgwldiFSfbJw"
      },
      "source": [
        "# En el caso de que quisieran graficar todas las variables al mismo tiempo\n",
        "df1.plot()"
      ],
      "execution_count": null,
      "outputs": []
    },
    {
      "cell_type": "code",
      "metadata": {
        "id": "PimSdAqRgufB"
      },
      "source": [
        "# O graficar una serie en específico\n",
        "df1[\"sepal.length\"].plot()"
      ],
      "execution_count": null,
      "outputs": []
    },
    {
      "cell_type": "code",
      "metadata": {
        "id": "s-keQmKvg4hb"
      },
      "source": [
        "# También hay disponibles otro tipo de graficas\n",
        "df1.plot.box()"
      ],
      "execution_count": null,
      "outputs": []
    },
    {
      "cell_type": "markdown",
      "metadata": {
        "id": "UBJdTt3jY7As"
      },
      "source": [
        "### Trabajando con bases de datos más grandes"
      ]
    },
    {
      "cell_type": "markdown",
      "metadata": {
        "id": "JI8pVxh3Y69k"
      },
      "source": [
        "Para este caso vamos a usar un archivo que tiene datos de Pokemon"
      ]
    },
    {
      "cell_type": "code",
      "metadata": {
        "colab": {
          "base_uri": "https://localhost:8080/",
          "height": 402
        },
        "id": "2Ic1DW-uZKJC",
        "outputId": "20b95587-7e4b-4839-a353-11295bd8f1d8"
      },
      "source": [
        "pokemon = pd.read_csv('Pokemon.csv')\n",
        "\n",
        "pokemon.head(-1)"
      ],
      "execution_count": null,
      "outputs": [
        {
          "output_type": "execute_result",
          "data": {
            "text/html": [
              "<div>\n",
              "<style scoped>\n",
              "    .dataframe tbody tr th:only-of-type {\n",
              "        vertical-align: middle;\n",
              "    }\n",
              "\n",
              "    .dataframe tbody tr th {\n",
              "        vertical-align: top;\n",
              "    }\n",
              "\n",
              "    .dataframe thead th {\n",
              "        text-align: right;\n",
              "    }\n",
              "</style>\n",
              "<table border=\"1\" class=\"dataframe\">\n",
              "  <thead>\n",
              "    <tr style=\"text-align: right;\">\n",
              "      <th></th>\n",
              "      <th>#</th>\n",
              "      <th>Name</th>\n",
              "      <th>Type 1</th>\n",
              "      <th>Type 2</th>\n",
              "      <th>Total</th>\n",
              "      <th>HP</th>\n",
              "      <th>Attack</th>\n",
              "      <th>Defense</th>\n",
              "      <th>Sp. Atk</th>\n",
              "      <th>Sp. Def</th>\n",
              "      <th>Speed</th>\n",
              "      <th>Generation</th>\n",
              "      <th>Legendary</th>\n",
              "    </tr>\n",
              "  </thead>\n",
              "  <tbody>\n",
              "    <tr>\n",
              "      <th>0</th>\n",
              "      <td>1</td>\n",
              "      <td>Bulbasaur</td>\n",
              "      <td>Grass</td>\n",
              "      <td>Poison</td>\n",
              "      <td>318</td>\n",
              "      <td>45</td>\n",
              "      <td>49</td>\n",
              "      <td>49</td>\n",
              "      <td>65</td>\n",
              "      <td>65</td>\n",
              "      <td>45</td>\n",
              "      <td>1</td>\n",
              "      <td>False</td>\n",
              "    </tr>\n",
              "    <tr>\n",
              "      <th>1</th>\n",
              "      <td>2</td>\n",
              "      <td>Ivysaur</td>\n",
              "      <td>Grass</td>\n",
              "      <td>Poison</td>\n",
              "      <td>405</td>\n",
              "      <td>60</td>\n",
              "      <td>62</td>\n",
              "      <td>63</td>\n",
              "      <td>80</td>\n",
              "      <td>80</td>\n",
              "      <td>60</td>\n",
              "      <td>1</td>\n",
              "      <td>False</td>\n",
              "    </tr>\n",
              "    <tr>\n",
              "      <th>2</th>\n",
              "      <td>3</td>\n",
              "      <td>Venusaur</td>\n",
              "      <td>Grass</td>\n",
              "      <td>Poison</td>\n",
              "      <td>525</td>\n",
              "      <td>80</td>\n",
              "      <td>82</td>\n",
              "      <td>83</td>\n",
              "      <td>100</td>\n",
              "      <td>100</td>\n",
              "      <td>80</td>\n",
              "      <td>1</td>\n",
              "      <td>False</td>\n",
              "    </tr>\n",
              "    <tr>\n",
              "      <th>3</th>\n",
              "      <td>3</td>\n",
              "      <td>VenusaurMega Venusaur</td>\n",
              "      <td>Grass</td>\n",
              "      <td>Poison</td>\n",
              "      <td>625</td>\n",
              "      <td>80</td>\n",
              "      <td>100</td>\n",
              "      <td>123</td>\n",
              "      <td>122</td>\n",
              "      <td>120</td>\n",
              "      <td>80</td>\n",
              "      <td>1</td>\n",
              "      <td>False</td>\n",
              "    </tr>\n",
              "    <tr>\n",
              "      <th>4</th>\n",
              "      <td>4</td>\n",
              "      <td>Charmander</td>\n",
              "      <td>Fire</td>\n",
              "      <td>NaN</td>\n",
              "      <td>309</td>\n",
              "      <td>39</td>\n",
              "      <td>52</td>\n",
              "      <td>43</td>\n",
              "      <td>60</td>\n",
              "      <td>50</td>\n",
              "      <td>65</td>\n",
              "      <td>1</td>\n",
              "      <td>False</td>\n",
              "    </tr>\n",
              "    <tr>\n",
              "      <th>...</th>\n",
              "      <td>...</td>\n",
              "      <td>...</td>\n",
              "      <td>...</td>\n",
              "      <td>...</td>\n",
              "      <td>...</td>\n",
              "      <td>...</td>\n",
              "      <td>...</td>\n",
              "      <td>...</td>\n",
              "      <td>...</td>\n",
              "      <td>...</td>\n",
              "      <td>...</td>\n",
              "      <td>...</td>\n",
              "      <td>...</td>\n",
              "    </tr>\n",
              "    <tr>\n",
              "      <th>794</th>\n",
              "      <td>718</td>\n",
              "      <td>Zygarde50% Forme</td>\n",
              "      <td>Dragon</td>\n",
              "      <td>Ground</td>\n",
              "      <td>600</td>\n",
              "      <td>108</td>\n",
              "      <td>100</td>\n",
              "      <td>121</td>\n",
              "      <td>81</td>\n",
              "      <td>95</td>\n",
              "      <td>95</td>\n",
              "      <td>6</td>\n",
              "      <td>True</td>\n",
              "    </tr>\n",
              "    <tr>\n",
              "      <th>795</th>\n",
              "      <td>719</td>\n",
              "      <td>Diancie</td>\n",
              "      <td>Rock</td>\n",
              "      <td>Fairy</td>\n",
              "      <td>600</td>\n",
              "      <td>50</td>\n",
              "      <td>100</td>\n",
              "      <td>150</td>\n",
              "      <td>100</td>\n",
              "      <td>150</td>\n",
              "      <td>50</td>\n",
              "      <td>6</td>\n",
              "      <td>True</td>\n",
              "    </tr>\n",
              "    <tr>\n",
              "      <th>796</th>\n",
              "      <td>719</td>\n",
              "      <td>DiancieMega Diancie</td>\n",
              "      <td>Rock</td>\n",
              "      <td>Fairy</td>\n",
              "      <td>700</td>\n",
              "      <td>50</td>\n",
              "      <td>160</td>\n",
              "      <td>110</td>\n",
              "      <td>160</td>\n",
              "      <td>110</td>\n",
              "      <td>110</td>\n",
              "      <td>6</td>\n",
              "      <td>True</td>\n",
              "    </tr>\n",
              "    <tr>\n",
              "      <th>797</th>\n",
              "      <td>720</td>\n",
              "      <td>HoopaHoopa Confined</td>\n",
              "      <td>Psychic</td>\n",
              "      <td>Ghost</td>\n",
              "      <td>600</td>\n",
              "      <td>80</td>\n",
              "      <td>110</td>\n",
              "      <td>60</td>\n",
              "      <td>150</td>\n",
              "      <td>130</td>\n",
              "      <td>70</td>\n",
              "      <td>6</td>\n",
              "      <td>True</td>\n",
              "    </tr>\n",
              "    <tr>\n",
              "      <th>798</th>\n",
              "      <td>720</td>\n",
              "      <td>HoopaHoopa Unbound</td>\n",
              "      <td>Psychic</td>\n",
              "      <td>Dark</td>\n",
              "      <td>680</td>\n",
              "      <td>80</td>\n",
              "      <td>160</td>\n",
              "      <td>60</td>\n",
              "      <td>170</td>\n",
              "      <td>130</td>\n",
              "      <td>80</td>\n",
              "      <td>6</td>\n",
              "      <td>True</td>\n",
              "    </tr>\n",
              "  </tbody>\n",
              "</table>\n",
              "<p>799 rows × 13 columns</p>\n",
              "</div>"
            ],
            "text/plain": [
              "       #                   Name   Type 1  ... Speed  Generation  Legendary\n",
              "0      1              Bulbasaur    Grass  ...    45           1      False\n",
              "1      2                Ivysaur    Grass  ...    60           1      False\n",
              "2      3               Venusaur    Grass  ...    80           1      False\n",
              "3      3  VenusaurMega Venusaur    Grass  ...    80           1      False\n",
              "4      4             Charmander     Fire  ...    65           1      False\n",
              "..   ...                    ...      ...  ...   ...         ...        ...\n",
              "794  718       Zygarde50% Forme   Dragon  ...    95           6       True\n",
              "795  719                Diancie     Rock  ...    50           6       True\n",
              "796  719    DiancieMega Diancie     Rock  ...   110           6       True\n",
              "797  720    HoopaHoopa Confined  Psychic  ...    70           6       True\n",
              "798  720     HoopaHoopa Unbound  Psychic  ...    80           6       True\n",
              "\n",
              "[799 rows x 13 columns]"
            ]
          },
          "metadata": {
            "tags": []
          },
          "execution_count": 2
        }
      ]
    },
    {
      "cell_type": "markdown",
      "metadata": {
        "id": "P_R3bsexgdzC"
      },
      "source": [
        "Varias ventajas de Pandas son el poder trabajar de manera separada con columnas o filas específicas de la base de datos."
      ]
    },
    {
      "cell_type": "code",
      "metadata": {
        "colab": {
          "base_uri": "https://localhost:8080/"
        },
        "id": "P2RZQTAmZKF5",
        "outputId": "e5e39991-b38a-4f0a-8599-8eb4770d1bcc"
      },
      "source": [
        "# Si quieren selecionar los encabezados\n",
        "print(pokemon.columns)"
      ],
      "execution_count": null,
      "outputs": [
        {
          "output_type": "stream",
          "text": [
            "Index(['#', 'Name', 'Type 1', 'Type 2', 'Total', 'HP', 'Attack', 'Defense',\n",
            "       'Sp. Atk', 'Sp. Def', 'Speed', 'Generation', 'Legendary'],\n",
            "      dtype='object')\n"
          ],
          "name": "stdout"
        }
      ]
    },
    {
      "cell_type": "code",
      "metadata": {
        "colab": {
          "base_uri": "https://localhost:8080/"
        },
        "id": "72Tkp6ClZKC7",
        "outputId": "d94cee3f-a2a7-47c5-cb3d-8d222c15d29f"
      },
      "source": [
        "# Seleccionar una columna específica\n",
        "print(pokemon['Name'])"
      ],
      "execution_count": null,
      "outputs": [
        {
          "output_type": "stream",
          "text": [
            "0                  Bulbasaur\n",
            "1                    Ivysaur\n",
            "2                   Venusaur\n",
            "3      VenusaurMega Venusaur\n",
            "4                 Charmander\n",
            "               ...          \n",
            "795                  Diancie\n",
            "796      DiancieMega Diancie\n",
            "797      HoopaHoopa Confined\n",
            "798       HoopaHoopa Unbound\n",
            "799                Volcanion\n",
            "Name: Name, Length: 800, dtype: object\n"
          ],
          "name": "stdout"
        }
      ]
    },
    {
      "cell_type": "markdown",
      "metadata": {
        "id": "zZfr_y6thPUy"
      },
      "source": [
        "Si desean desplegar información en un rango específico"
      ]
    },
    {
      "cell_type": "code",
      "metadata": {
        "colab": {
          "base_uri": "https://localhost:8080/"
        },
        "id": "4XNR6gFyZKAH",
        "outputId": "28ae8685-318e-4dca-c10b-d9fde1fa7c1f"
      },
      "source": [
        "print(pokemon['Name'][0:12])"
      ],
      "execution_count": null,
      "outputs": [
        {
          "output_type": "stream",
          "text": [
            "0                     Bulbasaur\n",
            "1                       Ivysaur\n",
            "2                      Venusaur\n",
            "3         VenusaurMega Venusaur\n",
            "4                    Charmander\n",
            "5                    Charmeleon\n",
            "6                     Charizard\n",
            "7     CharizardMega Charizard X\n",
            "8     CharizardMega Charizard Y\n",
            "9                      Squirtle\n",
            "10                    Wartortle\n",
            "11                    Blastoise\n",
            "Name: Name, dtype: object\n"
          ],
          "name": "stdout"
        }
      ]
    },
    {
      "cell_type": "markdown",
      "metadata": {
        "id": "_lv2Am0Xhwa6"
      },
      "source": [
        "Si desean crear un subconjunto de datos a partir de su base original deben poner una **lista** entre los corchetes []"
      ]
    },
    {
      "cell_type": "code",
      "metadata": {
        "colab": {
          "base_uri": "https://localhost:8080/",
          "height": 415
        },
        "id": "CqKF_DXgZJ9H",
        "outputId": "b6fb85ea-c6c7-4f8d-84ef-5cb6fdfeaa7b"
      },
      "source": [
        "# Crear un conjunto con los Pokemon de la 1er generación\n",
        "pokemon[['Name','Type 1']][0:151]"
      ],
      "execution_count": null,
      "outputs": [
        {
          "output_type": "execute_result",
          "data": {
            "text/html": [
              "<div>\n",
              "<style scoped>\n",
              "    .dataframe tbody tr th:only-of-type {\n",
              "        vertical-align: middle;\n",
              "    }\n",
              "\n",
              "    .dataframe tbody tr th {\n",
              "        vertical-align: top;\n",
              "    }\n",
              "\n",
              "    .dataframe thead th {\n",
              "        text-align: right;\n",
              "    }\n",
              "</style>\n",
              "<table border=\"1\" class=\"dataframe\">\n",
              "  <thead>\n",
              "    <tr style=\"text-align: right;\">\n",
              "      <th></th>\n",
              "      <th>Name</th>\n",
              "      <th>Type 1</th>\n",
              "    </tr>\n",
              "  </thead>\n",
              "  <tbody>\n",
              "    <tr>\n",
              "      <th>0</th>\n",
              "      <td>Bulbasaur</td>\n",
              "      <td>Grass</td>\n",
              "    </tr>\n",
              "    <tr>\n",
              "      <th>1</th>\n",
              "      <td>Ivysaur</td>\n",
              "      <td>Grass</td>\n",
              "    </tr>\n",
              "    <tr>\n",
              "      <th>2</th>\n",
              "      <td>Venusaur</td>\n",
              "      <td>Grass</td>\n",
              "    </tr>\n",
              "    <tr>\n",
              "      <th>3</th>\n",
              "      <td>VenusaurMega Venusaur</td>\n",
              "      <td>Grass</td>\n",
              "    </tr>\n",
              "    <tr>\n",
              "      <th>4</th>\n",
              "      <td>Charmander</td>\n",
              "      <td>Fire</td>\n",
              "    </tr>\n",
              "    <tr>\n",
              "      <th>...</th>\n",
              "      <td>...</td>\n",
              "      <td>...</td>\n",
              "    </tr>\n",
              "    <tr>\n",
              "      <th>146</th>\n",
              "      <td>Jolteon</td>\n",
              "      <td>Electric</td>\n",
              "    </tr>\n",
              "    <tr>\n",
              "      <th>147</th>\n",
              "      <td>Flareon</td>\n",
              "      <td>Fire</td>\n",
              "    </tr>\n",
              "    <tr>\n",
              "      <th>148</th>\n",
              "      <td>Porygon</td>\n",
              "      <td>Normal</td>\n",
              "    </tr>\n",
              "    <tr>\n",
              "      <th>149</th>\n",
              "      <td>Omanyte</td>\n",
              "      <td>Rock</td>\n",
              "    </tr>\n",
              "    <tr>\n",
              "      <th>150</th>\n",
              "      <td>Omastar</td>\n",
              "      <td>Rock</td>\n",
              "    </tr>\n",
              "  </tbody>\n",
              "</table>\n",
              "<p>151 rows × 2 columns</p>\n",
              "</div>"
            ],
            "text/plain": [
              "                      Name    Type 1\n",
              "0                Bulbasaur     Grass\n",
              "1                  Ivysaur     Grass\n",
              "2                 Venusaur     Grass\n",
              "3    VenusaurMega Venusaur     Grass\n",
              "4               Charmander      Fire\n",
              "..                     ...       ...\n",
              "146                Jolteon  Electric\n",
              "147                Flareon      Fire\n",
              "148                Porygon    Normal\n",
              "149                Omanyte      Rock\n",
              "150                Omastar      Rock\n",
              "\n",
              "[151 rows x 2 columns]"
            ]
          },
          "metadata": {
            "tags": []
          },
          "execution_count": 13
        }
      ]
    },
    {
      "cell_type": "markdown",
      "metadata": {
        "id": "FfXJ_R-Ei3V2"
      },
      "source": [
        "Para leer columnas específicas debemos usar el comando *iloc[]*.\n",
        "\n",
        "Este comando permite localizar **índices específicos** dentro de la base de datos."
      ]
    },
    {
      "cell_type": "code",
      "metadata": {
        "colab": {
          "base_uri": "https://localhost:8080/"
        },
        "id": "ZYSukE0jZJ6V",
        "outputId": "5a58b8f5-6050-47dc-c075-27b8ce6f2553"
      },
      "source": [
        "# Vamos a seleccionar a Bulbasaur y su cadena evolutiva\n",
        "print(pokemon.iloc[0:5])"
      ],
      "execution_count": null,
      "outputs": [
        {
          "output_type": "stream",
          "text": [
            "   #                   Name Type 1  ... Speed  Generation  Legendary\n",
            "0  1              Bulbasaur  Grass  ...    45           1      False\n",
            "1  2                Ivysaur  Grass  ...    60           1      False\n",
            "2  3               Venusaur  Grass  ...    80           1      False\n",
            "3  3  VenusaurMega Venusaur  Grass  ...    80           1      False\n",
            "4  4             Charmander   Fire  ...    65           1      False\n",
            "\n",
            "[5 rows x 13 columns]\n"
          ],
          "name": "stdout"
        }
      ]
    },
    {
      "cell_type": "markdown",
      "metadata": {
        "id": "FaR5mFsLjY1J"
      },
      "source": [
        "El comando *iloc[]* devuelve todas las columnas que pertenezcan a ese (o esos) índices."
      ]
    },
    {
      "cell_type": "code",
      "metadata": {
        "colab": {
          "base_uri": "https://localhost:8080/"
        },
        "id": "12ujln-PZJ3T",
        "outputId": "d2e24186-46c0-4fe8-fda0-88236b00f1b6"
      },
      "source": [
        "# Hacemos lo mismo con Charmander\n",
        "print(pokemon.iloc[4:9])"
      ],
      "execution_count": null,
      "outputs": [
        {
          "output_type": "stream",
          "text": [
            "   #                       Name Type 1  ... Speed  Generation  Legendary\n",
            "4  4                 Charmander   Fire  ...    65           1      False\n",
            "5  5                 Charmeleon   Fire  ...    80           1      False\n",
            "6  6                  Charizard   Fire  ...   100           1      False\n",
            "7  6  CharizardMega Charizard X   Fire  ...   100           1      False\n",
            "8  6  CharizardMega Charizard Y   Fire  ...   100           1      False\n",
            "\n",
            "[5 rows x 13 columns]\n"
          ],
          "name": "stdout"
        }
      ]
    },
    {
      "cell_type": "markdown",
      "metadata": {
        "id": "j9BqbFBDkDMU"
      },
      "source": [
        "Ahora, este método tiene un incoveniente. Si no conocemos el índice de los datos pues hay un problema.\n",
        "\n",
        "Una solución es usar el comando *loc[]*. Este comando devuelve todas las filas que cumplan con la condición establecida."
      ]
    },
    {
      "cell_type": "code",
      "metadata": {
        "colab": {
          "base_uri": "https://localhost:8080/",
          "height": 110
        },
        "id": "GdfCeZseZJ0C",
        "outputId": "bea9c694-bf37-4a43-ff04-1bb325e2abdd"
      },
      "source": [
        "# Buscamos todos los Pokemon que tengan un valor de HP\n",
        "# base mayor a 200\n",
        "\n",
        "pokemon.loc[pokemon.HP > 200]"
      ],
      "execution_count": null,
      "outputs": [
        {
          "output_type": "execute_result",
          "data": {
            "text/html": [
              "<div>\n",
              "<style scoped>\n",
              "    .dataframe tbody tr th:only-of-type {\n",
              "        vertical-align: middle;\n",
              "    }\n",
              "\n",
              "    .dataframe tbody tr th {\n",
              "        vertical-align: top;\n",
              "    }\n",
              "\n",
              "    .dataframe thead th {\n",
              "        text-align: right;\n",
              "    }\n",
              "</style>\n",
              "<table border=\"1\" class=\"dataframe\">\n",
              "  <thead>\n",
              "    <tr style=\"text-align: right;\">\n",
              "      <th></th>\n",
              "      <th>#</th>\n",
              "      <th>Name</th>\n",
              "      <th>Type 1</th>\n",
              "      <th>Type 2</th>\n",
              "      <th>Total</th>\n",
              "      <th>HP</th>\n",
              "      <th>Attack</th>\n",
              "      <th>Defense</th>\n",
              "      <th>Sp. Atk</th>\n",
              "      <th>Sp. Def</th>\n",
              "      <th>Speed</th>\n",
              "      <th>Generation</th>\n",
              "      <th>Legendary</th>\n",
              "    </tr>\n",
              "  </thead>\n",
              "  <tbody>\n",
              "    <tr>\n",
              "      <th>121</th>\n",
              "      <td>113</td>\n",
              "      <td>Chansey</td>\n",
              "      <td>Normal</td>\n",
              "      <td>NaN</td>\n",
              "      <td>450</td>\n",
              "      <td>250</td>\n",
              "      <td>5</td>\n",
              "      <td>5</td>\n",
              "      <td>35</td>\n",
              "      <td>105</td>\n",
              "      <td>50</td>\n",
              "      <td>1</td>\n",
              "      <td>False</td>\n",
              "    </tr>\n",
              "    <tr>\n",
              "      <th>261</th>\n",
              "      <td>242</td>\n",
              "      <td>Blissey</td>\n",
              "      <td>Normal</td>\n",
              "      <td>NaN</td>\n",
              "      <td>540</td>\n",
              "      <td>255</td>\n",
              "      <td>10</td>\n",
              "      <td>10</td>\n",
              "      <td>75</td>\n",
              "      <td>135</td>\n",
              "      <td>55</td>\n",
              "      <td>2</td>\n",
              "      <td>False</td>\n",
              "    </tr>\n",
              "  </tbody>\n",
              "</table>\n",
              "</div>"
            ],
            "text/plain": [
              "       #     Name  Type 1 Type 2  ...  Sp. Def  Speed  Generation  Legendary\n",
              "121  113  Chansey  Normal    NaN  ...      105     50           1      False\n",
              "261  242  Blissey  Normal    NaN  ...      135     55           2      False\n",
              "\n",
              "[2 rows x 13 columns]"
            ]
          },
          "metadata": {
            "tags": []
          },
          "execution_count": 17
        }
      ]
    },
    {
      "cell_type": "code",
      "metadata": {
        "colab": {
          "base_uri": "https://localhost:8080/",
          "height": 415
        },
        "id": "va13X2MeZJwx",
        "outputId": "7e595798-0111-4621-d269-1cc4eaf27b41"
      },
      "source": [
        "# Seleccionamos los Pokemon legendarios\n",
        "pokemon.loc[pokemon.Legendary == True]"
      ],
      "execution_count": null,
      "outputs": [
        {
          "output_type": "execute_result",
          "data": {
            "text/html": [
              "<div>\n",
              "<style scoped>\n",
              "    .dataframe tbody tr th:only-of-type {\n",
              "        vertical-align: middle;\n",
              "    }\n",
              "\n",
              "    .dataframe tbody tr th {\n",
              "        vertical-align: top;\n",
              "    }\n",
              "\n",
              "    .dataframe thead th {\n",
              "        text-align: right;\n",
              "    }\n",
              "</style>\n",
              "<table border=\"1\" class=\"dataframe\">\n",
              "  <thead>\n",
              "    <tr style=\"text-align: right;\">\n",
              "      <th></th>\n",
              "      <th>#</th>\n",
              "      <th>Name</th>\n",
              "      <th>Type 1</th>\n",
              "      <th>Type 2</th>\n",
              "      <th>Total</th>\n",
              "      <th>HP</th>\n",
              "      <th>Attack</th>\n",
              "      <th>Defense</th>\n",
              "      <th>Sp. Atk</th>\n",
              "      <th>Sp. Def</th>\n",
              "      <th>Speed</th>\n",
              "      <th>Generation</th>\n",
              "      <th>Legendary</th>\n",
              "    </tr>\n",
              "  </thead>\n",
              "  <tbody>\n",
              "    <tr>\n",
              "      <th>156</th>\n",
              "      <td>144</td>\n",
              "      <td>Articuno</td>\n",
              "      <td>Ice</td>\n",
              "      <td>Flying</td>\n",
              "      <td>580</td>\n",
              "      <td>90</td>\n",
              "      <td>85</td>\n",
              "      <td>100</td>\n",
              "      <td>95</td>\n",
              "      <td>125</td>\n",
              "      <td>85</td>\n",
              "      <td>1</td>\n",
              "      <td>True</td>\n",
              "    </tr>\n",
              "    <tr>\n",
              "      <th>157</th>\n",
              "      <td>145</td>\n",
              "      <td>Zapdos</td>\n",
              "      <td>Electric</td>\n",
              "      <td>Flying</td>\n",
              "      <td>580</td>\n",
              "      <td>90</td>\n",
              "      <td>90</td>\n",
              "      <td>85</td>\n",
              "      <td>125</td>\n",
              "      <td>90</td>\n",
              "      <td>100</td>\n",
              "      <td>1</td>\n",
              "      <td>True</td>\n",
              "    </tr>\n",
              "    <tr>\n",
              "      <th>158</th>\n",
              "      <td>146</td>\n",
              "      <td>Moltres</td>\n",
              "      <td>Fire</td>\n",
              "      <td>Flying</td>\n",
              "      <td>580</td>\n",
              "      <td>90</td>\n",
              "      <td>100</td>\n",
              "      <td>90</td>\n",
              "      <td>125</td>\n",
              "      <td>85</td>\n",
              "      <td>90</td>\n",
              "      <td>1</td>\n",
              "      <td>True</td>\n",
              "    </tr>\n",
              "    <tr>\n",
              "      <th>162</th>\n",
              "      <td>150</td>\n",
              "      <td>Mewtwo</td>\n",
              "      <td>Psychic</td>\n",
              "      <td>NaN</td>\n",
              "      <td>680</td>\n",
              "      <td>106</td>\n",
              "      <td>110</td>\n",
              "      <td>90</td>\n",
              "      <td>154</td>\n",
              "      <td>90</td>\n",
              "      <td>130</td>\n",
              "      <td>1</td>\n",
              "      <td>True</td>\n",
              "    </tr>\n",
              "    <tr>\n",
              "      <th>163</th>\n",
              "      <td>150</td>\n",
              "      <td>MewtwoMega Mewtwo X</td>\n",
              "      <td>Psychic</td>\n",
              "      <td>Fighting</td>\n",
              "      <td>780</td>\n",
              "      <td>106</td>\n",
              "      <td>190</td>\n",
              "      <td>100</td>\n",
              "      <td>154</td>\n",
              "      <td>100</td>\n",
              "      <td>130</td>\n",
              "      <td>1</td>\n",
              "      <td>True</td>\n",
              "    </tr>\n",
              "    <tr>\n",
              "      <th>...</th>\n",
              "      <td>...</td>\n",
              "      <td>...</td>\n",
              "      <td>...</td>\n",
              "      <td>...</td>\n",
              "      <td>...</td>\n",
              "      <td>...</td>\n",
              "      <td>...</td>\n",
              "      <td>...</td>\n",
              "      <td>...</td>\n",
              "      <td>...</td>\n",
              "      <td>...</td>\n",
              "      <td>...</td>\n",
              "      <td>...</td>\n",
              "    </tr>\n",
              "    <tr>\n",
              "      <th>795</th>\n",
              "      <td>719</td>\n",
              "      <td>Diancie</td>\n",
              "      <td>Rock</td>\n",
              "      <td>Fairy</td>\n",
              "      <td>600</td>\n",
              "      <td>50</td>\n",
              "      <td>100</td>\n",
              "      <td>150</td>\n",
              "      <td>100</td>\n",
              "      <td>150</td>\n",
              "      <td>50</td>\n",
              "      <td>6</td>\n",
              "      <td>True</td>\n",
              "    </tr>\n",
              "    <tr>\n",
              "      <th>796</th>\n",
              "      <td>719</td>\n",
              "      <td>DiancieMega Diancie</td>\n",
              "      <td>Rock</td>\n",
              "      <td>Fairy</td>\n",
              "      <td>700</td>\n",
              "      <td>50</td>\n",
              "      <td>160</td>\n",
              "      <td>110</td>\n",
              "      <td>160</td>\n",
              "      <td>110</td>\n",
              "      <td>110</td>\n",
              "      <td>6</td>\n",
              "      <td>True</td>\n",
              "    </tr>\n",
              "    <tr>\n",
              "      <th>797</th>\n",
              "      <td>720</td>\n",
              "      <td>HoopaHoopa Confined</td>\n",
              "      <td>Psychic</td>\n",
              "      <td>Ghost</td>\n",
              "      <td>600</td>\n",
              "      <td>80</td>\n",
              "      <td>110</td>\n",
              "      <td>60</td>\n",
              "      <td>150</td>\n",
              "      <td>130</td>\n",
              "      <td>70</td>\n",
              "      <td>6</td>\n",
              "      <td>True</td>\n",
              "    </tr>\n",
              "    <tr>\n",
              "      <th>798</th>\n",
              "      <td>720</td>\n",
              "      <td>HoopaHoopa Unbound</td>\n",
              "      <td>Psychic</td>\n",
              "      <td>Dark</td>\n",
              "      <td>680</td>\n",
              "      <td>80</td>\n",
              "      <td>160</td>\n",
              "      <td>60</td>\n",
              "      <td>170</td>\n",
              "      <td>130</td>\n",
              "      <td>80</td>\n",
              "      <td>6</td>\n",
              "      <td>True</td>\n",
              "    </tr>\n",
              "    <tr>\n",
              "      <th>799</th>\n",
              "      <td>721</td>\n",
              "      <td>Volcanion</td>\n",
              "      <td>Fire</td>\n",
              "      <td>Water</td>\n",
              "      <td>600</td>\n",
              "      <td>80</td>\n",
              "      <td>110</td>\n",
              "      <td>120</td>\n",
              "      <td>130</td>\n",
              "      <td>90</td>\n",
              "      <td>70</td>\n",
              "      <td>6</td>\n",
              "      <td>True</td>\n",
              "    </tr>\n",
              "  </tbody>\n",
              "</table>\n",
              "<p>65 rows × 13 columns</p>\n",
              "</div>"
            ],
            "text/plain": [
              "       #                 Name    Type 1  ... Speed  Generation  Legendary\n",
              "156  144             Articuno       Ice  ...    85           1       True\n",
              "157  145               Zapdos  Electric  ...   100           1       True\n",
              "158  146              Moltres      Fire  ...    90           1       True\n",
              "162  150               Mewtwo   Psychic  ...   130           1       True\n",
              "163  150  MewtwoMega Mewtwo X   Psychic  ...   130           1       True\n",
              "..   ...                  ...       ...  ...   ...         ...        ...\n",
              "795  719              Diancie      Rock  ...    50           6       True\n",
              "796  719  DiancieMega Diancie      Rock  ...   110           6       True\n",
              "797  720  HoopaHoopa Confined   Psychic  ...    70           6       True\n",
              "798  720   HoopaHoopa Unbound   Psychic  ...    80           6       True\n",
              "799  721            Volcanion      Fire  ...    70           6       True\n",
              "\n",
              "[65 rows x 13 columns]"
            ]
          },
          "metadata": {
            "tags": []
          },
          "execution_count": 20
        }
      ]
    },
    {
      "cell_type": "code",
      "metadata": {
        "colab": {
          "base_uri": "https://localhost:8080/",
          "height": 1000
        },
        "id": "FV--q4sKsLom",
        "outputId": "f14b36b1-57c6-4978-b307-c783ed39e4a3"
      },
      "source": [
        "# Seleccionar los Pokemon que sean tipo dragón\n",
        "\n",
        "pokemon.loc[pokemon['Type 1'] == 'Dragon']"
      ],
      "execution_count": null,
      "outputs": [
        {
          "output_type": "execute_result",
          "data": {
            "text/html": [
              "<div>\n",
              "<style scoped>\n",
              "    .dataframe tbody tr th:only-of-type {\n",
              "        vertical-align: middle;\n",
              "    }\n",
              "\n",
              "    .dataframe tbody tr th {\n",
              "        vertical-align: top;\n",
              "    }\n",
              "\n",
              "    .dataframe thead th {\n",
              "        text-align: right;\n",
              "    }\n",
              "</style>\n",
              "<table border=\"1\" class=\"dataframe\">\n",
              "  <thead>\n",
              "    <tr style=\"text-align: right;\">\n",
              "      <th></th>\n",
              "      <th>#</th>\n",
              "      <th>Name</th>\n",
              "      <th>Type 1</th>\n",
              "      <th>Type 2</th>\n",
              "      <th>Total</th>\n",
              "      <th>HP</th>\n",
              "      <th>Attack</th>\n",
              "      <th>Defense</th>\n",
              "      <th>Sp. Atk</th>\n",
              "      <th>Sp. Def</th>\n",
              "      <th>Speed</th>\n",
              "      <th>Generation</th>\n",
              "      <th>Legendary</th>\n",
              "    </tr>\n",
              "  </thead>\n",
              "  <tbody>\n",
              "    <tr>\n",
              "      <th>159</th>\n",
              "      <td>147</td>\n",
              "      <td>Dratini</td>\n",
              "      <td>Dragon</td>\n",
              "      <td>NaN</td>\n",
              "      <td>300</td>\n",
              "      <td>41</td>\n",
              "      <td>64</td>\n",
              "      <td>45</td>\n",
              "      <td>50</td>\n",
              "      <td>50</td>\n",
              "      <td>50</td>\n",
              "      <td>1</td>\n",
              "      <td>False</td>\n",
              "    </tr>\n",
              "    <tr>\n",
              "      <th>160</th>\n",
              "      <td>148</td>\n",
              "      <td>Dragonair</td>\n",
              "      <td>Dragon</td>\n",
              "      <td>NaN</td>\n",
              "      <td>420</td>\n",
              "      <td>61</td>\n",
              "      <td>84</td>\n",
              "      <td>65</td>\n",
              "      <td>70</td>\n",
              "      <td>70</td>\n",
              "      <td>70</td>\n",
              "      <td>1</td>\n",
              "      <td>False</td>\n",
              "    </tr>\n",
              "    <tr>\n",
              "      <th>161</th>\n",
              "      <td>149</td>\n",
              "      <td>Dragonite</td>\n",
              "      <td>Dragon</td>\n",
              "      <td>Flying</td>\n",
              "      <td>600</td>\n",
              "      <td>91</td>\n",
              "      <td>134</td>\n",
              "      <td>95</td>\n",
              "      <td>100</td>\n",
              "      <td>100</td>\n",
              "      <td>80</td>\n",
              "      <td>1</td>\n",
              "      <td>False</td>\n",
              "    </tr>\n",
              "    <tr>\n",
              "      <th>365</th>\n",
              "      <td>334</td>\n",
              "      <td>Altaria</td>\n",
              "      <td>Dragon</td>\n",
              "      <td>Flying</td>\n",
              "      <td>490</td>\n",
              "      <td>75</td>\n",
              "      <td>70</td>\n",
              "      <td>90</td>\n",
              "      <td>70</td>\n",
              "      <td>105</td>\n",
              "      <td>80</td>\n",
              "      <td>3</td>\n",
              "      <td>False</td>\n",
              "    </tr>\n",
              "    <tr>\n",
              "      <th>366</th>\n",
              "      <td>334</td>\n",
              "      <td>AltariaMega Altaria</td>\n",
              "      <td>Dragon</td>\n",
              "      <td>Fairy</td>\n",
              "      <td>590</td>\n",
              "      <td>75</td>\n",
              "      <td>110</td>\n",
              "      <td>110</td>\n",
              "      <td>110</td>\n",
              "      <td>105</td>\n",
              "      <td>80</td>\n",
              "      <td>3</td>\n",
              "      <td>False</td>\n",
              "    </tr>\n",
              "    <tr>\n",
              "      <th>406</th>\n",
              "      <td>371</td>\n",
              "      <td>Bagon</td>\n",
              "      <td>Dragon</td>\n",
              "      <td>NaN</td>\n",
              "      <td>300</td>\n",
              "      <td>45</td>\n",
              "      <td>75</td>\n",
              "      <td>60</td>\n",
              "      <td>40</td>\n",
              "      <td>30</td>\n",
              "      <td>50</td>\n",
              "      <td>3</td>\n",
              "      <td>False</td>\n",
              "    </tr>\n",
              "    <tr>\n",
              "      <th>407</th>\n",
              "      <td>372</td>\n",
              "      <td>Shelgon</td>\n",
              "      <td>Dragon</td>\n",
              "      <td>NaN</td>\n",
              "      <td>420</td>\n",
              "      <td>65</td>\n",
              "      <td>95</td>\n",
              "      <td>100</td>\n",
              "      <td>60</td>\n",
              "      <td>50</td>\n",
              "      <td>50</td>\n",
              "      <td>3</td>\n",
              "      <td>False</td>\n",
              "    </tr>\n",
              "    <tr>\n",
              "      <th>408</th>\n",
              "      <td>373</td>\n",
              "      <td>Salamence</td>\n",
              "      <td>Dragon</td>\n",
              "      <td>Flying</td>\n",
              "      <td>600</td>\n",
              "      <td>95</td>\n",
              "      <td>135</td>\n",
              "      <td>80</td>\n",
              "      <td>110</td>\n",
              "      <td>80</td>\n",
              "      <td>100</td>\n",
              "      <td>3</td>\n",
              "      <td>False</td>\n",
              "    </tr>\n",
              "    <tr>\n",
              "      <th>409</th>\n",
              "      <td>373</td>\n",
              "      <td>SalamenceMega Salamence</td>\n",
              "      <td>Dragon</td>\n",
              "      <td>Flying</td>\n",
              "      <td>700</td>\n",
              "      <td>95</td>\n",
              "      <td>145</td>\n",
              "      <td>130</td>\n",
              "      <td>120</td>\n",
              "      <td>90</td>\n",
              "      <td>120</td>\n",
              "      <td>3</td>\n",
              "      <td>False</td>\n",
              "    </tr>\n",
              "    <tr>\n",
              "      <th>417</th>\n",
              "      <td>380</td>\n",
              "      <td>Latias</td>\n",
              "      <td>Dragon</td>\n",
              "      <td>Psychic</td>\n",
              "      <td>600</td>\n",
              "      <td>80</td>\n",
              "      <td>80</td>\n",
              "      <td>90</td>\n",
              "      <td>110</td>\n",
              "      <td>130</td>\n",
              "      <td>110</td>\n",
              "      <td>3</td>\n",
              "      <td>True</td>\n",
              "    </tr>\n",
              "    <tr>\n",
              "      <th>418</th>\n",
              "      <td>380</td>\n",
              "      <td>LatiasMega Latias</td>\n",
              "      <td>Dragon</td>\n",
              "      <td>Psychic</td>\n",
              "      <td>700</td>\n",
              "      <td>80</td>\n",
              "      <td>100</td>\n",
              "      <td>120</td>\n",
              "      <td>140</td>\n",
              "      <td>150</td>\n",
              "      <td>110</td>\n",
              "      <td>3</td>\n",
              "      <td>True</td>\n",
              "    </tr>\n",
              "    <tr>\n",
              "      <th>419</th>\n",
              "      <td>381</td>\n",
              "      <td>Latios</td>\n",
              "      <td>Dragon</td>\n",
              "      <td>Psychic</td>\n",
              "      <td>600</td>\n",
              "      <td>80</td>\n",
              "      <td>90</td>\n",
              "      <td>80</td>\n",
              "      <td>130</td>\n",
              "      <td>110</td>\n",
              "      <td>110</td>\n",
              "      <td>3</td>\n",
              "      <td>True</td>\n",
              "    </tr>\n",
              "    <tr>\n",
              "      <th>420</th>\n",
              "      <td>381</td>\n",
              "      <td>LatiosMega Latios</td>\n",
              "      <td>Dragon</td>\n",
              "      <td>Psychic</td>\n",
              "      <td>700</td>\n",
              "      <td>80</td>\n",
              "      <td>130</td>\n",
              "      <td>100</td>\n",
              "      <td>160</td>\n",
              "      <td>120</td>\n",
              "      <td>110</td>\n",
              "      <td>3</td>\n",
              "      <td>True</td>\n",
              "    </tr>\n",
              "    <tr>\n",
              "      <th>425</th>\n",
              "      <td>384</td>\n",
              "      <td>Rayquaza</td>\n",
              "      <td>Dragon</td>\n",
              "      <td>Flying</td>\n",
              "      <td>680</td>\n",
              "      <td>105</td>\n",
              "      <td>150</td>\n",
              "      <td>90</td>\n",
              "      <td>150</td>\n",
              "      <td>90</td>\n",
              "      <td>95</td>\n",
              "      <td>3</td>\n",
              "      <td>True</td>\n",
              "    </tr>\n",
              "    <tr>\n",
              "      <th>426</th>\n",
              "      <td>384</td>\n",
              "      <td>RayquazaMega Rayquaza</td>\n",
              "      <td>Dragon</td>\n",
              "      <td>Flying</td>\n",
              "      <td>780</td>\n",
              "      <td>105</td>\n",
              "      <td>180</td>\n",
              "      <td>100</td>\n",
              "      <td>180</td>\n",
              "      <td>100</td>\n",
              "      <td>115</td>\n",
              "      <td>3</td>\n",
              "      <td>True</td>\n",
              "    </tr>\n",
              "    <tr>\n",
              "      <th>491</th>\n",
              "      <td>443</td>\n",
              "      <td>Gible</td>\n",
              "      <td>Dragon</td>\n",
              "      <td>Ground</td>\n",
              "      <td>300</td>\n",
              "      <td>58</td>\n",
              "      <td>70</td>\n",
              "      <td>45</td>\n",
              "      <td>40</td>\n",
              "      <td>45</td>\n",
              "      <td>42</td>\n",
              "      <td>4</td>\n",
              "      <td>False</td>\n",
              "    </tr>\n",
              "    <tr>\n",
              "      <th>492</th>\n",
              "      <td>444</td>\n",
              "      <td>Gabite</td>\n",
              "      <td>Dragon</td>\n",
              "      <td>Ground</td>\n",
              "      <td>410</td>\n",
              "      <td>68</td>\n",
              "      <td>90</td>\n",
              "      <td>65</td>\n",
              "      <td>50</td>\n",
              "      <td>55</td>\n",
              "      <td>82</td>\n",
              "      <td>4</td>\n",
              "      <td>False</td>\n",
              "    </tr>\n",
              "    <tr>\n",
              "      <th>493</th>\n",
              "      <td>445</td>\n",
              "      <td>Garchomp</td>\n",
              "      <td>Dragon</td>\n",
              "      <td>Ground</td>\n",
              "      <td>600</td>\n",
              "      <td>108</td>\n",
              "      <td>130</td>\n",
              "      <td>95</td>\n",
              "      <td>80</td>\n",
              "      <td>85</td>\n",
              "      <td>102</td>\n",
              "      <td>4</td>\n",
              "      <td>False</td>\n",
              "    </tr>\n",
              "    <tr>\n",
              "      <th>494</th>\n",
              "      <td>445</td>\n",
              "      <td>GarchompMega Garchomp</td>\n",
              "      <td>Dragon</td>\n",
              "      <td>Ground</td>\n",
              "      <td>700</td>\n",
              "      <td>108</td>\n",
              "      <td>170</td>\n",
              "      <td>115</td>\n",
              "      <td>120</td>\n",
              "      <td>95</td>\n",
              "      <td>92</td>\n",
              "      <td>4</td>\n",
              "      <td>False</td>\n",
              "    </tr>\n",
              "    <tr>\n",
              "      <th>671</th>\n",
              "      <td>610</td>\n",
              "      <td>Axew</td>\n",
              "      <td>Dragon</td>\n",
              "      <td>NaN</td>\n",
              "      <td>320</td>\n",
              "      <td>46</td>\n",
              "      <td>87</td>\n",
              "      <td>60</td>\n",
              "      <td>30</td>\n",
              "      <td>40</td>\n",
              "      <td>57</td>\n",
              "      <td>5</td>\n",
              "      <td>False</td>\n",
              "    </tr>\n",
              "    <tr>\n",
              "      <th>672</th>\n",
              "      <td>611</td>\n",
              "      <td>Fraxure</td>\n",
              "      <td>Dragon</td>\n",
              "      <td>NaN</td>\n",
              "      <td>410</td>\n",
              "      <td>66</td>\n",
              "      <td>117</td>\n",
              "      <td>70</td>\n",
              "      <td>40</td>\n",
              "      <td>50</td>\n",
              "      <td>67</td>\n",
              "      <td>5</td>\n",
              "      <td>False</td>\n",
              "    </tr>\n",
              "    <tr>\n",
              "      <th>673</th>\n",
              "      <td>612</td>\n",
              "      <td>Haxorus</td>\n",
              "      <td>Dragon</td>\n",
              "      <td>NaN</td>\n",
              "      <td>540</td>\n",
              "      <td>76</td>\n",
              "      <td>147</td>\n",
              "      <td>90</td>\n",
              "      <td>60</td>\n",
              "      <td>70</td>\n",
              "      <td>97</td>\n",
              "      <td>5</td>\n",
              "      <td>False</td>\n",
              "    </tr>\n",
              "    <tr>\n",
              "      <th>682</th>\n",
              "      <td>621</td>\n",
              "      <td>Druddigon</td>\n",
              "      <td>Dragon</td>\n",
              "      <td>NaN</td>\n",
              "      <td>485</td>\n",
              "      <td>77</td>\n",
              "      <td>120</td>\n",
              "      <td>90</td>\n",
              "      <td>60</td>\n",
              "      <td>90</td>\n",
              "      <td>48</td>\n",
              "      <td>5</td>\n",
              "      <td>False</td>\n",
              "    </tr>\n",
              "    <tr>\n",
              "      <th>706</th>\n",
              "      <td>643</td>\n",
              "      <td>Reshiram</td>\n",
              "      <td>Dragon</td>\n",
              "      <td>Fire</td>\n",
              "      <td>680</td>\n",
              "      <td>100</td>\n",
              "      <td>120</td>\n",
              "      <td>100</td>\n",
              "      <td>150</td>\n",
              "      <td>120</td>\n",
              "      <td>90</td>\n",
              "      <td>5</td>\n",
              "      <td>True</td>\n",
              "    </tr>\n",
              "    <tr>\n",
              "      <th>707</th>\n",
              "      <td>644</td>\n",
              "      <td>Zekrom</td>\n",
              "      <td>Dragon</td>\n",
              "      <td>Electric</td>\n",
              "      <td>680</td>\n",
              "      <td>100</td>\n",
              "      <td>150</td>\n",
              "      <td>120</td>\n",
              "      <td>120</td>\n",
              "      <td>100</td>\n",
              "      <td>90</td>\n",
              "      <td>5</td>\n",
              "      <td>True</td>\n",
              "    </tr>\n",
              "    <tr>\n",
              "      <th>710</th>\n",
              "      <td>646</td>\n",
              "      <td>Kyurem</td>\n",
              "      <td>Dragon</td>\n",
              "      <td>Ice</td>\n",
              "      <td>660</td>\n",
              "      <td>125</td>\n",
              "      <td>130</td>\n",
              "      <td>90</td>\n",
              "      <td>130</td>\n",
              "      <td>90</td>\n",
              "      <td>95</td>\n",
              "      <td>5</td>\n",
              "      <td>True</td>\n",
              "    </tr>\n",
              "    <tr>\n",
              "      <th>711</th>\n",
              "      <td>646</td>\n",
              "      <td>KyuremBlack Kyurem</td>\n",
              "      <td>Dragon</td>\n",
              "      <td>Ice</td>\n",
              "      <td>700</td>\n",
              "      <td>125</td>\n",
              "      <td>170</td>\n",
              "      <td>100</td>\n",
              "      <td>120</td>\n",
              "      <td>90</td>\n",
              "      <td>95</td>\n",
              "      <td>5</td>\n",
              "      <td>True</td>\n",
              "    </tr>\n",
              "    <tr>\n",
              "      <th>712</th>\n",
              "      <td>646</td>\n",
              "      <td>KyuremWhite Kyurem</td>\n",
              "      <td>Dragon</td>\n",
              "      <td>Ice</td>\n",
              "      <td>700</td>\n",
              "      <td>125</td>\n",
              "      <td>120</td>\n",
              "      <td>90</td>\n",
              "      <td>170</td>\n",
              "      <td>100</td>\n",
              "      <td>95</td>\n",
              "      <td>5</td>\n",
              "      <td>True</td>\n",
              "    </tr>\n",
              "    <tr>\n",
              "      <th>774</th>\n",
              "      <td>704</td>\n",
              "      <td>Goomy</td>\n",
              "      <td>Dragon</td>\n",
              "      <td>NaN</td>\n",
              "      <td>300</td>\n",
              "      <td>45</td>\n",
              "      <td>50</td>\n",
              "      <td>35</td>\n",
              "      <td>55</td>\n",
              "      <td>75</td>\n",
              "      <td>40</td>\n",
              "      <td>6</td>\n",
              "      <td>False</td>\n",
              "    </tr>\n",
              "    <tr>\n",
              "      <th>775</th>\n",
              "      <td>705</td>\n",
              "      <td>Sliggoo</td>\n",
              "      <td>Dragon</td>\n",
              "      <td>NaN</td>\n",
              "      <td>452</td>\n",
              "      <td>68</td>\n",
              "      <td>75</td>\n",
              "      <td>53</td>\n",
              "      <td>83</td>\n",
              "      <td>113</td>\n",
              "      <td>60</td>\n",
              "      <td>6</td>\n",
              "      <td>False</td>\n",
              "    </tr>\n",
              "    <tr>\n",
              "      <th>776</th>\n",
              "      <td>706</td>\n",
              "      <td>Goodra</td>\n",
              "      <td>Dragon</td>\n",
              "      <td>NaN</td>\n",
              "      <td>600</td>\n",
              "      <td>90</td>\n",
              "      <td>100</td>\n",
              "      <td>70</td>\n",
              "      <td>110</td>\n",
              "      <td>150</td>\n",
              "      <td>80</td>\n",
              "      <td>6</td>\n",
              "      <td>False</td>\n",
              "    </tr>\n",
              "    <tr>\n",
              "      <th>794</th>\n",
              "      <td>718</td>\n",
              "      <td>Zygarde50% Forme</td>\n",
              "      <td>Dragon</td>\n",
              "      <td>Ground</td>\n",
              "      <td>600</td>\n",
              "      <td>108</td>\n",
              "      <td>100</td>\n",
              "      <td>121</td>\n",
              "      <td>81</td>\n",
              "      <td>95</td>\n",
              "      <td>95</td>\n",
              "      <td>6</td>\n",
              "      <td>True</td>\n",
              "    </tr>\n",
              "  </tbody>\n",
              "</table>\n",
              "</div>"
            ],
            "text/plain": [
              "       #                     Name  Type 1  ... Speed  Generation  Legendary\n",
              "159  147                  Dratini  Dragon  ...    50           1      False\n",
              "160  148                Dragonair  Dragon  ...    70           1      False\n",
              "161  149                Dragonite  Dragon  ...    80           1      False\n",
              "365  334                  Altaria  Dragon  ...    80           3      False\n",
              "366  334      AltariaMega Altaria  Dragon  ...    80           3      False\n",
              "406  371                    Bagon  Dragon  ...    50           3      False\n",
              "407  372                  Shelgon  Dragon  ...    50           3      False\n",
              "408  373                Salamence  Dragon  ...   100           3      False\n",
              "409  373  SalamenceMega Salamence  Dragon  ...   120           3      False\n",
              "417  380                   Latias  Dragon  ...   110           3       True\n",
              "418  380        LatiasMega Latias  Dragon  ...   110           3       True\n",
              "419  381                   Latios  Dragon  ...   110           3       True\n",
              "420  381        LatiosMega Latios  Dragon  ...   110           3       True\n",
              "425  384                 Rayquaza  Dragon  ...    95           3       True\n",
              "426  384    RayquazaMega Rayquaza  Dragon  ...   115           3       True\n",
              "491  443                    Gible  Dragon  ...    42           4      False\n",
              "492  444                   Gabite  Dragon  ...    82           4      False\n",
              "493  445                 Garchomp  Dragon  ...   102           4      False\n",
              "494  445    GarchompMega Garchomp  Dragon  ...    92           4      False\n",
              "671  610                     Axew  Dragon  ...    57           5      False\n",
              "672  611                  Fraxure  Dragon  ...    67           5      False\n",
              "673  612                  Haxorus  Dragon  ...    97           5      False\n",
              "682  621                Druddigon  Dragon  ...    48           5      False\n",
              "706  643                 Reshiram  Dragon  ...    90           5       True\n",
              "707  644                   Zekrom  Dragon  ...    90           5       True\n",
              "710  646                   Kyurem  Dragon  ...    95           5       True\n",
              "711  646       KyuremBlack Kyurem  Dragon  ...    95           5       True\n",
              "712  646       KyuremWhite Kyurem  Dragon  ...    95           5       True\n",
              "774  704                    Goomy  Dragon  ...    40           6      False\n",
              "775  705                  Sliggoo  Dragon  ...    60           6      False\n",
              "776  706                   Goodra  Dragon  ...    80           6      False\n",
              "794  718         Zygarde50% Forme  Dragon  ...    95           6       True\n",
              "\n",
              "[32 rows x 13 columns]"
            ]
          },
          "metadata": {
            "tags": []
          },
          "execution_count": 30
        }
      ]
    },
    {
      "cell_type": "code",
      "metadata": {
        "colab": {
          "base_uri": "https://localhost:8080/",
          "height": 254
        },
        "id": "EjyCE38cssPD",
        "outputId": "b940764f-df64-4986-d80a-a7426b265614"
      },
      "source": [
        "# Ahora Pokemon tipo Agua y que sean tipo Volador\n",
        "pokemon.loc[(pokemon['Type 1'] == 'Water') & (pokemon['Type 2'] == 'Flying')]"
      ],
      "execution_count": null,
      "outputs": [
        {
          "output_type": "execute_result",
          "data": {
            "text/html": [
              "<div>\n",
              "<style scoped>\n",
              "    .dataframe tbody tr th:only-of-type {\n",
              "        vertical-align: middle;\n",
              "    }\n",
              "\n",
              "    .dataframe tbody tr th {\n",
              "        vertical-align: top;\n",
              "    }\n",
              "\n",
              "    .dataframe thead th {\n",
              "        text-align: right;\n",
              "    }\n",
              "</style>\n",
              "<table border=\"1\" class=\"dataframe\">\n",
              "  <thead>\n",
              "    <tr style=\"text-align: right;\">\n",
              "      <th></th>\n",
              "      <th>#</th>\n",
              "      <th>Name</th>\n",
              "      <th>Type 1</th>\n",
              "      <th>Type 2</th>\n",
              "      <th>Total</th>\n",
              "      <th>HP</th>\n",
              "      <th>Attack</th>\n",
              "      <th>Defense</th>\n",
              "      <th>Sp. Atk</th>\n",
              "      <th>Sp. Def</th>\n",
              "      <th>Speed</th>\n",
              "      <th>Generation</th>\n",
              "      <th>Legendary</th>\n",
              "    </tr>\n",
              "  </thead>\n",
              "  <tbody>\n",
              "    <tr>\n",
              "      <th>140</th>\n",
              "      <td>130</td>\n",
              "      <td>Gyarados</td>\n",
              "      <td>Water</td>\n",
              "      <td>Flying</td>\n",
              "      <td>540</td>\n",
              "      <td>95</td>\n",
              "      <td>125</td>\n",
              "      <td>79</td>\n",
              "      <td>60</td>\n",
              "      <td>100</td>\n",
              "      <td>81</td>\n",
              "      <td>1</td>\n",
              "      <td>False</td>\n",
              "    </tr>\n",
              "    <tr>\n",
              "      <th>244</th>\n",
              "      <td>226</td>\n",
              "      <td>Mantine</td>\n",
              "      <td>Water</td>\n",
              "      <td>Flying</td>\n",
              "      <td>465</td>\n",
              "      <td>65</td>\n",
              "      <td>40</td>\n",
              "      <td>70</td>\n",
              "      <td>80</td>\n",
              "      <td>140</td>\n",
              "      <td>70</td>\n",
              "      <td>2</td>\n",
              "      <td>False</td>\n",
              "    </tr>\n",
              "    <tr>\n",
              "      <th>301</th>\n",
              "      <td>278</td>\n",
              "      <td>Wingull</td>\n",
              "      <td>Water</td>\n",
              "      <td>Flying</td>\n",
              "      <td>270</td>\n",
              "      <td>40</td>\n",
              "      <td>30</td>\n",
              "      <td>30</td>\n",
              "      <td>55</td>\n",
              "      <td>30</td>\n",
              "      <td>85</td>\n",
              "      <td>3</td>\n",
              "      <td>False</td>\n",
              "    </tr>\n",
              "    <tr>\n",
              "      <th>302</th>\n",
              "      <td>279</td>\n",
              "      <td>Pelipper</td>\n",
              "      <td>Water</td>\n",
              "      <td>Flying</td>\n",
              "      <td>430</td>\n",
              "      <td>60</td>\n",
              "      <td>50</td>\n",
              "      <td>100</td>\n",
              "      <td>85</td>\n",
              "      <td>70</td>\n",
              "      <td>65</td>\n",
              "      <td>3</td>\n",
              "      <td>False</td>\n",
              "    </tr>\n",
              "    <tr>\n",
              "      <th>508</th>\n",
              "      <td>458</td>\n",
              "      <td>Mantyke</td>\n",
              "      <td>Water</td>\n",
              "      <td>Flying</td>\n",
              "      <td>345</td>\n",
              "      <td>45</td>\n",
              "      <td>20</td>\n",
              "      <td>50</td>\n",
              "      <td>60</td>\n",
              "      <td>120</td>\n",
              "      <td>50</td>\n",
              "      <td>4</td>\n",
              "      <td>False</td>\n",
              "    </tr>\n",
              "    <tr>\n",
              "      <th>641</th>\n",
              "      <td>580</td>\n",
              "      <td>Ducklett</td>\n",
              "      <td>Water</td>\n",
              "      <td>Flying</td>\n",
              "      <td>305</td>\n",
              "      <td>62</td>\n",
              "      <td>44</td>\n",
              "      <td>50</td>\n",
              "      <td>44</td>\n",
              "      <td>50</td>\n",
              "      <td>55</td>\n",
              "      <td>5</td>\n",
              "      <td>False</td>\n",
              "    </tr>\n",
              "    <tr>\n",
              "      <th>642</th>\n",
              "      <td>581</td>\n",
              "      <td>Swanna</td>\n",
              "      <td>Water</td>\n",
              "      <td>Flying</td>\n",
              "      <td>473</td>\n",
              "      <td>75</td>\n",
              "      <td>87</td>\n",
              "      <td>63</td>\n",
              "      <td>87</td>\n",
              "      <td>63</td>\n",
              "      <td>98</td>\n",
              "      <td>5</td>\n",
              "      <td>False</td>\n",
              "    </tr>\n",
              "  </tbody>\n",
              "</table>\n",
              "</div>"
            ],
            "text/plain": [
              "       #      Name Type 1  Type 2  ...  Sp. Def  Speed  Generation  Legendary\n",
              "140  130  Gyarados  Water  Flying  ...      100     81           1      False\n",
              "244  226   Mantine  Water  Flying  ...      140     70           2      False\n",
              "301  278   Wingull  Water  Flying  ...       30     85           3      False\n",
              "302  279  Pelipper  Water  Flying  ...       70     65           3      False\n",
              "508  458   Mantyke  Water  Flying  ...      120     50           4      False\n",
              "641  580  Ducklett  Water  Flying  ...       50     55           5      False\n",
              "642  581    Swanna  Water  Flying  ...       63     98           5      False\n",
              "\n",
              "[7 rows x 13 columns]"
            ]
          },
          "metadata": {
            "tags": []
          },
          "execution_count": 3
        }
      ]
    },
    {
      "cell_type": "markdown",
      "metadata": {
        "id": "fLnLyyNFlcsK"
      },
      "source": [
        "Estos dos comandos no van a ser muy útiles para depurar las bases de datos o para buscar valores específicos."
      ]
    },
    {
      "cell_type": "markdown",
      "metadata": {
        "id": "97XCr96yeCjC"
      },
      "source": [
        "Si quieren hacer el filtrado de los datos con dos o más condiciones deben poner cada condicional dentro de paréntesis ()."
      ]
    },
    {
      "cell_type": "markdown",
      "metadata": {
        "id": "pJu5gtAZl94e"
      },
      "source": [
        "Si quisieran ordenar los datos sobre alguna característica se debe usar el comando *sort_values*."
      ]
    },
    {
      "cell_type": "code",
      "metadata": {
        "colab": {
          "base_uri": "https://localhost:8080/",
          "height": 415
        },
        "id": "d_e9CxaGZJtH",
        "outputId": "eff91c8d-fffc-41e0-a0c8-f34c3723cbf9"
      },
      "source": [
        "# Queremos ordenar los Pokemon con base a su Ataque\n",
        "pokemon.sort_values(by='Attack')"
      ],
      "execution_count": null,
      "outputs": [
        {
          "output_type": "execute_result",
          "data": {
            "text/html": [
              "<div>\n",
              "<style scoped>\n",
              "    .dataframe tbody tr th:only-of-type {\n",
              "        vertical-align: middle;\n",
              "    }\n",
              "\n",
              "    .dataframe tbody tr th {\n",
              "        vertical-align: top;\n",
              "    }\n",
              "\n",
              "    .dataframe thead th {\n",
              "        text-align: right;\n",
              "    }\n",
              "</style>\n",
              "<table border=\"1\" class=\"dataframe\">\n",
              "  <thead>\n",
              "    <tr style=\"text-align: right;\">\n",
              "      <th></th>\n",
              "      <th>#</th>\n",
              "      <th>Name</th>\n",
              "      <th>Type 1</th>\n",
              "      <th>Type 2</th>\n",
              "      <th>Total</th>\n",
              "      <th>HP</th>\n",
              "      <th>Attack</th>\n",
              "      <th>Defense</th>\n",
              "      <th>Sp. Atk</th>\n",
              "      <th>Sp. Def</th>\n",
              "      <th>Speed</th>\n",
              "      <th>Generation</th>\n",
              "      <th>Legendary</th>\n",
              "    </tr>\n",
              "  </thead>\n",
              "  <tbody>\n",
              "    <tr>\n",
              "      <th>488</th>\n",
              "      <td>440</td>\n",
              "      <td>Happiny</td>\n",
              "      <td>Normal</td>\n",
              "      <td>NaN</td>\n",
              "      <td>220</td>\n",
              "      <td>100</td>\n",
              "      <td>5</td>\n",
              "      <td>5</td>\n",
              "      <td>15</td>\n",
              "      <td>65</td>\n",
              "      <td>30</td>\n",
              "      <td>4</td>\n",
              "      <td>False</td>\n",
              "    </tr>\n",
              "    <tr>\n",
              "      <th>121</th>\n",
              "      <td>113</td>\n",
              "      <td>Chansey</td>\n",
              "      <td>Normal</td>\n",
              "      <td>NaN</td>\n",
              "      <td>450</td>\n",
              "      <td>250</td>\n",
              "      <td>5</td>\n",
              "      <td>5</td>\n",
              "      <td>35</td>\n",
              "      <td>105</td>\n",
              "      <td>50</td>\n",
              "      <td>1</td>\n",
              "      <td>False</td>\n",
              "    </tr>\n",
              "    <tr>\n",
              "      <th>230</th>\n",
              "      <td>213</td>\n",
              "      <td>Shuckle</td>\n",
              "      <td>Bug</td>\n",
              "      <td>Rock</td>\n",
              "      <td>505</td>\n",
              "      <td>20</td>\n",
              "      <td>10</td>\n",
              "      <td>230</td>\n",
              "      <td>10</td>\n",
              "      <td>230</td>\n",
              "      <td>5</td>\n",
              "      <td>2</td>\n",
              "      <td>False</td>\n",
              "    </tr>\n",
              "    <tr>\n",
              "      <th>261</th>\n",
              "      <td>242</td>\n",
              "      <td>Blissey</td>\n",
              "      <td>Normal</td>\n",
              "      <td>NaN</td>\n",
              "      <td>540</td>\n",
              "      <td>255</td>\n",
              "      <td>10</td>\n",
              "      <td>10</td>\n",
              "      <td>75</td>\n",
              "      <td>135</td>\n",
              "      <td>55</td>\n",
              "      <td>2</td>\n",
              "      <td>False</td>\n",
              "    </tr>\n",
              "    <tr>\n",
              "      <th>139</th>\n",
              "      <td>129</td>\n",
              "      <td>Magikarp</td>\n",
              "      <td>Water</td>\n",
              "      <td>NaN</td>\n",
              "      <td>200</td>\n",
              "      <td>20</td>\n",
              "      <td>10</td>\n",
              "      <td>55</td>\n",
              "      <td>15</td>\n",
              "      <td>20</td>\n",
              "      <td>80</td>\n",
              "      <td>1</td>\n",
              "      <td>False</td>\n",
              "    </tr>\n",
              "    <tr>\n",
              "      <th>...</th>\n",
              "      <td>...</td>\n",
              "      <td>...</td>\n",
              "      <td>...</td>\n",
              "      <td>...</td>\n",
              "      <td>...</td>\n",
              "      <td>...</td>\n",
              "      <td>...</td>\n",
              "      <td>...</td>\n",
              "      <td>...</td>\n",
              "      <td>...</td>\n",
              "      <td>...</td>\n",
              "      <td>...</td>\n",
              "      <td>...</td>\n",
              "    </tr>\n",
              "    <tr>\n",
              "      <th>429</th>\n",
              "      <td>386</td>\n",
              "      <td>DeoxysAttack Forme</td>\n",
              "      <td>Psychic</td>\n",
              "      <td>NaN</td>\n",
              "      <td>600</td>\n",
              "      <td>50</td>\n",
              "      <td>180</td>\n",
              "      <td>20</td>\n",
              "      <td>180</td>\n",
              "      <td>20</td>\n",
              "      <td>150</td>\n",
              "      <td>3</td>\n",
              "      <td>True</td>\n",
              "    </tr>\n",
              "    <tr>\n",
              "      <th>426</th>\n",
              "      <td>384</td>\n",
              "      <td>RayquazaMega Rayquaza</td>\n",
              "      <td>Dragon</td>\n",
              "      <td>Flying</td>\n",
              "      <td>780</td>\n",
              "      <td>105</td>\n",
              "      <td>180</td>\n",
              "      <td>100</td>\n",
              "      <td>180</td>\n",
              "      <td>100</td>\n",
              "      <td>115</td>\n",
              "      <td>3</td>\n",
              "      <td>True</td>\n",
              "    </tr>\n",
              "    <tr>\n",
              "      <th>424</th>\n",
              "      <td>383</td>\n",
              "      <td>GroudonPrimal Groudon</td>\n",
              "      <td>Ground</td>\n",
              "      <td>Fire</td>\n",
              "      <td>770</td>\n",
              "      <td>100</td>\n",
              "      <td>180</td>\n",
              "      <td>160</td>\n",
              "      <td>150</td>\n",
              "      <td>90</td>\n",
              "      <td>90</td>\n",
              "      <td>3</td>\n",
              "      <td>True</td>\n",
              "    </tr>\n",
              "    <tr>\n",
              "      <th>232</th>\n",
              "      <td>214</td>\n",
              "      <td>HeracrossMega Heracross</td>\n",
              "      <td>Bug</td>\n",
              "      <td>Fighting</td>\n",
              "      <td>600</td>\n",
              "      <td>80</td>\n",
              "      <td>185</td>\n",
              "      <td>115</td>\n",
              "      <td>40</td>\n",
              "      <td>105</td>\n",
              "      <td>75</td>\n",
              "      <td>2</td>\n",
              "      <td>False</td>\n",
              "    </tr>\n",
              "    <tr>\n",
              "      <th>163</th>\n",
              "      <td>150</td>\n",
              "      <td>MewtwoMega Mewtwo X</td>\n",
              "      <td>Psychic</td>\n",
              "      <td>Fighting</td>\n",
              "      <td>780</td>\n",
              "      <td>106</td>\n",
              "      <td>190</td>\n",
              "      <td>100</td>\n",
              "      <td>154</td>\n",
              "      <td>100</td>\n",
              "      <td>130</td>\n",
              "      <td>1</td>\n",
              "      <td>True</td>\n",
              "    </tr>\n",
              "  </tbody>\n",
              "</table>\n",
              "<p>800 rows × 13 columns</p>\n",
              "</div>"
            ],
            "text/plain": [
              "       #                     Name   Type 1  ... Speed  Generation  Legendary\n",
              "488  440                  Happiny   Normal  ...    30           4      False\n",
              "121  113                  Chansey   Normal  ...    50           1      False\n",
              "230  213                  Shuckle      Bug  ...     5           2      False\n",
              "261  242                  Blissey   Normal  ...    55           2      False\n",
              "139  129                 Magikarp    Water  ...    80           1      False\n",
              "..   ...                      ...      ...  ...   ...         ...        ...\n",
              "429  386       DeoxysAttack Forme  Psychic  ...   150           3       True\n",
              "426  384    RayquazaMega Rayquaza   Dragon  ...   115           3       True\n",
              "424  383    GroudonPrimal Groudon   Ground  ...    90           3       True\n",
              "232  214  HeracrossMega Heracross      Bug  ...    75           2      False\n",
              "163  150      MewtwoMega Mewtwo X  Psychic  ...   130           1       True\n",
              "\n",
              "[800 rows x 13 columns]"
            ]
          },
          "metadata": {
            "tags": []
          },
          "execution_count": 27
        }
      ]
    },
    {
      "cell_type": "markdown",
      "metadata": {
        "id": "jhQL8waie-Dq"
      },
      "source": [
        "Pueden establecer el orden en el que desean que se muestren los datos."
      ]
    },
    {
      "cell_type": "code",
      "metadata": {
        "colab": {
          "base_uri": "https://localhost:8080/",
          "height": 402
        },
        "id": "fKFbu5uOfX4j",
        "outputId": "8e4237c4-4a91-49a9-e72d-c0c76c413dbe"
      },
      "source": [
        "pokemon.sort_values(by='Attack', ascending=False)"
      ],
      "execution_count": null,
      "outputs": [
        {
          "output_type": "execute_result",
          "data": {
            "text/html": [
              "<div>\n",
              "<style scoped>\n",
              "    .dataframe tbody tr th:only-of-type {\n",
              "        vertical-align: middle;\n",
              "    }\n",
              "\n",
              "    .dataframe tbody tr th {\n",
              "        vertical-align: top;\n",
              "    }\n",
              "\n",
              "    .dataframe thead th {\n",
              "        text-align: right;\n",
              "    }\n",
              "</style>\n",
              "<table border=\"1\" class=\"dataframe\">\n",
              "  <thead>\n",
              "    <tr style=\"text-align: right;\">\n",
              "      <th></th>\n",
              "      <th>#</th>\n",
              "      <th>Name</th>\n",
              "      <th>Type 1</th>\n",
              "      <th>Type 2</th>\n",
              "      <th>Total</th>\n",
              "      <th>HP</th>\n",
              "      <th>Attack</th>\n",
              "      <th>Defense</th>\n",
              "      <th>Sp. Atk</th>\n",
              "      <th>Sp. Def</th>\n",
              "      <th>Speed</th>\n",
              "      <th>Generation</th>\n",
              "      <th>Legendary</th>\n",
              "    </tr>\n",
              "  </thead>\n",
              "  <tbody>\n",
              "    <tr>\n",
              "      <th>163</th>\n",
              "      <td>150</td>\n",
              "      <td>MewtwoMega Mewtwo X</td>\n",
              "      <td>Psychic</td>\n",
              "      <td>Fighting</td>\n",
              "      <td>780</td>\n",
              "      <td>106</td>\n",
              "      <td>190</td>\n",
              "      <td>100</td>\n",
              "      <td>154</td>\n",
              "      <td>100</td>\n",
              "      <td>130</td>\n",
              "      <td>1</td>\n",
              "      <td>True</td>\n",
              "    </tr>\n",
              "    <tr>\n",
              "      <th>232</th>\n",
              "      <td>214</td>\n",
              "      <td>HeracrossMega Heracross</td>\n",
              "      <td>Bug</td>\n",
              "      <td>Fighting</td>\n",
              "      <td>600</td>\n",
              "      <td>80</td>\n",
              "      <td>185</td>\n",
              "      <td>115</td>\n",
              "      <td>40</td>\n",
              "      <td>105</td>\n",
              "      <td>75</td>\n",
              "      <td>2</td>\n",
              "      <td>False</td>\n",
              "    </tr>\n",
              "    <tr>\n",
              "      <th>424</th>\n",
              "      <td>383</td>\n",
              "      <td>GroudonPrimal Groudon</td>\n",
              "      <td>Ground</td>\n",
              "      <td>Fire</td>\n",
              "      <td>770</td>\n",
              "      <td>100</td>\n",
              "      <td>180</td>\n",
              "      <td>160</td>\n",
              "      <td>150</td>\n",
              "      <td>90</td>\n",
              "      <td>90</td>\n",
              "      <td>3</td>\n",
              "      <td>True</td>\n",
              "    </tr>\n",
              "    <tr>\n",
              "      <th>426</th>\n",
              "      <td>384</td>\n",
              "      <td>RayquazaMega Rayquaza</td>\n",
              "      <td>Dragon</td>\n",
              "      <td>Flying</td>\n",
              "      <td>780</td>\n",
              "      <td>105</td>\n",
              "      <td>180</td>\n",
              "      <td>100</td>\n",
              "      <td>180</td>\n",
              "      <td>100</td>\n",
              "      <td>115</td>\n",
              "      <td>3</td>\n",
              "      <td>True</td>\n",
              "    </tr>\n",
              "    <tr>\n",
              "      <th>429</th>\n",
              "      <td>386</td>\n",
              "      <td>DeoxysAttack Forme</td>\n",
              "      <td>Psychic</td>\n",
              "      <td>NaN</td>\n",
              "      <td>600</td>\n",
              "      <td>50</td>\n",
              "      <td>180</td>\n",
              "      <td>20</td>\n",
              "      <td>180</td>\n",
              "      <td>20</td>\n",
              "      <td>150</td>\n",
              "      <td>3</td>\n",
              "      <td>True</td>\n",
              "    </tr>\n",
              "    <tr>\n",
              "      <th>...</th>\n",
              "      <td>...</td>\n",
              "      <td>...</td>\n",
              "      <td>...</td>\n",
              "      <td>...</td>\n",
              "      <td>...</td>\n",
              "      <td>...</td>\n",
              "      <td>...</td>\n",
              "      <td>...</td>\n",
              "      <td>...</td>\n",
              "      <td>...</td>\n",
              "      <td>...</td>\n",
              "      <td>...</td>\n",
              "      <td>...</td>\n",
              "    </tr>\n",
              "    <tr>\n",
              "      <th>139</th>\n",
              "      <td>129</td>\n",
              "      <td>Magikarp</td>\n",
              "      <td>Water</td>\n",
              "      <td>NaN</td>\n",
              "      <td>200</td>\n",
              "      <td>20</td>\n",
              "      <td>10</td>\n",
              "      <td>55</td>\n",
              "      <td>15</td>\n",
              "      <td>20</td>\n",
              "      <td>80</td>\n",
              "      <td>1</td>\n",
              "      <td>False</td>\n",
              "    </tr>\n",
              "    <tr>\n",
              "      <th>261</th>\n",
              "      <td>242</td>\n",
              "      <td>Blissey</td>\n",
              "      <td>Normal</td>\n",
              "      <td>NaN</td>\n",
              "      <td>540</td>\n",
              "      <td>255</td>\n",
              "      <td>10</td>\n",
              "      <td>10</td>\n",
              "      <td>75</td>\n",
              "      <td>135</td>\n",
              "      <td>55</td>\n",
              "      <td>2</td>\n",
              "      <td>False</td>\n",
              "    </tr>\n",
              "    <tr>\n",
              "      <th>230</th>\n",
              "      <td>213</td>\n",
              "      <td>Shuckle</td>\n",
              "      <td>Bug</td>\n",
              "      <td>Rock</td>\n",
              "      <td>505</td>\n",
              "      <td>20</td>\n",
              "      <td>10</td>\n",
              "      <td>230</td>\n",
              "      <td>10</td>\n",
              "      <td>230</td>\n",
              "      <td>5</td>\n",
              "      <td>2</td>\n",
              "      <td>False</td>\n",
              "    </tr>\n",
              "    <tr>\n",
              "      <th>121</th>\n",
              "      <td>113</td>\n",
              "      <td>Chansey</td>\n",
              "      <td>Normal</td>\n",
              "      <td>NaN</td>\n",
              "      <td>450</td>\n",
              "      <td>250</td>\n",
              "      <td>5</td>\n",
              "      <td>5</td>\n",
              "      <td>35</td>\n",
              "      <td>105</td>\n",
              "      <td>50</td>\n",
              "      <td>1</td>\n",
              "      <td>False</td>\n",
              "    </tr>\n",
              "    <tr>\n",
              "      <th>488</th>\n",
              "      <td>440</td>\n",
              "      <td>Happiny</td>\n",
              "      <td>Normal</td>\n",
              "      <td>NaN</td>\n",
              "      <td>220</td>\n",
              "      <td>100</td>\n",
              "      <td>5</td>\n",
              "      <td>5</td>\n",
              "      <td>15</td>\n",
              "      <td>65</td>\n",
              "      <td>30</td>\n",
              "      <td>4</td>\n",
              "      <td>False</td>\n",
              "    </tr>\n",
              "  </tbody>\n",
              "</table>\n",
              "<p>800 rows × 13 columns</p>\n",
              "</div>"
            ],
            "text/plain": [
              "       #                     Name   Type 1  ... Speed  Generation  Legendary\n",
              "163  150      MewtwoMega Mewtwo X  Psychic  ...   130           1       True\n",
              "232  214  HeracrossMega Heracross      Bug  ...    75           2      False\n",
              "424  383    GroudonPrimal Groudon   Ground  ...    90           3       True\n",
              "426  384    RayquazaMega Rayquaza   Dragon  ...   115           3       True\n",
              "429  386       DeoxysAttack Forme  Psychic  ...   150           3       True\n",
              "..   ...                      ...      ...  ...   ...         ...        ...\n",
              "139  129                 Magikarp    Water  ...    80           1      False\n",
              "261  242                  Blissey   Normal  ...    55           2      False\n",
              "230  213                  Shuckle      Bug  ...     5           2      False\n",
              "121  113                  Chansey   Normal  ...    50           1      False\n",
              "488  440                  Happiny   Normal  ...    30           4      False\n",
              "\n",
              "[800 rows x 13 columns]"
            ]
          },
          "metadata": {
            "tags": []
          },
          "execution_count": 4
        }
      ]
    },
    {
      "cell_type": "markdown",
      "metadata": {
        "id": "jEvzT1KYfo-l"
      },
      "source": [
        "También podemos mostrar aquellos lugares donde haya un valor NaN.\n",
        "\n",
        "Esto es muy útil para depurar bases de datos."
      ]
    },
    {
      "cell_type": "code",
      "metadata": {
        "colab": {
          "base_uri": "https://localhost:8080/",
          "height": 415
        },
        "id": "pNS3uz5Eqfys",
        "outputId": "8e42c55e-d334-41ef-b1c1-1a1d440fdadc"
      },
      "source": [
        "# Ubicamos a los Pokemon que no tengan un segundo tipo y\n",
        "# los mostramos primero\n",
        "\n",
        "pokemon.sort_values(by='Type 2',ascending=False, na_position='first')"
      ],
      "execution_count": null,
      "outputs": [
        {
          "output_type": "execute_result",
          "data": {
            "text/html": [
              "<div>\n",
              "<style scoped>\n",
              "    .dataframe tbody tr th:only-of-type {\n",
              "        vertical-align: middle;\n",
              "    }\n",
              "\n",
              "    .dataframe tbody tr th {\n",
              "        vertical-align: top;\n",
              "    }\n",
              "\n",
              "    .dataframe thead th {\n",
              "        text-align: right;\n",
              "    }\n",
              "</style>\n",
              "<table border=\"1\" class=\"dataframe\">\n",
              "  <thead>\n",
              "    <tr style=\"text-align: right;\">\n",
              "      <th></th>\n",
              "      <th>#</th>\n",
              "      <th>Name</th>\n",
              "      <th>Type 1</th>\n",
              "      <th>Type 2</th>\n",
              "      <th>Total</th>\n",
              "      <th>HP</th>\n",
              "      <th>Attack</th>\n",
              "      <th>Defense</th>\n",
              "      <th>Sp. Atk</th>\n",
              "      <th>Sp. Def</th>\n",
              "      <th>Speed</th>\n",
              "      <th>Generation</th>\n",
              "      <th>Legendary</th>\n",
              "    </tr>\n",
              "  </thead>\n",
              "  <tbody>\n",
              "    <tr>\n",
              "      <th>4</th>\n",
              "      <td>4</td>\n",
              "      <td>Charmander</td>\n",
              "      <td>Fire</td>\n",
              "      <td>NaN</td>\n",
              "      <td>309</td>\n",
              "      <td>39</td>\n",
              "      <td>52</td>\n",
              "      <td>43</td>\n",
              "      <td>60</td>\n",
              "      <td>50</td>\n",
              "      <td>65</td>\n",
              "      <td>1</td>\n",
              "      <td>False</td>\n",
              "    </tr>\n",
              "    <tr>\n",
              "      <th>5</th>\n",
              "      <td>5</td>\n",
              "      <td>Charmeleon</td>\n",
              "      <td>Fire</td>\n",
              "      <td>NaN</td>\n",
              "      <td>405</td>\n",
              "      <td>58</td>\n",
              "      <td>64</td>\n",
              "      <td>58</td>\n",
              "      <td>80</td>\n",
              "      <td>65</td>\n",
              "      <td>80</td>\n",
              "      <td>1</td>\n",
              "      <td>False</td>\n",
              "    </tr>\n",
              "    <tr>\n",
              "      <th>9</th>\n",
              "      <td>7</td>\n",
              "      <td>Squirtle</td>\n",
              "      <td>Water</td>\n",
              "      <td>NaN</td>\n",
              "      <td>314</td>\n",
              "      <td>44</td>\n",
              "      <td>48</td>\n",
              "      <td>65</td>\n",
              "      <td>50</td>\n",
              "      <td>64</td>\n",
              "      <td>43</td>\n",
              "      <td>1</td>\n",
              "      <td>False</td>\n",
              "    </tr>\n",
              "    <tr>\n",
              "      <th>10</th>\n",
              "      <td>8</td>\n",
              "      <td>Wartortle</td>\n",
              "      <td>Water</td>\n",
              "      <td>NaN</td>\n",
              "      <td>405</td>\n",
              "      <td>59</td>\n",
              "      <td>63</td>\n",
              "      <td>80</td>\n",
              "      <td>65</td>\n",
              "      <td>80</td>\n",
              "      <td>58</td>\n",
              "      <td>1</td>\n",
              "      <td>False</td>\n",
              "    </tr>\n",
              "    <tr>\n",
              "      <th>11</th>\n",
              "      <td>9</td>\n",
              "      <td>Blastoise</td>\n",
              "      <td>Water</td>\n",
              "      <td>NaN</td>\n",
              "      <td>530</td>\n",
              "      <td>79</td>\n",
              "      <td>83</td>\n",
              "      <td>100</td>\n",
              "      <td>85</td>\n",
              "      <td>105</td>\n",
              "      <td>78</td>\n",
              "      <td>1</td>\n",
              "      <td>False</td>\n",
              "    </tr>\n",
              "    <tr>\n",
              "      <th>...</th>\n",
              "      <td>...</td>\n",
              "      <td>...</td>\n",
              "      <td>...</td>\n",
              "      <td>...</td>\n",
              "      <td>...</td>\n",
              "      <td>...</td>\n",
              "      <td>...</td>\n",
              "      <td>...</td>\n",
              "      <td>...</td>\n",
              "      <td>...</td>\n",
              "      <td>...</td>\n",
              "      <td>...</td>\n",
              "      <td>...</td>\n",
              "    </tr>\n",
              "    <tr>\n",
              "      <th>611</th>\n",
              "      <td>551</td>\n",
              "      <td>Sandile</td>\n",
              "      <td>Ground</td>\n",
              "      <td>Dark</td>\n",
              "      <td>292</td>\n",
              "      <td>50</td>\n",
              "      <td>72</td>\n",
              "      <td>35</td>\n",
              "      <td>35</td>\n",
              "      <td>35</td>\n",
              "      <td>65</td>\n",
              "      <td>5</td>\n",
              "      <td>False</td>\n",
              "    </tr>\n",
              "    <tr>\n",
              "      <th>482</th>\n",
              "      <td>434</td>\n",
              "      <td>Stunky</td>\n",
              "      <td>Poison</td>\n",
              "      <td>Dark</td>\n",
              "      <td>329</td>\n",
              "      <td>63</td>\n",
              "      <td>63</td>\n",
              "      <td>47</td>\n",
              "      <td>41</td>\n",
              "      <td>41</td>\n",
              "      <td>74</td>\n",
              "      <td>4</td>\n",
              "      <td>False</td>\n",
              "    </tr>\n",
              "    <tr>\n",
              "      <th>379</th>\n",
              "      <td>347</td>\n",
              "      <td>Anorith</td>\n",
              "      <td>Rock</td>\n",
              "      <td>Bug</td>\n",
              "      <td>355</td>\n",
              "      <td>45</td>\n",
              "      <td>95</td>\n",
              "      <td>50</td>\n",
              "      <td>40</td>\n",
              "      <td>50</td>\n",
              "      <td>75</td>\n",
              "      <td>3</td>\n",
              "      <td>False</td>\n",
              "    </tr>\n",
              "    <tr>\n",
              "      <th>380</th>\n",
              "      <td>348</td>\n",
              "      <td>Armaldo</td>\n",
              "      <td>Rock</td>\n",
              "      <td>Bug</td>\n",
              "      <td>495</td>\n",
              "      <td>75</td>\n",
              "      <td>125</td>\n",
              "      <td>100</td>\n",
              "      <td>70</td>\n",
              "      <td>80</td>\n",
              "      <td>45</td>\n",
              "      <td>3</td>\n",
              "      <td>False</td>\n",
              "    </tr>\n",
              "    <tr>\n",
              "      <th>501</th>\n",
              "      <td>451</td>\n",
              "      <td>Skorupi</td>\n",
              "      <td>Poison</td>\n",
              "      <td>Bug</td>\n",
              "      <td>330</td>\n",
              "      <td>40</td>\n",
              "      <td>50</td>\n",
              "      <td>90</td>\n",
              "      <td>30</td>\n",
              "      <td>55</td>\n",
              "      <td>65</td>\n",
              "      <td>4</td>\n",
              "      <td>False</td>\n",
              "    </tr>\n",
              "  </tbody>\n",
              "</table>\n",
              "<p>800 rows × 13 columns</p>\n",
              "</div>"
            ],
            "text/plain": [
              "       #        Name  Type 1 Type 2  ...  Sp. Def  Speed  Generation  Legendary\n",
              "4      4  Charmander    Fire    NaN  ...       50     65           1      False\n",
              "5      5  Charmeleon    Fire    NaN  ...       65     80           1      False\n",
              "9      7    Squirtle   Water    NaN  ...       64     43           1      False\n",
              "10     8   Wartortle   Water    NaN  ...       80     58           1      False\n",
              "11     9   Blastoise   Water    NaN  ...      105     78           1      False\n",
              "..   ...         ...     ...    ...  ...      ...    ...         ...        ...\n",
              "611  551     Sandile  Ground   Dark  ...       35     65           5      False\n",
              "482  434      Stunky  Poison   Dark  ...       41     74           4      False\n",
              "379  347     Anorith    Rock    Bug  ...       50     75           3      False\n",
              "380  348     Armaldo    Rock    Bug  ...       80     45           3      False\n",
              "501  451     Skorupi  Poison    Bug  ...       55     65           4      False\n",
              "\n",
              "[800 rows x 13 columns]"
            ]
          },
          "metadata": {
            "tags": []
          },
          "execution_count": 29
        }
      ]
    },
    {
      "cell_type": "markdown",
      "metadata": {
        "id": "hxpWLRVfq6EG"
      },
      "source": [
        "Aunque en apariencia el comando *sort_values()* devuelve en orden distinto, podemos usar los índices de los datos para trabajos futuros."
      ]
    },
    {
      "cell_type": "markdown",
      "metadata": {
        "id": "O5qxcYqqrCbE"
      },
      "source": [
        "### Modificando bases de datos"
      ]
    },
    {
      "cell_type": "markdown",
      "metadata": {
        "id": "bVyG3aYJrFaA"
      },
      "source": [
        "La mayoría de las veces vamos a pasar el tiempo depurando la base de datos que programando algo. Por eso, debemos conocer las formas rápidas de añadir, quitar o modificar valores de nuestra base."
      ]
    },
    {
      "cell_type": "markdown",
      "metadata": {
        "id": "fu5xzeEhgfKV"
      },
      "source": [
        "Al igual que un diccionario, podemos añadir nuevas columnas a un DataFrame."
      ]
    },
    {
      "cell_type": "code",
      "metadata": {
        "id": "9taLAxbArBrY",
        "colab": {
          "base_uri": "https://localhost:8080/",
          "height": 343
        },
        "outputId": "30eba36b-e112-4efe-ca2b-b6fb4343fe8b"
      },
      "source": [
        "pokemon1 = pokemon # Una copia sobre la que haremos cambios\n",
        "\n",
        "pokemon1['Atk + Sp Atk'] = pokemon['Attack'] + pokemon['Sp. Atk']\n",
        "pokemon1.head(10)"
      ],
      "execution_count": null,
      "outputs": [
        {
          "output_type": "execute_result",
          "data": {
            "text/html": [
              "<div>\n",
              "<style scoped>\n",
              "    .dataframe tbody tr th:only-of-type {\n",
              "        vertical-align: middle;\n",
              "    }\n",
              "\n",
              "    .dataframe tbody tr th {\n",
              "        vertical-align: top;\n",
              "    }\n",
              "\n",
              "    .dataframe thead th {\n",
              "        text-align: right;\n",
              "    }\n",
              "</style>\n",
              "<table border=\"1\" class=\"dataframe\">\n",
              "  <thead>\n",
              "    <tr style=\"text-align: right;\">\n",
              "      <th></th>\n",
              "      <th>#</th>\n",
              "      <th>Name</th>\n",
              "      <th>Type 1</th>\n",
              "      <th>Type 2</th>\n",
              "      <th>Total</th>\n",
              "      <th>HP</th>\n",
              "      <th>Attack</th>\n",
              "      <th>Defense</th>\n",
              "      <th>Sp. Atk</th>\n",
              "      <th>Sp. Def</th>\n",
              "      <th>Speed</th>\n",
              "      <th>Generation</th>\n",
              "      <th>Legendary</th>\n",
              "      <th>Atk + Sp Atk</th>\n",
              "    </tr>\n",
              "  </thead>\n",
              "  <tbody>\n",
              "    <tr>\n",
              "      <th>0</th>\n",
              "      <td>1</td>\n",
              "      <td>Bulbasaur</td>\n",
              "      <td>Grass</td>\n",
              "      <td>Poison</td>\n",
              "      <td>318</td>\n",
              "      <td>45</td>\n",
              "      <td>49</td>\n",
              "      <td>49</td>\n",
              "      <td>65</td>\n",
              "      <td>65</td>\n",
              "      <td>45</td>\n",
              "      <td>1</td>\n",
              "      <td>False</td>\n",
              "      <td>114</td>\n",
              "    </tr>\n",
              "    <tr>\n",
              "      <th>1</th>\n",
              "      <td>2</td>\n",
              "      <td>Ivysaur</td>\n",
              "      <td>Grass</td>\n",
              "      <td>Poison</td>\n",
              "      <td>405</td>\n",
              "      <td>60</td>\n",
              "      <td>62</td>\n",
              "      <td>63</td>\n",
              "      <td>80</td>\n",
              "      <td>80</td>\n",
              "      <td>60</td>\n",
              "      <td>1</td>\n",
              "      <td>False</td>\n",
              "      <td>142</td>\n",
              "    </tr>\n",
              "    <tr>\n",
              "      <th>2</th>\n",
              "      <td>3</td>\n",
              "      <td>Venusaur</td>\n",
              "      <td>Grass</td>\n",
              "      <td>Poison</td>\n",
              "      <td>525</td>\n",
              "      <td>80</td>\n",
              "      <td>82</td>\n",
              "      <td>83</td>\n",
              "      <td>100</td>\n",
              "      <td>100</td>\n",
              "      <td>80</td>\n",
              "      <td>1</td>\n",
              "      <td>False</td>\n",
              "      <td>182</td>\n",
              "    </tr>\n",
              "    <tr>\n",
              "      <th>3</th>\n",
              "      <td>3</td>\n",
              "      <td>VenusaurMega Venusaur</td>\n",
              "      <td>Grass</td>\n",
              "      <td>Poison</td>\n",
              "      <td>625</td>\n",
              "      <td>80</td>\n",
              "      <td>100</td>\n",
              "      <td>123</td>\n",
              "      <td>122</td>\n",
              "      <td>120</td>\n",
              "      <td>80</td>\n",
              "      <td>1</td>\n",
              "      <td>False</td>\n",
              "      <td>222</td>\n",
              "    </tr>\n",
              "    <tr>\n",
              "      <th>4</th>\n",
              "      <td>4</td>\n",
              "      <td>Charmander</td>\n",
              "      <td>Fire</td>\n",
              "      <td>NaN</td>\n",
              "      <td>309</td>\n",
              "      <td>39</td>\n",
              "      <td>52</td>\n",
              "      <td>43</td>\n",
              "      <td>60</td>\n",
              "      <td>50</td>\n",
              "      <td>65</td>\n",
              "      <td>1</td>\n",
              "      <td>False</td>\n",
              "      <td>112</td>\n",
              "    </tr>\n",
              "    <tr>\n",
              "      <th>5</th>\n",
              "      <td>5</td>\n",
              "      <td>Charmeleon</td>\n",
              "      <td>Fire</td>\n",
              "      <td>NaN</td>\n",
              "      <td>405</td>\n",
              "      <td>58</td>\n",
              "      <td>64</td>\n",
              "      <td>58</td>\n",
              "      <td>80</td>\n",
              "      <td>65</td>\n",
              "      <td>80</td>\n",
              "      <td>1</td>\n",
              "      <td>False</td>\n",
              "      <td>144</td>\n",
              "    </tr>\n",
              "    <tr>\n",
              "      <th>6</th>\n",
              "      <td>6</td>\n",
              "      <td>Charizard</td>\n",
              "      <td>Fire</td>\n",
              "      <td>Flying</td>\n",
              "      <td>534</td>\n",
              "      <td>78</td>\n",
              "      <td>84</td>\n",
              "      <td>78</td>\n",
              "      <td>109</td>\n",
              "      <td>85</td>\n",
              "      <td>100</td>\n",
              "      <td>1</td>\n",
              "      <td>False</td>\n",
              "      <td>193</td>\n",
              "    </tr>\n",
              "    <tr>\n",
              "      <th>7</th>\n",
              "      <td>6</td>\n",
              "      <td>CharizardMega Charizard X</td>\n",
              "      <td>Fire</td>\n",
              "      <td>Dragon</td>\n",
              "      <td>634</td>\n",
              "      <td>78</td>\n",
              "      <td>130</td>\n",
              "      <td>111</td>\n",
              "      <td>130</td>\n",
              "      <td>85</td>\n",
              "      <td>100</td>\n",
              "      <td>1</td>\n",
              "      <td>False</td>\n",
              "      <td>260</td>\n",
              "    </tr>\n",
              "    <tr>\n",
              "      <th>8</th>\n",
              "      <td>6</td>\n",
              "      <td>CharizardMega Charizard Y</td>\n",
              "      <td>Fire</td>\n",
              "      <td>Flying</td>\n",
              "      <td>634</td>\n",
              "      <td>78</td>\n",
              "      <td>104</td>\n",
              "      <td>78</td>\n",
              "      <td>159</td>\n",
              "      <td>115</td>\n",
              "      <td>100</td>\n",
              "      <td>1</td>\n",
              "      <td>False</td>\n",
              "      <td>263</td>\n",
              "    </tr>\n",
              "    <tr>\n",
              "      <th>9</th>\n",
              "      <td>7</td>\n",
              "      <td>Squirtle</td>\n",
              "      <td>Water</td>\n",
              "      <td>NaN</td>\n",
              "      <td>314</td>\n",
              "      <td>44</td>\n",
              "      <td>48</td>\n",
              "      <td>65</td>\n",
              "      <td>50</td>\n",
              "      <td>64</td>\n",
              "      <td>43</td>\n",
              "      <td>1</td>\n",
              "      <td>False</td>\n",
              "      <td>98</td>\n",
              "    </tr>\n",
              "  </tbody>\n",
              "</table>\n",
              "</div>"
            ],
            "text/plain": [
              "   #                       Name Type 1  ... Generation  Legendary  Atk + Sp Atk\n",
              "0  1                  Bulbasaur  Grass  ...          1      False           114\n",
              "1  2                    Ivysaur  Grass  ...          1      False           142\n",
              "2  3                   Venusaur  Grass  ...          1      False           182\n",
              "3  3      VenusaurMega Venusaur  Grass  ...          1      False           222\n",
              "4  4                 Charmander   Fire  ...          1      False           112\n",
              "5  5                 Charmeleon   Fire  ...          1      False           144\n",
              "6  6                  Charizard   Fire  ...          1      False           193\n",
              "7  6  CharizardMega Charizard X   Fire  ...          1      False           260\n",
              "8  6  CharizardMega Charizard Y   Fire  ...          1      False           263\n",
              "9  7                   Squirtle  Water  ...          1      False            98\n",
              "\n",
              "[10 rows x 14 columns]"
            ]
          },
          "metadata": {
            "tags": []
          },
          "execution_count": 5
        }
      ]
    },
    {
      "cell_type": "code",
      "metadata": {
        "id": "sF8SQm-7qfv8",
        "colab": {
          "base_uri": "https://localhost:8080/",
          "height": 343
        },
        "outputId": "8435644c-c382-4aad-ec56-194a20861614"
      },
      "source": [
        "# Repetir la operación pero con la defensa\n",
        "pokemon1['Def + Sp Def'] = pokemon['Defense'] + pokemon['Sp. Def']\n",
        "pokemon1.head(10)"
      ],
      "execution_count": null,
      "outputs": [
        {
          "output_type": "execute_result",
          "data": {
            "text/html": [
              "<div>\n",
              "<style scoped>\n",
              "    .dataframe tbody tr th:only-of-type {\n",
              "        vertical-align: middle;\n",
              "    }\n",
              "\n",
              "    .dataframe tbody tr th {\n",
              "        vertical-align: top;\n",
              "    }\n",
              "\n",
              "    .dataframe thead th {\n",
              "        text-align: right;\n",
              "    }\n",
              "</style>\n",
              "<table border=\"1\" class=\"dataframe\">\n",
              "  <thead>\n",
              "    <tr style=\"text-align: right;\">\n",
              "      <th></th>\n",
              "      <th>#</th>\n",
              "      <th>Name</th>\n",
              "      <th>Type 1</th>\n",
              "      <th>Type 2</th>\n",
              "      <th>Total</th>\n",
              "      <th>HP</th>\n",
              "      <th>Attack</th>\n",
              "      <th>Defense</th>\n",
              "      <th>Sp. Atk</th>\n",
              "      <th>Sp. Def</th>\n",
              "      <th>Speed</th>\n",
              "      <th>Generation</th>\n",
              "      <th>Legendary</th>\n",
              "      <th>Atk + Sp Atk</th>\n",
              "      <th>Def + Sp Def</th>\n",
              "    </tr>\n",
              "  </thead>\n",
              "  <tbody>\n",
              "    <tr>\n",
              "      <th>0</th>\n",
              "      <td>1</td>\n",
              "      <td>Bulbasaur</td>\n",
              "      <td>Grass</td>\n",
              "      <td>Poison</td>\n",
              "      <td>318</td>\n",
              "      <td>45</td>\n",
              "      <td>49</td>\n",
              "      <td>49</td>\n",
              "      <td>65</td>\n",
              "      <td>65</td>\n",
              "      <td>45</td>\n",
              "      <td>1</td>\n",
              "      <td>False</td>\n",
              "      <td>114</td>\n",
              "      <td>114</td>\n",
              "    </tr>\n",
              "    <tr>\n",
              "      <th>1</th>\n",
              "      <td>2</td>\n",
              "      <td>Ivysaur</td>\n",
              "      <td>Grass</td>\n",
              "      <td>Poison</td>\n",
              "      <td>405</td>\n",
              "      <td>60</td>\n",
              "      <td>62</td>\n",
              "      <td>63</td>\n",
              "      <td>80</td>\n",
              "      <td>80</td>\n",
              "      <td>60</td>\n",
              "      <td>1</td>\n",
              "      <td>False</td>\n",
              "      <td>142</td>\n",
              "      <td>143</td>\n",
              "    </tr>\n",
              "    <tr>\n",
              "      <th>2</th>\n",
              "      <td>3</td>\n",
              "      <td>Venusaur</td>\n",
              "      <td>Grass</td>\n",
              "      <td>Poison</td>\n",
              "      <td>525</td>\n",
              "      <td>80</td>\n",
              "      <td>82</td>\n",
              "      <td>83</td>\n",
              "      <td>100</td>\n",
              "      <td>100</td>\n",
              "      <td>80</td>\n",
              "      <td>1</td>\n",
              "      <td>False</td>\n",
              "      <td>182</td>\n",
              "      <td>183</td>\n",
              "    </tr>\n",
              "    <tr>\n",
              "      <th>3</th>\n",
              "      <td>3</td>\n",
              "      <td>VenusaurMega Venusaur</td>\n",
              "      <td>Grass</td>\n",
              "      <td>Poison</td>\n",
              "      <td>625</td>\n",
              "      <td>80</td>\n",
              "      <td>100</td>\n",
              "      <td>123</td>\n",
              "      <td>122</td>\n",
              "      <td>120</td>\n",
              "      <td>80</td>\n",
              "      <td>1</td>\n",
              "      <td>False</td>\n",
              "      <td>222</td>\n",
              "      <td>243</td>\n",
              "    </tr>\n",
              "    <tr>\n",
              "      <th>4</th>\n",
              "      <td>4</td>\n",
              "      <td>Charmander</td>\n",
              "      <td>Fire</td>\n",
              "      <td>NaN</td>\n",
              "      <td>309</td>\n",
              "      <td>39</td>\n",
              "      <td>52</td>\n",
              "      <td>43</td>\n",
              "      <td>60</td>\n",
              "      <td>50</td>\n",
              "      <td>65</td>\n",
              "      <td>1</td>\n",
              "      <td>False</td>\n",
              "      <td>112</td>\n",
              "      <td>93</td>\n",
              "    </tr>\n",
              "    <tr>\n",
              "      <th>5</th>\n",
              "      <td>5</td>\n",
              "      <td>Charmeleon</td>\n",
              "      <td>Fire</td>\n",
              "      <td>NaN</td>\n",
              "      <td>405</td>\n",
              "      <td>58</td>\n",
              "      <td>64</td>\n",
              "      <td>58</td>\n",
              "      <td>80</td>\n",
              "      <td>65</td>\n",
              "      <td>80</td>\n",
              "      <td>1</td>\n",
              "      <td>False</td>\n",
              "      <td>144</td>\n",
              "      <td>123</td>\n",
              "    </tr>\n",
              "    <tr>\n",
              "      <th>6</th>\n",
              "      <td>6</td>\n",
              "      <td>Charizard</td>\n",
              "      <td>Fire</td>\n",
              "      <td>Flying</td>\n",
              "      <td>534</td>\n",
              "      <td>78</td>\n",
              "      <td>84</td>\n",
              "      <td>78</td>\n",
              "      <td>109</td>\n",
              "      <td>85</td>\n",
              "      <td>100</td>\n",
              "      <td>1</td>\n",
              "      <td>False</td>\n",
              "      <td>193</td>\n",
              "      <td>163</td>\n",
              "    </tr>\n",
              "    <tr>\n",
              "      <th>7</th>\n",
              "      <td>6</td>\n",
              "      <td>CharizardMega Charizard X</td>\n",
              "      <td>Fire</td>\n",
              "      <td>Dragon</td>\n",
              "      <td>634</td>\n",
              "      <td>78</td>\n",
              "      <td>130</td>\n",
              "      <td>111</td>\n",
              "      <td>130</td>\n",
              "      <td>85</td>\n",
              "      <td>100</td>\n",
              "      <td>1</td>\n",
              "      <td>False</td>\n",
              "      <td>260</td>\n",
              "      <td>196</td>\n",
              "    </tr>\n",
              "    <tr>\n",
              "      <th>8</th>\n",
              "      <td>6</td>\n",
              "      <td>CharizardMega Charizard Y</td>\n",
              "      <td>Fire</td>\n",
              "      <td>Flying</td>\n",
              "      <td>634</td>\n",
              "      <td>78</td>\n",
              "      <td>104</td>\n",
              "      <td>78</td>\n",
              "      <td>159</td>\n",
              "      <td>115</td>\n",
              "      <td>100</td>\n",
              "      <td>1</td>\n",
              "      <td>False</td>\n",
              "      <td>263</td>\n",
              "      <td>193</td>\n",
              "    </tr>\n",
              "    <tr>\n",
              "      <th>9</th>\n",
              "      <td>7</td>\n",
              "      <td>Squirtle</td>\n",
              "      <td>Water</td>\n",
              "      <td>NaN</td>\n",
              "      <td>314</td>\n",
              "      <td>44</td>\n",
              "      <td>48</td>\n",
              "      <td>65</td>\n",
              "      <td>50</td>\n",
              "      <td>64</td>\n",
              "      <td>43</td>\n",
              "      <td>1</td>\n",
              "      <td>False</td>\n",
              "      <td>98</td>\n",
              "      <td>129</td>\n",
              "    </tr>\n",
              "  </tbody>\n",
              "</table>\n",
              "</div>"
            ],
            "text/plain": [
              "   #                       Name Type 1  ... Legendary  Atk + Sp Atk  Def + Sp Def\n",
              "0  1                  Bulbasaur  Grass  ...     False           114           114\n",
              "1  2                    Ivysaur  Grass  ...     False           142           143\n",
              "2  3                   Venusaur  Grass  ...     False           182           183\n",
              "3  3      VenusaurMega Venusaur  Grass  ...     False           222           243\n",
              "4  4                 Charmander   Fire  ...     False           112            93\n",
              "5  5                 Charmeleon   Fire  ...     False           144           123\n",
              "6  6                  Charizard   Fire  ...     False           193           163\n",
              "7  6  CharizardMega Charizard X   Fire  ...     False           260           196\n",
              "8  6  CharizardMega Charizard Y   Fire  ...     False           263           193\n",
              "9  7                   Squirtle  Water  ...     False            98           129\n",
              "\n",
              "[10 rows x 15 columns]"
            ]
          },
          "metadata": {
            "tags": []
          },
          "execution_count": 6
        }
      ]
    },
    {
      "cell_type": "markdown",
      "metadata": {
        "id": "SYpqdU8ViOM4"
      },
      "source": [
        "Si quisieramos eliminar las columnas debemos usar el comando *drop*"
      ]
    },
    {
      "cell_type": "code",
      "metadata": {
        "id": "PT0uZYb1qftJ",
        "colab": {
          "base_uri": "https://localhost:8080/",
          "height": 195
        },
        "outputId": "94ed8edb-c329-44b5-a8cb-3f66967d6607"
      },
      "source": [
        "pokemon1 = pokemon1.drop(columns=['Atk + Sp Atk', 'Def + Sp Def'])\n",
        "pokemon1.head()"
      ],
      "execution_count": null,
      "outputs": [
        {
          "output_type": "execute_result",
          "data": {
            "text/html": [
              "<div>\n",
              "<style scoped>\n",
              "    .dataframe tbody tr th:only-of-type {\n",
              "        vertical-align: middle;\n",
              "    }\n",
              "\n",
              "    .dataframe tbody tr th {\n",
              "        vertical-align: top;\n",
              "    }\n",
              "\n",
              "    .dataframe thead th {\n",
              "        text-align: right;\n",
              "    }\n",
              "</style>\n",
              "<table border=\"1\" class=\"dataframe\">\n",
              "  <thead>\n",
              "    <tr style=\"text-align: right;\">\n",
              "      <th></th>\n",
              "      <th>#</th>\n",
              "      <th>Name</th>\n",
              "      <th>Type 1</th>\n",
              "      <th>Type 2</th>\n",
              "      <th>Total</th>\n",
              "      <th>HP</th>\n",
              "      <th>Attack</th>\n",
              "      <th>Defense</th>\n",
              "      <th>Sp. Atk</th>\n",
              "      <th>Sp. Def</th>\n",
              "      <th>Speed</th>\n",
              "      <th>Generation</th>\n",
              "      <th>Legendary</th>\n",
              "    </tr>\n",
              "  </thead>\n",
              "  <tbody>\n",
              "    <tr>\n",
              "      <th>0</th>\n",
              "      <td>1</td>\n",
              "      <td>Bulbasaur</td>\n",
              "      <td>Grass</td>\n",
              "      <td>Poison</td>\n",
              "      <td>318</td>\n",
              "      <td>45</td>\n",
              "      <td>49</td>\n",
              "      <td>49</td>\n",
              "      <td>65</td>\n",
              "      <td>65</td>\n",
              "      <td>45</td>\n",
              "      <td>1</td>\n",
              "      <td>False</td>\n",
              "    </tr>\n",
              "    <tr>\n",
              "      <th>1</th>\n",
              "      <td>2</td>\n",
              "      <td>Ivysaur</td>\n",
              "      <td>Grass</td>\n",
              "      <td>Poison</td>\n",
              "      <td>405</td>\n",
              "      <td>60</td>\n",
              "      <td>62</td>\n",
              "      <td>63</td>\n",
              "      <td>80</td>\n",
              "      <td>80</td>\n",
              "      <td>60</td>\n",
              "      <td>1</td>\n",
              "      <td>False</td>\n",
              "    </tr>\n",
              "    <tr>\n",
              "      <th>2</th>\n",
              "      <td>3</td>\n",
              "      <td>Venusaur</td>\n",
              "      <td>Grass</td>\n",
              "      <td>Poison</td>\n",
              "      <td>525</td>\n",
              "      <td>80</td>\n",
              "      <td>82</td>\n",
              "      <td>83</td>\n",
              "      <td>100</td>\n",
              "      <td>100</td>\n",
              "      <td>80</td>\n",
              "      <td>1</td>\n",
              "      <td>False</td>\n",
              "    </tr>\n",
              "    <tr>\n",
              "      <th>3</th>\n",
              "      <td>3</td>\n",
              "      <td>VenusaurMega Venusaur</td>\n",
              "      <td>Grass</td>\n",
              "      <td>Poison</td>\n",
              "      <td>625</td>\n",
              "      <td>80</td>\n",
              "      <td>100</td>\n",
              "      <td>123</td>\n",
              "      <td>122</td>\n",
              "      <td>120</td>\n",
              "      <td>80</td>\n",
              "      <td>1</td>\n",
              "      <td>False</td>\n",
              "    </tr>\n",
              "    <tr>\n",
              "      <th>4</th>\n",
              "      <td>4</td>\n",
              "      <td>Charmander</td>\n",
              "      <td>Fire</td>\n",
              "      <td>NaN</td>\n",
              "      <td>309</td>\n",
              "      <td>39</td>\n",
              "      <td>52</td>\n",
              "      <td>43</td>\n",
              "      <td>60</td>\n",
              "      <td>50</td>\n",
              "      <td>65</td>\n",
              "      <td>1</td>\n",
              "      <td>False</td>\n",
              "    </tr>\n",
              "  </tbody>\n",
              "</table>\n",
              "</div>"
            ],
            "text/plain": [
              "   #                   Name Type 1  ... Speed  Generation  Legendary\n",
              "0  1              Bulbasaur  Grass  ...    45           1      False\n",
              "1  2                Ivysaur  Grass  ...    60           1      False\n",
              "2  3               Venusaur  Grass  ...    80           1      False\n",
              "3  3  VenusaurMega Venusaur  Grass  ...    80           1      False\n",
              "4  4             Charmander   Fire  ...    65           1      False\n",
              "\n",
              "[5 rows x 13 columns]"
            ]
          },
          "metadata": {
            "tags": []
          },
          "execution_count": 7
        }
      ]
    },
    {
      "cell_type": "markdown",
      "metadata": {
        "id": "zr1NgwoLYKmq"
      },
      "source": [
        "# Funciones, definiciones y métodos"
      ]
    },
    {
      "cell_type": "markdown",
      "metadata": {
        "id": "QA7XkETTQNv0"
      },
      "source": [
        "Python incluye varias funciones que pueden ser de utilidad en nuestro día a día.\n",
        "\n",
        "Para usar estas funciones predefinidas se sigue la siguiente sintaxis\n",
        "\n",
        "*nombre de la funcion*(*variable*)"
      ]
    },
    {
      "cell_type": "markdown",
      "metadata": {
        "id": "NleySvZZQkwJ"
      },
      "source": [
        "Nombre | Descripción |\n",
        "-------|-------------|\n",
        "abs() | Devuelve el valor absoluto|\n",
        "bin() | Convierte un entero a binario|\n",
        "enumerate() | Devuelve un objeto enumerado |\n",
        "len() | Devuelve la longitud de un objeto|\n",
        "max() | Devuelve el valor máximo de un arreglo |\n",
        "min() | Devuelve el valor mínimo de un arreglo |\n",
        "print() | Despliega la información contenida en los paréntesis |\n",
        "range() | Crea una secuencia de números. Se puede indicar el inicio, fin e incrementos|"
      ]
    },
    {
      "cell_type": "code",
      "metadata": {
        "id": "h--dRSOGV3Za"
      },
      "source": [
        "# Definimos algunas variables\n",
        "x = 10\n",
        "y = -100\n",
        "lista = [54,23,67,90,0.5,10]\n",
        "\n",
        "# Ejemplo de abs()\n",
        "print(abs(y))\n",
        "\n",
        "# Ejemplo de bin()\n",
        "print(bin(x))\n",
        "\n",
        "#Ejemplo de len()\n",
        "print(len(lista))\n",
        "\n",
        "# Ejemplo de max() y min()\n",
        "print(max(lista))\n",
        "print(min(lista))\n",
        "\n",
        "# Ejemplo de print()\n",
        "print('Ejemplo de print')"
      ],
      "execution_count": null,
      "outputs": []
    },
    {
      "cell_type": "code",
      "metadata": {
        "id": "1saGItiASCCu"
      },
      "source": [
        "# Para los ejemplos de range() usaremos un ciclo for\n",
        "for i in range(10):\n",
        "  print(i)"
      ],
      "execution_count": null,
      "outputs": []
    },
    {
      "cell_type": "code",
      "metadata": {
        "id": "VDuSMvvHSInq"
      },
      "source": [
        "for i in range(5,10):\n",
        "  print(i)"
      ],
      "execution_count": null,
      "outputs": []
    },
    {
      "cell_type": "code",
      "metadata": {
        "id": "gVC35RWgSPHQ"
      },
      "source": [
        "for i in range(0,20,2):\n",
        "  print(i)"
      ],
      "execution_count": null,
      "outputs": []
    },
    {
      "cell_type": "markdown",
      "metadata": {
        "id": "PSCwWTlrSl2q"
      },
      "source": [
        "## Scripts\n",
        "\n",
        "Un *script* son varias líneas de código que se ejecutan **una sola vez** al ser llamadas.\n",
        "\n",
        "Un script puede contener una o varias **funciones**.\n",
        "\n",
        "Una función siempre regresa un **resultado**.\n",
        "\n",
        "Para declarar una función se usa la palabra clave *def()*.\n",
        "\n",
        "Veamos como se construye una función."
      ]
    },
    {
      "cell_type": "code",
      "metadata": {
        "id": "XQtUC6lSSRKD"
      },
      "source": [
        "def funcion():\n",
        "  print(\"Ejemplo de función\")"
      ],
      "execution_count": null,
      "outputs": []
    },
    {
      "cell_type": "code",
      "metadata": {
        "id": "-DtLXOy-TL_P"
      },
      "source": [
        "funcion()"
      ],
      "execution_count": null,
      "outputs": []
    },
    {
      "cell_type": "markdown",
      "metadata": {
        "id": "clN9niG_TPvh"
      },
      "source": [
        "Una función puede tener **parámetros** de entrada. Estos parámetros se deben de indicar dentro de los paréntesis. Si se requiere se puede establecer una parámetro por defecto."
      ]
    },
    {
      "cell_type": "code",
      "metadata": {
        "id": "cJ6bhCfaTNWa"
      },
      "source": [
        "def nombres(names):\n",
        "  print('Hola mi nombre es ' + names)\n"
      ],
      "execution_count": null,
      "outputs": []
    },
    {
      "cell_type": "markdown",
      "metadata": {
        "id": "Z7f9e4grTx56"
      },
      "source": [
        "La función anterior *nombres* decvuelve el texto *Hola mi nombre es* seguido del parámetro que ingresemos. \n",
        "\n",
        "Veamos unos ejemplos."
      ]
    },
    {
      "cell_type": "code",
      "metadata": {
        "id": "dSzw9BuiTwbD"
      },
      "source": [
        "nombres('Angel')\n",
        "nombres('Leonardo')\n",
        "nombres('Iron man')"
      ],
      "execution_count": null,
      "outputs": []
    },
    {
      "cell_type": "markdown",
      "metadata": {
        "id": "CWAOisqlUM0a"
      },
      "source": [
        "En el caso de que queramos que la función siempre regrese un valor debemos indicar el parámetro por default."
      ]
    },
    {
      "cell_type": "code",
      "metadata": {
        "id": "OkwVyM4FUKgO"
      },
      "source": [
        "### Modificando la función nombres()\n",
        "\n",
        "def nombres(names='Nombre genérico'):\n",
        "  print('Hola mi nombre es ' + names)"
      ],
      "execution_count": null,
      "outputs": []
    },
    {
      "cell_type": "code",
      "metadata": {
        "id": "-u28wrceUmkl"
      },
      "source": [
        "# Ejemplos\n",
        "nombres('Rafael')\n",
        "nombres('Donatello')\n",
        "nombres()"
      ],
      "execution_count": null,
      "outputs": []
    },
    {
      "cell_type": "markdown",
      "metadata": {
        "id": "tXlne-XPVXXV"
      },
      "source": [
        "### *Args\n",
        "Con el comando **args* podemos n números de parámetros a una función.\n",
        "\n",
        "Por convención usamos la palabra **args aunque se puede usar cualquier palabra, siempre y cuando esté después de un asterisco."
      ]
    },
    {
      "cell_type": "code",
      "metadata": {
        "id": "-WaSW2aCUtjw"
      },
      "source": [
        "nombres('Miguel','Angel')"
      ],
      "execution_count": null,
      "outputs": []
    },
    {
      "cell_type": "markdown",
      "metadata": {
        "id": "xoCXMvtfYS9q"
      },
      "source": [
        "En la celda anterior ingresamos dos nombres como parámetros a la función. Python nos regresa un error porque sólo declaramos un parámetro como entrada.\n",
        "\n",
        "Para solucionar esto es donde entra en acción **args"
      ]
    },
    {
      "cell_type": "code",
      "metadata": {
        "id": "1qCOoWFeYRqS"
      },
      "source": [
        "def nombres_args(*args):\n",
        "  print('Mi nombre es ', args)\n"
      ],
      "execution_count": null,
      "outputs": []
    },
    {
      "cell_type": "code",
      "metadata": {
        "id": "AfOgawC7YpTg"
      },
      "source": [
        "nombres_args('Miguel','Angel','Donatello','Rafael')"
      ],
      "execution_count": null,
      "outputs": []
    },
    {
      "cell_type": "markdown",
      "metadata": {
        "id": "6Y1JIirnY-0R"
      },
      "source": [
        "Si quisieramos que despliegue uno por uno los nombres usamos un ciclo *for*, ya que el tipo de entrada es una **tupla**."
      ]
    },
    {
      "cell_type": "code",
      "metadata": {
        "id": "oLgC1pxoYvoW"
      },
      "source": [
        "def nombres2(*args):\n",
        "  for arg in args:\n",
        "    print('Mi nombre es ' + arg)"
      ],
      "execution_count": null,
      "outputs": []
    },
    {
      "cell_type": "code",
      "metadata": {
        "id": "U_KfD1AEZQZl"
      },
      "source": [
        "nombres2('Miguel Angel','Rafael','Donatello','Leonardo')"
      ],
      "execution_count": null,
      "outputs": []
    },
    {
      "cell_type": "markdown",
      "metadata": {
        "id": "BpuSw0NGaEdO"
      },
      "source": [
        "### La palabra clave return()\n",
        "\n",
        "Hasta ahora hemos usado la función *print()* para desplegar los resultados de un script. Esto es útil mas no es lo ideal. Para darle un aspecto más profesional podemmos hacer que nuestros scritps regresen un resultado con la palabra clave **return()**. Todo lo que esté dentro de los paréntesis será la salida del script."
      ]
    },
    {
      "cell_type": "code",
      "metadata": {
        "id": "N0akn9QfZW5u"
      },
      "source": [
        "# Creamos dos funciones\n",
        "\n",
        "def suma1(x,y):\n",
        "  print('La suma es:', x+y)\n",
        "\n",
        "def suma2(x,y):\n",
        "  s = x + y\n",
        "  return(s)"
      ],
      "execution_count": null,
      "outputs": []
    },
    {
      "cell_type": "code",
      "metadata": {
        "id": "zYfKjgMoax93"
      },
      "source": [
        "# Declaramos dos variables\n",
        "x = 55\n",
        "y = 45\n",
        "\n",
        "suma1(x,y)\n",
        "suma2(x,y)"
      ],
      "execution_count": null,
      "outputs": []
    },
    {
      "cell_type": "markdown",
      "metadata": {
        "id": "K6ZR71SGa-3l"
      },
      "source": [
        "Aunque en teoría el resultado es el mismo, con la palabra **return()** nos aseguramos que el script tenga **una sola salida** y que dicha salida sea el resultado que realmente queremos."
      ]
    },
    {
      "cell_type": "code",
      "metadata": {
        "id": "xo1b--mVa5XN"
      },
      "source": [
        "# Crearemos una funcion para multiplicar números\n",
        "def multis(x):\n",
        "  return x*8\n"
      ],
      "execution_count": null,
      "outputs": []
    },
    {
      "cell_type": "code",
      "metadata": {
        "id": "o3AgDrUKcrXB"
      },
      "source": [
        "print(multis(3))\n",
        "print(multis(4))\n",
        "print(multis(5))"
      ],
      "execution_count": null,
      "outputs": []
    },
    {
      "cell_type": "markdown",
      "metadata": {
        "id": "4cQC0Yaic8ms"
      },
      "source": [
        "Ahora que vimos como se construyen las funciones vamos a hacer un ejemplo más complejo.\n",
        "\n",
        "Usaremos el problema de determinar el tipo de triángulo como base."
      ]
    },
    {
      "cell_type": "code",
      "metadata": {
        "id": "TkIq__FLcu8K"
      },
      "source": [
        "def triangulo(a,b,c,):\n",
        "  if a == b == c:\n",
        "    tipo = 'Triángulo equilátero'\n",
        "  elif a == c and a != b and c !=b:\n",
        "    tipo = 'Triángulo isósceles'\n",
        "  else:\n",
        "    tipo = 'Triángulo escaleno'\n",
        "\n",
        "  return(tipo)"
      ],
      "execution_count": null,
      "outputs": []
    },
    {
      "cell_type": "code",
      "metadata": {
        "id": "9Y99DUFgdzap"
      },
      "source": [
        "print(triangulo(10,10,10)) # Lados iguales\n",
        "print(triangulo(10,9,10)) # Dos lados iguales\n",
        "print(triangulo(10,9,8)) # Lados diferentes"
      ],
      "execution_count": null,
      "outputs": []
    },
    {
      "cell_type": "markdown",
      "metadata": {
        "id": "X9rilsuceRt8"
      },
      "source": [
        "La función funciona de maravilla, pero sólo nosotros sabemos cómo funciona, qué tipos de datos hay que ingresar y qué tipo de dato regresa.\n",
        "\n",
        "Para dar un mejor entendimiento, presentación y claridad aquí están algunos tips:\n",
        "* Dar ejemplos\n",
        "* Informar el tipo de dato que se ingresa y retorna\n",
        "* Escojer adecuadamente el nombre de las variables\n",
        "* Proporcionar una descripción breve del funcionamiento mediante comentarios"
      ]
    },
    {
      "cell_type": "code",
      "metadata": {
        "id": "mJtm1UV_ePtQ"
      },
      "source": [
        "# Mejorando la función triángulo()\n",
        "\n",
        "def triangulo(a,b,c):\n",
        "  ''' (numero) -> string\n",
        "      Regresa el tipo de triángulo de acuerdo a los lados ingresados.\n",
        "  \n",
        "      >>> triangulo(10,10,10)\n",
        "        Triángulo equilatero\n",
        "      >>> triangulo(10,9,10)\n",
        "        Triángulo isósceles\n",
        "      >>> triangulo(10,9,8)\n",
        "        Triángulo escaleno\n",
        "  '''\n",
        "  \n",
        "  if a == b == c:\n",
        "    tipo = \"Triángulo equilatero\"\n",
        "  elif a == c and a != b and c != b:\n",
        "    tipo = \"Triángulo isósceles\"\n",
        "  else:\n",
        "    tipo = \"Triángulo escaleno\"\n",
        "  return(tipo)"
      ],
      "execution_count": null,
      "outputs": []
    },
    {
      "cell_type": "code",
      "metadata": {
        "id": "2qQ2em4ufKXw"
      },
      "source": [
        "print(triangulo(10,10,10))\n",
        "print(triangulo(10,9,10))\n",
        "print(triangulo(10,9,8))"
      ],
      "execution_count": null,
      "outputs": []
    },
    {
      "cell_type": "code",
      "metadata": {
        "id": "JUbced3KfOZd"
      },
      "source": [
        ""
      ],
      "execution_count": null,
      "outputs": []
    }
  ]
}
