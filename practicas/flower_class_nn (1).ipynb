{
  "nbformat": 4,
  "nbformat_minor": 0,
  "metadata": {
    "colab": {
      "name": "flower_class_nn",
      "provenance": [],
      "collapsed_sections": []
    },
    "kernelspec": {
      "name": "python3",
      "display_name": "Python 3"
    }
  },
  "cells": [
    {
      "cell_type": "markdown",
      "metadata": {
        "id": "C7prGybZ5u9T"
      },
      "source": [
        "# Clasificando flores\n",
        "\n",
        "En nuestra segunda practica abordaremos el problema de la clasificación multiclase. Para ello usaremos otra de las bases de datos clásicas, la *iris dataset* que contiene características de petalos de tres clases distintas.\n",
        "\n",
        "La clasificación multiclase es un problema interesante puesto que cada clase necesita un tratamiento especializado.\n",
        "\n",
        "En este caso, los mejores resultados (y los que esperamos obtener) es una exactitud cercana al 95%.\n",
        "\n",
        "No se hable más y manos a la obra."
      ]
    },
    {
      "cell_type": "markdown",
      "metadata": {
        "id": "CJXG2SPs63yT"
      },
      "source": [
        "Igual que siempre, cargamos las liberías necesarias."
      ]
    },
    {
      "cell_type": "code",
      "metadata": {
        "id": "HdXVgPCu5ZwT"
      },
      "source": [
        "import numpy as np\n",
        "import matplotlib.pyplot as plt\n",
        "import pandas as pd\n",
        "import keras\n",
        "from keras.models import Sequential\n",
        "from keras.layers import Dense\n",
        "from keras.wrappers.scikit_learn import KerasClassifier\n",
        "from keras.utils import np_utils\n",
        "from sklearn.model_selection import cross_val_score\n",
        "from sklearn.model_selection import KFold\n",
        "from sklearn.preprocessing import LabelEncoder\n",
        "from sklearn.pipeline import Pipeline\n",
        "from sklearn import datasets\n",
        "from google.colab import files"
      ],
      "execution_count": null,
      "outputs": []
    },
    {
      "cell_type": "code",
      "metadata": {
        "id": "tYunMg7ZuFFP"
      },
      "source": [
        "plt.rcParams['figure.figsize'] = (12,12)"
      ],
      "execution_count": null,
      "outputs": []
    },
    {
      "cell_type": "markdown",
      "metadata": {
        "id": "RZvqzoKs70QO"
      },
      "source": [
        "## Cargamos la base de datos\n",
        "\n",
        "La base de datos Iris consta de valores numéricos como datos de entrada, pero, la variable de salida se indica con texto (esto lo veremos más adelante). Esta base ha sido estudiada bastante y es un buen ejercicio para prácticar las NN's por su relativa sencillez en cuanto al manejo de datos. Como mencionamos antes, la base se compone de cuatro instancias de mediciones de flores y una instancia final de la especie a la que pertenece dicha flor."
      ]
    },
    {
      "cell_type": "code",
      "metadata": {
        "id": "Q5Gkt_PF7twW",
        "colab": {
          "resources": {
            "http://localhost:8080/nbextensions/google.colab/files.js": {
              "data": "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",
              "ok": true,
              "headers": [
                [
                  "content-type",
                  "application/javascript"
                ]
              ],
              "status": 200,
              "status_text": ""
            }
          },
          "base_uri": "https://localhost:8080/",
          "height": 73
        },
        "outputId": "9a7b0b3d-ed0d-42d7-e2a6-d8d51d5635b7"
      },
      "source": [
        "# Cargando la base\n",
        "uploads = files.upload()"
      ],
      "execution_count": null,
      "outputs": [
        {
          "output_type": "display_data",
          "data": {
            "text/html": [
              "\n",
              "     <input type=\"file\" id=\"files-8facfdf2-3d6d-4853-8eb5-17af2817f5dc\" name=\"files[]\" multiple disabled\n",
              "        style=\"border:none\" />\n",
              "     <output id=\"result-8facfdf2-3d6d-4853-8eb5-17af2817f5dc\">\n",
              "      Upload widget is only available when the cell has been executed in the\n",
              "      current browser session. Please rerun this cell to enable.\n",
              "      </output>\n",
              "      <script src=\"/nbextensions/google.colab/files.js\"></script> "
            ],
            "text/plain": [
              "<IPython.core.display.HTML object>"
            ]
          },
          "metadata": {
            "tags": []
          }
        },
        {
          "output_type": "stream",
          "text": [
            "Saving iris_dataset.csv to iris_dataset (1).csv\n"
          ],
          "name": "stdout"
        }
      ]
    },
    {
      "cell_type": "code",
      "metadata": {
        "id": "FL-BjVGFvo3S"
      },
      "source": [
        "upload = pd.read_csv('iris_dataset.csv')"
      ],
      "execution_count": null,
      "outputs": []
    },
    {
      "cell_type": "code",
      "metadata": {
        "id": "sTSqJ35b89nB",
        "colab": {
          "base_uri": "https://localhost:8080/",
          "height": 415
        },
        "outputId": "f2f2c128-f0ff-4ab4-b1f5-3e0b8a75122c"
      },
      "source": [
        "data = pd.DataFrame(upload)\n",
        "data.head(-1)"
      ],
      "execution_count": null,
      "outputs": [
        {
          "output_type": "execute_result",
          "data": {
            "text/html": [
              "<div>\n",
              "<style scoped>\n",
              "    .dataframe tbody tr th:only-of-type {\n",
              "        vertical-align: middle;\n",
              "    }\n",
              "\n",
              "    .dataframe tbody tr th {\n",
              "        vertical-align: top;\n",
              "    }\n",
              "\n",
              "    .dataframe thead th {\n",
              "        text-align: right;\n",
              "    }\n",
              "</style>\n",
              "<table border=\"1\" class=\"dataframe\">\n",
              "  <thead>\n",
              "    <tr style=\"text-align: right;\">\n",
              "      <th></th>\n",
              "      <th>sepal.length</th>\n",
              "      <th>sepal.width</th>\n",
              "      <th>petal.length</th>\n",
              "      <th>petal.width</th>\n",
              "      <th>variety</th>\n",
              "    </tr>\n",
              "  </thead>\n",
              "  <tbody>\n",
              "    <tr>\n",
              "      <th>0</th>\n",
              "      <td>5.1</td>\n",
              "      <td>3.5</td>\n",
              "      <td>1.4</td>\n",
              "      <td>0.2</td>\n",
              "      <td>Setosa</td>\n",
              "    </tr>\n",
              "    <tr>\n",
              "      <th>1</th>\n",
              "      <td>4.9</td>\n",
              "      <td>3.0</td>\n",
              "      <td>1.4</td>\n",
              "      <td>0.2</td>\n",
              "      <td>Setosa</td>\n",
              "    </tr>\n",
              "    <tr>\n",
              "      <th>2</th>\n",
              "      <td>4.7</td>\n",
              "      <td>3.2</td>\n",
              "      <td>1.3</td>\n",
              "      <td>0.2</td>\n",
              "      <td>Setosa</td>\n",
              "    </tr>\n",
              "    <tr>\n",
              "      <th>3</th>\n",
              "      <td>4.6</td>\n",
              "      <td>3.1</td>\n",
              "      <td>1.5</td>\n",
              "      <td>0.2</td>\n",
              "      <td>Setosa</td>\n",
              "    </tr>\n",
              "    <tr>\n",
              "      <th>4</th>\n",
              "      <td>5.0</td>\n",
              "      <td>3.6</td>\n",
              "      <td>1.4</td>\n",
              "      <td>0.2</td>\n",
              "      <td>Setosa</td>\n",
              "    </tr>\n",
              "    <tr>\n",
              "      <th>...</th>\n",
              "      <td>...</td>\n",
              "      <td>...</td>\n",
              "      <td>...</td>\n",
              "      <td>...</td>\n",
              "      <td>...</td>\n",
              "    </tr>\n",
              "    <tr>\n",
              "      <th>144</th>\n",
              "      <td>6.7</td>\n",
              "      <td>3.3</td>\n",
              "      <td>5.7</td>\n",
              "      <td>2.5</td>\n",
              "      <td>Virginica</td>\n",
              "    </tr>\n",
              "    <tr>\n",
              "      <th>145</th>\n",
              "      <td>6.7</td>\n",
              "      <td>3.0</td>\n",
              "      <td>5.2</td>\n",
              "      <td>2.3</td>\n",
              "      <td>Virginica</td>\n",
              "    </tr>\n",
              "    <tr>\n",
              "      <th>146</th>\n",
              "      <td>6.3</td>\n",
              "      <td>2.5</td>\n",
              "      <td>5.0</td>\n",
              "      <td>1.9</td>\n",
              "      <td>Virginica</td>\n",
              "    </tr>\n",
              "    <tr>\n",
              "      <th>147</th>\n",
              "      <td>6.5</td>\n",
              "      <td>3.0</td>\n",
              "      <td>5.2</td>\n",
              "      <td>2.0</td>\n",
              "      <td>Virginica</td>\n",
              "    </tr>\n",
              "    <tr>\n",
              "      <th>148</th>\n",
              "      <td>6.2</td>\n",
              "      <td>3.4</td>\n",
              "      <td>5.4</td>\n",
              "      <td>2.3</td>\n",
              "      <td>Virginica</td>\n",
              "    </tr>\n",
              "  </tbody>\n",
              "</table>\n",
              "<p>149 rows × 5 columns</p>\n",
              "</div>"
            ],
            "text/plain": [
              "     sepal.length  sepal.width  petal.length  petal.width    variety\n",
              "0             5.1          3.5           1.4          0.2     Setosa\n",
              "1             4.9          3.0           1.4          0.2     Setosa\n",
              "2             4.7          3.2           1.3          0.2     Setosa\n",
              "3             4.6          3.1           1.5          0.2     Setosa\n",
              "4             5.0          3.6           1.4          0.2     Setosa\n",
              "..            ...          ...           ...          ...        ...\n",
              "144           6.7          3.3           5.7          2.5  Virginica\n",
              "145           6.7          3.0           5.2          2.3  Virginica\n",
              "146           6.3          2.5           5.0          1.9  Virginica\n",
              "147           6.5          3.0           5.2          2.0  Virginica\n",
              "148           6.2          3.4           5.4          2.3  Virginica\n",
              "\n",
              "[149 rows x 5 columns]"
            ]
          },
          "metadata": {
            "tags": []
          },
          "execution_count": 6
        }
      ]
    },
    {
      "cell_type": "code",
      "metadata": {
        "id": "HdDXXA1G9LDK",
        "colab": {
          "base_uri": "https://localhost:8080/",
          "height": 294
        },
        "outputId": "042df69e-4d0f-4a51-cb5c-29ef647c88d1"
      },
      "source": [
        "data.describe()"
      ],
      "execution_count": null,
      "outputs": [
        {
          "output_type": "execute_result",
          "data": {
            "text/html": [
              "<div>\n",
              "<style scoped>\n",
              "    .dataframe tbody tr th:only-of-type {\n",
              "        vertical-align: middle;\n",
              "    }\n",
              "\n",
              "    .dataframe tbody tr th {\n",
              "        vertical-align: top;\n",
              "    }\n",
              "\n",
              "    .dataframe thead th {\n",
              "        text-align: right;\n",
              "    }\n",
              "</style>\n",
              "<table border=\"1\" class=\"dataframe\">\n",
              "  <thead>\n",
              "    <tr style=\"text-align: right;\">\n",
              "      <th></th>\n",
              "      <th>sepal.length</th>\n",
              "      <th>sepal.width</th>\n",
              "      <th>petal.length</th>\n",
              "      <th>petal.width</th>\n",
              "    </tr>\n",
              "  </thead>\n",
              "  <tbody>\n",
              "    <tr>\n",
              "      <th>count</th>\n",
              "      <td>150.000000</td>\n",
              "      <td>150.000000</td>\n",
              "      <td>150.000000</td>\n",
              "      <td>150.000000</td>\n",
              "    </tr>\n",
              "    <tr>\n",
              "      <th>mean</th>\n",
              "      <td>5.843333</td>\n",
              "      <td>3.057333</td>\n",
              "      <td>3.758000</td>\n",
              "      <td>1.199333</td>\n",
              "    </tr>\n",
              "    <tr>\n",
              "      <th>std</th>\n",
              "      <td>0.828066</td>\n",
              "      <td>0.435866</td>\n",
              "      <td>1.765298</td>\n",
              "      <td>0.762238</td>\n",
              "    </tr>\n",
              "    <tr>\n",
              "      <th>min</th>\n",
              "      <td>4.300000</td>\n",
              "      <td>2.000000</td>\n",
              "      <td>1.000000</td>\n",
              "      <td>0.100000</td>\n",
              "    </tr>\n",
              "    <tr>\n",
              "      <th>25%</th>\n",
              "      <td>5.100000</td>\n",
              "      <td>2.800000</td>\n",
              "      <td>1.600000</td>\n",
              "      <td>0.300000</td>\n",
              "    </tr>\n",
              "    <tr>\n",
              "      <th>50%</th>\n",
              "      <td>5.800000</td>\n",
              "      <td>3.000000</td>\n",
              "      <td>4.350000</td>\n",
              "      <td>1.300000</td>\n",
              "    </tr>\n",
              "    <tr>\n",
              "      <th>75%</th>\n",
              "      <td>6.400000</td>\n",
              "      <td>3.300000</td>\n",
              "      <td>5.100000</td>\n",
              "      <td>1.800000</td>\n",
              "    </tr>\n",
              "    <tr>\n",
              "      <th>max</th>\n",
              "      <td>7.900000</td>\n",
              "      <td>4.400000</td>\n",
              "      <td>6.900000</td>\n",
              "      <td>2.500000</td>\n",
              "    </tr>\n",
              "  </tbody>\n",
              "</table>\n",
              "</div>"
            ],
            "text/plain": [
              "       sepal.length  sepal.width  petal.length  petal.width\n",
              "count    150.000000   150.000000    150.000000   150.000000\n",
              "mean       5.843333     3.057333      3.758000     1.199333\n",
              "std        0.828066     0.435866      1.765298     0.762238\n",
              "min        4.300000     2.000000      1.000000     0.100000\n",
              "25%        5.100000     2.800000      1.600000     0.300000\n",
              "50%        5.800000     3.000000      4.350000     1.300000\n",
              "75%        6.400000     3.300000      5.100000     1.800000\n",
              "max        7.900000     4.400000      6.900000     2.500000"
            ]
          },
          "metadata": {
            "tags": []
          },
          "execution_count": 7
        }
      ]
    },
    {
      "cell_type": "code",
      "metadata": {
        "id": "fxbHF6oM9WF4"
      },
      "source": [
        "database = data.values # Asignamos a la variable database todos los valores de la base de datos\n",
        "X = database[:,0:4].astype(float) # X serán los valores de nuestras primeras cuatro columnas\n",
        "Y = database[:,4] # Y serán los valores de la última columna"
      ],
      "execution_count": null,
      "outputs": []
    },
    {
      "cell_type": "code",
      "metadata": {
        "colab": {
          "base_uri": "https://localhost:8080/"
        },
        "id": "KcxbME4GIgQ5",
        "outputId": "1c8ee675-3682-424a-b76b-3efbfb940e2f"
      },
      "source": [
        "np.shape(Y)"
      ],
      "execution_count": null,
      "outputs": [
        {
          "output_type": "execute_result",
          "data": {
            "text/plain": [
              "(150,)"
            ]
          },
          "metadata": {
            "tags": []
          },
          "execution_count": 9
        }
      ]
    },
    {
      "cell_type": "markdown",
      "metadata": {
        "id": "J80IY9AE-pjI"
      },
      "source": [
        "Como lo mencionamos, la variable de salida es de tipo *string*, por lo que se debe convertir a numérica.\n",
        "\n",
        "Cuando nos enfrentamos a un problema multiclase, una buena practica es cambiar la forma de los datos de salida. Una solución rápida es crear un vector que contenga valores para cada clase. Esta técnica se llama **one-hot encoding**.\n",
        "\n",
        "En este caso nuestro vector de salida quedaría de la siguente forma:\n",
        "* Setosa     --> [1,0,0]\n",
        "* Versicolor --> [0,1,0]\n",
        "* Virginica  --> [0,0,1]\n"
      ]
    },
    {
      "cell_type": "code",
      "metadata": {
        "id": "0M4KvWvtAQwO"
      },
      "source": [
        "# Encodear los valores de clase a numéricos\n",
        "encoder = LabelEncoder()\n",
        "encoder.fit(Y)\n",
        "encoded_Y = encoder.transform(Y)\n",
        "# Convertir los enteros en variables de prueba\n",
        "dummy_y = np_utils.to_categorical(encoded_Y)"
      ],
      "execution_count": null,
      "outputs": []
    },
    {
      "cell_type": "code",
      "metadata": {
        "id": "T2KgUlgxMyX4",
        "colab": {
          "base_uri": "https://localhost:8080/"
        },
        "outputId": "354cd4e8-b327-4324-d408-47f481192bb3"
      },
      "source": [
        "# Desplegamos los valores después del one-hot encoding\n",
        "print(dummy_y[0:10])"
      ],
      "execution_count": null,
      "outputs": [
        {
          "output_type": "stream",
          "text": [
            "[[1. 0. 0.]\n",
            " [1. 0. 0.]\n",
            " [1. 0. 0.]\n",
            " [1. 0. 0.]\n",
            " [1. 0. 0.]\n",
            " [1. 0. 0.]\n",
            " [1. 0. 0.]\n",
            " [1. 0. 0.]\n",
            " [1. 0. 0.]\n",
            " [1. 0. 0.]]\n"
          ],
          "name": "stdout"
        }
      ]
    },
    {
      "cell_type": "markdown",
      "metadata": {
        "id": "haGcPkS6AAWX"
      },
      "source": [
        "Como pueden observar, ya tenemos solucionado (de forma rápida y elegante) el problema de las variables categóricas.\n",
        "\n",
        "Ahora vamos a modelar nuestra red."
      ]
    },
    {
      "cell_type": "markdown",
      "metadata": {
        "id": "3iSBfxpu0pqj"
      },
      "source": [
        "Ya que hicimos la conversión a valores numéricos es tiempo de generar nuestros conjuntos de entrenamiento y prueba.\n",
        "\n",
        "Para entrenar la red usaremos el 70% de los datos, para probar su funcionamiento el 30% restante."
      ]
    },
    {
      "cell_type": "code",
      "metadata": {
        "id": "r9Pes5qFL74q"
      },
      "source": [
        "from sklearn.model_selection import train_test_split\n",
        "Xtrain, Xtest, ytrain, ytest = train_test_split(X, dummy_y,\n",
        "                                                test_size=0.3,random_state=0)"
      ],
      "execution_count": null,
      "outputs": []
    },
    {
      "cell_type": "code",
      "metadata": {
        "colab": {
          "base_uri": "https://localhost:8080/"
        },
        "id": "uFB4OP_S_98z",
        "outputId": "1eb2abc0-5804-4f10-debf-e6687e5f6b22"
      },
      "source": [
        "print(np.shape(Xtrain))\n",
        "print(np.shape(Xtest))\n",
        "print(np.shape(ytrain))\n",
        "print(np.shape(ytest))"
      ],
      "execution_count": null,
      "outputs": [
        {
          "output_type": "stream",
          "text": [
            "(105, 4)\n",
            "(45, 4)\n",
            "(105, 3)\n",
            "(45, 3)\n"
          ],
          "name": "stdout"
        }
      ]
    },
    {
      "cell_type": "markdown",
      "metadata": {
        "id": "Sh0kUNp1Aop4"
      },
      "source": [
        "## Definiendo la red neuronal"
      ]
    },
    {
      "cell_type": "code",
      "metadata": {
        "id": "sCFAAsMX-dw2",
        "colab": {
          "base_uri": "https://localhost:8080/"
        },
        "outputId": "dbf7afe5-23e0-491d-b4fa-6da002321268"
      },
      "source": [
        "model = Sequential()\n",
        "model.add(Dense(8, input_dim=4, activation='relu')) # capa de entrada\n",
        "model.add(Dense(16,activation='relu')) # capa oculta\n",
        "model.add(Dense(3, activation='softmax')) # capa de salida\n",
        "\n",
        "model.compile(loss='categorical_crossentropy', optimizer='adam', metrics=['accuracy'])\n",
        "model.summary()"
      ],
      "execution_count": null,
      "outputs": [
        {
          "output_type": "stream",
          "text": [
            "Model: \"sequential\"\n",
            "_________________________________________________________________\n",
            "Layer (type)                 Output Shape              Param #   \n",
            "=================================================================\n",
            "dense (Dense)                (None, 8)                 40        \n",
            "_________________________________________________________________\n",
            "dense_1 (Dense)              (None, 16)                144       \n",
            "_________________________________________________________________\n",
            "dense_2 (Dense)              (None, 3)                 51        \n",
            "=================================================================\n",
            "Total params: 235\n",
            "Trainable params: 235\n",
            "Non-trainable params: 0\n",
            "_________________________________________________________________\n"
          ],
          "name": "stdout"
        }
      ]
    },
    {
      "cell_type": "markdown",
      "metadata": {
        "id": "iTiGKNXX2mHn"
      },
      "source": [
        "La arquitectura de la red será algo sencillo.\n",
        "* Una capa de entrada donde estarán nuestras inputs, esta capa tendrá 8 perceptrones y se activará con la función ReLU\n",
        "* Una capa de salida, con tres posibles resultados y que se active a través de la función Softmax.\n",
        "* Como método de evaluación usaremos a la *accuracy*."
      ]
    },
    {
      "cell_type": "code",
      "metadata": {
        "colab": {
          "base_uri": "https://localhost:8080/",
          "height": 363
        },
        "id": "ABRwDztT3X4n",
        "outputId": "e175bb5e-5708-45dc-9aef-152560fee161"
      },
      "source": [
        "# Viendo de modo gráfico a la red\n",
        "import tensorflow as tf\n",
        "\n",
        "tf.keras.utils.plot_model(model, show_shapes=True)"
      ],
      "execution_count": null,
      "outputs": [
        {
          "output_type": "error",
          "ename": "AssertionError",
          "evalue": "ignored",
          "traceback": [
            "\u001b[0;31m---------------------------------------------------------------------------\u001b[0m",
            "\u001b[0;31mAssertionError\u001b[0m                            Traceback (most recent call last)",
            "\u001b[0;32m<ipython-input-21-1614abb92546>\u001b[0m in \u001b[0;36m<module>\u001b[0;34m()\u001b[0m\n\u001b[1;32m      2\u001b[0m \u001b[0;32mimport\u001b[0m \u001b[0mtensorflow\u001b[0m \u001b[0;32mas\u001b[0m \u001b[0mtf\u001b[0m\u001b[0;34m\u001b[0m\u001b[0;34m\u001b[0m\u001b[0m\n\u001b[1;32m      3\u001b[0m \u001b[0;34m\u001b[0m\u001b[0m\n\u001b[0;32m----> 4\u001b[0;31m \u001b[0mtf\u001b[0m\u001b[0;34m.\u001b[0m\u001b[0mkeras\u001b[0m\u001b[0;34m.\u001b[0m\u001b[0mutils\u001b[0m\u001b[0;34m.\u001b[0m\u001b[0mplot_model\u001b[0m\u001b[0;34m(\u001b[0m\u001b[0mmodel\u001b[0m\u001b[0;34m,\u001b[0m \u001b[0mshow_shapes\u001b[0m\u001b[0;34m=\u001b[0m\u001b[0;32mTrue\u001b[0m\u001b[0;34m)\u001b[0m\u001b[0;34m\u001b[0m\u001b[0;34m\u001b[0m\u001b[0m\n\u001b[0m",
            "\u001b[0;32m/usr/local/lib/python3.7/dist-packages/tensorflow/python/keras/utils/vis_utils.py\u001b[0m in \u001b[0;36mplot_model\u001b[0;34m(model, to_file, show_shapes, show_dtype, show_layer_names, rankdir, expand_nested, dpi)\u001b[0m\n\u001b[1;32m    327\u001b[0m       \u001b[0mrankdir\u001b[0m\u001b[0;34m=\u001b[0m\u001b[0mrankdir\u001b[0m\u001b[0;34m,\u001b[0m\u001b[0;34m\u001b[0m\u001b[0;34m\u001b[0m\u001b[0m\n\u001b[1;32m    328\u001b[0m       \u001b[0mexpand_nested\u001b[0m\u001b[0;34m=\u001b[0m\u001b[0mexpand_nested\u001b[0m\u001b[0;34m,\u001b[0m\u001b[0;34m\u001b[0m\u001b[0;34m\u001b[0m\u001b[0m\n\u001b[0;32m--> 329\u001b[0;31m       dpi=dpi)\n\u001b[0m\u001b[1;32m    330\u001b[0m   \u001b[0mto_file\u001b[0m \u001b[0;34m=\u001b[0m \u001b[0mpath_to_string\u001b[0m\u001b[0;34m(\u001b[0m\u001b[0mto_file\u001b[0m\u001b[0;34m)\u001b[0m\u001b[0;34m\u001b[0m\u001b[0;34m\u001b[0m\u001b[0m\n\u001b[1;32m    331\u001b[0m   \u001b[0;32mif\u001b[0m \u001b[0mdot\u001b[0m \u001b[0;32mis\u001b[0m \u001b[0;32mNone\u001b[0m\u001b[0;34m:\u001b[0m\u001b[0;34m\u001b[0m\u001b[0;34m\u001b[0m\u001b[0m\n",
            "\u001b[0;32m/usr/local/lib/python3.7/dist-packages/tensorflow/python/keras/utils/vis_utils.py\u001b[0m in \u001b[0;36mmodel_to_dot\u001b[0;34m(model, show_shapes, show_dtype, show_layer_names, rankdir, expand_nested, dpi, subgraph)\u001b[0m\n\u001b[1;32m    236\u001b[0m           \u001b[0minbound_layer_id\u001b[0m \u001b[0;34m=\u001b[0m \u001b[0mstr\u001b[0m\u001b[0;34m(\u001b[0m\u001b[0mid\u001b[0m\u001b[0;34m(\u001b[0m\u001b[0minbound_layer\u001b[0m\u001b[0;34m)\u001b[0m\u001b[0;34m)\u001b[0m\u001b[0;34m\u001b[0m\u001b[0;34m\u001b[0m\u001b[0m\n\u001b[1;32m    237\u001b[0m           \u001b[0;32mif\u001b[0m \u001b[0;32mnot\u001b[0m \u001b[0mexpand_nested\u001b[0m\u001b[0;34m:\u001b[0m\u001b[0;34m\u001b[0m\u001b[0;34m\u001b[0m\u001b[0m\n\u001b[0;32m--> 238\u001b[0;31m             \u001b[0;32massert\u001b[0m \u001b[0mdot\u001b[0m\u001b[0;34m.\u001b[0m\u001b[0mget_node\u001b[0m\u001b[0;34m(\u001b[0m\u001b[0minbound_layer_id\u001b[0m\u001b[0;34m)\u001b[0m\u001b[0;34m\u001b[0m\u001b[0;34m\u001b[0m\u001b[0m\n\u001b[0m\u001b[1;32m    239\u001b[0m             \u001b[0;32massert\u001b[0m \u001b[0mdot\u001b[0m\u001b[0;34m.\u001b[0m\u001b[0mget_node\u001b[0m\u001b[0;34m(\u001b[0m\u001b[0mlayer_id\u001b[0m\u001b[0;34m)\u001b[0m\u001b[0;34m\u001b[0m\u001b[0;34m\u001b[0m\u001b[0m\n\u001b[1;32m    240\u001b[0m             \u001b[0madd_edge\u001b[0m\u001b[0;34m(\u001b[0m\u001b[0mdot\u001b[0m\u001b[0;34m,\u001b[0m \u001b[0minbound_layer_id\u001b[0m\u001b[0;34m,\u001b[0m \u001b[0mlayer_id\u001b[0m\u001b[0;34m)\u001b[0m\u001b[0;34m\u001b[0m\u001b[0;34m\u001b[0m\u001b[0m\n",
            "\u001b[0;31mAssertionError\u001b[0m: "
          ]
        }
      ]
    },
    {
      "cell_type": "code",
      "metadata": {
        "id": "84EBw7z_KFWs",
        "colab": {
          "base_uri": "https://localhost:8080/"
        },
        "outputId": "e5847ba3-8a5d-418b-cb12-0506626e1cd1"
      },
      "source": [
        "# Iniciamos el entrenamiento con el maestro Roshi\n",
        "model.fit(Xtrain,ytrain, epochs=250,batch_size=32,verbose=1)"
      ],
      "execution_count": null,
      "outputs": [
        {
          "output_type": "stream",
          "text": [
            "Epoch 1/250\n",
            "4/4 [==============================] - 13s 3ms/step - loss: 1.3348 - accuracy: 0.3736\n",
            "Epoch 2/250\n",
            "4/4 [==============================] - 0s 2ms/step - loss: 1.2686 - accuracy: 0.3632\n",
            "Epoch 3/250\n",
            "4/4 [==============================] - 0s 2ms/step - loss: 1.1872 - accuracy: 0.3861\n",
            "Epoch 4/250\n",
            "4/4 [==============================] - 0s 2ms/step - loss: 1.1938 - accuracy: 0.3777\n",
            "Epoch 5/250\n",
            "4/4 [==============================] - 0s 3ms/step - loss: 1.1132 - accuracy: 0.4017\n",
            "Epoch 6/250\n",
            "4/4 [==============================] - 0s 3ms/step - loss: 1.1506 - accuracy: 0.3819\n",
            "Epoch 7/250\n",
            "4/4 [==============================] - 0s 3ms/step - loss: 1.1573 - accuracy: 0.3413\n",
            "Epoch 8/250\n",
            "4/4 [==============================] - 0s 4ms/step - loss: 1.0989 - accuracy: 0.3621\n",
            "Epoch 9/250\n",
            "4/4 [==============================] - 0s 3ms/step - loss: 1.1260 - accuracy: 0.3382\n",
            "Epoch 10/250\n",
            "4/4 [==============================] - 0s 3ms/step - loss: 1.0297 - accuracy: 0.3975\n",
            "Epoch 11/250\n",
            "4/4 [==============================] - 0s 3ms/step - loss: 1.0780 - accuracy: 0.3527\n",
            "Epoch 12/250\n",
            "4/4 [==============================] - 0s 3ms/step - loss: 1.0467 - accuracy: 0.3423\n",
            "Epoch 13/250\n",
            "4/4 [==============================] - 0s 3ms/step - loss: 0.9954 - accuracy: 0.4090\n",
            "Epoch 14/250\n",
            "4/4 [==============================] - 0s 3ms/step - loss: 1.0028 - accuracy: 0.3715\n",
            "Epoch 15/250\n",
            "4/4 [==============================] - 0s 3ms/step - loss: 0.9877 - accuracy: 0.3496\n",
            "Epoch 16/250\n",
            "4/4 [==============================] - 0s 3ms/step - loss: 0.9778 - accuracy: 0.3611\n",
            "Epoch 17/250\n",
            "4/4 [==============================] - 0s 3ms/step - loss: 0.9599 - accuracy: 0.3704\n",
            "Epoch 18/250\n",
            "4/4 [==============================] - 0s 2ms/step - loss: 0.9592 - accuracy: 0.3569\n",
            "Epoch 19/250\n",
            "4/4 [==============================] - 0s 3ms/step - loss: 0.9251 - accuracy: 0.3850\n",
            "Epoch 20/250\n",
            "4/4 [==============================] - 0s 4ms/step - loss: 0.9211 - accuracy: 0.3652\n",
            "Epoch 21/250\n",
            "4/4 [==============================] - 0s 2ms/step - loss: 0.9264 - accuracy: 0.3444\n",
            "Epoch 22/250\n",
            "4/4 [==============================] - 0s 2ms/step - loss: 0.8976 - accuracy: 0.3951\n",
            "Epoch 23/250\n",
            "4/4 [==============================] - 0s 2ms/step - loss: 0.8729 - accuracy: 0.5629\n",
            "Epoch 24/250\n",
            "4/4 [==============================] - 0s 2ms/step - loss: 0.8882 - accuracy: 0.5803\n",
            "Epoch 25/250\n",
            "4/4 [==============================] - 0s 3ms/step - loss: 0.8645 - accuracy: 0.6236\n",
            "Epoch 26/250\n",
            "4/4 [==============================] - 0s 3ms/step - loss: 0.8427 - accuracy: 0.6684\n",
            "Epoch 27/250\n",
            "4/4 [==============================] - 0s 3ms/step - loss: 0.8114 - accuracy: 0.7170\n",
            "Epoch 28/250\n",
            "4/4 [==============================] - 0s 3ms/step - loss: 0.8230 - accuracy: 0.6906\n",
            "Epoch 29/250\n",
            "4/4 [==============================] - 0s 2ms/step - loss: 0.8054 - accuracy: 0.6771\n",
            "Epoch 30/250\n",
            "4/4 [==============================] - 0s 3ms/step - loss: 0.7770 - accuracy: 0.6833\n",
            "Epoch 31/250\n",
            "4/4 [==============================] - 0s 3ms/step - loss: 0.7401 - accuracy: 0.7208\n",
            "Epoch 32/250\n",
            "4/4 [==============================] - 0s 3ms/step - loss: 0.7341 - accuracy: 0.7198\n",
            "Epoch 33/250\n",
            "4/4 [==============================] - 0s 3ms/step - loss: 0.7211 - accuracy: 0.6937\n",
            "Epoch 34/250\n",
            "4/4 [==============================] - 0s 2ms/step - loss: 0.7148 - accuracy: 0.6781\n",
            "Epoch 35/250\n",
            "4/4 [==============================] - 0s 3ms/step - loss: 0.6836 - accuracy: 0.7229\n",
            "Epoch 36/250\n",
            "4/4 [==============================] - 0s 3ms/step - loss: 0.6786 - accuracy: 0.6791\n",
            "Epoch 37/250\n",
            "4/4 [==============================] - 0s 4ms/step - loss: 0.6608 - accuracy: 0.6798\n",
            "Epoch 38/250\n",
            "4/4 [==============================] - 0s 4ms/step - loss: 0.6372 - accuracy: 0.7072\n",
            "Epoch 39/250\n",
            "4/4 [==============================] - 0s 2ms/step - loss: 0.6223 - accuracy: 0.7124\n",
            "Epoch 40/250\n",
            "4/4 [==============================] - 0s 2ms/step - loss: 0.6320 - accuracy: 0.6722\n",
            "Epoch 41/250\n",
            "4/4 [==============================] - 0s 3ms/step - loss: 0.5976 - accuracy: 0.7149\n",
            "Epoch 42/250\n",
            "4/4 [==============================] - 0s 3ms/step - loss: 0.5915 - accuracy: 0.7034\n",
            "Epoch 43/250\n",
            "4/4 [==============================] - 0s 3ms/step - loss: 0.5886 - accuracy: 0.7079\n",
            "Epoch 44/250\n",
            "4/4 [==============================] - 0s 3ms/step - loss: 0.5619 - accuracy: 0.8148\n",
            "Epoch 45/250\n",
            "4/4 [==============================] - 0s 2ms/step - loss: 0.5344 - accuracy: 0.8436\n",
            "Epoch 46/250\n",
            "4/4 [==============================] - 0s 2ms/step - loss: 0.5334 - accuracy: 0.8144\n",
            "Epoch 47/250\n",
            "4/4 [==============================] - 0s 3ms/step - loss: 0.5167 - accuracy: 0.8370\n",
            "Epoch 48/250\n",
            "4/4 [==============================] - 0s 3ms/step - loss: 0.4955 - accuracy: 0.8477\n",
            "Epoch 49/250\n",
            "4/4 [==============================] - 0s 3ms/step - loss: 0.4945 - accuracy: 0.8484\n",
            "Epoch 50/250\n",
            "4/4 [==============================] - 0s 4ms/step - loss: 0.4857 - accuracy: 0.8443\n",
            "Epoch 51/250\n",
            "4/4 [==============================] - 0s 2ms/step - loss: 0.4811 - accuracy: 0.8512\n",
            "Epoch 52/250\n",
            "4/4 [==============================] - 0s 3ms/step - loss: 0.4586 - accuracy: 0.8987\n",
            "Epoch 53/250\n",
            "4/4 [==============================] - 0s 2ms/step - loss: 0.4573 - accuracy: 0.9081\n",
            "Epoch 54/250\n",
            "4/4 [==============================] - 0s 3ms/step - loss: 0.4479 - accuracy: 0.9327\n",
            "Epoch 55/250\n",
            "4/4 [==============================] - 0s 4ms/step - loss: 0.4456 - accuracy: 0.9025\n",
            "Epoch 56/250\n",
            "4/4 [==============================] - 0s 3ms/step - loss: 0.4298 - accuracy: 0.8692\n",
            "Epoch 57/250\n",
            "4/4 [==============================] - 0s 3ms/step - loss: 0.4302 - accuracy: 0.8543\n",
            "Epoch 58/250\n",
            "4/4 [==============================] - 0s 2ms/step - loss: 0.4280 - accuracy: 0.8293\n",
            "Epoch 59/250\n",
            "4/4 [==============================] - 0s 3ms/step - loss: 0.4177 - accuracy: 0.8748\n",
            "Epoch 60/250\n",
            "4/4 [==============================] - 0s 3ms/step - loss: 0.3963 - accuracy: 0.9299\n",
            "Epoch 61/250\n",
            "4/4 [==============================] - 0s 3ms/step - loss: 0.3781 - accuracy: 0.9532\n",
            "Epoch 62/250\n",
            "4/4 [==============================] - 0s 3ms/step - loss: 0.3878 - accuracy: 0.9490\n",
            "Epoch 63/250\n",
            "4/4 [==============================] - 0s 4ms/step - loss: 0.3988 - accuracy: 0.9212\n",
            "Epoch 64/250\n",
            "4/4 [==============================] - 0s 3ms/step - loss: 0.3810 - accuracy: 0.9251\n",
            "Epoch 65/250\n",
            "4/4 [==============================] - 0s 3ms/step - loss: 0.3617 - accuracy: 0.8925\n",
            "Epoch 66/250\n",
            "4/4 [==============================] - 0s 3ms/step - loss: 0.3791 - accuracy: 0.8848\n",
            "Epoch 67/250\n",
            "4/4 [==============================] - 0s 3ms/step - loss: 0.3582 - accuracy: 0.9147\n",
            "Epoch 68/250\n",
            "4/4 [==============================] - 0s 3ms/step - loss: 0.3534 - accuracy: 0.9181\n",
            "Epoch 69/250\n",
            "4/4 [==============================] - 0s 2ms/step - loss: 0.3436 - accuracy: 0.9275\n",
            "Epoch 70/250\n",
            "4/4 [==============================] - 0s 2ms/step - loss: 0.3263 - accuracy: 0.9337\n",
            "Epoch 71/250\n",
            "4/4 [==============================] - 0s 3ms/step - loss: 0.3147 - accuracy: 0.9469\n",
            "Epoch 72/250\n",
            "4/4 [==============================] - 0s 2ms/step - loss: 0.3272 - accuracy: 0.9757\n",
            "Epoch 73/250\n",
            "4/4 [==============================] - 0s 2ms/step - loss: 0.3260 - accuracy: 0.9882\n",
            "Epoch 74/250\n",
            "4/4 [==============================] - 0s 2ms/step - loss: 0.3112 - accuracy: 0.9792\n",
            "Epoch 75/250\n",
            "4/4 [==============================] - 0s 2ms/step - loss: 0.3033 - accuracy: 0.9674\n",
            "Epoch 76/250\n",
            "4/4 [==============================] - 0s 3ms/step - loss: 0.3071 - accuracy: 0.9424\n",
            "Epoch 77/250\n",
            "4/4 [==============================] - 0s 3ms/step - loss: 0.3086 - accuracy: 0.9428\n",
            "Epoch 78/250\n",
            "4/4 [==============================] - 0s 2ms/step - loss: 0.2837 - accuracy: 0.9612\n",
            "Epoch 79/250\n",
            "4/4 [==============================] - 0s 4ms/step - loss: 0.2903 - accuracy: 0.9570\n",
            "Epoch 80/250\n",
            "4/4 [==============================] - 0s 3ms/step - loss: 0.2758 - accuracy: 0.9660\n",
            "Epoch 81/250\n",
            "4/4 [==============================] - 0s 4ms/step - loss: 0.2827 - accuracy: 0.9820\n",
            "Epoch 82/250\n",
            "4/4 [==============================] - 0s 4ms/step - loss: 0.2669 - accuracy: 0.9903\n",
            "Epoch 83/250\n",
            "4/4 [==============================] - 0s 4ms/step - loss: 0.2617 - accuracy: 0.9882\n",
            "Epoch 84/250\n",
            "4/4 [==============================] - 0s 3ms/step - loss: 0.2752 - accuracy: 0.9788\n",
            "Epoch 85/250\n",
            "4/4 [==============================] - 0s 2ms/step - loss: 0.2533 - accuracy: 0.9851\n",
            "Epoch 86/250\n",
            "4/4 [==============================] - 0s 2ms/step - loss: 0.2564 - accuracy: 0.9851\n",
            "Epoch 87/250\n",
            "4/4 [==============================] - 0s 2ms/step - loss: 0.2474 - accuracy: 0.9903\n",
            "Epoch 88/250\n",
            "4/4 [==============================] - 0s 3ms/step - loss: 0.2630 - accuracy: 0.9757\n",
            "Epoch 89/250\n",
            "4/4 [==============================] - 0s 3ms/step - loss: 0.2609 - accuracy: 0.9695\n",
            "Epoch 90/250\n",
            "4/4 [==============================] - 0s 5ms/step - loss: 0.2326 - accuracy: 0.9851\n",
            "Epoch 91/250\n",
            "4/4 [==============================] - 0s 3ms/step - loss: 0.2329 - accuracy: 0.9820\n",
            "Epoch 92/250\n",
            "4/4 [==============================] - 0s 4ms/step - loss: 0.2269 - accuracy: 0.9882\n",
            "Epoch 93/250\n",
            "4/4 [==============================] - 0s 2ms/step - loss: 0.2263 - accuracy: 0.9820\n",
            "Epoch 94/250\n",
            "4/4 [==============================] - 0s 3ms/step - loss: 0.2169 - accuracy: 0.9750\n",
            "Epoch 95/250\n",
            "4/4 [==============================] - 0s 4ms/step - loss: 0.2180 - accuracy: 0.9604\n",
            "Epoch 96/250\n",
            "4/4 [==============================] - 0s 3ms/step - loss: 0.2230 - accuracy: 0.9788\n",
            "Epoch 97/250\n",
            "4/4 [==============================] - 0s 4ms/step - loss: 0.2319 - accuracy: 0.9695\n",
            "Epoch 98/250\n",
            "4/4 [==============================] - 0s 2ms/step - loss: 0.2134 - accuracy: 0.9788\n",
            "Epoch 99/250\n",
            "4/4 [==============================] - 0s 4ms/step - loss: 0.1944 - accuracy: 0.9761\n",
            "Epoch 100/250\n",
            "4/4 [==============================] - 0s 2ms/step - loss: 0.2072 - accuracy: 0.9514\n",
            "Epoch 101/250\n",
            "4/4 [==============================] - 0s 3ms/step - loss: 0.1950 - accuracy: 0.9667\n",
            "Epoch 102/250\n",
            "4/4 [==============================] - 0s 2ms/step - loss: 0.1870 - accuracy: 0.9698\n",
            "Epoch 103/250\n",
            "4/4 [==============================] - 0s 2ms/step - loss: 0.1860 - accuracy: 0.9809\n",
            "Epoch 104/250\n",
            "4/4 [==============================] - 0s 3ms/step - loss: 0.1824 - accuracy: 0.9851\n",
            "Epoch 105/250\n",
            "4/4 [==============================] - 0s 2ms/step - loss: 0.1987 - accuracy: 0.9788\n",
            "Epoch 106/250\n",
            "4/4 [==============================] - 0s 2ms/step - loss: 0.1918 - accuracy: 0.9851\n",
            "Epoch 107/250\n",
            "4/4 [==============================] - 0s 2ms/step - loss: 0.1915 - accuracy: 0.9695\n",
            "Epoch 108/250\n",
            "4/4 [==============================] - 0s 2ms/step - loss: 0.1936 - accuracy: 0.9695\n",
            "Epoch 109/250\n",
            "4/4 [==============================] - 0s 2ms/step - loss: 0.1809 - accuracy: 0.9577\n",
            "Epoch 110/250\n",
            "4/4 [==============================] - 0s 4ms/step - loss: 0.1812 - accuracy: 0.9566\n",
            "Epoch 111/250\n",
            "4/4 [==============================] - 0s 3ms/step - loss: 0.1772 - accuracy: 0.9788\n",
            "Epoch 112/250\n",
            "4/4 [==============================] - 0s 3ms/step - loss: 0.1812 - accuracy: 0.9788\n",
            "Epoch 113/250\n",
            "4/4 [==============================] - 0s 3ms/step - loss: 0.1696 - accuracy: 0.9757\n",
            "Epoch 114/250\n",
            "4/4 [==============================] - 0s 2ms/step - loss: 0.1826 - accuracy: 0.9695\n",
            "Epoch 115/250\n",
            "4/4 [==============================] - 0s 3ms/step - loss: 0.1714 - accuracy: 0.9695\n",
            "Epoch 116/250\n",
            "4/4 [==============================] - 0s 2ms/step - loss: 0.1555 - accuracy: 0.9788\n",
            "Epoch 117/250\n",
            "4/4 [==============================] - 0s 3ms/step - loss: 0.1589 - accuracy: 0.9851\n",
            "Epoch 118/250\n",
            "4/4 [==============================] - 0s 2ms/step - loss: 0.1545 - accuracy: 0.9719\n",
            "Epoch 119/250\n",
            "4/4 [==============================] - 0s 3ms/step - loss: 0.1556 - accuracy: 0.9788\n",
            "Epoch 120/250\n",
            "4/4 [==============================] - 0s 2ms/step - loss: 0.1593 - accuracy: 0.9851\n",
            "Epoch 121/250\n",
            "4/4 [==============================] - 0s 3ms/step - loss: 0.1487 - accuracy: 0.9788\n",
            "Epoch 122/250\n",
            "4/4 [==============================] - 0s 3ms/step - loss: 0.1550 - accuracy: 0.9788\n",
            "Epoch 123/250\n",
            "4/4 [==============================] - 0s 3ms/step - loss: 0.1555 - accuracy: 0.9695\n",
            "Epoch 124/250\n",
            "4/4 [==============================] - 0s 3ms/step - loss: 0.1483 - accuracy: 0.9757\n",
            "Epoch 125/250\n",
            "4/4 [==============================] - 0s 3ms/step - loss: 0.1455 - accuracy: 0.9851\n",
            "Epoch 126/250\n",
            "4/4 [==============================] - 0s 3ms/step - loss: 0.1577 - accuracy: 0.9695\n",
            "Epoch 127/250\n",
            "4/4 [==============================] - 0s 2ms/step - loss: 0.1480 - accuracy: 0.9788\n",
            "Epoch 128/250\n",
            "4/4 [==============================] - 0s 3ms/step - loss: 0.1339 - accuracy: 0.9882\n",
            "Epoch 129/250\n",
            "4/4 [==============================] - 0s 2ms/step - loss: 0.1409 - accuracy: 0.9695\n",
            "Epoch 130/250\n",
            "4/4 [==============================] - 0s 3ms/step - loss: 0.1469 - accuracy: 0.9695\n",
            "Epoch 131/250\n",
            "4/4 [==============================] - 0s 3ms/step - loss: 0.1275 - accuracy: 0.9882\n",
            "Epoch 132/250\n",
            "4/4 [==============================] - 0s 2ms/step - loss: 0.1322 - accuracy: 0.9757\n",
            "Epoch 133/250\n",
            "4/4 [==============================] - 0s 2ms/step - loss: 0.1159 - accuracy: 0.9851\n",
            "Epoch 134/250\n",
            "4/4 [==============================] - 0s 3ms/step - loss: 0.1269 - accuracy: 0.9757\n",
            "Epoch 135/250\n",
            "4/4 [==============================] - 0s 3ms/step - loss: 0.1301 - accuracy: 0.9788\n",
            "Epoch 136/250\n",
            "4/4 [==============================] - 0s 4ms/step - loss: 0.1304 - accuracy: 0.9757\n",
            "Epoch 137/250\n",
            "4/4 [==============================] - 0s 2ms/step - loss: 0.1165 - accuracy: 0.9882\n",
            "Epoch 138/250\n",
            "4/4 [==============================] - 0s 3ms/step - loss: 0.1181 - accuracy: 0.9820\n",
            "Epoch 139/250\n",
            "4/4 [==============================] - 0s 3ms/step - loss: 0.1296 - accuracy: 0.9757\n",
            "Epoch 140/250\n",
            "4/4 [==============================] - 0s 4ms/step - loss: 0.1196 - accuracy: 0.9851\n",
            "Epoch 141/250\n",
            "4/4 [==============================] - 0s 2ms/step - loss: 0.1191 - accuracy: 0.9820\n",
            "Epoch 142/250\n",
            "4/4 [==============================] - 0s 4ms/step - loss: 0.1144 - accuracy: 0.9757\n",
            "Epoch 143/250\n",
            "4/4 [==============================] - 0s 3ms/step - loss: 0.1207 - accuracy: 0.9788\n",
            "Epoch 144/250\n",
            "4/4 [==============================] - 0s 2ms/step - loss: 0.1278 - accuracy: 0.9695\n",
            "Epoch 145/250\n",
            "4/4 [==============================] - 0s 3ms/step - loss: 0.1211 - accuracy: 0.9788\n",
            "Epoch 146/250\n",
            "4/4 [==============================] - 0s 2ms/step - loss: 0.1167 - accuracy: 0.9882\n",
            "Epoch 147/250\n",
            "4/4 [==============================] - 0s 3ms/step - loss: 0.1119 - accuracy: 0.9788\n",
            "Epoch 148/250\n",
            "4/4 [==============================] - 0s 4ms/step - loss: 0.1038 - accuracy: 0.9851\n",
            "Epoch 149/250\n",
            "4/4 [==============================] - 0s 4ms/step - loss: 0.1096 - accuracy: 0.9820\n",
            "Epoch 150/250\n",
            "4/4 [==============================] - 0s 2ms/step - loss: 0.1090 - accuracy: 0.9788\n",
            "Epoch 151/250\n",
            "4/4 [==============================] - 0s 2ms/step - loss: 0.1162 - accuracy: 0.9757\n",
            "Epoch 152/250\n",
            "4/4 [==============================] - 0s 2ms/step - loss: 0.1109 - accuracy: 0.9851\n",
            "Epoch 153/250\n",
            "4/4 [==============================] - 0s 3ms/step - loss: 0.1026 - accuracy: 0.9820\n",
            "Epoch 154/250\n",
            "4/4 [==============================] - 0s 3ms/step - loss: 0.1115 - accuracy: 0.9788\n",
            "Epoch 155/250\n",
            "4/4 [==============================] - 0s 3ms/step - loss: 0.0992 - accuracy: 0.9882\n",
            "Epoch 156/250\n",
            "4/4 [==============================] - 0s 3ms/step - loss: 0.0891 - accuracy: 0.9903\n",
            "Epoch 157/250\n",
            "4/4 [==============================] - 0s 2ms/step - loss: 0.1005 - accuracy: 0.9882\n",
            "Epoch 158/250\n",
            "4/4 [==============================] - 0s 2ms/step - loss: 0.0997 - accuracy: 0.9882\n",
            "Epoch 159/250\n",
            "4/4 [==============================] - 0s 2ms/step - loss: 0.1057 - accuracy: 0.9788\n",
            "Epoch 160/250\n",
            "4/4 [==============================] - 0s 2ms/step - loss: 0.0926 - accuracy: 0.9788\n",
            "Epoch 161/250\n",
            "4/4 [==============================] - 0s 3ms/step - loss: 0.1050 - accuracy: 0.9757\n",
            "Epoch 162/250\n",
            "4/4 [==============================] - 0s 3ms/step - loss: 0.0905 - accuracy: 0.9872\n",
            "Epoch 163/250\n",
            "4/4 [==============================] - 0s 3ms/step - loss: 0.0893 - accuracy: 0.9851\n",
            "Epoch 164/250\n",
            "4/4 [==============================] - 0s 2ms/step - loss: 0.1076 - accuracy: 0.9757\n",
            "Epoch 165/250\n",
            "4/4 [==============================] - 0s 3ms/step - loss: 0.0931 - accuracy: 0.9851\n",
            "Epoch 166/250\n",
            "4/4 [==============================] - 0s 3ms/step - loss: 0.0869 - accuracy: 0.9851\n",
            "Epoch 167/250\n",
            "4/4 [==============================] - 0s 3ms/step - loss: 0.0880 - accuracy: 0.9872\n",
            "Epoch 168/250\n",
            "4/4 [==============================] - 0s 4ms/step - loss: 0.0855 - accuracy: 0.9903\n",
            "Epoch 169/250\n",
            "4/4 [==============================] - 0s 3ms/step - loss: 0.0871 - accuracy: 0.9851\n",
            "Epoch 170/250\n",
            "4/4 [==============================] - 0s 3ms/step - loss: 0.1005 - accuracy: 0.9757\n",
            "Epoch 171/250\n",
            "4/4 [==============================] - 0s 3ms/step - loss: 0.0871 - accuracy: 0.9882\n",
            "Epoch 172/250\n",
            "4/4 [==============================] - 0s 2ms/step - loss: 0.0996 - accuracy: 0.9851\n",
            "Epoch 173/250\n",
            "4/4 [==============================] - 0s 2ms/step - loss: 0.0844 - accuracy: 0.9872\n",
            "Epoch 174/250\n",
            "4/4 [==============================] - 0s 5ms/step - loss: 0.0831 - accuracy: 0.9851\n",
            "Epoch 175/250\n",
            "4/4 [==============================] - 0s 4ms/step - loss: 0.0982 - accuracy: 0.9788\n",
            "Epoch 176/250\n",
            "4/4 [==============================] - 0s 2ms/step - loss: 0.0827 - accuracy: 0.9903\n",
            "Epoch 177/250\n",
            "4/4 [==============================] - 0s 3ms/step - loss: 0.0855 - accuracy: 0.9882\n",
            "Epoch 178/250\n",
            "4/4 [==============================] - 0s 2ms/step - loss: 0.0904 - accuracy: 0.9788\n",
            "Epoch 179/250\n",
            "4/4 [==============================] - 0s 4ms/step - loss: 0.0921 - accuracy: 0.9757\n",
            "Epoch 180/250\n",
            "4/4 [==============================] - 0s 4ms/step - loss: 0.0833 - accuracy: 0.9903\n",
            "Epoch 181/250\n",
            "4/4 [==============================] - 0s 3ms/step - loss: 0.0987 - accuracy: 0.9788\n",
            "Epoch 182/250\n",
            "4/4 [==============================] - 0s 4ms/step - loss: 0.0960 - accuracy: 0.9757\n",
            "Epoch 183/250\n",
            "4/4 [==============================] - 0s 3ms/step - loss: 0.0857 - accuracy: 0.9788\n",
            "Epoch 184/250\n",
            "4/4 [==============================] - 0s 3ms/step - loss: 0.0883 - accuracy: 0.9757\n",
            "Epoch 185/250\n",
            "4/4 [==============================] - 0s 4ms/step - loss: 0.0930 - accuracy: 0.9757\n",
            "Epoch 186/250\n",
            "4/4 [==============================] - 0s 3ms/step - loss: 0.1010 - accuracy: 0.9695\n",
            "Epoch 187/250\n",
            "4/4 [==============================] - 0s 3ms/step - loss: 0.0840 - accuracy: 0.9788\n",
            "Epoch 188/250\n",
            "4/4 [==============================] - 0s 3ms/step - loss: 0.0705 - accuracy: 0.9903\n",
            "Epoch 189/250\n",
            "4/4 [==============================] - 0s 2ms/step - loss: 0.0768 - accuracy: 0.9851\n",
            "Epoch 190/250\n",
            "4/4 [==============================] - 0s 4ms/step - loss: 0.0863 - accuracy: 0.9757\n",
            "Epoch 191/250\n",
            "4/4 [==============================] - 0s 2ms/step - loss: 0.0750 - accuracy: 0.9788\n",
            "Epoch 192/250\n",
            "4/4 [==============================] - 0s 2ms/step - loss: 0.0853 - accuracy: 0.9820\n",
            "Epoch 193/250\n",
            "4/4 [==============================] - 0s 3ms/step - loss: 0.0784 - accuracy: 0.9788\n",
            "Epoch 194/250\n",
            "4/4 [==============================] - 0s 3ms/step - loss: 0.0861 - accuracy: 0.9788\n",
            "Epoch 195/250\n",
            "4/4 [==============================] - 0s 3ms/step - loss: 0.0845 - accuracy: 0.9757\n",
            "Epoch 196/250\n",
            "4/4 [==============================] - 0s 3ms/step - loss: 0.0707 - accuracy: 0.9851\n",
            "Epoch 197/250\n",
            "4/4 [==============================] - 0s 3ms/step - loss: 0.0901 - accuracy: 0.9695\n",
            "Epoch 198/250\n",
            "4/4 [==============================] - 0s 3ms/step - loss: 0.0787 - accuracy: 0.9809\n",
            "Epoch 199/250\n",
            "4/4 [==============================] - 0s 3ms/step - loss: 0.0750 - accuracy: 0.9820\n",
            "Epoch 200/250\n",
            "4/4 [==============================] - 0s 3ms/step - loss: 0.0742 - accuracy: 0.9851\n",
            "Epoch 201/250\n",
            "4/4 [==============================] - 0s 3ms/step - loss: 0.0784 - accuracy: 0.9788\n",
            "Epoch 202/250\n",
            "4/4 [==============================] - 0s 3ms/step - loss: 0.0903 - accuracy: 0.9695\n",
            "Epoch 203/250\n",
            "4/4 [==============================] - 0s 2ms/step - loss: 0.0671 - accuracy: 0.9903\n",
            "Epoch 204/250\n",
            "4/4 [==============================] - 0s 3ms/step - loss: 0.0683 - accuracy: 0.9872\n",
            "Epoch 205/250\n",
            "4/4 [==============================] - 0s 2ms/step - loss: 0.0794 - accuracy: 0.9757\n",
            "Epoch 206/250\n",
            "4/4 [==============================] - 0s 4ms/step - loss: 0.0694 - accuracy: 0.9882\n",
            "Epoch 207/250\n",
            "4/4 [==============================] - 0s 4ms/step - loss: 0.0677 - accuracy: 0.9851\n",
            "Epoch 208/250\n",
            "4/4 [==============================] - 0s 3ms/step - loss: 0.0732 - accuracy: 0.9788\n",
            "Epoch 209/250\n",
            "4/4 [==============================] - 0s 3ms/step - loss: 0.0752 - accuracy: 0.9820\n",
            "Epoch 210/250\n",
            "4/4 [==============================] - 0s 4ms/step - loss: 0.0700 - accuracy: 0.9872\n",
            "Epoch 211/250\n",
            "4/4 [==============================] - 0s 4ms/step - loss: 0.0632 - accuracy: 0.9851\n",
            "Epoch 212/250\n",
            "4/4 [==============================] - 0s 2ms/step - loss: 0.0833 - accuracy: 0.9695\n",
            "Epoch 213/250\n",
            "4/4 [==============================] - 0s 4ms/step - loss: 0.0629 - accuracy: 0.9820\n",
            "Epoch 214/250\n",
            "4/4 [==============================] - 0s 3ms/step - loss: 0.0697 - accuracy: 0.9809\n",
            "Epoch 215/250\n",
            "4/4 [==============================] - 0s 4ms/step - loss: 0.0632 - accuracy: 0.9882\n",
            "Epoch 216/250\n",
            "4/4 [==============================] - 0s 3ms/step - loss: 0.0597 - accuracy: 0.9882\n",
            "Epoch 217/250\n",
            "4/4 [==============================] - 0s 2ms/step - loss: 0.0541 - accuracy: 0.9882\n",
            "Epoch 218/250\n",
            "4/4 [==============================] - 0s 2ms/step - loss: 0.0673 - accuracy: 0.9882\n",
            "Epoch 219/250\n",
            "4/4 [==============================] - 0s 3ms/step - loss: 0.0690 - accuracy: 0.9851\n",
            "Epoch 220/250\n",
            "4/4 [==============================] - 0s 2ms/step - loss: 0.0597 - accuracy: 0.9851\n",
            "Epoch 221/250\n",
            "4/4 [==============================] - 0s 2ms/step - loss: 0.0631 - accuracy: 0.9820\n",
            "Epoch 222/250\n",
            "4/4 [==============================] - 0s 2ms/step - loss: 0.0666 - accuracy: 0.9851\n",
            "Epoch 223/250\n",
            "4/4 [==============================] - 0s 3ms/step - loss: 0.0682 - accuracy: 0.9851\n",
            "Epoch 224/250\n",
            "4/4 [==============================] - 0s 3ms/step - loss: 0.0774 - accuracy: 0.9695\n",
            "Epoch 225/250\n",
            "4/4 [==============================] - 0s 3ms/step - loss: 0.0687 - accuracy: 0.9788\n",
            "Epoch 226/250\n",
            "4/4 [==============================] - 0s 3ms/step - loss: 0.0600 - accuracy: 0.9903\n",
            "Epoch 227/250\n",
            "4/4 [==============================] - 0s 3ms/step - loss: 0.0667 - accuracy: 0.9851\n",
            "Epoch 228/250\n",
            "4/4 [==============================] - 0s 2ms/step - loss: 0.0622 - accuracy: 0.9851\n",
            "Epoch 229/250\n",
            "4/4 [==============================] - 0s 3ms/step - loss: 0.0528 - accuracy: 0.9903\n",
            "Epoch 230/250\n",
            "4/4 [==============================] - 0s 2ms/step - loss: 0.0705 - accuracy: 0.9757\n",
            "Epoch 231/250\n",
            "4/4 [==============================] - 0s 3ms/step - loss: 0.0618 - accuracy: 0.9851\n",
            "Epoch 232/250\n",
            "4/4 [==============================] - 0s 4ms/step - loss: 0.0663 - accuracy: 0.9851\n",
            "Epoch 233/250\n",
            "4/4 [==============================] - 0s 3ms/step - loss: 0.0662 - accuracy: 0.9788\n",
            "Epoch 234/250\n",
            "4/4 [==============================] - 0s 3ms/step - loss: 0.0658 - accuracy: 0.9788\n",
            "Epoch 235/250\n",
            "4/4 [==============================] - 0s 3ms/step - loss: 0.0681 - accuracy: 0.9757\n",
            "Epoch 236/250\n",
            "4/4 [==============================] - 0s 3ms/step - loss: 0.0841 - accuracy: 0.9695\n",
            "Epoch 237/250\n",
            "4/4 [==============================] - 0s 3ms/step - loss: 0.0620 - accuracy: 0.9820\n",
            "Epoch 238/250\n",
            "4/4 [==============================] - 0s 2ms/step - loss: 0.0694 - accuracy: 0.9757\n",
            "Epoch 239/250\n",
            "4/4 [==============================] - 0s 2ms/step - loss: 0.0683 - accuracy: 0.9820\n",
            "Epoch 240/250\n",
            "4/4 [==============================] - 0s 3ms/step - loss: 0.0662 - accuracy: 0.9788\n",
            "Epoch 241/250\n",
            "4/4 [==============================] - 0s 2ms/step - loss: 0.0683 - accuracy: 0.9820\n",
            "Epoch 242/250\n",
            "4/4 [==============================] - 0s 3ms/step - loss: 0.0705 - accuracy: 0.9757\n",
            "Epoch 243/250\n",
            "4/4 [==============================] - 0s 2ms/step - loss: 0.0542 - accuracy: 0.9924\n",
            "Epoch 244/250\n",
            "4/4 [==============================] - 0s 4ms/step - loss: 0.0453 - accuracy: 0.9882\n",
            "Epoch 245/250\n",
            "4/4 [==============================] - 0s 4ms/step - loss: 0.0671 - accuracy: 0.9757\n",
            "Epoch 246/250\n",
            "4/4 [==============================] - 0s 2ms/step - loss: 0.0710 - accuracy: 0.9757\n",
            "Epoch 247/250\n",
            "4/4 [==============================] - 0s 2ms/step - loss: 0.0655 - accuracy: 0.9788\n",
            "Epoch 248/250\n",
            "4/4 [==============================] - 0s 4ms/step - loss: 0.0639 - accuracy: 0.9851\n",
            "Epoch 249/250\n",
            "4/4 [==============================] - 0s 3ms/step - loss: 0.0566 - accuracy: 0.9882\n",
            "Epoch 250/250\n",
            "4/4 [==============================] - 0s 3ms/step - loss: 0.0600 - accuracy: 0.9872\n"
          ],
          "name": "stdout"
        },
        {
          "output_type": "execute_result",
          "data": {
            "text/plain": [
              "<keras.callbacks.History at 0x7f94228b4ad0>"
            ]
          },
          "metadata": {
            "tags": []
          },
          "execution_count": 22
        }
      ]
    },
    {
      "cell_type": "markdown",
      "metadata": {
        "id": "rjIRy6rBRwgx"
      },
      "source": [
        "## Evaluando el desempeño de la red\n",
        "\n",
        "Ya que terminó el entrenamiento debemos evaluar la red.\n",
        "Para este caso usaremos las métricas de exactitud (accuracy) y el valor de pérdida (loss). Estas métricas son de las más usadas para evaluar una red, además de que las podemos obtener usando la función *model.evaluate()*."
      ]
    },
    {
      "cell_type": "code",
      "metadata": {
        "id": "Zieukc1zKm7q",
        "colab": {
          "base_uri": "https://localhost:8080/"
        },
        "outputId": "a94a50f1-597b-4fd5-e8e2-6e7ea5480b54"
      },
      "source": [
        "# loss, accuracy = model.evaluate(Xtest,ytest,steps=3)\n",
        "loss, accuracy = model.evaluate(Xtest,ytest)\n",
        "print(\"Loss: %f\" % (loss))\n",
        "print(\"Accuracy: %f\" % (accuracy))"
      ],
      "execution_count": null,
      "outputs": [
        {
          "output_type": "stream",
          "text": [
            "2/2 [==============================] - 0s 7ms/step - loss: 0.1193 - accuracy: 0.9778\n",
            "Loss: 0.119314\n",
            "Accuracy: 0.977778\n"
          ],
          "name": "stdout"
        }
      ]
    },
    {
      "cell_type": "markdown",
      "metadata": {
        "id": "IFVx_pLbo00E"
      },
      "source": [
        "Con la topología de nuestra red obtenemos un exactitud del 95% en la última época de entrenamiento, también conseguimos una exactitud del 93% en el conjunto de prueba. Nuestro valor de pérdida también es muy bajo. Con estos datos podemos decir que el entrenamiento fue existoso y que nuestra red es muy buena."
      ]
    },
    {
      "cell_type": "markdown",
      "metadata": {
        "id": "8vpfext99w-w"
      },
      "source": [
        "### Matriz de confusión para una clasificación multiclase\n",
        "\n",
        "Si en una clasificación binaria hacer la matriz de confusión es complicado, esperen a ver una matriz multiclase...\n",
        "\n",
        "Para este caso confiaremos ciegamente en el resultado del valor de pérdida y de exactitud."
      ]
    },
    {
      "cell_type": "markdown",
      "metadata": {
        "id": "uannsiziSQoX"
      },
      "source": [
        "## Usando la red para nuevas flores\n",
        "\n",
        "Vimos que las métricas son muy buenas, pero esto sólo funciona con datos que la red conoce. ¿Qué pasaría si introducimos datos desconocidos?¿Será capaz la red de asignar correctamente una especie? Con la función *model.predict()* podemos hacer esta acción."
      ]
    },
    {
      "cell_type": "code",
      "metadata": {
        "id": "g3c-Qrv1O4N8",
        "colab": {
          "base_uri": "https://localhost:8080/"
        },
        "outputId": "b6b556b5-1722-48f9-d4d6-929d1d18a784"
      },
      "source": [
        "# Definimos nuevas características de una flor\n",
        "# new_flower = np.array([7.9,3.8,6.4,2.0])\n",
        "new_flower = np.array([5.1,3.5,1.4,0.2])\n",
        "prediction = np.around(model.predict(np.expand_dims(new_flower, axis=0))).astype(np.int)[0]\n",
        "print(prediction)\n",
        "pred = np.array_str(prediction)\n",
        "print(pred)\n",
        "name_dict = {'[1 0 0]':'Setosa','[0 1 0]':'Versicolor','[0 0 1]':'Virginica'}\n",
        "\n",
        "print(\"Esta flor debería ser %s\" % name_dict[pred])"
      ],
      "execution_count": null,
      "outputs": [
        {
          "output_type": "stream",
          "text": [
            "[1 0 0]\n",
            "[1 0 0]\n",
            "Esta flor debería ser Setosa\n"
          ],
          "name": "stdout"
        }
      ]
    },
    {
      "cell_type": "code",
      "metadata": {
        "id": "iYs1EjoWDWCj",
        "colab": {
          "base_uri": "https://localhost:8080/",
          "height": 35
        },
        "outputId": "67755878-ea4c-4e17-878a-0f52da675b1a"
      },
      "source": [
        "name_dict[pred]"
      ],
      "execution_count": null,
      "outputs": [
        {
          "output_type": "execute_result",
          "data": {
            "application/vnd.google.colaboratory.intrinsic+json": {
              "type": "string"
            },
            "text/plain": [
              "'Setosa'"
            ]
          },
          "metadata": {
            "tags": []
          },
          "execution_count": 28
        }
      ]
    },
    {
      "cell_type": "code",
      "metadata": {
        "id": "RZDHEaSBTpXh",
        "colab": {
          "base_uri": "https://localhost:8080/"
        },
        "outputId": "77271fdb-16c2-46a1-e02c-1fd7914a110c"
      },
      "source": [
        "new_flower = np.array([9.1,5.0,2.6,1.9])\n",
        "prediction = np.around(model.predict(np.expand_dims(new_flower, axis=0))).astype(np.int)[0]\n",
        "pred = np.array_str(prediction)\n",
        "name_dict = {'[1 0 0]':'Setosa','[0 1 0]':'Versicolor','[0 0 1]':'Virginica'}\n",
        "\n",
        "print(\"Esta flor debería ser %s\" % name_dict[pred])"
      ],
      "execution_count": null,
      "outputs": [
        {
          "output_type": "stream",
          "text": [
            "Esta flor debería ser Setosa\n"
          ],
          "name": "stdout"
        }
      ]
    }
  ]
}
