{
  "nbformat": 4,
  "nbformat_minor": 0,
  "metadata": {
    "kernelspec": {
      "display_name": "Python 3",
      "language": "python",
      "name": "python3"
    },
    "language_info": {
      "codemirror_mode": {
        "name": "ipython",
        "version": 3
      },
      "file_extension": ".py",
      "mimetype": "text/x-python",
      "name": "python",
      "nbconvert_exporter": "python",
      "pygments_lexer": "ipython3",
      "version": "3.8.5"
    },
    "colab": {
      "name": "gas_prediction.ipynb",
      "provenance": [],
      "collapsed_sections": []
    }
  },
  "cells": [
    {
      "cell_type": "markdown",
      "metadata": {
        "id": "vg_H8xOFgfO9"
      },
      "source": [
        "# Predicción del consumo de gasolina"
      ]
    },
    {
      "cell_type": "markdown",
      "metadata": {
        "id": "pPo_IyVcgfO_"
      },
      "source": [
        "En esta práctica vamos a intentar predecir la cantidad de gasolina que podría consumir un coche de distintas características.\n",
        "\n",
        "Para realizar la práctica usaremos la dataset **Auto MPG**, que contiene información sobre coches de las décadas de los 70's y 80's. La base de datos contiene información sobre algunos aspectos como:\n",
        "* Número de cilindros\n",
        "* Distancia\n",
        "* Caballos de fuerza\n",
        "* Peso"
      ]
    },
    {
      "cell_type": "code",
      "metadata": {
        "id": "wnllZhf5gfO_"
      },
      "source": [
        "### Importamos todas las librerías necesarias para la práctica\n",
        "\n",
        "import tensorflow as tf # librería para machine learning\n",
        "from tensorflow import keras # API de machine learning\n",
        "from tensorflow.keras.models import Sequential # modelo secuencial\n",
        "from tensorflow.keras.layers import Dense # sublibrería donde importaremos las capas densas\n",
        "from tensorflow.keras.utils import plot_model # para gráficar la arquitectura del modelo\n",
        "import numpy as np # calculo numérico avanzado\n",
        "import matplotlib.pyplot as plt # para realizar gráficas\n",
        "import seaborn as sns # para realizar gráficas más complejas\n",
        "import pandas as pd # manejo de las bases de datos\n",
        "from sklearn.model_selection import train_test_split # librería para crear los conjutos de entrenamiento\n",
        "from sklearn import metrics # métricas para evaluar el modelo\n",
        "from sklearn.preprocessing import StandardScaler"
      ],
      "execution_count": null,
      "outputs": []
    },
    {
      "cell_type": "code",
      "metadata": {
        "colab": {
          "resources": {
            "http://localhost:8080/nbextensions/google.colab/files.js": {
              "data": "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",
              "ok": true,
              "headers": [
                [
                  "content-type",
                  "application/javascript"
                ]
              ],
              "status": 200,
              "status_text": ""
            }
          },
          "base_uri": "https://localhost:8080/",
          "height": 72
        },
        "id": "k9yAhdG6gfPA",
        "outputId": "bbee9b06-24d1-43d0-c0e4-a6a9829d318f"
      },
      "source": [
        "### si cargan la dataset desde Google Colab\n",
        "from google.colab import files\n",
        "upload = files.upload()"
      ],
      "execution_count": null,
      "outputs": [
        {
          "output_type": "display_data",
          "data": {
            "text/html": [
              "\n",
              "     <input type=\"file\" id=\"files-6abad0cc-6844-4c57-a7c3-b70a07032347\" name=\"files[]\" multiple disabled\n",
              "        style=\"border:none\" />\n",
              "     <output id=\"result-6abad0cc-6844-4c57-a7c3-b70a07032347\">\n",
              "      Upload widget is only available when the cell has been executed in the\n",
              "      current browser session. Please rerun this cell to enable.\n",
              "      </output>\n",
              "      <script src=\"/nbextensions/google.colab/files.js\"></script> "
            ],
            "text/plain": [
              "<IPython.core.display.HTML object>"
            ]
          },
          "metadata": {}
        },
        {
          "output_type": "stream",
          "text": [
            "Saving coches.csv to coches.csv\n"
          ],
          "name": "stdout"
        }
      ]
    },
    {
      "cell_type": "markdown",
      "metadata": {
        "id": "Kuvvb_NRgfPA"
      },
      "source": [
        "## Cargando la base de datos"
      ]
    },
    {
      "cell_type": "markdown",
      "metadata": {
        "id": "-cmFZmvfgfPA"
      },
      "source": [
        "Una vez que cargamos las librerías necesarias debemos cargar la base de datos."
      ]
    },
    {
      "cell_type": "markdown",
      "metadata": {
        "id": "zuOT2aLGgfPA"
      },
      "source": [
        "Como en la base de datos orignal no están disponibles los nombres de las columnas, debemos ingresar estos nombres de manera manual."
      ]
    },
    {
      "cell_type": "code",
      "metadata": {
        "colab": {
          "base_uri": "https://localhost:8080/",
          "height": 419
        },
        "id": "yZdgxJFbgfPB",
        "outputId": "d1aea43d-e74d-4a34-d802-80a0008ce550"
      },
      "source": [
        "# column_names = ['MPG','Cylinders','Displacement','Horsepower','Weight',\n",
        "#                 'Acceleration', 'Model Year', 'Origin','Car name'] \n",
        "\n",
        "dataset = pd.read_csv('coches.csv')\n",
        "dataset.head(-1) # mostrar el encabezado y los últimos elementos de la dataset"
      ],
      "execution_count": null,
      "outputs": [
        {
          "output_type": "execute_result",
          "data": {
            "text/html": [
              "<div>\n",
              "<style scoped>\n",
              "    .dataframe tbody tr th:only-of-type {\n",
              "        vertical-align: middle;\n",
              "    }\n",
              "\n",
              "    .dataframe tbody tr th {\n",
              "        vertical-align: top;\n",
              "    }\n",
              "\n",
              "    .dataframe thead th {\n",
              "        text-align: right;\n",
              "    }\n",
              "</style>\n",
              "<table border=\"1\" class=\"dataframe\">\n",
              "  <thead>\n",
              "    <tr style=\"text-align: right;\">\n",
              "      <th></th>\n",
              "      <th>MPG</th>\n",
              "      <th>Cylinders</th>\n",
              "      <th>Displacement</th>\n",
              "      <th>Horsepower</th>\n",
              "      <th>Weight</th>\n",
              "      <th>Acceleration</th>\n",
              "      <th>Model year</th>\n",
              "      <th>Origin</th>\n",
              "      <th>Car name</th>\n",
              "    </tr>\n",
              "  </thead>\n",
              "  <tbody>\n",
              "    <tr>\n",
              "      <th>0</th>\n",
              "      <td>18.0</td>\n",
              "      <td>8</td>\n",
              "      <td>307.0</td>\n",
              "      <td>130.0</td>\n",
              "      <td>3504</td>\n",
              "      <td>12.0</td>\n",
              "      <td>70</td>\n",
              "      <td>1</td>\n",
              "      <td>chevrolet chevelle malibu</td>\n",
              "    </tr>\n",
              "    <tr>\n",
              "      <th>1</th>\n",
              "      <td>15.0</td>\n",
              "      <td>8</td>\n",
              "      <td>350.0</td>\n",
              "      <td>165.0</td>\n",
              "      <td>3693</td>\n",
              "      <td>11.5</td>\n",
              "      <td>70</td>\n",
              "      <td>1</td>\n",
              "      <td>buick skylark 320</td>\n",
              "    </tr>\n",
              "    <tr>\n",
              "      <th>2</th>\n",
              "      <td>18.0</td>\n",
              "      <td>8</td>\n",
              "      <td>318.0</td>\n",
              "      <td>150.0</td>\n",
              "      <td>3436</td>\n",
              "      <td>11.0</td>\n",
              "      <td>70</td>\n",
              "      <td>1</td>\n",
              "      <td>plymouth satellite</td>\n",
              "    </tr>\n",
              "    <tr>\n",
              "      <th>3</th>\n",
              "      <td>16.0</td>\n",
              "      <td>8</td>\n",
              "      <td>304.0</td>\n",
              "      <td>150.0</td>\n",
              "      <td>3433</td>\n",
              "      <td>12.0</td>\n",
              "      <td>70</td>\n",
              "      <td>1</td>\n",
              "      <td>amc rebel sst</td>\n",
              "    </tr>\n",
              "    <tr>\n",
              "      <th>4</th>\n",
              "      <td>17.0</td>\n",
              "      <td>8</td>\n",
              "      <td>302.0</td>\n",
              "      <td>140.0</td>\n",
              "      <td>3449</td>\n",
              "      <td>10.5</td>\n",
              "      <td>70</td>\n",
              "      <td>1</td>\n",
              "      <td>ford torino</td>\n",
              "    </tr>\n",
              "    <tr>\n",
              "      <th>...</th>\n",
              "      <td>...</td>\n",
              "      <td>...</td>\n",
              "      <td>...</td>\n",
              "      <td>...</td>\n",
              "      <td>...</td>\n",
              "      <td>...</td>\n",
              "      <td>...</td>\n",
              "      <td>...</td>\n",
              "      <td>...</td>\n",
              "    </tr>\n",
              "    <tr>\n",
              "      <th>392</th>\n",
              "      <td>27.0</td>\n",
              "      <td>4</td>\n",
              "      <td>151.0</td>\n",
              "      <td>90.0</td>\n",
              "      <td>2950</td>\n",
              "      <td>17.3</td>\n",
              "      <td>82</td>\n",
              "      <td>1</td>\n",
              "      <td>chevrolet camaro</td>\n",
              "    </tr>\n",
              "    <tr>\n",
              "      <th>393</th>\n",
              "      <td>27.0</td>\n",
              "      <td>4</td>\n",
              "      <td>140.0</td>\n",
              "      <td>86.0</td>\n",
              "      <td>2790</td>\n",
              "      <td>15.6</td>\n",
              "      <td>82</td>\n",
              "      <td>1</td>\n",
              "      <td>ford mustang gl</td>\n",
              "    </tr>\n",
              "    <tr>\n",
              "      <th>394</th>\n",
              "      <td>44.0</td>\n",
              "      <td>4</td>\n",
              "      <td>97.0</td>\n",
              "      <td>52.0</td>\n",
              "      <td>2130</td>\n",
              "      <td>24.6</td>\n",
              "      <td>82</td>\n",
              "      <td>2</td>\n",
              "      <td>vw pickup</td>\n",
              "    </tr>\n",
              "    <tr>\n",
              "      <th>395</th>\n",
              "      <td>32.0</td>\n",
              "      <td>4</td>\n",
              "      <td>135.0</td>\n",
              "      <td>84.0</td>\n",
              "      <td>2295</td>\n",
              "      <td>11.6</td>\n",
              "      <td>82</td>\n",
              "      <td>1</td>\n",
              "      <td>dodge rampage</td>\n",
              "    </tr>\n",
              "    <tr>\n",
              "      <th>396</th>\n",
              "      <td>28.0</td>\n",
              "      <td>4</td>\n",
              "      <td>120.0</td>\n",
              "      <td>79.0</td>\n",
              "      <td>2625</td>\n",
              "      <td>18.6</td>\n",
              "      <td>82</td>\n",
              "      <td>1</td>\n",
              "      <td>ford ranger</td>\n",
              "    </tr>\n",
              "  </tbody>\n",
              "</table>\n",
              "<p>397 rows × 9 columns</p>\n",
              "</div>"
            ],
            "text/plain": [
              "      MPG  Cylinders  ...  Origin                   Car name\n",
              "0    18.0          8  ...       1  chevrolet chevelle malibu\n",
              "1    15.0          8  ...       1          buick skylark 320\n",
              "2    18.0          8  ...       1         plymouth satellite\n",
              "3    16.0          8  ...       1              amc rebel sst\n",
              "4    17.0          8  ...       1                ford torino\n",
              "..    ...        ...  ...     ...                        ...\n",
              "392  27.0          4  ...       1           chevrolet camaro\n",
              "393  27.0          4  ...       1            ford mustang gl\n",
              "394  44.0          4  ...       2                  vw pickup\n",
              "395  32.0          4  ...       1              dodge rampage\n",
              "396  28.0          4  ...       1                ford ranger\n",
              "\n",
              "[397 rows x 9 columns]"
            ]
          },
          "metadata": {},
          "execution_count": 3
        }
      ]
    },
    {
      "cell_type": "markdown",
      "metadata": {
        "id": "8BKf1QgggfPB"
      },
      "source": [
        "Hay que revisar si la base de datos no contiene valores que no puedan ser procesados como los **NaN**"
      ]
    },
    {
      "cell_type": "code",
      "metadata": {
        "colab": {
          "base_uri": "https://localhost:8080/"
        },
        "id": "ndBmVgYygfPC",
        "outputId": "94e09a13-dc52-4b39-d553-d5bf95b372d1"
      },
      "source": [
        "dataset.isna().sum()"
      ],
      "execution_count": null,
      "outputs": [
        {
          "output_type": "execute_result",
          "data": {
            "text/plain": [
              "MPG             0\n",
              "Cylinders       0\n",
              "Displacement    0\n",
              "Horsepower      6\n",
              "Weight          0\n",
              "Acceleration    0\n",
              "Model year      0\n",
              "Origin          0\n",
              "Car name        0\n",
              "dtype: int64"
            ]
          },
          "metadata": {},
          "execution_count": 4
        }
      ]
    },
    {
      "cell_type": "markdown",
      "metadata": {
        "id": "ym4HDu02gfPC"
      },
      "source": [
        "Vemos que hay seis valores en la columna *Horsepower* que son **NaN**, por suerte, Pandas dispone de una herramienta para descartar estos valores."
      ]
    },
    {
      "cell_type": "code",
      "metadata": {
        "id": "77kkd-lpgfPC"
      },
      "source": [
        "dataset = dataset.dropna() # Descartar los valores NaN"
      ],
      "execution_count": null,
      "outputs": []
    },
    {
      "cell_type": "markdown",
      "metadata": {
        "id": "VkVTy2ZLgfPD"
      },
      "source": [
        "Esta operación no es lo que más se recomiena hacer, pero por simplicidad de la práctica lo haremos así."
      ]
    },
    {
      "cell_type": "code",
      "metadata": {
        "colab": {
          "base_uri": "https://localhost:8080/"
        },
        "id": "sTjII7AkgfPD",
        "outputId": "10ebc41d-eae4-4aad-8e33-ac244d0c4fcb"
      },
      "source": [
        "dataset.isna().sum()"
      ],
      "execution_count": null,
      "outputs": [
        {
          "output_type": "execute_result",
          "data": {
            "text/plain": [
              "MPG             0\n",
              "Cylinders       0\n",
              "Displacement    0\n",
              "Horsepower      0\n",
              "Weight          0\n",
              "Acceleration    0\n",
              "Model year      0\n",
              "Origin          0\n",
              "Car name        0\n",
              "dtype: int64"
            ]
          },
          "metadata": {},
          "execution_count": 6
        }
      ]
    },
    {
      "cell_type": "markdown",
      "metadata": {
        "id": "2Lk2w3qCgfPD"
      },
      "source": [
        "Si repetimos la operación anterior comprobaremos que los valores fueron descartados exitosamente."
      ]
    },
    {
      "cell_type": "code",
      "metadata": {
        "colab": {
          "base_uri": "https://localhost:8080/",
          "height": 297
        },
        "id": "mvs0Xn5ggfPD",
        "outputId": "7e3192b3-c7d9-4152-f1ab-f614f01d34b4"
      },
      "source": [
        "dataset.describe() # Descripción estadística de la dataset"
      ],
      "execution_count": null,
      "outputs": [
        {
          "output_type": "execute_result",
          "data": {
            "text/html": [
              "<div>\n",
              "<style scoped>\n",
              "    .dataframe tbody tr th:only-of-type {\n",
              "        vertical-align: middle;\n",
              "    }\n",
              "\n",
              "    .dataframe tbody tr th {\n",
              "        vertical-align: top;\n",
              "    }\n",
              "\n",
              "    .dataframe thead th {\n",
              "        text-align: right;\n",
              "    }\n",
              "</style>\n",
              "<table border=\"1\" class=\"dataframe\">\n",
              "  <thead>\n",
              "    <tr style=\"text-align: right;\">\n",
              "      <th></th>\n",
              "      <th>MPG</th>\n",
              "      <th>Cylinders</th>\n",
              "      <th>Displacement</th>\n",
              "      <th>Horsepower</th>\n",
              "      <th>Weight</th>\n",
              "      <th>Acceleration</th>\n",
              "      <th>Model year</th>\n",
              "      <th>Origin</th>\n",
              "    </tr>\n",
              "  </thead>\n",
              "  <tbody>\n",
              "    <tr>\n",
              "      <th>count</th>\n",
              "      <td>392.000000</td>\n",
              "      <td>392.000000</td>\n",
              "      <td>392.000000</td>\n",
              "      <td>392.000000</td>\n",
              "      <td>392.000000</td>\n",
              "      <td>392.000000</td>\n",
              "      <td>392.000000</td>\n",
              "      <td>392.000000</td>\n",
              "    </tr>\n",
              "    <tr>\n",
              "      <th>mean</th>\n",
              "      <td>23.445918</td>\n",
              "      <td>5.471939</td>\n",
              "      <td>194.411990</td>\n",
              "      <td>104.469388</td>\n",
              "      <td>2977.584184</td>\n",
              "      <td>15.541327</td>\n",
              "      <td>75.979592</td>\n",
              "      <td>1.576531</td>\n",
              "    </tr>\n",
              "    <tr>\n",
              "      <th>std</th>\n",
              "      <td>7.805007</td>\n",
              "      <td>1.705783</td>\n",
              "      <td>104.644004</td>\n",
              "      <td>38.491160</td>\n",
              "      <td>849.402560</td>\n",
              "      <td>2.758864</td>\n",
              "      <td>3.683737</td>\n",
              "      <td>0.805518</td>\n",
              "    </tr>\n",
              "    <tr>\n",
              "      <th>min</th>\n",
              "      <td>9.000000</td>\n",
              "      <td>3.000000</td>\n",
              "      <td>68.000000</td>\n",
              "      <td>46.000000</td>\n",
              "      <td>1613.000000</td>\n",
              "      <td>8.000000</td>\n",
              "      <td>70.000000</td>\n",
              "      <td>1.000000</td>\n",
              "    </tr>\n",
              "    <tr>\n",
              "      <th>25%</th>\n",
              "      <td>17.000000</td>\n",
              "      <td>4.000000</td>\n",
              "      <td>105.000000</td>\n",
              "      <td>75.000000</td>\n",
              "      <td>2225.250000</td>\n",
              "      <td>13.775000</td>\n",
              "      <td>73.000000</td>\n",
              "      <td>1.000000</td>\n",
              "    </tr>\n",
              "    <tr>\n",
              "      <th>50%</th>\n",
              "      <td>22.750000</td>\n",
              "      <td>4.000000</td>\n",
              "      <td>151.000000</td>\n",
              "      <td>93.500000</td>\n",
              "      <td>2803.500000</td>\n",
              "      <td>15.500000</td>\n",
              "      <td>76.000000</td>\n",
              "      <td>1.000000</td>\n",
              "    </tr>\n",
              "    <tr>\n",
              "      <th>75%</th>\n",
              "      <td>29.000000</td>\n",
              "      <td>8.000000</td>\n",
              "      <td>275.750000</td>\n",
              "      <td>126.000000</td>\n",
              "      <td>3614.750000</td>\n",
              "      <td>17.025000</td>\n",
              "      <td>79.000000</td>\n",
              "      <td>2.000000</td>\n",
              "    </tr>\n",
              "    <tr>\n",
              "      <th>max</th>\n",
              "      <td>46.600000</td>\n",
              "      <td>8.000000</td>\n",
              "      <td>455.000000</td>\n",
              "      <td>230.000000</td>\n",
              "      <td>5140.000000</td>\n",
              "      <td>24.800000</td>\n",
              "      <td>82.000000</td>\n",
              "      <td>3.000000</td>\n",
              "    </tr>\n",
              "  </tbody>\n",
              "</table>\n",
              "</div>"
            ],
            "text/plain": [
              "              MPG   Cylinders  ...  Model year      Origin\n",
              "count  392.000000  392.000000  ...  392.000000  392.000000\n",
              "mean    23.445918    5.471939  ...   75.979592    1.576531\n",
              "std      7.805007    1.705783  ...    3.683737    0.805518\n",
              "min      9.000000    3.000000  ...   70.000000    1.000000\n",
              "25%     17.000000    4.000000  ...   73.000000    1.000000\n",
              "50%     22.750000    4.000000  ...   76.000000    1.000000\n",
              "75%     29.000000    8.000000  ...   79.000000    2.000000\n",
              "max     46.600000    8.000000  ...   82.000000    3.000000\n",
              "\n",
              "[8 rows x 8 columns]"
            ]
          },
          "metadata": {},
          "execution_count": 7
        }
      ]
    },
    {
      "cell_type": "markdown",
      "metadata": {
        "id": "zX5SHdcSgfPD"
      },
      "source": [
        "Las columnas donde se deberán aplicar procesamientos adicionales son *Car name* y *Origin*. La primera se encuentra en formato string, y la segunda debería ser string y no numérica.\n",
        "\n",
        "Comenzaremos con la columna *Origin*."
      ]
    },
    {
      "cell_type": "markdown",
      "metadata": {
        "id": "KoakjoyMgfPE"
      },
      "source": [
        "En el caso de la columna *Origin*, no representa tanto problema, porque ya están en números pero, para evitar confusiones vamos a mostrar sus valores originales. De acuerdo con la documentación original, los orígenes de los coches están de la siguiente forma:\n",
        "* 1 --> USA\n",
        "* 2 --> Europa\n",
        "* 3 --> Japón\n",
        "\n",
        "Una vez dicho esto, vamos con la columna *Car name*."
      ]
    },
    {
      "cell_type": "markdown",
      "metadata": {
        "id": "etIg0q-HgfPE"
      },
      "source": [
        "Como no se repite ningún modelo de automovil ni tampoco es relevante conocer el nombre del modelo, vamos a descartar esta columna. Por ahora, imaginen que el modelo del automovil como el nombre de una persona; el nombre no afecta en nada al momento de realizar un diagnóstico."
      ]
    },
    {
      "cell_type": "code",
      "metadata": {
        "id": "oxuv2LnxgfPE"
      },
      "source": [
        "data_copy = dataset # creamos una copia por si acaso"
      ],
      "execution_count": null,
      "outputs": []
    },
    {
      "cell_type": "code",
      "metadata": {
        "colab": {
          "base_uri": "https://localhost:8080/",
          "height": 204
        },
        "id": "-fyaQ9_HgfPE",
        "outputId": "472a8f1c-66fe-463c-8e47-4fae044ff5a5"
      },
      "source": [
        "data_copy = data_copy.drop(['Car name'], axis=1)\n",
        "data_copy.head() # verificamos que si se haya quitado la columna"
      ],
      "execution_count": null,
      "outputs": [
        {
          "output_type": "execute_result",
          "data": {
            "text/html": [
              "<div>\n",
              "<style scoped>\n",
              "    .dataframe tbody tr th:only-of-type {\n",
              "        vertical-align: middle;\n",
              "    }\n",
              "\n",
              "    .dataframe tbody tr th {\n",
              "        vertical-align: top;\n",
              "    }\n",
              "\n",
              "    .dataframe thead th {\n",
              "        text-align: right;\n",
              "    }\n",
              "</style>\n",
              "<table border=\"1\" class=\"dataframe\">\n",
              "  <thead>\n",
              "    <tr style=\"text-align: right;\">\n",
              "      <th></th>\n",
              "      <th>MPG</th>\n",
              "      <th>Cylinders</th>\n",
              "      <th>Displacement</th>\n",
              "      <th>Horsepower</th>\n",
              "      <th>Weight</th>\n",
              "      <th>Acceleration</th>\n",
              "      <th>Model year</th>\n",
              "      <th>Origin</th>\n",
              "    </tr>\n",
              "  </thead>\n",
              "  <tbody>\n",
              "    <tr>\n",
              "      <th>0</th>\n",
              "      <td>18.0</td>\n",
              "      <td>8</td>\n",
              "      <td>307.0</td>\n",
              "      <td>130.0</td>\n",
              "      <td>3504</td>\n",
              "      <td>12.0</td>\n",
              "      <td>70</td>\n",
              "      <td>1</td>\n",
              "    </tr>\n",
              "    <tr>\n",
              "      <th>1</th>\n",
              "      <td>15.0</td>\n",
              "      <td>8</td>\n",
              "      <td>350.0</td>\n",
              "      <td>165.0</td>\n",
              "      <td>3693</td>\n",
              "      <td>11.5</td>\n",
              "      <td>70</td>\n",
              "      <td>1</td>\n",
              "    </tr>\n",
              "    <tr>\n",
              "      <th>2</th>\n",
              "      <td>18.0</td>\n",
              "      <td>8</td>\n",
              "      <td>318.0</td>\n",
              "      <td>150.0</td>\n",
              "      <td>3436</td>\n",
              "      <td>11.0</td>\n",
              "      <td>70</td>\n",
              "      <td>1</td>\n",
              "    </tr>\n",
              "    <tr>\n",
              "      <th>3</th>\n",
              "      <td>16.0</td>\n",
              "      <td>8</td>\n",
              "      <td>304.0</td>\n",
              "      <td>150.0</td>\n",
              "      <td>3433</td>\n",
              "      <td>12.0</td>\n",
              "      <td>70</td>\n",
              "      <td>1</td>\n",
              "    </tr>\n",
              "    <tr>\n",
              "      <th>4</th>\n",
              "      <td>17.0</td>\n",
              "      <td>8</td>\n",
              "      <td>302.0</td>\n",
              "      <td>140.0</td>\n",
              "      <td>3449</td>\n",
              "      <td>10.5</td>\n",
              "      <td>70</td>\n",
              "      <td>1</td>\n",
              "    </tr>\n",
              "  </tbody>\n",
              "</table>\n",
              "</div>"
            ],
            "text/plain": [
              "    MPG  Cylinders  Displacement  ...  Acceleration  Model year  Origin\n",
              "0  18.0          8         307.0  ...          12.0          70       1\n",
              "1  15.0          8         350.0  ...          11.5          70       1\n",
              "2  18.0          8         318.0  ...          11.0          70       1\n",
              "3  16.0          8         304.0  ...          12.0          70       1\n",
              "4  17.0          8         302.0  ...          10.5          70       1\n",
              "\n",
              "[5 rows x 8 columns]"
            ]
          },
          "metadata": {},
          "execution_count": 9
        }
      ]
    },
    {
      "cell_type": "markdown",
      "metadata": {
        "id": "HyZe7JxngfPE"
      },
      "source": [
        "Listo! Ya tenemos la base de datos preparada para trabajar con ella"
      ]
    },
    {
      "cell_type": "markdown",
      "metadata": {
        "id": "sbaD1S-tgfPE"
      },
      "source": [
        "**Nota**: Todavía se podría hacer un paso extra, que sería evaluar la correlación entre cada una de las variables para encontrar aquellas variables con correlaciones fuertes y con correlaciones débiles. De esta forma se pueden descartar las debiles y trabajar con las variables fuertes."
      ]
    },
    {
      "cell_type": "code",
      "metadata": {
        "colab": {
          "base_uri": "https://localhost:8080/",
          "height": 671
        },
        "id": "DDV97S7MgfPF",
        "outputId": "a3ecd247-e261-4d5e-a0a4-16c078ad5091"
      },
      "source": [
        "# Crear un mapa de correlaciones entre todas las variables de la\n",
        "# dataset, entre el valor sea más alto, la correlación es fuerte.\n",
        "# Si el valor es cercano a -1, la correlación es debil.\n",
        "\n",
        "plt.figure(figsize=(10,10))\n",
        "sns.heatmap(data_copy.corr(),annot=True,annot_kws={\"size\":12})"
      ],
      "execution_count": null,
      "outputs": [
        {
          "output_type": "execute_result",
          "data": {
            "text/plain": [
              "<matplotlib.axes._subplots.AxesSubplot at 0x7efd89a500d0>"
            ]
          },
          "metadata": {},
          "execution_count": 10
        },
        {
          "output_type": "display_data",
          "data": {
            "image/png": "[encoded data removed]",
            "text/plain": [
              "<Figure size 720x720 with 2 Axes>"
            ]
          },
          "metadata": {
            "needs_background": "light"
          }
        }
      ]
    },
    {
      "cell_type": "markdown",
      "metadata": {
        "id": "bx326NtDgfPF"
      },
      "source": [
        "## Preprocesamiento de los datos"
      ]
    },
    {
      "cell_type": "markdown",
      "metadata": {
        "id": "9pY1N3VZgfPF"
      },
      "source": [
        "Como la dataset está declarado en forma de *DataFrame*, estos valores no los acepta *Tensorflow* ni *Keras*. Por lo tanto debemos convertirlos a valores que si los pueda entender, por ejemplo, en valores de **Numpy**."
      ]
    },
    {
      "cell_type": "code",
      "metadata": {
        "id": "bED-OUzMgfPF"
      },
      "source": [
        "# Creamos una variable llamada database donde estarán todos los valores\n",
        "# de la variable dataset\n",
        "\n",
        "database = data_copy.values"
      ],
      "execution_count": null,
      "outputs": []
    },
    {
      "cell_type": "code",
      "metadata": {
        "id": "4Y0tN3XRgfPF"
      },
      "source": [
        "X = database[:,1:8] # varibles de entrada\n",
        "Y = database[:,0] # variable de salida"
      ],
      "execution_count": null,
      "outputs": []
    },
    {
      "cell_type": "markdown",
      "metadata": {
        "id": "pSgb-coygfPG"
      },
      "source": [
        "Aunque la dataset no lo indique, los datos no están normalizados.\n",
        "\n",
        "Es recomendable que se le haga una normalización o estandarización a los datos antes de la etapa de entranamiento. Esta parte no es necesaria, es decir, se puede realizar el entrenamiento con los datos en crudo. Sin embargo, el no procesar los datos puede impactar en el entrenamiento.\n",
        "\n",
        "Como lo hemos hecho en otras prácticas, vamos a aplicar una estandarización a los datos usando la herramienta *StandardScaler* de la librería **Sklearn**."
      ]
    },
    {
      "cell_type": "code",
      "metadata": {
        "id": "PixxsGapgfPG"
      },
      "source": [
        "# Usaremos variables de apoyo para esta parte\n",
        "scaler = StandardScaler() # Creamos el estandarizador\n",
        "\n",
        "X_scaled = scaler.fit_transform(X) # estandarizamos X"
      ],
      "execution_count": null,
      "outputs": []
    },
    {
      "cell_type": "markdown",
      "metadata": {
        "id": "6aYp9ERagfPG"
      },
      "source": [
        "Estandarizamos solo los valores de $X$ porque son los datos de entrenamiento, para los datos de salida no se necesita realizar una estandarización."
      ]
    },
    {
      "cell_type": "markdown",
      "metadata": {
        "id": "PhM-r3qbgfPG"
      },
      "source": [
        "La herramienta *StandardScaler* estandariza todas las columnas quitando la media aritmética y escalando los valores a su varianza.\n",
        "\n",
        "Dicho de forma matemática, se hace la siguiente operación para cada columna:"
      ]
    },
    {
      "cell_type": "markdown",
      "metadata": {
        "id": "hEtmn77ogfPG"
      },
      "source": [
        "$z = \\frac{x-\\mu}{s}$"
      ]
    },
    {
      "cell_type": "markdown",
      "metadata": {
        "id": "WbrICBv9gfPG"
      },
      "source": [
        "Si mostramos los valores de la variable *X_scaled* veremos que cambiaron los valores."
      ]
    },
    {
      "cell_type": "code",
      "metadata": {
        "colab": {
          "base_uri": "https://localhost:8080/"
        },
        "id": "Fs9o_BBjgfPH",
        "outputId": "8c978c8f-e9c2-487b-f401-14903a1c1ebf"
      },
      "source": [
        "X_scaled"
      ],
      "execution_count": null,
      "outputs": [
        {
          "output_type": "execute_result",
          "data": {
            "text/plain": [
              "array([[ 1.48394702,  1.07728956,  0.66413273, ..., -1.285258  ,\n",
              "        -1.62531533, -0.71664105],\n",
              "       [ 1.48394702,  1.48873169,  1.57459447, ..., -1.46672362,\n",
              "        -1.62531533, -0.71664105],\n",
              "       [ 1.48394702,  1.1825422 ,  1.18439658, ..., -1.64818924,\n",
              "        -1.62531533, -0.71664105],\n",
              "       ...,\n",
              "       [-0.86401356, -0.56847897, -0.53247413, ..., -1.4304305 ,\n",
              "         1.63640964, -0.71664105],\n",
              "       [-0.86401356, -0.7120053 , -0.66254009, ...,  1.11008813,\n",
              "         1.63640964, -0.71664105],\n",
              "       [-0.86401356, -0.72157372, -0.58450051, ...,  1.40043312,\n",
              "         1.63640964, -0.71664105]])"
            ]
          },
          "metadata": {},
          "execution_count": 14
        }
      ]
    },
    {
      "cell_type": "markdown",
      "metadata": {
        "id": "0EiAWGJOgfPH"
      },
      "source": [
        "## Definir los sets de entrenamiento y prueba"
      ]
    },
    {
      "cell_type": "markdown",
      "metadata": {
        "id": "Y8zH7dSlgfPH"
      },
      "source": [
        "Tenemos que definir cuáles serán nuestras variables de entrada y la variable de salida.\n",
        "\n",
        "La variable de salida (que es el objetivo de esta práctica) será la columna MPG.\n",
        "\n",
        "Las variables de salida serán el resto."
      ]
    },
    {
      "cell_type": "markdown",
      "metadata": {
        "id": "aOUNWMEugfPH"
      },
      "source": [
        "Solo para confirmar, desplegamos las dimensiones de las variables X y Y"
      ]
    },
    {
      "cell_type": "code",
      "metadata": {
        "colab": {
          "base_uri": "https://localhost:8080/"
        },
        "id": "ba9dPxJ6gfPH",
        "outputId": "9c1af447-2cec-4f72-b831-24c632c51e43"
      },
      "source": [
        "X_scaled.shape"
      ],
      "execution_count": null,
      "outputs": [
        {
          "output_type": "execute_result",
          "data": {
            "text/plain": [
              "(392, 7)"
            ]
          },
          "metadata": {},
          "execution_count": 15
        }
      ]
    },
    {
      "cell_type": "code",
      "metadata": {
        "colab": {
          "base_uri": "https://localhost:8080/"
        },
        "id": "HnyqgGwagfPH",
        "outputId": "99d3aafd-41b6-40c9-c849-99e0e0d89d04"
      },
      "source": [
        "Y.shape"
      ],
      "execution_count": null,
      "outputs": [
        {
          "output_type": "execute_result",
          "data": {
            "text/plain": [
              "(392,)"
            ]
          },
          "metadata": {},
          "execution_count": 16
        }
      ]
    },
    {
      "cell_type": "markdown",
      "metadata": {
        "id": "jul4bWOvgfPH"
      },
      "source": [
        "La dataset tiene 8 columnas en total, si $X$ tiene 7 columnas y $Y$ tiene una, quiere decir que si hicimos bien la asignación de variables."
      ]
    },
    {
      "cell_type": "markdown",
      "metadata": {
        "id": "WrQna8RQgfPI"
      },
      "source": [
        "Ya que tenemos divididas las variables, debemos crear los conjuntos de entrenamiento y de prueba.\n",
        "\n",
        "Para ello usaremos las herramientas de **Sklearn** para hacer esta parte, con la herramienta *train_test_split* podemos crear estos conjuntos. Para ello debemos indicar cuáles serán los grupos de datos para dividir y la distribución de los datos.\n",
        "\n",
        "**Nota**: la distribución se indica con la **cantidad de datos que se usaran para entrenar**, por lo tanto, si indicamos un valor de 0.25, se usara el 75% de los datos **para entrenar** y el 25% **para validar**."
      ]
    },
    {
      "cell_type": "code",
      "metadata": {
        "id": "6nyw4LWDgfPI"
      },
      "source": [
        "# Crear los conjuntos de datos\n",
        "\n",
        "Xtrain, Xtest, ytrain, ytest = train_test_split(X_scaled, Y,\n",
        "                                               test_size=0.3)"
      ],
      "execution_count": null,
      "outputs": []
    },
    {
      "cell_type": "markdown",
      "metadata": {
        "id": "yjidFyiKgfPI"
      },
      "source": [
        "## Creando el modelo de machine learning"
      ]
    },
    {
      "cell_type": "markdown",
      "metadata": {
        "id": "a4hjR8D8gfPI"
      },
      "source": [
        "Vamos a usar la API de Keras para crear el modelo de ML.\n",
        "\n",
        "Como se trata de un modelo de **regresión**, solo habra una salida pero puede haber $n$ cantidad de capas intermedias."
      ]
    },
    {
      "cell_type": "markdown",
      "metadata": {
        "id": "wk7G9qyegfPI"
      },
      "source": [
        "El modelo que crearemos será un modelo de tipo **Sequential**, en palabras que conocemos, una red neuronal común y corriente."
      ]
    },
    {
      "cell_type": "code",
      "metadata": {
        "id": "C5H2DqCcgfPI"
      },
      "source": [
        "n_features = X_scaled.shape[1] # la variable tendrá exactamente el número de columnas que el conjunto de entranmiento\n",
        "\n",
        "\n",
        "model = Sequential() # Instanciamos el modelo\n",
        "model.add(Dense(16, input_dim=n_features, activation='relu')) # capa de entrada\n",
        "model.add(Dense(64, activation='relu')) # capa intermedia \n",
        "model.add(Dense(128, activation='relu')) # capa intermedia \n",
        "model.add(Dense(256, activation='relu')) # capa intermedia\n",
        "model.add(Dense(128, activation='relu')) # capa intermedia \n",
        "model.add(Dense(64, activation='relu')) # capa intermedia \n",
        "model.add(Dense(1)) # capa de salida"
      ],
      "execution_count": null,
      "outputs": []
    },
    {
      "cell_type": "markdown",
      "metadata": {
        "id": "sKep-dCKgfPI"
      },
      "source": [
        "Ya que definimos la arquitectura de nuestro modelo debemos compilarlo.\n",
        "\n",
        "Cuando compilamos el modelo debemos definir los siguientes parámetros:\n",
        "* Función de pérdida\n",
        "* Optimizador\n",
        "* Métricas\n"
      ]
    },
    {
      "cell_type": "code",
      "metadata": {
        "id": "fB_wfj1xgfPJ"
      },
      "source": [
        "model.compile(loss='mean_squared_error', \n",
        "              optimizer='RMSprop',\n",
        "              metrics=['MeanSquaredError']\n",
        "             )"
      ],
      "execution_count": null,
      "outputs": []
    },
    {
      "cell_type": "code",
      "metadata": {
        "colab": {
          "base_uri": "https://localhost:8080/"
        },
        "id": "A7x8VQXigfPJ",
        "outputId": "f3e51c50-2798-4aa3-8b00-04b7d727a422"
      },
      "source": [
        "# Resumen del modelo\n",
        "model.summary()"
      ],
      "execution_count": null,
      "outputs": [
        {
          "output_type": "stream",
          "text": [
            "Model: \"sequential\"\n",
            "_________________________________________________________________\n",
            "Layer (type)                 Output Shape              Param #   \n",
            "=================================================================\n",
            "dense (Dense)                (None, 16)                128       \n",
            "_________________________________________________________________\n",
            "dense_1 (Dense)              (None, 64)                1088      \n",
            "_________________________________________________________________\n",
            "dense_2 (Dense)              (None, 128)               8320      \n",
            "_________________________________________________________________\n",
            "dense_3 (Dense)              (None, 256)               33024     \n",
            "_________________________________________________________________\n",
            "dense_4 (Dense)              (None, 128)               32896     \n",
            "_________________________________________________________________\n",
            "dense_5 (Dense)              (None, 64)                8256      \n",
            "_________________________________________________________________\n",
            "dense_6 (Dense)              (None, 1)                 65        \n",
            "=================================================================\n",
            "Total params: 83,777\n",
            "Trainable params: 83,777\n",
            "Non-trainable params: 0\n",
            "_________________________________________________________________\n"
          ],
          "name": "stdout"
        }
      ]
    },
    {
      "cell_type": "code",
      "metadata": {
        "colab": {
          "base_uri": "https://localhost:8080/",
          "height": 865
        },
        "id": "0xBQfi_JgfPJ",
        "outputId": "12dc71b1-60a6-4280-c7ce-0881d66461aa"
      },
      "source": [
        "# Grafo de la arquitectura\n",
        "plot_model(model, show_shapes=True)"
      ],
      "execution_count": null,
      "outputs": [
        {
          "output_type": "execute_result",
          "data": {
            "image/png": "[encoded data removed]",
            "text/plain": [
              "<IPython.core.display.Image object>"
            ]
          },
          "metadata": {},
          "execution_count": 22
        }
      ]
    },
    {
      "cell_type": "markdown",
      "metadata": {
        "id": "DDRX2dj6gfPJ"
      },
      "source": [
        "## Entrenamiento"
      ]
    },
    {
      "cell_type": "markdown",
      "metadata": {
        "id": "9gu59gwcgfPJ"
      },
      "source": [
        "Ya que establecimos la arquitectura y compilamos el modelo debemos entrenarlo."
      ]
    },
    {
      "cell_type": "markdown",
      "metadata": {
        "id": "sCPhMaqrgfPJ"
      },
      "source": [
        "Debemos indicar los siguientes datos:\n",
        "* Datos de entranamiento\n",
        "* Número de épocas"
      ]
    },
    {
      "cell_type": "code",
      "metadata": {
        "colab": {
          "base_uri": "https://localhost:8080/"
        },
        "id": "6W4Jr35VgfPJ",
        "outputId": "c261dbb7-979f-40f3-d1b6-083a78d3b5af"
      },
      "source": [
        "model.fit(Xtrain, ytrain,\n",
        "         validation_data=(Xtest, ytest),\n",
        "         batch_size=16,\n",
        "         epochs=200)"
      ],
      "execution_count": null,
      "outputs": [
        {
          "output_type": "stream",
          "text": [
            "Epoch 1/200\n",
            "18/18 [==============================] - 1s 13ms/step - loss: 281.3079 - mean_squared_error: 281.3079 - val_loss: 52.1110 - val_mean_squared_error: 52.1110\n",
            "Epoch 2/200\n",
            "18/18 [==============================] - 0s 4ms/step - loss: 28.7296 - mean_squared_error: 28.7296 - val_loss: 41.0887 - val_mean_squared_error: 41.0887\n",
            "Epoch 3/200\n",
            "18/18 [==============================] - 0s 3ms/step - loss: 19.3342 - mean_squared_error: 19.3342 - val_loss: 21.3472 - val_mean_squared_error: 21.3472\n",
            "Epoch 4/200\n",
            "18/18 [==============================] - 0s 3ms/step - loss: 16.6262 - mean_squared_error: 16.6262 - val_loss: 32.3485 - val_mean_squared_error: 32.3485\n",
            "Epoch 5/200\n",
            "18/18 [==============================] - 0s 4ms/step - loss: 15.3135 - mean_squared_error: 15.3135 - val_loss: 34.1560 - val_mean_squared_error: 34.1560\n",
            "Epoch 6/200\n",
            "18/18 [==============================] - 0s 4ms/step - loss: 14.9752 - mean_squared_error: 14.9752 - val_loss: 35.1949 - val_mean_squared_error: 35.1949\n",
            "Epoch 7/200\n",
            "18/18 [==============================] - 0s 4ms/step - loss: 14.7108 - mean_squared_error: 14.7108 - val_loss: 17.7075 - val_mean_squared_error: 17.7075\n",
            "Epoch 8/200\n",
            "18/18 [==============================] - 0s 3ms/step - loss: 11.4362 - mean_squared_error: 11.4362 - val_loss: 12.9366 - val_mean_squared_error: 12.9366\n",
            "Epoch 9/200\n",
            "18/18 [==============================] - 0s 4ms/step - loss: 12.8774 - mean_squared_error: 12.8774 - val_loss: 26.6549 - val_mean_squared_error: 26.6549\n",
            "Epoch 10/200\n",
            "18/18 [==============================] - 0s 3ms/step - loss: 12.8101 - mean_squared_error: 12.8101 - val_loss: 15.7697 - val_mean_squared_error: 15.7697\n",
            "Epoch 11/200\n",
            "18/18 [==============================] - 0s 4ms/step - loss: 13.4316 - mean_squared_error: 13.4316 - val_loss: 12.7721 - val_mean_squared_error: 12.7721\n",
            "Epoch 12/200\n",
            "18/18 [==============================] - 0s 3ms/step - loss: 9.5678 - mean_squared_error: 9.5678 - val_loss: 15.9097 - val_mean_squared_error: 15.9097\n",
            "Epoch 13/200\n",
            "18/18 [==============================] - 0s 3ms/step - loss: 11.6950 - mean_squared_error: 11.6950 - val_loss: 14.9571 - val_mean_squared_error: 14.9571\n",
            "Epoch 14/200\n",
            "18/18 [==============================] - 0s 3ms/step - loss: 11.3932 - mean_squared_error: 11.3932 - val_loss: 14.1534 - val_mean_squared_error: 14.1534\n",
            "Epoch 15/200\n",
            "18/18 [==============================] - 0s 3ms/step - loss: 10.4577 - mean_squared_error: 10.4577 - val_loss: 32.3769 - val_mean_squared_error: 32.3769\n",
            "Epoch 16/200\n",
            "18/18 [==============================] - 0s 4ms/step - loss: 12.7009 - mean_squared_error: 12.7009 - val_loss: 14.9123 - val_mean_squared_error: 14.9123\n",
            "Epoch 17/200\n",
            "18/18 [==============================] - 0s 4ms/step - loss: 8.8903 - mean_squared_error: 8.8903 - val_loss: 16.0946 - val_mean_squared_error: 16.0946\n",
            "Epoch 18/200\n",
            "18/18 [==============================] - 0s 4ms/step - loss: 9.9930 - mean_squared_error: 9.9930 - val_loss: 21.9713 - val_mean_squared_error: 21.9713\n",
            "Epoch 19/200\n",
            "18/18 [==============================] - 0s 3ms/step - loss: 10.7191 - mean_squared_error: 10.7191 - val_loss: 12.2821 - val_mean_squared_error: 12.2821\n",
            "Epoch 20/200\n",
            "18/18 [==============================] - 0s 3ms/step - loss: 10.2055 - mean_squared_error: 10.2055 - val_loss: 42.6004 - val_mean_squared_error: 42.6004\n",
            "Epoch 21/200\n",
            "18/18 [==============================] - 0s 4ms/step - loss: 8.5051 - mean_squared_error: 8.5051 - val_loss: 41.0022 - val_mean_squared_error: 41.0022\n",
            "Epoch 22/200\n",
            "18/18 [==============================] - 0s 3ms/step - loss: 9.3274 - mean_squared_error: 9.3274 - val_loss: 11.3881 - val_mean_squared_error: 11.3881\n",
            "Epoch 23/200\n",
            "18/18 [==============================] - 0s 4ms/step - loss: 9.2716 - mean_squared_error: 9.2716 - val_loss: 29.2852 - val_mean_squared_error: 29.2852\n",
            "Epoch 24/200\n",
            "18/18 [==============================] - 0s 4ms/step - loss: 7.7145 - mean_squared_error: 7.7145 - val_loss: 19.1472 - val_mean_squared_error: 19.1472\n",
            "Epoch 25/200\n",
            "18/18 [==============================] - 0s 3ms/step - loss: 9.1734 - mean_squared_error: 9.1734 - val_loss: 10.2892 - val_mean_squared_error: 10.2892\n",
            "Epoch 26/200\n",
            "18/18 [==============================] - 0s 4ms/step - loss: 8.9790 - mean_squared_error: 8.9790 - val_loss: 10.5141 - val_mean_squared_error: 10.5141\n",
            "Epoch 27/200\n",
            "18/18 [==============================] - 0s 3ms/step - loss: 6.9390 - mean_squared_error: 6.9390 - val_loss: 13.5848 - val_mean_squared_error: 13.5848\n",
            "Epoch 28/200\n",
            "18/18 [==============================] - 0s 4ms/step - loss: 7.2322 - mean_squared_error: 7.2322 - val_loss: 26.2327 - val_mean_squared_error: 26.2327\n",
            "Epoch 29/200\n",
            "18/18 [==============================] - 0s 3ms/step - loss: 6.8919 - mean_squared_error: 6.8919 - val_loss: 12.2035 - val_mean_squared_error: 12.2035\n",
            "Epoch 30/200\n",
            "18/18 [==============================] - 0s 3ms/step - loss: 6.4829 - mean_squared_error: 6.4829 - val_loss: 17.0592 - val_mean_squared_error: 17.0592\n",
            "Epoch 31/200\n",
            "18/18 [==============================] - 0s 4ms/step - loss: 8.8781 - mean_squared_error: 8.8781 - val_loss: 10.7279 - val_mean_squared_error: 10.7279\n",
            "Epoch 32/200\n",
            "18/18 [==============================] - 0s 4ms/step - loss: 7.6109 - mean_squared_error: 7.6109 - val_loss: 28.3183 - val_mean_squared_error: 28.3183\n",
            "Epoch 33/200\n",
            "18/18 [==============================] - 0s 4ms/step - loss: 7.0163 - mean_squared_error: 7.0163 - val_loss: 10.4123 - val_mean_squared_error: 10.4123\n",
            "Epoch 34/200\n",
            "18/18 [==============================] - 0s 3ms/step - loss: 7.1027 - mean_squared_error: 7.1027 - val_loss: 19.2525 - val_mean_squared_error: 19.2525\n",
            "Epoch 35/200\n",
            "18/18 [==============================] - 0s 3ms/step - loss: 8.3122 - mean_squared_error: 8.3122 - val_loss: 12.9148 - val_mean_squared_error: 12.9148\n",
            "Epoch 36/200\n",
            "18/18 [==============================] - 0s 3ms/step - loss: 7.0096 - mean_squared_error: 7.0096 - val_loss: 19.7995 - val_mean_squared_error: 19.7995\n",
            "Epoch 37/200\n",
            "18/18 [==============================] - 0s 4ms/step - loss: 6.9637 - mean_squared_error: 6.9637 - val_loss: 15.5608 - val_mean_squared_error: 15.5608\n",
            "Epoch 38/200\n",
            "18/18 [==============================] - 0s 3ms/step - loss: 5.9350 - mean_squared_error: 5.9350 - val_loss: 10.1424 - val_mean_squared_error: 10.1424\n",
            "Epoch 39/200\n",
            "18/18 [==============================] - 0s 3ms/step - loss: 7.6105 - mean_squared_error: 7.6105 - val_loss: 10.9755 - val_mean_squared_error: 10.9755\n",
            "Epoch 40/200\n",
            "18/18 [==============================] - 0s 3ms/step - loss: 5.2290 - mean_squared_error: 5.2290 - val_loss: 10.5204 - val_mean_squared_error: 10.5204\n",
            "Epoch 41/200\n",
            "18/18 [==============================] - 0s 4ms/step - loss: 4.9995 - mean_squared_error: 4.9995 - val_loss: 11.6906 - val_mean_squared_error: 11.6906\n",
            "Epoch 42/200\n",
            "18/18 [==============================] - 0s 3ms/step - loss: 6.2664 - mean_squared_error: 6.2664 - val_loss: 21.0864 - val_mean_squared_error: 21.0864\n",
            "Epoch 43/200\n",
            "18/18 [==============================] - 0s 3ms/step - loss: 8.0438 - mean_squared_error: 8.0438 - val_loss: 9.6009 - val_mean_squared_error: 9.6009\n",
            "Epoch 44/200\n",
            "18/18 [==============================] - 0s 4ms/step - loss: 6.1261 - mean_squared_error: 6.1261 - val_loss: 29.5991 - val_mean_squared_error: 29.5991\n",
            "Epoch 45/200\n",
            "18/18 [==============================] - 0s 4ms/step - loss: 6.3964 - mean_squared_error: 6.3964 - val_loss: 13.2664 - val_mean_squared_error: 13.2664\n",
            "Epoch 46/200\n",
            "18/18 [==============================] - 0s 3ms/step - loss: 5.1723 - mean_squared_error: 5.1723 - val_loss: 10.3022 - val_mean_squared_error: 10.3022\n",
            "Epoch 47/200\n",
            "18/18 [==============================] - 0s 3ms/step - loss: 7.7576 - mean_squared_error: 7.7576 - val_loss: 11.3570 - val_mean_squared_error: 11.3570\n",
            "Epoch 48/200\n",
            "18/18 [==============================] - 0s 4ms/step - loss: 5.1820 - mean_squared_error: 5.1820 - val_loss: 24.9036 - val_mean_squared_error: 24.9036\n",
            "Epoch 49/200\n",
            "18/18 [==============================] - 0s 4ms/step - loss: 6.7933 - mean_squared_error: 6.7933 - val_loss: 14.4050 - val_mean_squared_error: 14.4050\n",
            "Epoch 50/200\n",
            "18/18 [==============================] - 0s 3ms/step - loss: 5.8555 - mean_squared_error: 5.8555 - val_loss: 25.2452 - val_mean_squared_error: 25.2452\n",
            "Epoch 51/200\n",
            "18/18 [==============================] - 0s 3ms/step - loss: 6.3627 - mean_squared_error: 6.3627 - val_loss: 17.9527 - val_mean_squared_error: 17.9527\n",
            "Epoch 52/200\n",
            "18/18 [==============================] - 0s 3ms/step - loss: 4.9443 - mean_squared_error: 4.9443 - val_loss: 10.6741 - val_mean_squared_error: 10.6741\n",
            "Epoch 53/200\n",
            "18/18 [==============================] - 0s 4ms/step - loss: 5.7345 - mean_squared_error: 5.7345 - val_loss: 33.2976 - val_mean_squared_error: 33.2976\n",
            "Epoch 54/200\n",
            "18/18 [==============================] - 0s 3ms/step - loss: 6.1425 - mean_squared_error: 6.1425 - val_loss: 11.2985 - val_mean_squared_error: 11.2985\n",
            "Epoch 55/200\n",
            "18/18 [==============================] - 0s 3ms/step - loss: 5.1642 - mean_squared_error: 5.1642 - val_loss: 16.9016 - val_mean_squared_error: 16.9016\n",
            "Epoch 56/200\n",
            "18/18 [==============================] - 0s 4ms/step - loss: 6.2396 - mean_squared_error: 6.2396 - val_loss: 11.5081 - val_mean_squared_error: 11.5081\n",
            "Epoch 57/200\n",
            "18/18 [==============================] - 0s 4ms/step - loss: 4.7828 - mean_squared_error: 4.7828 - val_loss: 10.1860 - val_mean_squared_error: 10.1860\n",
            "Epoch 58/200\n",
            "18/18 [==============================] - 0s 4ms/step - loss: 5.6520 - mean_squared_error: 5.6520 - val_loss: 10.6743 - val_mean_squared_error: 10.6743\n",
            "Epoch 59/200\n",
            "18/18 [==============================] - 0s 3ms/step - loss: 5.6628 - mean_squared_error: 5.6628 - val_loss: 13.3507 - val_mean_squared_error: 13.3507\n",
            "Epoch 60/200\n",
            "18/18 [==============================] - 0s 4ms/step - loss: 5.3352 - mean_squared_error: 5.3352 - val_loss: 16.1450 - val_mean_squared_error: 16.1450\n",
            "Epoch 61/200\n",
            "18/18 [==============================] - 0s 4ms/step - loss: 5.3607 - mean_squared_error: 5.3607 - val_loss: 11.2948 - val_mean_squared_error: 11.2948\n",
            "Epoch 62/200\n",
            "18/18 [==============================] - 0s 4ms/step - loss: 6.0857 - mean_squared_error: 6.0857 - val_loss: 11.4055 - val_mean_squared_error: 11.4055\n",
            "Epoch 63/200\n",
            "18/18 [==============================] - 0s 4ms/step - loss: 4.6998 - mean_squared_error: 4.6998 - val_loss: 11.1822 - val_mean_squared_error: 11.1822\n",
            "Epoch 64/200\n",
            "18/18 [==============================] - 0s 3ms/step - loss: 5.3704 - mean_squared_error: 5.3704 - val_loss: 12.7335 - val_mean_squared_error: 12.7335\n",
            "Epoch 65/200\n",
            "18/18 [==============================] - 0s 3ms/step - loss: 5.3460 - mean_squared_error: 5.3460 - val_loss: 11.8267 - val_mean_squared_error: 11.8267\n",
            "Epoch 66/200\n",
            "18/18 [==============================] - 0s 3ms/step - loss: 4.6216 - mean_squared_error: 4.6216 - val_loss: 11.3791 - val_mean_squared_error: 11.3791\n",
            "Epoch 67/200\n",
            "18/18 [==============================] - 0s 4ms/step - loss: 5.1479 - mean_squared_error: 5.1479 - val_loss: 18.8671 - val_mean_squared_error: 18.8671\n",
            "Epoch 68/200\n",
            "18/18 [==============================] - 0s 4ms/step - loss: 5.5031 - mean_squared_error: 5.5031 - val_loss: 34.2073 - val_mean_squared_error: 34.2073\n",
            "Epoch 69/200\n",
            "18/18 [==============================] - 0s 4ms/step - loss: 4.8981 - mean_squared_error: 4.8981 - val_loss: 27.2019 - val_mean_squared_error: 27.2019\n",
            "Epoch 70/200\n",
            "18/18 [==============================] - 0s 4ms/step - loss: 5.0121 - mean_squared_error: 5.0121 - val_loss: 13.0220 - val_mean_squared_error: 13.0220\n",
            "Epoch 71/200\n",
            "18/18 [==============================] - 0s 4ms/step - loss: 5.1418 - mean_squared_error: 5.1418 - val_loss: 13.8427 - val_mean_squared_error: 13.8427\n",
            "Epoch 72/200\n",
            "18/18 [==============================] - 0s 3ms/step - loss: 3.9760 - mean_squared_error: 3.9760 - val_loss: 10.8102 - val_mean_squared_error: 10.8102\n",
            "Epoch 73/200\n",
            "18/18 [==============================] - 0s 3ms/step - loss: 4.7642 - mean_squared_error: 4.7642 - val_loss: 13.4843 - val_mean_squared_error: 13.4843\n",
            "Epoch 74/200\n",
            "18/18 [==============================] - 0s 3ms/step - loss: 5.0633 - mean_squared_error: 5.0633 - val_loss: 16.0967 - val_mean_squared_error: 16.0967\n",
            "Epoch 75/200\n",
            "18/18 [==============================] - 0s 3ms/step - loss: 3.8698 - mean_squared_error: 3.8698 - val_loss: 10.5156 - val_mean_squared_error: 10.5156\n",
            "Epoch 76/200\n",
            "18/18 [==============================] - 0s 3ms/step - loss: 5.1315 - mean_squared_error: 5.1315 - val_loss: 11.4096 - val_mean_squared_error: 11.4096\n",
            "Epoch 77/200\n",
            "18/18 [==============================] - 0s 4ms/step - loss: 4.3039 - mean_squared_error: 4.3039 - val_loss: 12.1721 - val_mean_squared_error: 12.1721\n",
            "Epoch 78/200\n",
            "18/18 [==============================] - 0s 4ms/step - loss: 5.1711 - mean_squared_error: 5.1711 - val_loss: 10.2157 - val_mean_squared_error: 10.2157\n",
            "Epoch 79/200\n",
            "18/18 [==============================] - 0s 3ms/step - loss: 5.7381 - mean_squared_error: 5.7381 - val_loss: 18.7415 - val_mean_squared_error: 18.7415\n",
            "Epoch 80/200\n",
            "18/18 [==============================] - 0s 4ms/step - loss: 3.9594 - mean_squared_error: 3.9594 - val_loss: 19.1365 - val_mean_squared_error: 19.1365\n",
            "Epoch 81/200\n",
            "18/18 [==============================] - 0s 4ms/step - loss: 5.2671 - mean_squared_error: 5.2671 - val_loss: 12.2456 - val_mean_squared_error: 12.2456\n",
            "Epoch 82/200\n",
            "18/18 [==============================] - 0s 4ms/step - loss: 4.3574 - mean_squared_error: 4.3574 - val_loss: 14.6946 - val_mean_squared_error: 14.6946\n",
            "Epoch 83/200\n",
            "18/18 [==============================] - 0s 3ms/step - loss: 3.9888 - mean_squared_error: 3.9888 - val_loss: 11.8054 - val_mean_squared_error: 11.8054\n",
            "Epoch 84/200\n",
            "18/18 [==============================] - 0s 3ms/step - loss: 5.9344 - mean_squared_error: 5.9344 - val_loss: 10.2689 - val_mean_squared_error: 10.2689\n",
            "Epoch 85/200\n",
            "18/18 [==============================] - 0s 3ms/step - loss: 4.0852 - mean_squared_error: 4.0852 - val_loss: 13.0568 - val_mean_squared_error: 13.0568\n",
            "Epoch 86/200\n",
            "18/18 [==============================] - 0s 3ms/step - loss: 5.0497 - mean_squared_error: 5.0497 - val_loss: 19.6588 - val_mean_squared_error: 19.6588\n",
            "Epoch 87/200\n",
            "18/18 [==============================] - 0s 3ms/step - loss: 3.9800 - mean_squared_error: 3.9800 - val_loss: 15.3160 - val_mean_squared_error: 15.3160\n",
            "Epoch 88/200\n",
            "18/18 [==============================] - 0s 4ms/step - loss: 5.6518 - mean_squared_error: 5.6518 - val_loss: 11.3763 - val_mean_squared_error: 11.3763\n",
            "Epoch 89/200\n",
            "18/18 [==============================] - 0s 3ms/step - loss: 2.8437 - mean_squared_error: 2.8437 - val_loss: 17.7487 - val_mean_squared_error: 17.7487\n",
            "Epoch 90/200\n",
            "18/18 [==============================] - 0s 3ms/step - loss: 5.3644 - mean_squared_error: 5.3644 - val_loss: 11.8927 - val_mean_squared_error: 11.8927\n",
            "Epoch 91/200\n",
            "18/18 [==============================] - 0s 3ms/step - loss: 4.1548 - mean_squared_error: 4.1548 - val_loss: 22.8678 - val_mean_squared_error: 22.8678\n",
            "Epoch 92/200\n",
            "18/18 [==============================] - 0s 3ms/step - loss: 4.9206 - mean_squared_error: 4.9206 - val_loss: 11.0080 - val_mean_squared_error: 11.0080\n",
            "Epoch 93/200\n",
            "18/18 [==============================] - 0s 3ms/step - loss: 2.9377 - mean_squared_error: 2.9377 - val_loss: 12.8264 - val_mean_squared_error: 12.8264\n",
            "Epoch 94/200\n",
            "18/18 [==============================] - 0s 4ms/step - loss: 4.6113 - mean_squared_error: 4.6113 - val_loss: 23.3737 - val_mean_squared_error: 23.3737\n",
            "Epoch 95/200\n",
            "18/18 [==============================] - 0s 4ms/step - loss: 5.5155 - mean_squared_error: 5.5155 - val_loss: 12.1646 - val_mean_squared_error: 12.1646\n",
            "Epoch 96/200\n",
            "18/18 [==============================] - 0s 3ms/step - loss: 3.7200 - mean_squared_error: 3.7200 - val_loss: 11.4459 - val_mean_squared_error: 11.4459\n",
            "Epoch 97/200\n",
            "18/18 [==============================] - 0s 4ms/step - loss: 3.6333 - mean_squared_error: 3.6333 - val_loss: 20.9169 - val_mean_squared_error: 20.9169\n",
            "Epoch 98/200\n",
            "18/18 [==============================] - 0s 4ms/step - loss: 3.7742 - mean_squared_error: 3.7742 - val_loss: 41.9960 - val_mean_squared_error: 41.9960\n",
            "Epoch 99/200\n",
            "18/18 [==============================] - 0s 4ms/step - loss: 5.5175 - mean_squared_error: 5.5175 - val_loss: 11.6484 - val_mean_squared_error: 11.6484\n",
            "Epoch 100/200\n",
            "18/18 [==============================] - 0s 3ms/step - loss: 4.7535 - mean_squared_error: 4.7535 - val_loss: 26.2538 - val_mean_squared_error: 26.2538\n",
            "Epoch 101/200\n",
            "18/18 [==============================] - 0s 3ms/step - loss: 3.9493 - mean_squared_error: 3.9493 - val_loss: 15.6884 - val_mean_squared_error: 15.6884\n",
            "Epoch 102/200\n",
            "18/18 [==============================] - 0s 3ms/step - loss: 3.1870 - mean_squared_error: 3.1870 - val_loss: 11.8231 - val_mean_squared_error: 11.8231\n",
            "Epoch 103/200\n",
            "18/18 [==============================] - 0s 4ms/step - loss: 4.7159 - mean_squared_error: 4.7159 - val_loss: 10.7935 - val_mean_squared_error: 10.7935\n",
            "Epoch 104/200\n",
            "18/18 [==============================] - 0s 3ms/step - loss: 3.4053 - mean_squared_error: 3.4053 - val_loss: 10.7824 - val_mean_squared_error: 10.7824\n",
            "Epoch 105/200\n",
            "18/18 [==============================] - 0s 4ms/step - loss: 4.0656 - mean_squared_error: 4.0656 - val_loss: 10.8595 - val_mean_squared_error: 10.8595\n",
            "Epoch 106/200\n",
            "18/18 [==============================] - 0s 4ms/step - loss: 3.2261 - mean_squared_error: 3.2261 - val_loss: 11.6763 - val_mean_squared_error: 11.6763\n",
            "Epoch 107/200\n",
            "18/18 [==============================] - 0s 4ms/step - loss: 4.1998 - mean_squared_error: 4.1998 - val_loss: 11.0981 - val_mean_squared_error: 11.0981\n",
            "Epoch 108/200\n",
            "18/18 [==============================] - 0s 3ms/step - loss: 4.3517 - mean_squared_error: 4.3517 - val_loss: 16.7497 - val_mean_squared_error: 16.7497\n",
            "Epoch 109/200\n",
            "18/18 [==============================] - 0s 3ms/step - loss: 3.8733 - mean_squared_error: 3.8733 - val_loss: 11.2520 - val_mean_squared_error: 11.2520\n",
            "Epoch 110/200\n",
            "18/18 [==============================] - 0s 4ms/step - loss: 4.4074 - mean_squared_error: 4.4074 - val_loss: 11.7540 - val_mean_squared_error: 11.7540\n",
            "Epoch 111/200\n",
            "18/18 [==============================] - 0s 3ms/step - loss: 4.0870 - mean_squared_error: 4.0870 - val_loss: 13.4061 - val_mean_squared_error: 13.4061\n",
            "Epoch 112/200\n",
            "18/18 [==============================] - 0s 3ms/step - loss: 2.9455 - mean_squared_error: 2.9455 - val_loss: 10.6420 - val_mean_squared_error: 10.6420\n",
            "Epoch 113/200\n",
            "18/18 [==============================] - 0s 3ms/step - loss: 4.0742 - mean_squared_error: 4.0742 - val_loss: 23.0976 - val_mean_squared_error: 23.0976\n",
            "Epoch 114/200\n",
            "18/18 [==============================] - 0s 3ms/step - loss: 4.1191 - mean_squared_error: 4.1191 - val_loss: 26.1224 - val_mean_squared_error: 26.1224\n",
            "Epoch 115/200\n",
            "18/18 [==============================] - 0s 3ms/step - loss: 3.7964 - mean_squared_error: 3.7964 - val_loss: 12.4753 - val_mean_squared_error: 12.4753\n",
            "Epoch 116/200\n",
            "18/18 [==============================] - 0s 4ms/step - loss: 3.2848 - mean_squared_error: 3.2848 - val_loss: 11.3731 - val_mean_squared_error: 11.3731\n",
            "Epoch 117/200\n",
            "18/18 [==============================] - 0s 4ms/step - loss: 4.1570 - mean_squared_error: 4.1570 - val_loss: 11.1001 - val_mean_squared_error: 11.1001\n",
            "Epoch 118/200\n",
            "18/18 [==============================] - 0s 4ms/step - loss: 3.6641 - mean_squared_error: 3.6641 - val_loss: 19.0041 - val_mean_squared_error: 19.0041\n",
            "Epoch 119/200\n",
            "18/18 [==============================] - 0s 3ms/step - loss: 4.6577 - mean_squared_error: 4.6577 - val_loss: 10.7856 - val_mean_squared_error: 10.7856\n",
            "Epoch 120/200\n",
            "18/18 [==============================] - 0s 4ms/step - loss: 2.9935 - mean_squared_error: 2.9935 - val_loss: 12.2484 - val_mean_squared_error: 12.2484\n",
            "Epoch 121/200\n",
            "18/18 [==============================] - 0s 3ms/step - loss: 3.6538 - mean_squared_error: 3.6538 - val_loss: 10.8875 - val_mean_squared_error: 10.8875\n",
            "Epoch 122/200\n",
            "18/18 [==============================] - 0s 4ms/step - loss: 3.1142 - mean_squared_error: 3.1142 - val_loss: 11.5698 - val_mean_squared_error: 11.5698\n",
            "Epoch 123/200\n",
            "18/18 [==============================] - 0s 3ms/step - loss: 5.2851 - mean_squared_error: 5.2851 - val_loss: 10.6208 - val_mean_squared_error: 10.6208\n",
            "Epoch 124/200\n",
            "18/18 [==============================] - 0s 4ms/step - loss: 3.5323 - mean_squared_error: 3.5323 - val_loss: 17.8630 - val_mean_squared_error: 17.8630\n",
            "Epoch 125/200\n",
            "18/18 [==============================] - 0s 3ms/step - loss: 3.4095 - mean_squared_error: 3.4095 - val_loss: 15.7468 - val_mean_squared_error: 15.7468\n",
            "Epoch 126/200\n",
            "18/18 [==============================] - 0s 4ms/step - loss: 3.2677 - mean_squared_error: 3.2677 - val_loss: 11.7238 - val_mean_squared_error: 11.7238\n",
            "Epoch 127/200\n",
            "18/18 [==============================] - 0s 3ms/step - loss: 3.1552 - mean_squared_error: 3.1552 - val_loss: 19.4482 - val_mean_squared_error: 19.4482\n",
            "Epoch 128/200\n",
            "18/18 [==============================] - 0s 3ms/step - loss: 4.2039 - mean_squared_error: 4.2039 - val_loss: 16.4100 - val_mean_squared_error: 16.4100\n",
            "Epoch 129/200\n",
            "18/18 [==============================] - 0s 4ms/step - loss: 3.2401 - mean_squared_error: 3.2401 - val_loss: 15.8215 - val_mean_squared_error: 15.8215\n",
            "Epoch 130/200\n",
            "18/18 [==============================] - 0s 4ms/step - loss: 4.0353 - mean_squared_error: 4.0353 - val_loss: 14.6515 - val_mean_squared_error: 14.6515\n",
            "Epoch 131/200\n",
            "18/18 [==============================] - 0s 3ms/step - loss: 3.4477 - mean_squared_error: 3.4477 - val_loss: 10.5103 - val_mean_squared_error: 10.5103\n",
            "Epoch 132/200\n",
            "18/18 [==============================] - 0s 4ms/step - loss: 2.9909 - mean_squared_error: 2.9909 - val_loss: 18.2367 - val_mean_squared_error: 18.2367\n",
            "Epoch 133/200\n",
            "18/18 [==============================] - 0s 4ms/step - loss: 3.3837 - mean_squared_error: 3.3837 - val_loss: 12.0163 - val_mean_squared_error: 12.0163\n",
            "Epoch 134/200\n",
            "18/18 [==============================] - 0s 3ms/step - loss: 3.7064 - mean_squared_error: 3.7064 - val_loss: 10.9837 - val_mean_squared_error: 10.9837\n",
            "Epoch 135/200\n",
            "18/18 [==============================] - 0s 3ms/step - loss: 3.3907 - mean_squared_error: 3.3907 - val_loss: 12.0889 - val_mean_squared_error: 12.0889\n",
            "Epoch 136/200\n",
            "18/18 [==============================] - 0s 4ms/step - loss: 2.5823 - mean_squared_error: 2.5823 - val_loss: 12.0839 - val_mean_squared_error: 12.0839\n",
            "Epoch 137/200\n",
            "18/18 [==============================] - 0s 3ms/step - loss: 3.9062 - mean_squared_error: 3.9062 - val_loss: 20.6152 - val_mean_squared_error: 20.6152\n",
            "Epoch 138/200\n",
            "18/18 [==============================] - 0s 3ms/step - loss: 3.3196 - mean_squared_error: 3.3196 - val_loss: 14.8271 - val_mean_squared_error: 14.8271\n",
            "Epoch 139/200\n",
            "18/18 [==============================] - 0s 3ms/step - loss: 2.9731 - mean_squared_error: 2.9731 - val_loss: 13.3111 - val_mean_squared_error: 13.3111\n",
            "Epoch 140/200\n",
            "18/18 [==============================] - 0s 3ms/step - loss: 3.9939 - mean_squared_error: 3.9939 - val_loss: 12.9468 - val_mean_squared_error: 12.9468\n",
            "Epoch 141/200\n",
            "18/18 [==============================] - 0s 4ms/step - loss: 3.4917 - mean_squared_error: 3.4917 - val_loss: 10.9958 - val_mean_squared_error: 10.9958\n",
            "Epoch 142/200\n",
            "18/18 [==============================] - 0s 4ms/step - loss: 2.9839 - mean_squared_error: 2.9839 - val_loss: 11.1019 - val_mean_squared_error: 11.1019\n",
            "Epoch 143/200\n",
            "18/18 [==============================] - 0s 4ms/step - loss: 3.0286 - mean_squared_error: 3.0286 - val_loss: 12.9251 - val_mean_squared_error: 12.9251\n",
            "Epoch 144/200\n",
            "18/18 [==============================] - 0s 3ms/step - loss: 3.3040 - mean_squared_error: 3.3040 - val_loss: 24.4435 - val_mean_squared_error: 24.4435\n",
            "Epoch 145/200\n",
            "18/18 [==============================] - 0s 4ms/step - loss: 3.6861 - mean_squared_error: 3.6861 - val_loss: 11.1018 - val_mean_squared_error: 11.1018\n",
            "Epoch 146/200\n",
            "18/18 [==============================] - 0s 4ms/step - loss: 3.5359 - mean_squared_error: 3.5359 - val_loss: 10.8843 - val_mean_squared_error: 10.8843\n",
            "Epoch 147/200\n",
            "18/18 [==============================] - 0s 4ms/step - loss: 3.1094 - mean_squared_error: 3.1094 - val_loss: 12.7224 - val_mean_squared_error: 12.7224\n",
            "Epoch 148/200\n",
            "18/18 [==============================] - 0s 3ms/step - loss: 3.4851 - mean_squared_error: 3.4851 - val_loss: 10.9645 - val_mean_squared_error: 10.9645\n",
            "Epoch 149/200\n",
            "18/18 [==============================] - 0s 4ms/step - loss: 2.7218 - mean_squared_error: 2.7218 - val_loss: 25.9421 - val_mean_squared_error: 25.9421\n",
            "Epoch 150/200\n",
            "18/18 [==============================] - 0s 4ms/step - loss: 3.0410 - mean_squared_error: 3.0410 - val_loss: 35.0854 - val_mean_squared_error: 35.0854\n",
            "Epoch 151/200\n",
            "18/18 [==============================] - 0s 4ms/step - loss: 3.8435 - mean_squared_error: 3.8435 - val_loss: 15.3281 - val_mean_squared_error: 15.3281\n",
            "Epoch 152/200\n",
            "18/18 [==============================] - 0s 3ms/step - loss: 4.0680 - mean_squared_error: 4.0680 - val_loss: 11.0556 - val_mean_squared_error: 11.0556\n",
            "Epoch 153/200\n",
            "18/18 [==============================] - 0s 4ms/step - loss: 2.9051 - mean_squared_error: 2.9051 - val_loss: 11.7729 - val_mean_squared_error: 11.7729\n",
            "Epoch 154/200\n",
            "18/18 [==============================] - 0s 3ms/step - loss: 2.9993 - mean_squared_error: 2.9993 - val_loss: 13.6177 - val_mean_squared_error: 13.6177\n",
            "Epoch 155/200\n",
            "18/18 [==============================] - 0s 4ms/step - loss: 3.8962 - mean_squared_error: 3.8962 - val_loss: 34.9590 - val_mean_squared_error: 34.9590\n",
            "Epoch 156/200\n",
            "18/18 [==============================] - 0s 4ms/step - loss: 3.3454 - mean_squared_error: 3.3454 - val_loss: 10.7957 - val_mean_squared_error: 10.7957\n",
            "Epoch 157/200\n",
            "18/18 [==============================] - 0s 4ms/step - loss: 3.0811 - mean_squared_error: 3.0811 - val_loss: 20.6588 - val_mean_squared_error: 20.6588\n",
            "Epoch 158/200\n",
            "18/18 [==============================] - 0s 4ms/step - loss: 3.3055 - mean_squared_error: 3.3055 - val_loss: 11.5988 - val_mean_squared_error: 11.5988\n",
            "Epoch 159/200\n",
            "18/18 [==============================] - 0s 4ms/step - loss: 3.3942 - mean_squared_error: 3.3942 - val_loss: 13.2384 - val_mean_squared_error: 13.2384\n",
            "Epoch 160/200\n",
            "18/18 [==============================] - 0s 4ms/step - loss: 3.4573 - mean_squared_error: 3.4573 - val_loss: 15.6380 - val_mean_squared_error: 15.6380\n",
            "Epoch 161/200\n",
            "18/18 [==============================] - 0s 4ms/step - loss: 2.5577 - mean_squared_error: 2.5577 - val_loss: 11.1990 - val_mean_squared_error: 11.1990\n",
            "Epoch 162/200\n",
            "18/18 [==============================] - 0s 3ms/step - loss: 3.4670 - mean_squared_error: 3.4670 - val_loss: 12.7840 - val_mean_squared_error: 12.7840\n",
            "Epoch 163/200\n",
            "18/18 [==============================] - 0s 4ms/step - loss: 3.1126 - mean_squared_error: 3.1126 - val_loss: 12.1017 - val_mean_squared_error: 12.1017\n",
            "Epoch 164/200\n",
            "18/18 [==============================] - 0s 3ms/step - loss: 2.5752 - mean_squared_error: 2.5752 - val_loss: 27.3667 - val_mean_squared_error: 27.3667\n",
            "Epoch 165/200\n",
            "18/18 [==============================] - 0s 3ms/step - loss: 3.4970 - mean_squared_error: 3.4970 - val_loss: 10.8931 - val_mean_squared_error: 10.8931\n",
            "Epoch 166/200\n",
            "18/18 [==============================] - 0s 3ms/step - loss: 2.8643 - mean_squared_error: 2.8643 - val_loss: 12.0126 - val_mean_squared_error: 12.0126\n",
            "Epoch 167/200\n",
            "18/18 [==============================] - 0s 3ms/step - loss: 3.2853 - mean_squared_error: 3.2853 - val_loss: 10.3696 - val_mean_squared_error: 10.3696\n",
            "Epoch 168/200\n",
            "18/18 [==============================] - 0s 3ms/step - loss: 2.7619 - mean_squared_error: 2.7619 - val_loss: 11.0151 - val_mean_squared_error: 11.0151\n",
            "Epoch 169/200\n",
            "18/18 [==============================] - 0s 4ms/step - loss: 2.8256 - mean_squared_error: 2.8256 - val_loss: 11.3804 - val_mean_squared_error: 11.3804\n",
            "Epoch 170/200\n",
            "18/18 [==============================] - 0s 4ms/step - loss: 3.3993 - mean_squared_error: 3.3993 - val_loss: 15.2786 - val_mean_squared_error: 15.2786\n",
            "Epoch 171/200\n",
            "18/18 [==============================] - 0s 4ms/step - loss: 2.5464 - mean_squared_error: 2.5464 - val_loss: 12.5321 - val_mean_squared_error: 12.5321\n",
            "Epoch 172/200\n",
            "18/18 [==============================] - 0s 3ms/step - loss: 2.8582 - mean_squared_error: 2.8582 - val_loss: 10.5906 - val_mean_squared_error: 10.5906\n",
            "Epoch 173/200\n",
            "18/18 [==============================] - 0s 3ms/step - loss: 3.2723 - mean_squared_error: 3.2723 - val_loss: 15.3254 - val_mean_squared_error: 15.3254\n",
            "Epoch 174/200\n",
            "18/18 [==============================] - 0s 3ms/step - loss: 2.2275 - mean_squared_error: 2.2275 - val_loss: 19.2302 - val_mean_squared_error: 19.2302\n",
            "Epoch 175/200\n",
            "18/18 [==============================] - 0s 5ms/step - loss: 3.1940 - mean_squared_error: 3.1940 - val_loss: 21.2635 - val_mean_squared_error: 21.2635\n",
            "Epoch 176/200\n",
            "18/18 [==============================] - 0s 3ms/step - loss: 2.8789 - mean_squared_error: 2.8789 - val_loss: 11.4223 - val_mean_squared_error: 11.4223\n",
            "Epoch 177/200\n",
            "18/18 [==============================] - 0s 4ms/step - loss: 3.0966 - mean_squared_error: 3.0966 - val_loss: 17.0421 - val_mean_squared_error: 17.0421\n",
            "Epoch 178/200\n",
            "18/18 [==============================] - 0s 4ms/step - loss: 2.5888 - mean_squared_error: 2.5888 - val_loss: 13.6824 - val_mean_squared_error: 13.6824\n",
            "Epoch 179/200\n",
            "18/18 [==============================] - 0s 5ms/step - loss: 2.4594 - mean_squared_error: 2.4594 - val_loss: 13.0692 - val_mean_squared_error: 13.0692\n",
            "Epoch 180/200\n",
            "18/18 [==============================] - 0s 3ms/step - loss: 3.9720 - mean_squared_error: 3.9720 - val_loss: 11.4268 - val_mean_squared_error: 11.4268\n",
            "Epoch 181/200\n",
            "18/18 [==============================] - 0s 4ms/step - loss: 2.2184 - mean_squared_error: 2.2184 - val_loss: 10.4833 - val_mean_squared_error: 10.4833\n",
            "Epoch 182/200\n",
            "18/18 [==============================] - 0s 3ms/step - loss: 3.5238 - mean_squared_error: 3.5238 - val_loss: 11.6099 - val_mean_squared_error: 11.6099\n",
            "Epoch 183/200\n",
            "18/18 [==============================] - 0s 4ms/step - loss: 1.9033 - mean_squared_error: 1.9033 - val_loss: 10.9820 - val_mean_squared_error: 10.9820\n",
            "Epoch 184/200\n",
            "18/18 [==============================] - 0s 4ms/step - loss: 3.0815 - mean_squared_error: 3.0815 - val_loss: 16.7878 - val_mean_squared_error: 16.7878\n",
            "Epoch 185/200\n",
            "18/18 [==============================] - 0s 3ms/step - loss: 2.6842 - mean_squared_error: 2.6842 - val_loss: 15.4221 - val_mean_squared_error: 15.4221\n",
            "Epoch 186/200\n",
            "18/18 [==============================] - 0s 4ms/step - loss: 3.1224 - mean_squared_error: 3.1224 - val_loss: 11.3953 - val_mean_squared_error: 11.3953\n",
            "Epoch 187/200\n",
            "18/18 [==============================] - 0s 4ms/step - loss: 2.2730 - mean_squared_error: 2.2730 - val_loss: 17.2578 - val_mean_squared_error: 17.2578\n",
            "Epoch 188/200\n",
            "18/18 [==============================] - 0s 4ms/step - loss: 3.0656 - mean_squared_error: 3.0656 - val_loss: 13.4091 - val_mean_squared_error: 13.4091\n",
            "Epoch 189/200\n",
            "18/18 [==============================] - 0s 4ms/step - loss: 3.4832 - mean_squared_error: 3.4832 - val_loss: 12.2367 - val_mean_squared_error: 12.2367\n",
            "Epoch 190/200\n",
            "18/18 [==============================] - 0s 4ms/step - loss: 2.9311 - mean_squared_error: 2.9311 - val_loss: 10.8924 - val_mean_squared_error: 10.8924\n",
            "Epoch 191/200\n",
            "18/18 [==============================] - 0s 4ms/step - loss: 2.7828 - mean_squared_error: 2.7828 - val_loss: 11.9463 - val_mean_squared_error: 11.9463\n",
            "Epoch 192/200\n",
            "18/18 [==============================] - 0s 4ms/step - loss: 2.4887 - mean_squared_error: 2.4887 - val_loss: 16.0114 - val_mean_squared_error: 16.0114\n",
            "Epoch 193/200\n",
            "18/18 [==============================] - 0s 4ms/step - loss: 2.7978 - mean_squared_error: 2.7978 - val_loss: 11.3875 - val_mean_squared_error: 11.3875\n",
            "Epoch 194/200\n",
            "18/18 [==============================] - 0s 4ms/step - loss: 2.6536 - mean_squared_error: 2.6536 - val_loss: 11.8128 - val_mean_squared_error: 11.8128\n",
            "Epoch 195/200\n",
            "18/18 [==============================] - 0s 4ms/step - loss: 2.5611 - mean_squared_error: 2.5611 - val_loss: 10.4340 - val_mean_squared_error: 10.4340\n",
            "Epoch 196/200\n",
            "18/18 [==============================] - 0s 3ms/step - loss: 2.6933 - mean_squared_error: 2.6933 - val_loss: 24.9644 - val_mean_squared_error: 24.9644\n",
            "Epoch 197/200\n",
            "18/18 [==============================] - 0s 4ms/step - loss: 3.3382 - mean_squared_error: 3.3382 - val_loss: 10.7392 - val_mean_squared_error: 10.7392\n",
            "Epoch 198/200\n",
            "18/18 [==============================] - 0s 3ms/step - loss: 2.4256 - mean_squared_error: 2.4256 - val_loss: 15.1066 - val_mean_squared_error: 15.1066\n",
            "Epoch 199/200\n",
            "18/18 [==============================] - 0s 4ms/step - loss: 2.9349 - mean_squared_error: 2.9349 - val_loss: 12.3382 - val_mean_squared_error: 12.3382\n",
            "Epoch 200/200\n",
            "18/18 [==============================] - 0s 4ms/step - loss: 2.5621 - mean_squared_error: 2.5621 - val_loss: 11.6557 - val_mean_squared_error: 11.6557\n"
          ],
          "name": "stdout"
        },
        {
          "output_type": "execute_result",
          "data": {
            "text/plain": [
              "<keras.callbacks.History at 0x7efd7b9f85d0>"
            ]
          },
          "metadata": {},
          "execution_count": 23
        }
      ]
    },
    {
      "cell_type": "code",
      "metadata": {
        "colab": {
          "base_uri": "https://localhost:8080/",
          "height": 624
        },
        "id": "bP_ZQs01gfPK",
        "outputId": "d8be87df-11d9-4433-a1d3-f4a7ce7acefc"
      },
      "source": [
        "# Gráficar el desempeño del entrenamiento\n",
        "\n",
        "\n",
        "train_loss = model.history.history['loss']\n",
        "val_loss = model.history.history['val_loss']\n",
        "\n",
        "\n",
        "plt.figure(figsize=(10,10))\n",
        "plt.plot(train_loss,'r')\n",
        "plt.plot(val_loss,'g')\n",
        "plt.xlabel('Época')\n",
        "plt.ylabel('Valor')\n",
        "plt.title('Desempeño del modelo durante el entrenamiento')\n",
        "plt.legend(['Training Loss','Validation Loss'])\n",
        "plt.show()"
      ],
      "execution_count": null,
      "outputs": [
        {
          "output_type": "display_data",
          "data": {
            "image/png": "[encoded data removed]",
            "text/plain": [
              "<Figure size 720x720 with 1 Axes>"
            ]
          },
          "metadata": {
            "needs_background": "light"
          }
        }
      ]
    },
    {
      "cell_type": "markdown",
      "metadata": {
        "id": "w18z0ZLUhQfk"
      },
      "source": [
        "De la gráfica de entrenamiento podems sacar algunas conclusiones:\n",
        "* La pérdida durante el entrenamiento se redujo rápidamente en las primeras épocas, llegando hasta un valor cercano a cero.\n",
        "* La gráfica para el valor de pérdida de la validación no parece establizarse durante esta etapa. Observen como hay picos a lo largo de la linea. Este fenómeno puede tener distintas causas: falta de datos para validar, mala elección de los parámetros en la red, arquitectura errónea, entre otras.\n",
        "\n",
        "Para fines de está práctica asumiremos que tuvimos un buen resultado durante la etapa de entrenamiento."
      ]
    },
    {
      "cell_type": "markdown",
      "metadata": {
        "id": "WxJgQNDRgfPK"
      },
      "source": [
        "## Predicciones del modelo"
      ]
    },
    {
      "cell_type": "markdown",
      "metadata": {
        "id": "li9zVNLZgfPK"
      },
      "source": [
        "Para evaluar si el modelo hizo bien su trabajo debemos evaluarlo contra datos nuevos.\n",
        "\n",
        "Normalmente este proceso se hace con datos nuevos y nunca vistos por la red durante el entrenamiento o la validación. Para este caso realizaremos las predicciones sobre los datos de validación."
      ]
    },
    {
      "cell_type": "code",
      "metadata": {
        "colab": {
          "base_uri": "https://localhost:8080/"
        },
        "id": "BLr8BfHIgfPK",
        "outputId": "0f6f7077-adfc-4c4d-9011-21a67786ffdd"
      },
      "source": [
        "ypreds = model.predict(Xtest)\n",
        "\n",
        "print('Mean absolute error: %.4f'% metrics.mean_absolute_error(ytest,ypreds))\n",
        "print('Mean squared error: %.4f' % metrics.mean_squared_error(ytest, ypreds))\n",
        "print('Varianza: %.4f' % metrics.explained_variance_score(ytest, ypreds))"
      ],
      "execution_count": null,
      "outputs": [
        {
          "output_type": "stream",
          "text": [
            "Mean absolute error: 2.4161\n",
            "Mean squared error: 11.6557\n",
            "Varianza: 0.8462\n"
          ],
          "name": "stdout"
        }
      ]
    },
    {
      "cell_type": "code",
      "metadata": {
        "colab": {
          "base_uri": "https://localhost:8080/",
          "height": 714
        },
        "id": "pDoQEjf-gfPK",
        "outputId": "c0295192-3d5b-481b-eaaa-8917d5eab435"
      },
      "source": [
        "# Visualizando todo en una gráfica\n",
        "\n",
        "plt.figure(figsize=(12,12))\n",
        "plt.scatter(ytest,ypreds,s=100,alpha=0.75)\n",
        "plt.plot(ypreds,ypreds,'r')\n",
        "plt.xlabel('Valor real')\n",
        "plt.ylabel('Valor predicho')\n",
        "plt.legend(['Linea de predicciones','Valores reales'])\n",
        "plt.show()"
      ],
      "execution_count": null,
      "outputs": [
        {
          "output_type": "display_data",
          "data": {
            "image/png": "[encoded data removed]",
            "text/plain": [
              "<Figure size 864x864 with 1 Axes>"
            ]
          },
          "metadata": {
            "needs_background": "light"
          }
        }
      ]
    },
    {
      "cell_type": "markdown",
      "metadata": {
        "id": "OcTzbvI1gfPK"
      },
      "source": [
        "## Análisis final"
      ]
    },
    {
      "cell_type": "markdown",
      "metadata": {
        "id": "7YdGb5dWgfPL"
      },
      "source": [
        "En este primer ejercicio se logró un resultado aceptable.\n",
        "Obviamente se puede mejorar con la reducción de variables, utilizar otras funciones de activación, probar con distintos optimizadores, entre otras opciones.\n",
        "\n",
        "De la gráfica final podemos decir que las predicciones fueron en su mayoría correctas aunque hay ciertos valores donde el error es bastante, mientras que en otro la predicción fue muy precisa. Lo ideal sería que todos los puntos estuvieran lo más próximas a la línea posibles."
      ]
    },
    {
      "cell_type": "markdown",
      "metadata": {
        "id": "0p_aF18e6Oje"
      },
      "source": [
        "## Haciendo predicciones para nuevos coches"
      ]
    },
    {
      "cell_type": "markdown",
      "metadata": {
        "id": "4nhvUZWIm6as"
      },
      "source": [
        "Si desean hacer predicciones para coches nuevos, lo pueden hacer con la siguiente celda."
      ]
    },
    {
      "cell_type": "code",
      "metadata": {
        "colab": {
          "base_uri": "https://localhost:8080/"
        },
        "id": "wuQAuQESykq6",
        "outputId": "ca63e97b-e87f-41aa-e10b-043146cf63aa"
      },
      "source": [
        "# celdas de código para obtener valores\n",
        "# no pasa gran cosa aquí\n",
        "\n",
        "mean_cyl = np.mean(X[:,0])\n",
        "std_cyl = np.std(X[:,0])\n",
        "\n",
        "mean_disp = np.mean(X[:,1])\n",
        "std_disp = np.std(X[:,1])\n",
        "\n",
        "mean_hp = np.mean(X[:,2])\n",
        "std_hp = np.std(X[:,2])\n",
        "\n",
        "mean_wei = np.mean(X[:,3])\n",
        "std_wei = np.std(X[:,3])\n",
        "\n",
        "mean_acc = np.mean(X[:,4])\n",
        "std_acc = np.std(X[:,4])\n",
        "\n",
        "mean_mod = np.mean(X[:,5])\n",
        "std_mod = np.std(X[:,5])\n",
        "\n",
        "mean_or = np.mean(X[:,6])\n",
        "std_or = np.std(X[:,6])\n",
        "\n",
        "print(mean_cyl, mean_disp, mean_hp, mean_wei, mean_acc, mean_mod, mean_or)\n",
        "print(std_cyl, std_disp, std_hp, std_wei, std_acc, std_mod, std_or )"
      ],
      "execution_count": null,
      "outputs": [
        {
          "output_type": "stream",
          "text": [
            "5.471938775510204 194.41198979591837 104.46938775510205 2977.5841836734694 15.541326530612244 75.9795918367347 1.5765306122448979\n",
            "1.7036061141501955 104.51044418133284 38.44203271442593 848.3184465698362 2.7553429127509967 3.6790348996151727 0.8044900806593062\n"
          ],
          "name": "stdout"
        }
      ]
    },
    {
      "cell_type": "code",
      "metadata": {
        "id": "zjO5JeZRzLmK"
      },
      "source": [
        "# Creamos una función para normalice los valores a predecir\n",
        "\n",
        "def normalize(x):\n",
        "  x1 = (x[0]- mean_cyl)/std_cyl\n",
        "  x2 = (x[1] - mean_disp) / std_disp\n",
        "  x3 = (x[2] - mean_hp) / std_hp\n",
        "  x4 = (x[3] - mean_wei) / std_wei\n",
        "  x5 = (x[4] - mean_acc) / std_acc\n",
        "  x6 = (x[5] - mean_mod) / std_mod\n",
        "  x7 = (x[6] - mean_or) / std_or\n",
        "\n",
        "  return(np.array([x1,x2,x3,x4,x5,x6,x7]))"
      ],
      "execution_count": null,
      "outputs": []
    },
    {
      "cell_type": "code",
      "metadata": {
        "colab": {
          "base_uri": "https://localhost:8080/"
        },
        "id": "KB_g0s9Fm_aU",
        "outputId": "ed4ec360-336b-4515-d1a0-9d631ddc03da"
      },
      "source": [
        "new_car = normalize([8, 307, 130, 3504, 12, 70, 1]) # usamos los valores de un Chevrolet chevelle malibu, el primer item de la dataset\n",
        "new_car = np.reshape(new_car, newshape=(1,7))\n",
        "\n",
        "new_pred = model.predict(new_car)\n",
        "\n",
        "print('El consumo para el nuevo coche sera: %.2f' % new_pred)"
      ],
      "execution_count": null,
      "outputs": [
        {
          "output_type": "stream",
          "text": [
            "El consumo para el nuevo coche sera: 16.69\n"
          ],
          "name": "stdout"
        }
      ]
    },
    {
      "cell_type": "code",
      "metadata": {
        "colab": {
          "base_uri": "https://localhost:8080/"
        },
        "id": "kf1DpdiysFuO",
        "outputId": "df157606-f33f-47d7-d463-635067b1fd69"
      },
      "source": [
        "new_car = normalize([8, 350, 165, 3693, 11.5, 70, 1]) # usamos los valores de un Chevrolet chevelle malibu, el primer item de la dataset\n",
        "new_car = np.reshape(new_car, newshape=(1,7))\n",
        "\n",
        "new_pred = model.predict(new_car)\n",
        "\n",
        "print('El consumo para el nuevo coche sera: %.2f' % new_pred)"
      ],
      "execution_count": null,
      "outputs": [
        {
          "output_type": "stream",
          "text": [
            "El consumo para el nuevo coche sera: 16.56\n"
          ],
          "name": "stdout"
        }
      ]
    },
    {
      "cell_type": "code",
      "metadata": {
        "id": "d_B9Mt5J5T4j"
      },
      "source": [
        ""
      ],
      "execution_count": null,
      "outputs": []
    }
  ]
}