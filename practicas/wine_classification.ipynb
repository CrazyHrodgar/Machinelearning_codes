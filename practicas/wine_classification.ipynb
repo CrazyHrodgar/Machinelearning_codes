{
  "nbformat": 4,
  "nbformat_minor": 0,
  "metadata": {
    "colab": {
      "name": "wine_classification.ipynb",
      "provenance": [],
      "collapsed_sections": []
    },
    "kernelspec": {
      "name": "python3",
      "display_name": "Python 3"
    },
    "language_info": {
      "name": "python"
    }
  },
  "cells": [
    {
      "cell_type": "markdown",
      "metadata": {
        "id": "oMU3f4YLuWpB"
      },
      "source": [
        "# Clasificación de vinos"
      ]
    },
    {
      "cell_type": "markdown",
      "metadata": {
        "id": "NXXZah5LuwCY"
      },
      "source": [
        "En esta prácitca vamos a intentar clasificar vinos dependiendo sus características químicas.\n",
        "\n",
        "Para esta práctica usaremos la *wine_dataset* incluida en la librería **Sklearn**. A diferencia de las prácticas anteriores, la base de datos se va a descargar desde la nube.\n",
        "\n",
        "Comenzaremos cargando las librerías necesarias."
      ]
    },
    {
      "cell_type": "code",
      "metadata": {
        "id": "5xk72r9luVgN"
      },
      "source": [
        "import numpy as np # Librería para el cálculo numérico\n",
        "import pandas as pd # Librería para manejar las bases de datos\n",
        "import matplotlib.pyplot as plt # Librería para realizar gráficas\n",
        "from tensorflow import keras # Librerías para machine learning\n",
        "from tensorflow.keras.layers import Dense # Capas de red neuronal normales\n",
        "from tensorflow.keras.models import Sequential # Modelo secuencial, ie, el modelo de red normal\n",
        "from tensorflow.keras.utils import plot_model # Librería para gráficar la arquitectura de red\n",
        "from sklearn.datasets import load_wine # Con esta librería vamos a cargar la base de datos desde Sklearn\n",
        "from sklearn.preprocessing import MinMaxScaler # Librería para escalar los valores de la dataset\n",
        "from sklearn.model_selection import train_test_split # Librería para crear los conjuntos de entrenamiento y prueba"
      ],
      "execution_count": null,
      "outputs": []
    },
    {
      "cell_type": "markdown",
      "metadata": {
        "id": "vIMz3qT2wFQd"
      },
      "source": [
        "## Cargando la base de datos"
      ]
    },
    {
      "cell_type": "code",
      "metadata": {
        "id": "8icJSodDwISV"
      },
      "source": [
        "dataset = load_wine()"
      ],
      "execution_count": null,
      "outputs": []
    },
    {
      "cell_type": "markdown",
      "metadata": {
        "id": "2e130yX4wOxR"
      },
      "source": [
        "En la variable *dataset* se va a cargar la base de datos completa. A diferencia de cuando usamos un archivo .csv, en este caso, la dataset será un objeto y no un archivo.\n",
        "\n",
        "Al ser objeto, tiene varias características interesantes."
      ]
    },
    {
      "cell_type": "code",
      "metadata": {
        "colab": {
          "base_uri": "https://localhost:8080/"
        },
        "id": "cFUk7UQqwyeo",
        "outputId": "0c94fff3-8438-4413-d2d6-903cd670e5c3"
      },
      "source": [
        "dataset"
      ],
      "execution_count": null,
      "outputs": [
        {
          "output_type": "execute_result",
          "data": {
            "text/plain": [
              "{'DESCR': '.. _wine_dataset:\\n\\nWine recognition dataset\\n------------------------\\n\\n**Data Set Characteristics:**\\n\\n    :Number of Instances: 178 (50 in each of three classes)\\n    :Number of Attributes: 13 numeric, predictive attributes and the class\\n    :Attribute Information:\\n \\t\\t- Alcohol\\n \\t\\t- Malic acid\\n \\t\\t- Ash\\n\\t\\t- Alcalinity of ash  \\n \\t\\t- Magnesium\\n\\t\\t- Total phenols\\n \\t\\t- Flavanoids\\n \\t\\t- Nonflavanoid phenols\\n \\t\\t- Proanthocyanins\\n\\t\\t- Color intensity\\n \\t\\t- Hue\\n \\t\\t- OD280/OD315 of diluted wines\\n \\t\\t- Proline\\n\\n    - class:\\n            - class_0\\n            - class_1\\n            - class_2\\n\\t\\t\\n    :Summary Statistics:\\n    \\n    ============================= ==== ===== ======= =====\\n                                   Min   Max   Mean     SD\\n    ============================= ==== ===== ======= =====\\n    Alcohol:                      11.0  14.8    13.0   0.8\\n    Malic Acid:                   0.74  5.80    2.34  1.12\\n    Ash:                          1.36  3.23    2.36  0.27\\n    Alcalinity of Ash:            10.6  30.0    19.5   3.3\\n    Magnesium:                    70.0 162.0    99.7  14.3\\n    Total Phenols:                0.98  3.88    2.29  0.63\\n    Flavanoids:                   0.34  5.08    2.03  1.00\\n    Nonflavanoid Phenols:         0.13  0.66    0.36  0.12\\n    Proanthocyanins:              0.41  3.58    1.59  0.57\\n    Colour Intensity:              1.3  13.0     5.1   2.3\\n    Hue:                          0.48  1.71    0.96  0.23\\n    OD280/OD315 of diluted wines: 1.27  4.00    2.61  0.71\\n    Proline:                       278  1680     746   315\\n    ============================= ==== ===== ======= =====\\n\\n    :Missing Attribute Values: None\\n    :Class Distribution: class_0 (59), class_1 (71), class_2 (48)\\n    :Creator: R.A. Fisher\\n    :Donor: Michael Marshall (MARSHALL%PLU@io.arc.nasa.gov)\\n    :Date: July, 1988\\n\\nThis is a copy of UCI ML Wine recognition datasets.\\nhttps://archive.ics.uci.edu/ml/machine-learning-databases/wine/wine.data\\n\\nThe data is the results of a chemical analysis of wines grown in the same\\nregion in Italy by three different cultivators. There are thirteen different\\nmeasurements taken for different constituents found in the three types of\\nwine.\\n\\nOriginal Owners: \\n\\nForina, M. et al, PARVUS - \\nAn Extendible Package for Data Exploration, Classification and Correlation. \\nInstitute of Pharmaceutical and Food Analysis and Technologies,\\nVia Brigata Salerno, 16147 Genoa, Italy.\\n\\nCitation:\\n\\nLichman, M. (2013). UCI Machine Learning Repository\\n[https://archive.ics.uci.edu/ml]. Irvine, CA: University of California,\\nSchool of Information and Computer Science. \\n\\n.. topic:: References\\n\\n  (1) S. Aeberhard, D. Coomans and O. de Vel, \\n  Comparison of Classifiers in High Dimensional Settings, \\n  Tech. Rep. no. 92-02, (1992), Dept. of Computer Science and Dept. of  \\n  Mathematics and Statistics, James Cook University of North Queensland. \\n  (Also submitted to Technometrics). \\n\\n  The data was used with many others for comparing various \\n  classifiers. The classes are separable, though only RDA \\n  has achieved 100% correct classification. \\n  (RDA : 100%, QDA 99.4%, LDA 98.9%, 1NN 96.1% (z-transformed data)) \\n  (All results using the leave-one-out technique) \\n\\n  (2) S. Aeberhard, D. Coomans and O. de Vel, \\n  \"THE CLASSIFICATION PERFORMANCE OF RDA\" \\n  Tech. Rep. no. 92-01, (1992), Dept. of Computer Science and Dept. of \\n  Mathematics and Statistics, James Cook University of North Queensland. \\n  (Also submitted to Journal of Chemometrics).\\n',\n",
              " 'data': array([[1.423e+01, 1.710e+00, 2.430e+00, ..., 1.040e+00, 3.920e+00,\n",
              "         1.065e+03],\n",
              "        [1.320e+01, 1.780e+00, 2.140e+00, ..., 1.050e+00, 3.400e+00,\n",
              "         1.050e+03],\n",
              "        [1.316e+01, 2.360e+00, 2.670e+00, ..., 1.030e+00, 3.170e+00,\n",
              "         1.185e+03],\n",
              "        ...,\n",
              "        [1.327e+01, 4.280e+00, 2.260e+00, ..., 5.900e-01, 1.560e+00,\n",
              "         8.350e+02],\n",
              "        [1.317e+01, 2.590e+00, 2.370e+00, ..., 6.000e-01, 1.620e+00,\n",
              "         8.400e+02],\n",
              "        [1.413e+01, 4.100e+00, 2.740e+00, ..., 6.100e-01, 1.600e+00,\n",
              "         5.600e+02]]),\n",
              " 'feature_names': ['alcohol',\n",
              "  'malic_acid',\n",
              "  'ash',\n",
              "  'alcalinity_of_ash',\n",
              "  'magnesium',\n",
              "  'total_phenols',\n",
              "  'flavanoids',\n",
              "  'nonflavanoid_phenols',\n",
              "  'proanthocyanins',\n",
              "  'color_intensity',\n",
              "  'hue',\n",
              "  'od280/od315_of_diluted_wines',\n",
              "  'proline'],\n",
              " 'target': array([0, 0, 0, 0, 0, 0, 0, 0, 0, 0, 0, 0, 0, 0, 0, 0, 0, 0, 0, 0, 0, 0,\n",
              "        0, 0, 0, 0, 0, 0, 0, 0, 0, 0, 0, 0, 0, 0, 0, 0, 0, 0, 0, 0, 0, 0,\n",
              "        0, 0, 0, 0, 0, 0, 0, 0, 0, 0, 0, 0, 0, 0, 0, 1, 1, 1, 1, 1, 1, 1,\n",
              "        1, 1, 1, 1, 1, 1, 1, 1, 1, 1, 1, 1, 1, 1, 1, 1, 1, 1, 1, 1, 1, 1,\n",
              "        1, 1, 1, 1, 1, 1, 1, 1, 1, 1, 1, 1, 1, 1, 1, 1, 1, 1, 1, 1, 1, 1,\n",
              "        1, 1, 1, 1, 1, 1, 1, 1, 1, 1, 1, 1, 1, 1, 1, 1, 1, 1, 1, 1, 2, 2,\n",
              "        2, 2, 2, 2, 2, 2, 2, 2, 2, 2, 2, 2, 2, 2, 2, 2, 2, 2, 2, 2, 2, 2,\n",
              "        2, 2, 2, 2, 2, 2, 2, 2, 2, 2, 2, 2, 2, 2, 2, 2, 2, 2, 2, 2, 2, 2,\n",
              "        2, 2]),\n",
              " 'target_names': array(['class_0', 'class_1', 'class_2'], dtype='<U7')}"
            ]
          },
          "metadata": {},
          "execution_count": 3
        }
      ]
    },
    {
      "cell_type": "markdown",
      "metadata": {
        "id": "InUoUKr9w75c"
      },
      "source": [
        "Podrán observar que la estructura es parecido al de un archivo *.csv*, sin embargo, no podemos asignar estos valores directamente a un DataFrame de Pandas tan facil"
      ]
    },
    {
      "cell_type": "code",
      "metadata": {
        "colab": {
          "base_uri": "https://localhost:8080/",
          "height": 443
        },
        "id": "TmhZUbkywybd",
        "outputId": "4e28a686-30d1-423f-f4d5-358ef8947318"
      },
      "source": [
        "### Convertimos los datos en un dataframe de Pandas para facilitar su entendimiento\n",
        "wines = pd.DataFrame(dataset.data,columns=dataset.feature_names)\n",
        "wines['Class'] = dataset.target\n",
        "\n",
        "wines.head(-1)"
      ],
      "execution_count": null,
      "outputs": [
        {
          "output_type": "execute_result",
          "data": {
            "text/html": [
              "<div>\n",
              "<style scoped>\n",
              "    .dataframe tbody tr th:only-of-type {\n",
              "        vertical-align: middle;\n",
              "    }\n",
              "\n",
              "    .dataframe tbody tr th {\n",
              "        vertical-align: top;\n",
              "    }\n",
              "\n",
              "    .dataframe thead th {\n",
              "        text-align: right;\n",
              "    }\n",
              "</style>\n",
              "<table border=\"1\" class=\"dataframe\">\n",
              "  <thead>\n",
              "    <tr style=\"text-align: right;\">\n",
              "      <th></th>\n",
              "      <th>alcohol</th>\n",
              "      <th>malic_acid</th>\n",
              "      <th>ash</th>\n",
              "      <th>alcalinity_of_ash</th>\n",
              "      <th>magnesium</th>\n",
              "      <th>total_phenols</th>\n",
              "      <th>flavanoids</th>\n",
              "      <th>nonflavanoid_phenols</th>\n",
              "      <th>proanthocyanins</th>\n",
              "      <th>color_intensity</th>\n",
              "      <th>hue</th>\n",
              "      <th>od280/od315_of_diluted_wines</th>\n",
              "      <th>proline</th>\n",
              "      <th>Class</th>\n",
              "    </tr>\n",
              "  </thead>\n",
              "  <tbody>\n",
              "    <tr>\n",
              "      <th>0</th>\n",
              "      <td>14.23</td>\n",
              "      <td>1.71</td>\n",
              "      <td>2.43</td>\n",
              "      <td>15.6</td>\n",
              "      <td>127.0</td>\n",
              "      <td>2.80</td>\n",
              "      <td>3.06</td>\n",
              "      <td>0.28</td>\n",
              "      <td>2.29</td>\n",
              "      <td>5.64</td>\n",
              "      <td>1.04</td>\n",
              "      <td>3.92</td>\n",
              "      <td>1065.0</td>\n",
              "      <td>0</td>\n",
              "    </tr>\n",
              "    <tr>\n",
              "      <th>1</th>\n",
              "      <td>13.20</td>\n",
              "      <td>1.78</td>\n",
              "      <td>2.14</td>\n",
              "      <td>11.2</td>\n",
              "      <td>100.0</td>\n",
              "      <td>2.65</td>\n",
              "      <td>2.76</td>\n",
              "      <td>0.26</td>\n",
              "      <td>1.28</td>\n",
              "      <td>4.38</td>\n",
              "      <td>1.05</td>\n",
              "      <td>3.40</td>\n",
              "      <td>1050.0</td>\n",
              "      <td>0</td>\n",
              "    </tr>\n",
              "    <tr>\n",
              "      <th>2</th>\n",
              "      <td>13.16</td>\n",
              "      <td>2.36</td>\n",
              "      <td>2.67</td>\n",
              "      <td>18.6</td>\n",
              "      <td>101.0</td>\n",
              "      <td>2.80</td>\n",
              "      <td>3.24</td>\n",
              "      <td>0.30</td>\n",
              "      <td>2.81</td>\n",
              "      <td>5.68</td>\n",
              "      <td>1.03</td>\n",
              "      <td>3.17</td>\n",
              "      <td>1185.0</td>\n",
              "      <td>0</td>\n",
              "    </tr>\n",
              "    <tr>\n",
              "      <th>3</th>\n",
              "      <td>14.37</td>\n",
              "      <td>1.95</td>\n",
              "      <td>2.50</td>\n",
              "      <td>16.8</td>\n",
              "      <td>113.0</td>\n",
              "      <td>3.85</td>\n",
              "      <td>3.49</td>\n",
              "      <td>0.24</td>\n",
              "      <td>2.18</td>\n",
              "      <td>7.80</td>\n",
              "      <td>0.86</td>\n",
              "      <td>3.45</td>\n",
              "      <td>1480.0</td>\n",
              "      <td>0</td>\n",
              "    </tr>\n",
              "    <tr>\n",
              "      <th>4</th>\n",
              "      <td>13.24</td>\n",
              "      <td>2.59</td>\n",
              "      <td>2.87</td>\n",
              "      <td>21.0</td>\n",
              "      <td>118.0</td>\n",
              "      <td>2.80</td>\n",
              "      <td>2.69</td>\n",
              "      <td>0.39</td>\n",
              "      <td>1.82</td>\n",
              "      <td>4.32</td>\n",
              "      <td>1.04</td>\n",
              "      <td>2.93</td>\n",
              "      <td>735.0</td>\n",
              "      <td>0</td>\n",
              "    </tr>\n",
              "    <tr>\n",
              "      <th>...</th>\n",
              "      <td>...</td>\n",
              "      <td>...</td>\n",
              "      <td>...</td>\n",
              "      <td>...</td>\n",
              "      <td>...</td>\n",
              "      <td>...</td>\n",
              "      <td>...</td>\n",
              "      <td>...</td>\n",
              "      <td>...</td>\n",
              "      <td>...</td>\n",
              "      <td>...</td>\n",
              "      <td>...</td>\n",
              "      <td>...</td>\n",
              "      <td>...</td>\n",
              "    </tr>\n",
              "    <tr>\n",
              "      <th>172</th>\n",
              "      <td>14.16</td>\n",
              "      <td>2.51</td>\n",
              "      <td>2.48</td>\n",
              "      <td>20.0</td>\n",
              "      <td>91.0</td>\n",
              "      <td>1.68</td>\n",
              "      <td>0.70</td>\n",
              "      <td>0.44</td>\n",
              "      <td>1.24</td>\n",
              "      <td>9.70</td>\n",
              "      <td>0.62</td>\n",
              "      <td>1.71</td>\n",
              "      <td>660.0</td>\n",
              "      <td>2</td>\n",
              "    </tr>\n",
              "    <tr>\n",
              "      <th>173</th>\n",
              "      <td>13.71</td>\n",
              "      <td>5.65</td>\n",
              "      <td>2.45</td>\n",
              "      <td>20.5</td>\n",
              "      <td>95.0</td>\n",
              "      <td>1.68</td>\n",
              "      <td>0.61</td>\n",
              "      <td>0.52</td>\n",
              "      <td>1.06</td>\n",
              "      <td>7.70</td>\n",
              "      <td>0.64</td>\n",
              "      <td>1.74</td>\n",
              "      <td>740.0</td>\n",
              "      <td>2</td>\n",
              "    </tr>\n",
              "    <tr>\n",
              "      <th>174</th>\n",
              "      <td>13.40</td>\n",
              "      <td>3.91</td>\n",
              "      <td>2.48</td>\n",
              "      <td>23.0</td>\n",
              "      <td>102.0</td>\n",
              "      <td>1.80</td>\n",
              "      <td>0.75</td>\n",
              "      <td>0.43</td>\n",
              "      <td>1.41</td>\n",
              "      <td>7.30</td>\n",
              "      <td>0.70</td>\n",
              "      <td>1.56</td>\n",
              "      <td>750.0</td>\n",
              "      <td>2</td>\n",
              "    </tr>\n",
              "    <tr>\n",
              "      <th>175</th>\n",
              "      <td>13.27</td>\n",
              "      <td>4.28</td>\n",
              "      <td>2.26</td>\n",
              "      <td>20.0</td>\n",
              "      <td>120.0</td>\n",
              "      <td>1.59</td>\n",
              "      <td>0.69</td>\n",
              "      <td>0.43</td>\n",
              "      <td>1.35</td>\n",
              "      <td>10.20</td>\n",
              "      <td>0.59</td>\n",
              "      <td>1.56</td>\n",
              "      <td>835.0</td>\n",
              "      <td>2</td>\n",
              "    </tr>\n",
              "    <tr>\n",
              "      <th>176</th>\n",
              "      <td>13.17</td>\n",
              "      <td>2.59</td>\n",
              "      <td>2.37</td>\n",
              "      <td>20.0</td>\n",
              "      <td>120.0</td>\n",
              "      <td>1.65</td>\n",
              "      <td>0.68</td>\n",
              "      <td>0.53</td>\n",
              "      <td>1.46</td>\n",
              "      <td>9.30</td>\n",
              "      <td>0.60</td>\n",
              "      <td>1.62</td>\n",
              "      <td>840.0</td>\n",
              "      <td>2</td>\n",
              "    </tr>\n",
              "  </tbody>\n",
              "</table>\n",
              "<p>177 rows × 14 columns</p>\n",
              "</div>"
            ],
            "text/plain": [
              "     alcohol  malic_acid   ash  ...  od280/od315_of_diluted_wines  proline  Class\n",
              "0      14.23        1.71  2.43  ...                          3.92   1065.0      0\n",
              "1      13.20        1.78  2.14  ...                          3.40   1050.0      0\n",
              "2      13.16        2.36  2.67  ...                          3.17   1185.0      0\n",
              "3      14.37        1.95  2.50  ...                          3.45   1480.0      0\n",
              "4      13.24        2.59  2.87  ...                          2.93    735.0      0\n",
              "..       ...         ...   ...  ...                           ...      ...    ...\n",
              "172    14.16        2.51  2.48  ...                          1.71    660.0      2\n",
              "173    13.71        5.65  2.45  ...                          1.74    740.0      2\n",
              "174    13.40        3.91  2.48  ...                          1.56    750.0      2\n",
              "175    13.27        4.28  2.26  ...                          1.56    835.0      2\n",
              "176    13.17        2.59  2.37  ...                          1.62    840.0      2\n",
              "\n",
              "[177 rows x 14 columns]"
            ]
          },
          "metadata": {},
          "execution_count": 4
        }
      ]
    },
    {
      "cell_type": "markdown",
      "metadata": {
        "id": "4eGqmce-yPo5"
      },
      "source": [
        "La variable *wines* será un DataFrame de Pandas. Para crearlo debemos indicar que usaremos los datos del objeto *dataset*. Después debemos indicar el nombre que tendrán las columnas, esto con la instrucción *columns* e indicando que los nombres serán los nombres de las variables. Por último, debemos crear una columna adicional llamada *Class* donde usaremos los *targets* (valores objetivo) del objeto *dataset*."
      ]
    },
    {
      "cell_type": "code",
      "metadata": {
        "colab": {
          "base_uri": "https://localhost:8080/",
          "height": 320
        },
        "id": "fJmgHaclwyYk",
        "outputId": "15e3382d-50ee-473f-ae38-cdaa5c35d4a5"
      },
      "source": [
        "### Una descripción estadística de la base de datos\n",
        "wines.describe()"
      ],
      "execution_count": null,
      "outputs": [
        {
          "output_type": "execute_result",
          "data": {
            "text/html": [
              "<div>\n",
              "<style scoped>\n",
              "    .dataframe tbody tr th:only-of-type {\n",
              "        vertical-align: middle;\n",
              "    }\n",
              "\n",
              "    .dataframe tbody tr th {\n",
              "        vertical-align: top;\n",
              "    }\n",
              "\n",
              "    .dataframe thead th {\n",
              "        text-align: right;\n",
              "    }\n",
              "</style>\n",
              "<table border=\"1\" class=\"dataframe\">\n",
              "  <thead>\n",
              "    <tr style=\"text-align: right;\">\n",
              "      <th></th>\n",
              "      <th>alcohol</th>\n",
              "      <th>malic_acid</th>\n",
              "      <th>ash</th>\n",
              "      <th>alcalinity_of_ash</th>\n",
              "      <th>magnesium</th>\n",
              "      <th>total_phenols</th>\n",
              "      <th>flavanoids</th>\n",
              "      <th>nonflavanoid_phenols</th>\n",
              "      <th>proanthocyanins</th>\n",
              "      <th>color_intensity</th>\n",
              "      <th>hue</th>\n",
              "      <th>od280/od315_of_diluted_wines</th>\n",
              "      <th>proline</th>\n",
              "      <th>Class</th>\n",
              "    </tr>\n",
              "  </thead>\n",
              "  <tbody>\n",
              "    <tr>\n",
              "      <th>count</th>\n",
              "      <td>178.000000</td>\n",
              "      <td>178.000000</td>\n",
              "      <td>178.000000</td>\n",
              "      <td>178.000000</td>\n",
              "      <td>178.000000</td>\n",
              "      <td>178.000000</td>\n",
              "      <td>178.000000</td>\n",
              "      <td>178.000000</td>\n",
              "      <td>178.000000</td>\n",
              "      <td>178.000000</td>\n",
              "      <td>178.000000</td>\n",
              "      <td>178.000000</td>\n",
              "      <td>178.000000</td>\n",
              "      <td>178.000000</td>\n",
              "    </tr>\n",
              "    <tr>\n",
              "      <th>mean</th>\n",
              "      <td>13.000618</td>\n",
              "      <td>2.336348</td>\n",
              "      <td>2.366517</td>\n",
              "      <td>19.494944</td>\n",
              "      <td>99.741573</td>\n",
              "      <td>2.295112</td>\n",
              "      <td>2.029270</td>\n",
              "      <td>0.361854</td>\n",
              "      <td>1.590899</td>\n",
              "      <td>5.058090</td>\n",
              "      <td>0.957449</td>\n",
              "      <td>2.611685</td>\n",
              "      <td>746.893258</td>\n",
              "      <td>0.938202</td>\n",
              "    </tr>\n",
              "    <tr>\n",
              "      <th>std</th>\n",
              "      <td>0.811827</td>\n",
              "      <td>1.117146</td>\n",
              "      <td>0.274344</td>\n",
              "      <td>3.339564</td>\n",
              "      <td>14.282484</td>\n",
              "      <td>0.625851</td>\n",
              "      <td>0.998859</td>\n",
              "      <td>0.124453</td>\n",
              "      <td>0.572359</td>\n",
              "      <td>2.318286</td>\n",
              "      <td>0.228572</td>\n",
              "      <td>0.709990</td>\n",
              "      <td>314.907474</td>\n",
              "      <td>0.775035</td>\n",
              "    </tr>\n",
              "    <tr>\n",
              "      <th>min</th>\n",
              "      <td>11.030000</td>\n",
              "      <td>0.740000</td>\n",
              "      <td>1.360000</td>\n",
              "      <td>10.600000</td>\n",
              "      <td>70.000000</td>\n",
              "      <td>0.980000</td>\n",
              "      <td>0.340000</td>\n",
              "      <td>0.130000</td>\n",
              "      <td>0.410000</td>\n",
              "      <td>1.280000</td>\n",
              "      <td>0.480000</td>\n",
              "      <td>1.270000</td>\n",
              "      <td>278.000000</td>\n",
              "      <td>0.000000</td>\n",
              "    </tr>\n",
              "    <tr>\n",
              "      <th>25%</th>\n",
              "      <td>12.362500</td>\n",
              "      <td>1.602500</td>\n",
              "      <td>2.210000</td>\n",
              "      <td>17.200000</td>\n",
              "      <td>88.000000</td>\n",
              "      <td>1.742500</td>\n",
              "      <td>1.205000</td>\n",
              "      <td>0.270000</td>\n",
              "      <td>1.250000</td>\n",
              "      <td>3.220000</td>\n",
              "      <td>0.782500</td>\n",
              "      <td>1.937500</td>\n",
              "      <td>500.500000</td>\n",
              "      <td>0.000000</td>\n",
              "    </tr>\n",
              "    <tr>\n",
              "      <th>50%</th>\n",
              "      <td>13.050000</td>\n",
              "      <td>1.865000</td>\n",
              "      <td>2.360000</td>\n",
              "      <td>19.500000</td>\n",
              "      <td>98.000000</td>\n",
              "      <td>2.355000</td>\n",
              "      <td>2.135000</td>\n",
              "      <td>0.340000</td>\n",
              "      <td>1.555000</td>\n",
              "      <td>4.690000</td>\n",
              "      <td>0.965000</td>\n",
              "      <td>2.780000</td>\n",
              "      <td>673.500000</td>\n",
              "      <td>1.000000</td>\n",
              "    </tr>\n",
              "    <tr>\n",
              "      <th>75%</th>\n",
              "      <td>13.677500</td>\n",
              "      <td>3.082500</td>\n",
              "      <td>2.557500</td>\n",
              "      <td>21.500000</td>\n",
              "      <td>107.000000</td>\n",
              "      <td>2.800000</td>\n",
              "      <td>2.875000</td>\n",
              "      <td>0.437500</td>\n",
              "      <td>1.950000</td>\n",
              "      <td>6.200000</td>\n",
              "      <td>1.120000</td>\n",
              "      <td>3.170000</td>\n",
              "      <td>985.000000</td>\n",
              "      <td>2.000000</td>\n",
              "    </tr>\n",
              "    <tr>\n",
              "      <th>max</th>\n",
              "      <td>14.830000</td>\n",
              "      <td>5.800000</td>\n",
              "      <td>3.230000</td>\n",
              "      <td>30.000000</td>\n",
              "      <td>162.000000</td>\n",
              "      <td>3.880000</td>\n",
              "      <td>5.080000</td>\n",
              "      <td>0.660000</td>\n",
              "      <td>3.580000</td>\n",
              "      <td>13.000000</td>\n",
              "      <td>1.710000</td>\n",
              "      <td>4.000000</td>\n",
              "      <td>1680.000000</td>\n",
              "      <td>2.000000</td>\n",
              "    </tr>\n",
              "  </tbody>\n",
              "</table>\n",
              "</div>"
            ],
            "text/plain": [
              "          alcohol  malic_acid  ...      proline       Class\n",
              "count  178.000000  178.000000  ...   178.000000  178.000000\n",
              "mean    13.000618    2.336348  ...   746.893258    0.938202\n",
              "std      0.811827    1.117146  ...   314.907474    0.775035\n",
              "min     11.030000    0.740000  ...   278.000000    0.000000\n",
              "25%     12.362500    1.602500  ...   500.500000    0.000000\n",
              "50%     13.050000    1.865000  ...   673.500000    1.000000\n",
              "75%     13.677500    3.082500  ...   985.000000    2.000000\n",
              "max     14.830000    5.800000  ...  1680.000000    2.000000\n",
              "\n",
              "[8 rows x 14 columns]"
            ]
          },
          "metadata": {},
          "execution_count": 16
        }
      ]
    },
    {
      "cell_type": "markdown",
      "metadata": {
        "id": "wbgzf0g61PRe"
      },
      "source": [
        "Revisando rápidamente los datos podemos observar que sí se necesitará una estadarizacón de los datos. Pero de esto hablaremos más adelante."
      ]
    },
    {
      "cell_type": "markdown",
      "metadata": {
        "id": "DneWTwN-6Z4w"
      },
      "source": [
        "Ahora que tenemos los datos, debemos hacer la estadarización. En este caso vamos a usar una estadarizador Mínimo-Máximo, es decir, que el valor máximo de cada columna tendrá el valor de $1$, mientras que el mínimo será $0$. Todos los valores intermedios serán asignados a un intervalo de $0:1$. Este proceso facilita y hace más amigable los datos al modelo."
      ]
    },
    {
      "cell_type": "markdown",
      "metadata": {
        "id": "_pKYjdwe6c8_"
      },
      "source": [
        "Como los valores de salida (la variable Y) están en valores enteros no es necesario estandarizarlos."
      ]
    },
    {
      "cell_type": "code",
      "metadata": {
        "id": "LdfPIm5twyTI"
      },
      "source": [
        "# Convertimos los datos de Pandas a datos que pueda entender el modelo\n",
        "_wines = wines.values\n",
        "X = _wines[:,0:13].astype(float)\n",
        "Y = _wines[:,13]"
      ],
      "execution_count": null,
      "outputs": []
    },
    {
      "cell_type": "code",
      "metadata": {
        "id": "4jP3wcliwyQK"
      },
      "source": [
        "### Estadarización de los datos\n",
        "minmax = MinMaxScaler()\n",
        "x_scaled = minmax.fit(X) # Primero ajustamos los datos a cada máximo y mínimo\n",
        "x_scaled = minmax.transform(X.astype(np.float)) # transformar cada valor"
      ],
      "execution_count": null,
      "outputs": []
    },
    {
      "cell_type": "code",
      "metadata": {
        "colab": {
          "base_uri": "https://localhost:8080/"
        },
        "id": "QyatOIrewyNX",
        "outputId": "3b93f563-8816-4ab8-812a-eb3cdb65992b"
      },
      "source": [
        "x_scaled[0]"
      ],
      "execution_count": null,
      "outputs": [
        {
          "output_type": "execute_result",
          "data": {
            "text/plain": [
              "array([0.84210526, 0.1916996 , 0.57219251, 0.25773196, 0.61956522,\n",
              "       0.62758621, 0.57383966, 0.28301887, 0.59305994, 0.37201365,\n",
              "       0.45528455, 0.97069597, 0.56134094])"
            ]
          },
          "metadata": {},
          "execution_count": 8
        }
      ]
    },
    {
      "cell_type": "markdown",
      "metadata": {
        "id": "9Ilkzz687I_v"
      },
      "source": [
        "## Generar los conjuntos de entrenamiento y prueba"
      ]
    },
    {
      "cell_type": "code",
      "metadata": {
        "id": "zcEGsg0B7PKT"
      },
      "source": [
        "Xtrain, Xtest, ytrain, ytest = train_test_split(x_scaled, Y,\n",
        "                                                test_size=0.3,\n",
        "                                                random_state=2)"
      ],
      "execution_count": null,
      "outputs": []
    },
    {
      "cell_type": "markdown",
      "metadata": {
        "id": "0LyrGyfW7c3Y"
      },
      "source": [
        "Las variables *Xtrain* y *Xtest* tendrán todos los valores de entrada de la red. Por otra parte, las variables *ytrain* y *ytest* tendrán los valores objetivo que intentaremos predecir.\n",
        "\n",
        "Para esta práctica usaremos una distribución de 70-30 para realizar el entrenamiento y validación de la red."
      ]
    },
    {
      "cell_type": "code",
      "metadata": {
        "colab": {
          "base_uri": "https://localhost:8080/"
        },
        "id": "FAAiMORE79zc",
        "outputId": "50cec9a3-66f9-4d66-b05c-c5e1921f5b5f"
      },
      "source": [
        "print(x_scaled.shape)\n",
        "print(np.shape(Y))"
      ],
      "execution_count": null,
      "outputs": [
        {
          "output_type": "stream",
          "text": [
            "(178, 13)\n",
            "(178,)\n"
          ],
          "name": "stdout"
        }
      ]
    },
    {
      "cell_type": "markdown",
      "metadata": {
        "id": "Ormf51yn8Cwb"
      },
      "source": [
        "Comprobamos que las dimensiones coincidan y listo, podemos inicia a entrenar."
      ]
    },
    {
      "cell_type": "markdown",
      "metadata": {
        "id": "Y26LwpHV6mpE"
      },
      "source": [
        "## Diseñar la arquitectura de la red neuronal"
      ]
    },
    {
      "cell_type": "markdown",
      "metadata": {
        "id": "ttsvvyVV6tr8"
      },
      "source": [
        "Como usaremos redes neuornales para resolver el problema. Por lo tanto, hay que diseñar una red que pueda clasificar los vinos."
      ]
    },
    {
      "cell_type": "code",
      "metadata": {
        "id": "C-Qdp8aAwyKq"
      },
      "source": [
        "### Construyendo la red\n",
        "wine_model = Sequential()\n",
        "wine_model.add(Dense(9, input_dim=13, activation='relu')) # capa de entrada\n",
        "wine_model.add(Dense(27, activation='relu')) # capa intermedia\n",
        "wine_model.add(Dense(81, activation='relu')) # capa intermedia\n",
        "wine_model.add(Dense(18, activation='relu')) # capa intermedia\n",
        "wine_model.add(Dense(3, activation='softmax')) # capa de salida"
      ],
      "execution_count": null,
      "outputs": []
    },
    {
      "cell_type": "markdown",
      "metadata": {
        "id": "RMRxvR-t8OZA"
      },
      "source": [
        "Ya que propusimos la arquitectura, ahora debemos construirla."
      ]
    },
    {
      "cell_type": "code",
      "metadata": {
        "id": "T0RTLDjzwyIP"
      },
      "source": [
        "wine_model.compile(loss='sparse_categorical_crossentropy',\n",
        "                   optimizer='adam',\n",
        "                   metrics=['accuracy'])"
      ],
      "execution_count": null,
      "outputs": []
    },
    {
      "cell_type": "markdown",
      "metadata": {
        "id": "CQaxv6qu8US2"
      },
      "source": [
        "Usaremos una nueva función de pérdida, la entropía cruzada categorica escasa, suena a un trabalenguas aunque, en realidad se trata de una variante de la entropía cruzada para cuando los datos son muy parecidos entre sí o hay muchos valores iguales a cero dentro de la dataset.\n",
        "\n",
        "El optimizador será Adam mientras que la métrica que nos interesa monitorear será la *accuracy* o exactitud."
      ]
    },
    {
      "cell_type": "code",
      "metadata": {
        "colab": {
          "base_uri": "https://localhost:8080/"
        },
        "id": "NpuSaeiswyFZ",
        "outputId": "0a58de42-4a89-4dd0-d14d-e52b27f736ec"
      },
      "source": [
        "# Generamos un resumen del modelo\n",
        "\n",
        "wine_model.summary()"
      ],
      "execution_count": null,
      "outputs": [
        {
          "output_type": "stream",
          "text": [
            "Model: \"sequential\"\n",
            "_________________________________________________________________\n",
            "Layer (type)                 Output Shape              Param #   \n",
            "=================================================================\n",
            "dense (Dense)                (None, 9)                 126       \n",
            "_________________________________________________________________\n",
            "dense_1 (Dense)              (None, 27)                270       \n",
            "_________________________________________________________________\n",
            "dense_2 (Dense)              (None, 81)                2268      \n",
            "_________________________________________________________________\n",
            "dense_3 (Dense)              (None, 18)                1476      \n",
            "_________________________________________________________________\n",
            "dense_4 (Dense)              (None, 3)                 57        \n",
            "=================================================================\n",
            "Total params: 4,197\n",
            "Trainable params: 4,197\n",
            "Non-trainable params: 0\n",
            "_________________________________________________________________\n"
          ],
          "name": "stdout"
        }
      ]
    },
    {
      "cell_type": "code",
      "metadata": {
        "colab": {
          "base_uri": "https://localhost:8080/",
          "height": 644
        },
        "id": "6m6C-vUfwyCi",
        "outputId": "932389f1-a5a7-4667-8b93-0251eaba0ebd"
      },
      "source": [
        "# Gráficar el modelo\n",
        "\n",
        "plot_model(wine_model, show_shapes=True, show_dtype=True)"
      ],
      "execution_count": null,
      "outputs": [
        {
          "output_type": "execute_result",
          "data": {
            "image/png": "[encoded data removed]",
            "text/plain": [
              "<IPython.core.display.Image object>"
            ]
          },
          "metadata": {},
          "execution_count": 14
        }
      ]
    },
    {
      "cell_type": "markdown",
      "metadata": {
        "id": "QuUGSHRJ9rJx"
      },
      "source": [
        "## Entrenar el modelo"
      ]
    },
    {
      "cell_type": "markdown",
      "metadata": {
        "id": "mYtrMmtF9tRY"
      },
      "source": [
        "Ya que dividimos los datos en conjuntos de entrenamiento y conjuntos de prueba es momento de entrenar.\n",
        "\n",
        "En el entrenamiento se harán cálculos y cálculos con los datos para producir una modelo matemático que pueda separarlos en las clases existentes.\n",
        "\n",
        "El entrenamiento se divide en épocas, que son los periodos donde todos los datos son anlizados para producir la salida.\n",
        "\n",
        "En el entrenamiento nos interesa monitorear las **métricas**, que son los parámetros que nos ayudan a conocer el desempeño del modelo. En los problemas de clasificación, una de las métricas más importantes es la **exactitud (accuracy)**, por lo tanto vamos a monitorear esta métrica."
      ]
    },
    {
      "cell_type": "code",
      "metadata": {
        "colab": {
          "base_uri": "https://localhost:8080/"
        },
        "id": "hNI5aY3ewx_y",
        "outputId": "c3e57e48-2e6a-4cbb-9e5a-803014c335cb"
      },
      "source": [
        "# Entrenamiento del modelo\n",
        "\n",
        "wine_model.fit(Xtrain, ytrain,\n",
        "               epochs=100,\n",
        "               batch_size=16,\n",
        "               validation_data=(Xtest,ytest),\n",
        "               verbose=1)"
      ],
      "execution_count": null,
      "outputs": [
        {
          "output_type": "stream",
          "text": [
            "Epoch 1/100\n",
            "8/8 [==============================] - 1s 36ms/step - loss: 1.0907 - accuracy: 0.3306 - val_loss: 1.0627 - val_accuracy: 0.4630\n",
            "Epoch 2/100\n",
            "8/8 [==============================] - 0s 7ms/step - loss: 1.0674 - accuracy: 0.4758 - val_loss: 1.0404 - val_accuracy: 0.5000\n",
            "Epoch 3/100\n",
            "8/8 [==============================] - 0s 8ms/step - loss: 1.0473 - accuracy: 0.5000 - val_loss: 1.0132 - val_accuracy: 0.4630\n",
            "Epoch 4/100\n",
            "8/8 [==============================] - 0s 6ms/step - loss: 1.0229 - accuracy: 0.5484 - val_loss: 0.9830 - val_accuracy: 0.5741\n",
            "Epoch 5/100\n",
            "8/8 [==============================] - 0s 5ms/step - loss: 0.9840 - accuracy: 0.6048 - val_loss: 0.9351 - val_accuracy: 0.5926\n",
            "Epoch 6/100\n",
            "8/8 [==============================] - 0s 8ms/step - loss: 0.9435 - accuracy: 0.6129 - val_loss: 0.8870 - val_accuracy: 0.6111\n",
            "Epoch 7/100\n",
            "8/8 [==============================] - 0s 7ms/step - loss: 0.8968 - accuracy: 0.6774 - val_loss: 0.8379 - val_accuracy: 0.7963\n",
            "Epoch 8/100\n",
            "8/8 [==============================] - 0s 9ms/step - loss: 0.8468 - accuracy: 0.7903 - val_loss: 0.7869 - val_accuracy: 0.7963\n",
            "Epoch 9/100\n",
            "8/8 [==============================] - 0s 8ms/step - loss: 0.7926 - accuracy: 0.8226 - val_loss: 0.7310 - val_accuracy: 0.7963\n",
            "Epoch 10/100\n",
            "8/8 [==============================] - 0s 6ms/step - loss: 0.7270 - accuracy: 0.8306 - val_loss: 0.6611 - val_accuracy: 0.8148\n",
            "Epoch 11/100\n",
            "8/8 [==============================] - 0s 6ms/step - loss: 0.6523 - accuracy: 0.8629 - val_loss: 0.5872 - val_accuracy: 0.8333\n",
            "Epoch 12/100\n",
            "8/8 [==============================] - 0s 8ms/step - loss: 0.5730 - accuracy: 0.8710 - val_loss: 0.5228 - val_accuracy: 0.8333\n",
            "Epoch 13/100\n",
            "8/8 [==============================] - 0s 7ms/step - loss: 0.5109 - accuracy: 0.9113 - val_loss: 0.4633 - val_accuracy: 0.8148\n",
            "Epoch 14/100\n",
            "8/8 [==============================] - 0s 8ms/step - loss: 0.4438 - accuracy: 0.8629 - val_loss: 0.4013 - val_accuracy: 0.8333\n",
            "Epoch 15/100\n",
            "8/8 [==============================] - 0s 10ms/step - loss: 0.3824 - accuracy: 0.9355 - val_loss: 0.3583 - val_accuracy: 0.8704\n",
            "Epoch 16/100\n",
            "8/8 [==============================] - 0s 6ms/step - loss: 0.3304 - accuracy: 0.9355 - val_loss: 0.3219 - val_accuracy: 0.8148\n",
            "Epoch 17/100\n",
            "8/8 [==============================] - 0s 6ms/step - loss: 0.2908 - accuracy: 0.9194 - val_loss: 0.2861 - val_accuracy: 0.8704\n",
            "Epoch 18/100\n",
            "8/8 [==============================] - 0s 7ms/step - loss: 0.2567 - accuracy: 0.9435 - val_loss: 0.2629 - val_accuracy: 0.8889\n",
            "Epoch 19/100\n",
            "8/8 [==============================] - 0s 6ms/step - loss: 0.2246 - accuracy: 0.9516 - val_loss: 0.2353 - val_accuracy: 0.8889\n",
            "Epoch 20/100\n",
            "8/8 [==============================] - 0s 10ms/step - loss: 0.2042 - accuracy: 0.9516 - val_loss: 0.2110 - val_accuracy: 0.9259\n",
            "Epoch 21/100\n",
            "8/8 [==============================] - 0s 8ms/step - loss: 0.1793 - accuracy: 0.9516 - val_loss: 0.1963 - val_accuracy: 0.9259\n",
            "Epoch 22/100\n",
            "8/8 [==============================] - 0s 5ms/step - loss: 0.1602 - accuracy: 0.9597 - val_loss: 0.1769 - val_accuracy: 0.9259\n",
            "Epoch 23/100\n",
            "8/8 [==============================] - 0s 8ms/step - loss: 0.1433 - accuracy: 0.9597 - val_loss: 0.1629 - val_accuracy: 0.9444\n",
            "Epoch 24/100\n",
            "8/8 [==============================] - 0s 9ms/step - loss: 0.1297 - accuracy: 0.9597 - val_loss: 0.1518 - val_accuracy: 0.9444\n",
            "Epoch 25/100\n",
            "8/8 [==============================] - 0s 6ms/step - loss: 0.1223 - accuracy: 0.9839 - val_loss: 0.1401 - val_accuracy: 0.9444\n",
            "Epoch 26/100\n",
            "8/8 [==============================] - 0s 9ms/step - loss: 0.1038 - accuracy: 0.9758 - val_loss: 0.1321 - val_accuracy: 0.9630\n",
            "Epoch 27/100\n",
            "8/8 [==============================] - 0s 6ms/step - loss: 0.0979 - accuracy: 0.9758 - val_loss: 0.1246 - val_accuracy: 0.9444\n",
            "Epoch 28/100\n",
            "8/8 [==============================] - 0s 7ms/step - loss: 0.0877 - accuracy: 0.9839 - val_loss: 0.1158 - val_accuracy: 0.9630\n",
            "Epoch 29/100\n",
            "8/8 [==============================] - 0s 6ms/step - loss: 0.0843 - accuracy: 0.9839 - val_loss: 0.1135 - val_accuracy: 0.9630\n",
            "Epoch 30/100\n",
            "8/8 [==============================] - 0s 6ms/step - loss: 0.0742 - accuracy: 0.9839 - val_loss: 0.1065 - val_accuracy: 0.9630\n",
            "Epoch 31/100\n",
            "8/8 [==============================] - 0s 8ms/step - loss: 0.0754 - accuracy: 0.9839 - val_loss: 0.1066 - val_accuracy: 0.9444\n",
            "Epoch 32/100\n",
            "8/8 [==============================] - 0s 10ms/step - loss: 0.0648 - accuracy: 0.9839 - val_loss: 0.1018 - val_accuracy: 0.9630\n",
            "Epoch 33/100\n",
            "8/8 [==============================] - 0s 6ms/step - loss: 0.0616 - accuracy: 0.9839 - val_loss: 0.0983 - val_accuracy: 0.9630\n",
            "Epoch 34/100\n",
            "8/8 [==============================] - 0s 8ms/step - loss: 0.0597 - accuracy: 0.9919 - val_loss: 0.0964 - val_accuracy: 0.9630\n",
            "Epoch 35/100\n",
            "8/8 [==============================] - 0s 7ms/step - loss: 0.0568 - accuracy: 0.9919 - val_loss: 0.0956 - val_accuracy: 0.9630\n",
            "Epoch 36/100\n",
            "8/8 [==============================] - 0s 8ms/step - loss: 0.0502 - accuracy: 0.9919 - val_loss: 0.0936 - val_accuracy: 0.9630\n",
            "Epoch 37/100\n",
            "8/8 [==============================] - 0s 8ms/step - loss: 0.0478 - accuracy: 0.9919 - val_loss: 0.0912 - val_accuracy: 0.9630\n",
            "Epoch 38/100\n",
            "8/8 [==============================] - 0s 6ms/step - loss: 0.0469 - accuracy: 0.9919 - val_loss: 0.0904 - val_accuracy: 0.9630\n",
            "Epoch 39/100\n",
            "8/8 [==============================] - 0s 8ms/step - loss: 0.0436 - accuracy: 0.9919 - val_loss: 0.0910 - val_accuracy: 0.9444\n",
            "Epoch 40/100\n",
            "8/8 [==============================] - 0s 6ms/step - loss: 0.0448 - accuracy: 0.9919 - val_loss: 0.0860 - val_accuracy: 0.9630\n",
            "Epoch 41/100\n",
            "8/8 [==============================] - 0s 8ms/step - loss: 0.0441 - accuracy: 0.9919 - val_loss: 0.0863 - val_accuracy: 0.9630\n",
            "Epoch 42/100\n",
            "8/8 [==============================] - 0s 5ms/step - loss: 0.0371 - accuracy: 0.9919 - val_loss: 0.0843 - val_accuracy: 0.9444\n",
            "Epoch 43/100\n",
            "8/8 [==============================] - 0s 8ms/step - loss: 0.0352 - accuracy: 0.9919 - val_loss: 0.0820 - val_accuracy: 0.9630\n",
            "Epoch 44/100\n",
            "8/8 [==============================] - 0s 6ms/step - loss: 0.0328 - accuracy: 0.9919 - val_loss: 0.0822 - val_accuracy: 0.9630\n",
            "Epoch 45/100\n",
            "8/8 [==============================] - 0s 6ms/step - loss: 0.0312 - accuracy: 0.9919 - val_loss: 0.0814 - val_accuracy: 0.9630\n",
            "Epoch 46/100\n",
            "8/8 [==============================] - 0s 6ms/step - loss: 0.0295 - accuracy: 0.9919 - val_loss: 0.0806 - val_accuracy: 0.9630\n",
            "Epoch 47/100\n",
            "8/8 [==============================] - 0s 7ms/step - loss: 0.0292 - accuracy: 0.9919 - val_loss: 0.0786 - val_accuracy: 0.9630\n",
            "Epoch 48/100\n",
            "8/8 [==============================] - 0s 8ms/step - loss: 0.0270 - accuracy: 0.9919 - val_loss: 0.0764 - val_accuracy: 0.9630\n",
            "Epoch 49/100\n",
            "8/8 [==============================] - 0s 6ms/step - loss: 0.0268 - accuracy: 0.9919 - val_loss: 0.0755 - val_accuracy: 0.9630\n",
            "Epoch 50/100\n",
            "8/8 [==============================] - 0s 9ms/step - loss: 0.0250 - accuracy: 0.9919 - val_loss: 0.0761 - val_accuracy: 0.9630\n",
            "Epoch 51/100\n",
            "8/8 [==============================] - 0s 9ms/step - loss: 0.0241 - accuracy: 1.0000 - val_loss: 0.0746 - val_accuracy: 0.9630\n",
            "Epoch 52/100\n",
            "8/8 [==============================] - 0s 8ms/step - loss: 0.0241 - accuracy: 0.9919 - val_loss: 0.0734 - val_accuracy: 0.9630\n",
            "Epoch 53/100\n",
            "8/8 [==============================] - 0s 5ms/step - loss: 0.0239 - accuracy: 0.9919 - val_loss: 0.0746 - val_accuracy: 0.9630\n",
            "Epoch 54/100\n",
            "8/8 [==============================] - 0s 7ms/step - loss: 0.0201 - accuracy: 1.0000 - val_loss: 0.0729 - val_accuracy: 0.9630\n",
            "Epoch 55/100\n",
            "8/8 [==============================] - 0s 8ms/step - loss: 0.0229 - accuracy: 0.9919 - val_loss: 0.0710 - val_accuracy: 0.9630\n",
            "Epoch 56/100\n",
            "8/8 [==============================] - 0s 9ms/step - loss: 0.0203 - accuracy: 0.9919 - val_loss: 0.0729 - val_accuracy: 0.9630\n",
            "Epoch 57/100\n",
            "8/8 [==============================] - 0s 7ms/step - loss: 0.0211 - accuracy: 0.9919 - val_loss: 0.0756 - val_accuracy: 0.9630\n",
            "Epoch 58/100\n",
            "8/8 [==============================] - 0s 6ms/step - loss: 0.0177 - accuracy: 1.0000 - val_loss: 0.0722 - val_accuracy: 0.9630\n",
            "Epoch 59/100\n",
            "8/8 [==============================] - 0s 8ms/step - loss: 0.0191 - accuracy: 1.0000 - val_loss: 0.0709 - val_accuracy: 0.9630\n",
            "Epoch 60/100\n",
            "8/8 [==============================] - 0s 8ms/step - loss: 0.0204 - accuracy: 0.9919 - val_loss: 0.0708 - val_accuracy: 0.9630\n",
            "Epoch 61/100\n",
            "8/8 [==============================] - 0s 8ms/step - loss: 0.0182 - accuracy: 0.9919 - val_loss: 0.0711 - val_accuracy: 0.9630\n",
            "Epoch 62/100\n",
            "8/8 [==============================] - 0s 9ms/step - loss: 0.0182 - accuracy: 1.0000 - val_loss: 0.0694 - val_accuracy: 0.9630\n",
            "Epoch 63/100\n",
            "8/8 [==============================] - 0s 6ms/step - loss: 0.0148 - accuracy: 1.0000 - val_loss: 0.0674 - val_accuracy: 0.9630\n",
            "Epoch 64/100\n",
            "8/8 [==============================] - 0s 9ms/step - loss: 0.0141 - accuracy: 1.0000 - val_loss: 0.0663 - val_accuracy: 0.9630\n",
            "Epoch 65/100\n",
            "8/8 [==============================] - 0s 6ms/step - loss: 0.0140 - accuracy: 1.0000 - val_loss: 0.0670 - val_accuracy: 0.9630\n",
            "Epoch 66/100\n",
            "8/8 [==============================] - 0s 5ms/step - loss: 0.0130 - accuracy: 1.0000 - val_loss: 0.0663 - val_accuracy: 0.9630\n",
            "Epoch 67/100\n",
            "8/8 [==============================] - 0s 6ms/step - loss: 0.0134 - accuracy: 1.0000 - val_loss: 0.0670 - val_accuracy: 0.9630\n",
            "Epoch 68/100\n",
            "8/8 [==============================] - 0s 5ms/step - loss: 0.0125 - accuracy: 1.0000 - val_loss: 0.0704 - val_accuracy: 0.9630\n",
            "Epoch 69/100\n",
            "8/8 [==============================] - 0s 9ms/step - loss: 0.0115 - accuracy: 1.0000 - val_loss: 0.0657 - val_accuracy: 0.9630\n",
            "Epoch 70/100\n",
            "8/8 [==============================] - 0s 9ms/step - loss: 0.0108 - accuracy: 1.0000 - val_loss: 0.0661 - val_accuracy: 0.9630\n",
            "Epoch 71/100\n",
            "8/8 [==============================] - 0s 8ms/step - loss: 0.0109 - accuracy: 1.0000 - val_loss: 0.0679 - val_accuracy: 0.9630\n",
            "Epoch 72/100\n",
            "8/8 [==============================] - 0s 8ms/step - loss: 0.0096 - accuracy: 1.0000 - val_loss: 0.0676 - val_accuracy: 0.9630\n",
            "Epoch 73/100\n",
            "8/8 [==============================] - 0s 6ms/step - loss: 0.0098 - accuracy: 1.0000 - val_loss: 0.0657 - val_accuracy: 0.9630\n",
            "Epoch 74/100\n",
            "8/8 [==============================] - 0s 8ms/step - loss: 0.0094 - accuracy: 1.0000 - val_loss: 0.0672 - val_accuracy: 0.9630\n",
            "Epoch 75/100\n",
            "8/8 [==============================] - 0s 7ms/step - loss: 0.0095 - accuracy: 1.0000 - val_loss: 0.0657 - val_accuracy: 0.9630\n",
            "Epoch 76/100\n",
            "8/8 [==============================] - 0s 6ms/step - loss: 0.0104 - accuracy: 1.0000 - val_loss: 0.0680 - val_accuracy: 0.9630\n",
            "Epoch 77/100\n",
            "8/8 [==============================] - 0s 7ms/step - loss: 0.0101 - accuracy: 1.0000 - val_loss: 0.0651 - val_accuracy: 0.9630\n",
            "Epoch 78/100\n",
            "8/8 [==============================] - 0s 9ms/step - loss: 0.0082 - accuracy: 1.0000 - val_loss: 0.0668 - val_accuracy: 0.9630\n",
            "Epoch 79/100\n",
            "8/8 [==============================] - 0s 6ms/step - loss: 0.0075 - accuracy: 1.0000 - val_loss: 0.0649 - val_accuracy: 0.9630\n",
            "Epoch 80/100\n",
            "8/8 [==============================] - 0s 7ms/step - loss: 0.0072 - accuracy: 1.0000 - val_loss: 0.0663 - val_accuracy: 0.9630\n",
            "Epoch 81/100\n",
            "8/8 [==============================] - 0s 9ms/step - loss: 0.0068 - accuracy: 1.0000 - val_loss: 0.0646 - val_accuracy: 0.9630\n",
            "Epoch 82/100\n",
            "8/8 [==============================] - 0s 5ms/step - loss: 0.0066 - accuracy: 1.0000 - val_loss: 0.0644 - val_accuracy: 0.9630\n",
            "Epoch 83/100\n",
            "8/8 [==============================] - 0s 6ms/step - loss: 0.0063 - accuracy: 1.0000 - val_loss: 0.0653 - val_accuracy: 0.9630\n",
            "Epoch 84/100\n",
            "8/8 [==============================] - 0s 6ms/step - loss: 0.0062 - accuracy: 1.0000 - val_loss: 0.0662 - val_accuracy: 0.9630\n",
            "Epoch 85/100\n",
            "8/8 [==============================] - 0s 6ms/step - loss: 0.0062 - accuracy: 1.0000 - val_loss: 0.0672 - val_accuracy: 0.9630\n",
            "Epoch 86/100\n",
            "8/8 [==============================] - 0s 6ms/step - loss: 0.0066 - accuracy: 1.0000 - val_loss: 0.0646 - val_accuracy: 0.9630\n",
            "Epoch 87/100\n",
            "8/8 [==============================] - 0s 6ms/step - loss: 0.0058 - accuracy: 1.0000 - val_loss: 0.0662 - val_accuracy: 0.9630\n",
            "Epoch 88/100\n",
            "8/8 [==============================] - 0s 7ms/step - loss: 0.0054 - accuracy: 1.0000 - val_loss: 0.0648 - val_accuracy: 0.9630\n",
            "Epoch 89/100\n",
            "8/8 [==============================] - 0s 7ms/step - loss: 0.0053 - accuracy: 1.0000 - val_loss: 0.0668 - val_accuracy: 0.9630\n",
            "Epoch 90/100\n",
            "8/8 [==============================] - 0s 8ms/step - loss: 0.0051 - accuracy: 1.0000 - val_loss: 0.0664 - val_accuracy: 0.9630\n",
            "Epoch 91/100\n",
            "8/8 [==============================] - 0s 7ms/step - loss: 0.0052 - accuracy: 1.0000 - val_loss: 0.0629 - val_accuracy: 0.9630\n",
            "Epoch 92/100\n",
            "8/8 [==============================] - 0s 7ms/step - loss: 0.0047 - accuracy: 1.0000 - val_loss: 0.0644 - val_accuracy: 0.9630\n",
            "Epoch 93/100\n",
            "8/8 [==============================] - 0s 8ms/step - loss: 0.0046 - accuracy: 1.0000 - val_loss: 0.0661 - val_accuracy: 0.9630\n",
            "Epoch 94/100\n",
            "8/8 [==============================] - 0s 6ms/step - loss: 0.0045 - accuracy: 1.0000 - val_loss: 0.0645 - val_accuracy: 0.9630\n",
            "Epoch 95/100\n",
            "8/8 [==============================] - 0s 9ms/step - loss: 0.0046 - accuracy: 1.0000 - val_loss: 0.0667 - val_accuracy: 0.9630\n",
            "Epoch 96/100\n",
            "8/8 [==============================] - 0s 7ms/step - loss: 0.0042 - accuracy: 1.0000 - val_loss: 0.0656 - val_accuracy: 0.9630\n",
            "Epoch 97/100\n",
            "8/8 [==============================] - 0s 9ms/step - loss: 0.0042 - accuracy: 1.0000 - val_loss: 0.0665 - val_accuracy: 0.9630\n",
            "Epoch 98/100\n",
            "8/8 [==============================] - 0s 6ms/step - loss: 0.0038 - accuracy: 1.0000 - val_loss: 0.0651 - val_accuracy: 0.9630\n",
            "Epoch 99/100\n",
            "8/8 [==============================] - 0s 9ms/step - loss: 0.0044 - accuracy: 1.0000 - val_loss: 0.0617 - val_accuracy: 0.9630\n",
            "Epoch 100/100\n",
            "8/8 [==============================] - 0s 7ms/step - loss: 0.0038 - accuracy: 1.0000 - val_loss: 0.0642 - val_accuracy: 0.9630\n"
          ],
          "name": "stdout"
        },
        {
          "output_type": "execute_result",
          "data": {
            "text/plain": [
              "<keras.callbacks.History at 0x7f3dea1e5290>"
            ]
          },
          "metadata": {},
          "execution_count": 19
        }
      ]
    },
    {
      "cell_type": "code",
      "metadata": {
        "colab": {
          "base_uri": "https://localhost:8080/",
          "height": 624
        },
        "id": "T_dMKUBEwx9E",
        "outputId": "963bc405-4f19-4e8b-d615-217e559dd902"
      },
      "source": [
        "# Visualizar el comportamiento de la exactitud durante el entrenamiento\n",
        "\n",
        "plt.figure(figsize=(10,10))\n",
        "plt.plot(wine_model.history.history['accuracy'],label='Accuracy')\n",
        "plt.plot(wine_model.history.history['val_accuracy'],label='Val Acc')\n",
        "plt.title('Exactitud del modelo durante el entrenamiento')\n",
        "plt.xlabel('Épocas')\n",
        "plt.xlim(0,100)\n",
        "plt.ylabel('Valores')\n",
        "plt.ylim(0,1)\n",
        "plt.legend()\n",
        "plt.show()"
      ],
      "execution_count": null,
      "outputs": [
        {
          "output_type": "display_data",
          "data": {
            "image/png": "[encoded data removed]",
            "text/plain": [
              "<Figure size 720x720 with 1 Axes>"
            ]
          },
          "metadata": {
            "needs_background": "light"
          }
        }
      ]
    },
    {
      "cell_type": "code",
      "metadata": {
        "colab": {
          "base_uri": "https://localhost:8080/",
          "height": 624
        },
        "id": "zVVLlborwx6Z",
        "outputId": "92bbd7eb-00f2-4e11-b830-cfc2b9ce9950"
      },
      "source": [
        "# Visualizar el comportamiento de la pérdida durante el entrenamiento\n",
        "\n",
        "plt.figure(figsize=(10,10))\n",
        "plt.plot(wine_model.history.history['loss'],label='Loss')\n",
        "plt.plot(wine_model.history.history['val_loss'],label='Val Loss')\n",
        "plt.title('Valor de pérdida durante el entrenamiento')\n",
        "plt.xlabel('Épocas')\n",
        "plt.xlim(0,100)\n",
        "plt.ylabel('Valores')\n",
        "plt.legend()\n",
        "plt.show()"
      ],
      "execution_count": null,
      "outputs": [
        {
          "output_type": "display_data",
          "data": {
            "image/png": "[encoded data removed]",
            "text/plain": [
              "<Figure size 720x720 with 1 Axes>"
            ]
          },
          "metadata": {
            "needs_background": "light"
          }
        }
      ]
    },
    {
      "cell_type": "markdown",
      "metadata": {
        "id": "s8fzjWnl_vM4"
      },
      "source": [
        "## Evaluando las métricas"
      ]
    },
    {
      "cell_type": "markdown",
      "metadata": {
        "id": "6DRwwwUq_xTC"
      },
      "source": [
        "Una vez que entrenamos el modelo, toca hacer las evaluaciones para saber si el modelo es bueno o malo y (más importante aún), qué tan bueno o malo es."
      ]
    },
    {
      "cell_type": "code",
      "metadata": {
        "colab": {
          "base_uri": "https://localhost:8080/"
        },
        "id": "zWEjgHBMwx3U",
        "outputId": "4442fa54-c237-4603-8dcc-29b0c11b0e7c"
      },
      "source": [
        "# Evaluar el modelo respecto a los dos conjuntos de datos\n",
        "\n",
        "wine_acc_train = wine_model.evaluate(Xtrain, ytrain)\n",
        "wine_acc_test = wine_model.evaluate(Xtest, ytest)"
      ],
      "execution_count": null,
      "outputs": [
        {
          "output_type": "stream",
          "text": [
            "4/4 [==============================] - 0s 3ms/step - loss: 0.0035 - accuracy: 1.0000\n",
            "2/2 [==============================] - 0s 5ms/step - loss: 0.0642 - accuracy: 0.9630\n"
          ],
          "name": "stdout"
        }
      ]
    },
    {
      "cell_type": "code",
      "metadata": {
        "colab": {
          "base_uri": "https://localhost:8080/"
        },
        "id": "acLSFEKcwx0U",
        "outputId": "41a1f0a6-1699-4a6b-d8b2-49079115889f"
      },
      "source": [
        "# Desplegamos los resultados\n",
        "\n",
        "print('Exactitud en el conjunto de entrenamiento: %.2f' % wine_acc_train[1])\n",
        "print('Exactitud en el conjunto de prueba: % 2f' % wine_acc_test[1])"
      ],
      "execution_count": null,
      "outputs": [
        {
          "output_type": "stream",
          "text": [
            "Exactitud en el conjunto de entrenamiento: 1.00\n",
            "Exactitud en el conjunto de prueba:  0.962963\n"
          ],
          "name": "stdout"
        }
      ]
    },
    {
      "cell_type": "markdown",
      "metadata": {
        "id": "XbGOJGdAAEU9"
      },
      "source": [
        "Vemos que durante el entrenamiento el modelo alcanzó un exactitud de 1, es decir, un modelo perfecto.\n",
        "\n",
        "En el conjunto de prueba, se alcanzó un valor de exactitud de $0.98$ o un 98%. Un resultado bueno."
      ]
    }
  ]
}